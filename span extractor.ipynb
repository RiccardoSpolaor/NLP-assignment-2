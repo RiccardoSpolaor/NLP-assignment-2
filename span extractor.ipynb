{
 "cells": [
  {
   "cell_type": "code",
   "execution_count": 1,
   "metadata": {},
   "outputs": [
    {
     "name": "stderr",
     "output_type": "stream",
     "text": [
      "c:\\Users\\riccardo\\AppData\\Local\\Programs\\Python\\Python310\\lib\\site-packages\\tqdm\\auto.py:22: TqdmWarning: IProgress not found. Please update jupyter and ipywidgets. See https://ipywidgets.readthedocs.io/en/stable/user_install.html\n",
      "  from .autonotebook import tqdm as notebook_tqdm\n"
     ]
    }
   ],
   "source": [
    "import numpy as np\n",
    "import json\n",
    "import torch\n",
    "import random\n",
    "import time\n",
    "import matplotlib.pyplot as plt"
   ]
  },
  {
   "cell_type": "markdown",
   "metadata": {},
   "source": [
    "# Task 1"
   ]
  },
  {
   "cell_type": "code",
   "execution_count": 2,
   "metadata": {},
   "outputs": [],
   "source": [
    "import os\n",
    "import urllib.request\n",
    "from tqdm import tqdm\n",
    "\n",
    "class DownloadProgressBar(tqdm):\n",
    "    def update_to(self, b=1, bsize=1, tsize=None):\n",
    "        if tsize is not None:\n",
    "            self.total = tsize\n",
    "        self.update(b * bsize - self.n)\n",
    "        \n",
    "def download_url(url, output_path):\n",
    "    with DownloadProgressBar(unit='B', unit_scale=True,\n",
    "                             miniters=1, desc=url.split('/')[-1]) as t:\n",
    "        urllib.request.urlretrieve(url, filename=output_path, reporthook=t.update_to)\n",
    "\n",
    "def download_data(data_path, url_path, suffix):    \n",
    "    if not os.path.exists(data_path):\n",
    "        os.makedirs(data_path)\n",
    "        \n",
    "    data_path = os.path.join(data_path, f'{suffix}.json')\n",
    "\n",
    "    if not os.path.exists(data_path):\n",
    "        print(f\"Downloading CoQA {suffix} data split... (it may take a while)\")\n",
    "        download_url(url=url_path, output_path=data_path)\n",
    "        print(\"Download completed!\")"
   ]
  },
  {
   "cell_type": "code",
   "execution_count": 3,
   "metadata": {},
   "outputs": [],
   "source": [
    "# Train data\n",
    "train_url = \"https://nlp.stanford.edu/data/coqa/coqa-train-v1.0.json\"\n",
    "download_data(data_path='coqa', url_path=train_url, suffix='train')\n",
    "\n",
    "# Test data\n",
    "test_url = \"https://nlp.stanford.edu/data/coqa/coqa-dev-v1.0.json\"\n",
    "download_data(data_path='coqa', url_path=test_url, suffix='test')  # <-- Why test? See next slides for an answer!"
   ]
  },
  {
   "cell_type": "markdown",
   "metadata": {},
   "source": [
    "## [Task 2] Train, Validation and Test splits\n",
    "\n",
    "CoQA only provides a train and validation set since the test set is hidden for evaluation purposes.\n",
    "\n",
    "We'll consider the provided validation set as a test set. <br>\n",
    "$\\rightarrow$ Write your own script to:\n",
    "* Split the train data in train and validation splits (80% train and 20% val)\n",
    "* Perform splits such that a dialogue appears in one split only! (i.e., split at dialogue level)\n",
    "* Perform splitting using the following seed for reproducibility: 42\n",
    "\n",
    "#### Reproducibility Memo\n",
    "\n",
    "Check back tutorial 2 on how to fix a specific random seed for reproducibility!"
   ]
  },
  {
   "cell_type": "code",
   "execution_count": 4,
   "metadata": {},
   "outputs": [],
   "source": [
    "with open(os.path.join('coqa', 'train.json'), 'r') as j:\n",
    "    train = json.loads(j.read())\n",
    "\n",
    "with open(os.path.join('coqa', 'test.json'), 'r') as j:\n",
    "    test = json.loads(j.read())"
   ]
  },
  {
   "cell_type": "code",
   "execution_count": 5,
   "metadata": {},
   "outputs": [],
   "source": [
    "train = train['data']\n",
    "test = test['data']\n",
    "\n",
    "for t in train:\n",
    "    indices = [i for i, a in enumerate(t['answers']) if a['input_text'] != 'unknown']\n",
    "    t['questions'] = [q for i, q in enumerate(t['questions']) if i in indices] \n",
    "    t['answers'] = [a for i, a in enumerate(t['answers']) if i in indices]\n",
    "\n",
    "# TODO DO THE SAME FOR TEST\n",
    "\n",
    "#train_answer_indices = [[i for i, a in enumerate(t.answers) if a.input_text != 'unknown'] for t in train]\n",
    "#test_answer_indices = [[i for i, a in enumerate(t.answers) if a.input_text != 'unknown'] for t in test]\n",
    "\n"
   ]
  },
  {
   "cell_type": "code",
   "execution_count": 6,
   "metadata": {},
   "outputs": [],
   "source": [
    "lengths=[len(doc['questions']) for doc in train]"
   ]
  },
  {
   "cell_type": "code",
   "execution_count": 7,
   "metadata": {},
   "outputs": [],
   "source": [
    "le=np.cumsum(np.array(lengths,dtype=np.float32))\n",
    "train_end=np.where((le/le[-1])>0.8)[0][0]\n",
    "\n",
    "validation = train[train_end :] \n",
    "train = train[ : train_end]"
   ]
  },
  {
   "cell_type": "code",
   "execution_count": 8,
   "metadata": {},
   "outputs": [
    {
     "name": "stdout",
     "output_type": "stream",
     "text": [
      "5773\n",
      "1426\n"
     ]
    }
   ],
   "source": [
    "print(len(train))\n",
    "print(len(validation))"
   ]
  },
  {
   "cell_type": "code",
   "execution_count": 9,
   "metadata": {},
   "outputs": [
    {
     "name": "stdout",
     "output_type": "stream",
     "text": [
      "85810 0.7998993251053358\n",
      "21466 0.20010067489466424\n"
     ]
    }
   ],
   "source": [
    "len_train=np.sum([len(doc['questions']) for doc in train])\n",
    "len_val=np.sum([len(doc['questions']) for doc in validation])\n",
    "\n",
    "len_tot=len_train+len_val\n",
    "print(len_train,len_train/len_tot)\n",
    "print(len_val,len_val/len_tot)"
   ]
  },
  {
   "cell_type": "code",
   "execution_count": 10,
   "metadata": {},
   "outputs": [],
   "source": [
    "class CustomImageDataset(torch.utils.data.Dataset):\n",
    "    def __init__(self, data, return_history=False):\n",
    "\n",
    "        self.story=[d['story'] for d in data]\n",
    "        self.questions=[d['questions'] for d in data]\n",
    "        self.answers=[d['answers'] for d in data]\n",
    "        lengths = [len(doc['questions']) for doc in data]\n",
    "        self.lengths = np.cumsum(np.array(lengths,dtype=np.int32))\n",
    "        self.R_H=return_history\n",
    "        \n",
    "\n",
    "    def __len__(self):\n",
    "        return self.lengths[-1]\n",
    "\n",
    "    def __getitem__(self, idx):\n",
    "        f_idx=int(np.where(self.lengths > idx)[0][0])\n",
    "        if f_idx>0:\n",
    "            q_idx=idx-self.lengths[f_idx-1]\n",
    "        else:\n",
    "            q_idx=idx\n",
    "\n",
    "        passage=self.story[f_idx]\n",
    "        questions=self.questions[f_idx]\n",
    "        answers=self.answers[f_idx]\n",
    "        question=questions[q_idx]['input_text']\n",
    "        span_start=int(answers[q_idx]['span_start'])\n",
    "        span_end=int(answers[q_idx]['span_end'])\n",
    "        span_text=answers[q_idx]['span_text']\n",
    "\n",
    "        if self.R_H:\n",
    "            history = np.concatenate([ [questions[i]['input_text'], answers[i]['input_text']] for i in range(q_idx)],0)\n",
    "            return (passage,question,history), (span_start,span_end)\n",
    "\n",
    "        return (passage,question), (span_start,span_end)"
   ]
  },
  {
   "cell_type": "code",
   "execution_count": 11,
   "metadata": {},
   "outputs": [],
   "source": [
    "'''# target is \"nice puppet\"\n",
    "target_start_index = torch.tensor([14])\n",
    "target_end_index = torch.tensor([15])\n",
    "\n",
    "\n",
    "\n",
    "outputs = model(**inputs, start_positions=target_start_index, end_positions=target_end_index)\n",
    "loss = outputs.loss\n",
    "round(loss.item(), 2)''';"
   ]
  },
  {
   "cell_type": "code",
   "execution_count": 12,
   "metadata": {},
   "outputs": [],
   "source": [
    "from torch.utils.data import DataLoader\n",
    "\n",
    "train_dataloader = DataLoader(CustomImageDataset(train), batch_size=64, shuffle=False)\n",
    "val_dataloader = DataLoader(CustomImageDataset(validation), batch_size=64, shuffle=True)\n",
    "test_dataloader = DataLoader(CustomImageDataset(test), batch_size=64, shuffle=True)"
   ]
  },
  {
   "cell_type": "markdown",
   "metadata": {},
   "source": [
    "# Task 3"
   ]
  },
  {
   "cell_type": "markdown",
   "id": "230a21de",
   "metadata": {
    "slideshow": {
     "slide_type": "slide"
    }
   },
   "source": [
    "## [Task 3] Model definition\n",
    "\n",
    "Write your own script to define the following transformer-based models from [huggingface](https://HuggingFace.co/).\n",
    "\n",
    "* [M1] DistilRoBERTa (distilberta-base)\n",
    "* [M2] BERTTiny (bert-tiny)\n",
    "\n",
    "**Note**: Remember to install the ```transformers``` python package!\n",
    "\n",
    "**Note**: We consider small transformer models for computational reasons!"
   ]
  },
  {
   "cell_type": "code",
   "execution_count": 13,
   "metadata": {},
   "outputs": [
    {
     "name": "stderr",
     "output_type": "stream",
     "text": [
      "Some weights of the model checkpoint at distilroberta-base were not used when initializing RobertaForQuestionAnswering: ['lm_head.bias', 'lm_head.layer_norm.weight', 'lm_head.decoder.weight', 'lm_head.dense.weight', 'lm_head.layer_norm.bias', 'lm_head.dense.bias']\n",
      "- This IS expected if you are initializing RobertaForQuestionAnswering from the checkpoint of a model trained on another task or with another architecture (e.g. initializing a BertForSequenceClassification model from a BertForPreTraining model).\n",
      "- This IS NOT expected if you are initializing RobertaForQuestionAnswering from the checkpoint of a model that you expect to be exactly identical (initializing a BertForSequenceClassification model from a BertForSequenceClassification model).\n",
      "Some weights of RobertaForQuestionAnswering were not initialized from the model checkpoint at distilroberta-base and are newly initialized: ['qa_outputs.bias', 'qa_outputs.weight']\n",
      "You should probably TRAIN this model on a down-stream task to be able to use it for predictions and inference.\n",
      "Some weights of the model checkpoint at prajjwal1/bert-tiny were not used when initializing BertForQuestionAnswering: ['cls.predictions.transform.LayerNorm.bias', 'cls.predictions.transform.LayerNorm.weight', 'cls.seq_relationship.weight', 'cls.seq_relationship.bias', 'cls.predictions.decoder.bias', 'cls.predictions.transform.dense.bias', 'cls.predictions.bias', 'cls.predictions.transform.dense.weight', 'cls.predictions.decoder.weight']\n",
      "- This IS expected if you are initializing BertForQuestionAnswering from the checkpoint of a model trained on another task or with another architecture (e.g. initializing a BertForSequenceClassification model from a BertForPreTraining model).\n",
      "- This IS NOT expected if you are initializing BertForQuestionAnswering from the checkpoint of a model that you expect to be exactly identical (initializing a BertForSequenceClassification model from a BertForSequenceClassification model).\n",
      "Some weights of BertForQuestionAnswering were not initialized from the model checkpoint at prajjwal1/bert-tiny and are newly initialized: ['qa_outputs.bias', 'qa_outputs.weight']\n",
      "You should probably TRAIN this model on a down-stream task to be able to use it for predictions and inference.\n"
     ]
    }
   ],
   "source": [
    "from transformers import AutoModelForQuestionAnswering, AutoTokenizer\n",
    "\n",
    "model_name = 'distilroberta-base'\n",
    "\n",
    "M1 = AutoModelForQuestionAnswering.from_pretrained(model_name)\n",
    "T1 = AutoTokenizer.from_pretrained(model_name, max_new_tokens=50)\n",
    "\n",
    "model_name = 'prajjwal1/bert-tiny'\n",
    "\n",
    "M2 = AutoModelForQuestionAnswering.from_pretrained(model_name)\n",
    "T2 = AutoTokenizer.from_pretrained(model_name, max_new_tokens=50)\n"
   ]
  },
  {
   "cell_type": "code",
   "execution_count": null,
   "metadata": {},
   "outputs": [],
   "source": []
  },
  {
   "cell_type": "code",
   "execution_count": 14,
   "metadata": {},
   "outputs": [],
   "source": [
    "def get_target_indices(inputs,sep_starts, sep_ends):\n",
    "    start_positions = []\n",
    "    end_positions = []\n",
    "\n",
    "    for i, offset in enumerate(inputs[\"offset_mapping\"]):\n",
    "        sample_idx = inputs[\"overflow_to_sample_mapping\"][i]\n",
    "        start_char = sep_starts[sample_idx]\n",
    "        end_char = sep_ends[sample_idx]\n",
    "        sequence_ids = inputs.sequence_ids(i)\n",
    "\n",
    "\n",
    "        # Find the start and end of the context\n",
    "        idx = 0\n",
    "        while sequence_ids[idx] != 1:\n",
    "            idx += 1\n",
    "        context_start = idx\n",
    "        while sequence_ids[idx] == 1:\n",
    "            idx += 1\n",
    "        context_end = idx - 1\n",
    "\n",
    "        # If the answer is not fully inside the context, label is (0, 0)\n",
    "        if offset[context_start][0] > start_char or offset[context_end][1] < end_char:\n",
    "            start_positions.append(0)\n",
    "            end_positions.append(0)\n",
    "        else:\n",
    "            # Otherwise it's the start and end token positions\n",
    "            idx = context_start\n",
    "            while idx <= context_end and offset[idx][0] <= start_char:\n",
    "                idx += 1\n",
    "            start_positions.append(idx - 1)\n",
    "\n",
    "            idx = context_end\n",
    "            while idx >= context_start and offset[idx][1] >= end_char:\n",
    "                idx -= 1\n",
    "            end_positions.append(idx + 1)\n",
    "\n",
    "    return start_positions, end_positions"
   ]
  },
  {
   "cell_type": "code",
   "execution_count": null,
   "metadata": {},
   "outputs": [],
   "source": []
  },
  {
   "cell_type": "code",
   "execution_count": 15,
   "metadata": {},
   "outputs": [],
   "source": [
    "def encode(tokenizer, questions, passages, max_length=100, stride=50):\n",
    "        return tokenizer(\n",
    "            questions,\n",
    "            passages,\n",
    "            max_length=max_length,\n",
    "            truncation=\"only_second\",\n",
    "            stride=stride,\n",
    "            return_overflowing_tokens=True,\n",
    "            return_offsets_mapping=True,\n",
    "            padding=\"max_length\", \n",
    "            return_tensors=\"pt\"\n",
    "        )"
   ]
  },
  {
   "cell_type": "code",
   "execution_count": 16,
   "metadata": {},
   "outputs": [],
   "source": [
    "def train(model, tokenizer, epochs=1, learning_rate=1e-3):\n",
    "    \n",
    "    model.to('cuda')\n",
    "\n",
    "    loss_history=[]\n",
    "\n",
    "    model.config.decoder_start_token_id = tokenizer.cls_token_id\n",
    "    model.config.pad_token_id = tokenizer.pad_token_id\n",
    "\n",
    "    optimizer = torch.optim.AdamW(model.parameters(), lr=learning_rate)\n",
    "    \n",
    "    max_length = 500\n",
    "    stride=30\n",
    "    \n",
    "    start_time = time.time()\n",
    "    for epoch in range(epochs):  # loop over the dataset multiple times\n",
    "\n",
    "        running_loss = 0.0\n",
    "        for batch_idx, data in enumerate(train_dataloader, 0):\n",
    "            # get the inputs; data is a list of [inputs, labels]\n",
    "            (passage, question), (sep_starts, sep_ends) = data\n",
    "\n",
    "            #text_input = [question[i] + ' [SEP] ' + passage[i] for i in range(len(passage))]\n",
    "\n",
    "            # zero the parameter gradients\n",
    "            optimizer.zero_grad()\n",
    "            \n",
    "            try:\n",
    "                inputs = encode(tokenizer, question, passage, max_length=max_length, stride=stride)\n",
    "            except:\n",
    "                inputs = encode(tokenizer, question, passage, max_length=max_length*2, stride=stride)\n",
    "\n",
    "            start_positions, end_positions= get_target_indices(inputs, sep_starts, sep_ends)\n",
    "\n",
    "            target_start_index = torch.tensor(start_positions)[inputs['overflow_to_sample_mapping']].to('cuda')\n",
    "            target_end_index = torch.tensor(end_positions)[inputs['overflow_to_sample_mapping']].to('cuda')\n",
    "\n",
    "            del inputs['overflow_to_sample_mapping']\n",
    "            del inputs['offset_mapping']\n",
    "\n",
    "            outputs = model(**inputs.to('cuda'), start_positions=target_start_index, end_positions=target_end_index)\n",
    "\n",
    "            loss = outputs.loss\n",
    "            loss.backward()\n",
    "\n",
    "            optimizer.step()\n",
    "\n",
    "            # print statistics\n",
    "            running_loss += loss.item()\n",
    "\n",
    "            loss_history.append(loss.detach().cpu().numpy())\n",
    "            \n",
    "            epoch_time = time.time() - start_time\n",
    "            batch_time = epoch_time/(batch_idx+1)\n",
    "\n",
    "            print(f\"epoch: {epoch + 1}/{epochs}, {batch_idx + 1}/{len(train_dataloader)}, {epoch_time:.0f}s {batch_time*1e3:.0f}ms/step, lr: {optimizer.param_groups[0]['lr']:.3g}, loss: {running_loss/(batch_idx+1):.3g}\", end = '\\r')\n",
    "\n",
    "        print(f\"epoch: {epoch + 1}/{epochs}, {batch_idx + 1}/{len(train_dataloader)}, {epoch_time:.0f}s {batch_time*1e3:.0f}ms/step, lr: {optimizer.param_groups[0]['lr']:.3g}, loss: {running_loss/(batch_idx+1):.3g}\")\n",
    "\n",
    "    return loss_history"
   ]
  },
  {
   "cell_type": "code",
   "execution_count": 17,
   "metadata": {},
   "outputs": [],
   "source": [
    "R=[]    # save history of the runs"
   ]
  },
  {
   "cell_type": "code",
   "execution_count": 18,
   "metadata": {},
   "outputs": [
    {
     "name": "stderr",
     "output_type": "stream",
     "text": [
      "Some weights of the model checkpoint at prajjwal1/bert-tiny were not used when initializing BertForQuestionAnswering: ['cls.predictions.transform.LayerNorm.bias', 'cls.predictions.transform.LayerNorm.weight', 'cls.seq_relationship.weight', 'cls.seq_relationship.bias', 'cls.predictions.decoder.bias', 'cls.predictions.transform.dense.bias', 'cls.predictions.bias', 'cls.predictions.transform.dense.weight', 'cls.predictions.decoder.weight']\n",
      "- This IS expected if you are initializing BertForQuestionAnswering from the checkpoint of a model trained on another task or with another architecture (e.g. initializing a BertForSequenceClassification model from a BertForPreTraining model).\n",
      "- This IS NOT expected if you are initializing BertForQuestionAnswering from the checkpoint of a model that you expect to be exactly identical (initializing a BertForSequenceClassification model from a BertForSequenceClassification model).\n",
      "Some weights of BertForQuestionAnswering were not initialized from the model checkpoint at prajjwal1/bert-tiny and are newly initialized: ['qa_outputs.bias', 'qa_outputs.weight']\n",
      "You should probably TRAIN this model on a down-stream task to be able to use it for predictions and inference.\n"
     ]
    },
    {
     "name": "stdout",
     "output_type": "stream",
     "text": [
      "epoch: 1/3, 1341/1341, 394s 294ms/step, lr: 5e-05, loss: 4.86\n",
      "epoch: 2/3, 1341/1341, 778s 580ms/step, lr: 5e-05, loss: 4.31\n",
      "epoch: 3/3, 1341/1341, 1167s 871ms/step, lr: 5e-05, loss: 4.047\n"
     ]
    }
   ],
   "source": [
    "LR=[5e-5]  # lr to test         [1e-2,1e-3,1e-4,1e-5]\n",
    "\n",
    "for lr in LR:\n",
    "    M2 = AutoModelForQuestionAnswering.from_pretrained(model_name)\n",
    "    H=train(M2,T2,epochs=3,learning_rate=lr)\n",
    "    R.append([H,lr])"
   ]
  },
  {
   "cell_type": "code",
   "execution_count": 19,
   "metadata": {},
   "outputs": [
    {
     "data": {
      "text/plain": [
       "<matplotlib.legend.Legend at 0x2581abdb8b0>"
      ]
     },
     "execution_count": 19,
     "metadata": {},
     "output_type": "execute_result"
    },
    {
     "data": {
      "image/png": "[encoded data removed]",
      "text/plain": [
       "<Figure size 1000x700 with 1 Axes>"
      ]
     },
     "metadata": {},
     "output_type": "display_data"
    }
   ],
   "source": [
    "plt.figure(figsize=(10,7))\n",
    "for r in R:\n",
    "    plt.plot(r[0])\n",
    "plt.yscale('log')\n",
    "plt.legend([r[1] for r in R])\n"
   ]
  },
  {
   "cell_type": "code",
   "execution_count": 20,
   "metadata": {},
   "outputs": [
    {
     "name": "stdout",
     "output_type": "stream",
     "text": [
      "tensor([25,  0,  0, 47,  0,  0,  0, 85, 71, 88, 47, 43,  0, 67, 26,  0,  0,  0,\n",
      "         0,  0,  0,  0, 67, 85, 56, 16,  0, 46, 80, 38, 78, 69, 14,  0,  0,  0,\n",
      "         0,  0,  0,  0, 75, 31,  0, 84,  0, 92, 54,  0,  0, 78, 65, 27,  0, 83,\n",
      "         0,  0,  0,  0,  0,  7, 83,  0,  0,  0,  0,  0,  0,  0,  0,  0,  0,  0,\n",
      "         0,  0,  0,  0, 32,  0,  0,  0,  0,  0,  0,  0,  0, 32,  0,  0,  0,  0,\n",
      "        46,  0,  0, 29, 20, 83, 41,  0,  0, 44,  0, 49, 95, 50, 31,  0,  0,  0,\n",
      "         0,  0,  0,  0,  0,  0,  0,  0, 91, 50,  0, 68, 25, 56, 12, 95, 52, 57,\n",
      "         5,  0,  0,  0,  0,  0,  0,  0,  0,  0, 59, 18, 22, 71,  0,  8,  0,  0,\n",
      "        44, 60, 18,  0, 85,  0,  0,  0,  0, 57, 18, 72, 33, 48, 69, 20,  0, 95,\n",
      "        53, 11,  0,  0,  0, 70, 83, 49, 15,  0, 45,  0,  0,  0,  0,  0, 66, 28,\n",
      "        39,  0,  0, 33,  0,  0,  0,  7, 66, 24,  7, 37,  8, 13,  0,  0,  0,  0,\n",
      "        60,  8, 85, 43,  0, 90,  0,  0,  0,  0,  0, 19, 84, 44, 10,  8,  0,  0,\n",
      "         0,  0, 60, 19,  0,  0, 13,  0,  0, 43, 13,  0,  0,  0, 77, 21,  0,  0,\n",
      "         0,  0,  8,  0, 95, 53, 82, 47,  0,  7, 49, 80, 38, 33,  0,  0, 73, 32,\n",
      "         7,  0,  0,  0,  0,  0,  0, 39,  0,  0,  0,  0,  0,  0,  0,  0,  0,  0,\n",
      "         0,  0,  0,  0,  0,  0,  0,  0,  0, 78,  0,  0,  0,  0, 86,  0,  0,  0,\n",
      "        59, 60, 20,  0,  0,  0, 84, 51,  0,  0,  0,  0, 57, 86,  0,  0,  0,  0,\n",
      "         0, 77, 38,  0,  0,  0, 58, 20,  0,  0,  0, 80,  0,  0,  0,  0,  0,  0,\n",
      "         0,  0,  0, 28,  0,  0,  0,  0,  0,  0,  0, 42, 18,  0,  0,  0,  0,  0,\n",
      "         0,  0,  0,  0,  0,  0,  0,  0,  0,  0,  0,  0,  0, 72,  0, 76, 33,  0,\n",
      "         0,  0,  0,  0,  0,  0,  0,  0,  0,  0,  0,  0, 65, 28, 26,  0,  0,  0,\n",
      "         0, 85, 71, 29, 38,  0, 12,  0,  0,  0,  0,  0,  0,  0,  0,  0,  0,  0,\n",
      "         0, 19, 27,  0,  0, 58, 14, 40, 13,  0,  0,  7, 76, 32,  7, 62,  0, 14,\n",
      "        14, 12, 92, 60, 22, 27, 56,  8, 67, 26, 55, 14,  0, 45, 36, 23,  9, 51,\n",
      "        11, 85, 45, 57, 18,  0, 37, 86, 47, 93, 55, 10,  0,  0,  0,  0,  0,  0,\n",
      "         0,  0,  0,  0, 84,  0,  0,  0,  0,  0,  0,  0,  0,  0,  0,  0,  0,  0,\n",
      "         0,  0,  0,  0,  0,  0, 86, 42,  0,  0,  0,  0,  0,  0,  0, 27, 16,  0,\n",
      "         0,  0,  0, 68,  0,  0,  0,  0,  0, 25, 25,  0,  0, 81, 43,  0,  0, 76,\n",
      "         0,  0,  0,  0,  0,  0,  0,  0,  0])\n",
      "tensor([28, 93,  0,  0,  0,  0,  0, 90, 80, 75, 34, 27,  0,  0, 31,  0,  0,  0,\n",
      "         0,  0,  0,  0,  0, 95, 55,  0,  0, 61, 19,  0, 98, 70, 15,  0,  0,  0,\n",
      "         0, 98,  0,  0,  0,  0,  0, 90,  0, 98, 64,  0,  0,  0, 87,  0,  0, 94,\n",
      "        59,  0,  0,  0,  0,  0, 85, 43, 36, 33,  0,  0,  0,  0,  0,  0,  0,  0,\n",
      "         0,  0,  0,  0, 49,  0,  0,  0,  0, 92, 53,  0,  0,  0,  0,  0,  0, 97,\n",
      "        34, 13,  0,  0, 16, 87, 45,  0,  0,  0,  0,  0, 62,  0, 31,  0,  0,  0,\n",
      "         0,  0,  0,  0,  0,  0,  0,  0, 94, 53,  0, 95, 51,  7, 23, 98,  8, 90,\n",
      "        46,  0, 81, 38,  0,  0,  0,  0,  0,  0, 60, 19, 19,  0,  0,  0,  0,  0,\n",
      "        93, 65, 23,  0, 94, 58,  0,  0, 59,  0, 28, 83, 44, 57, 79, 40,  0, 98,\n",
      "        56, 14,  0,  0,  0, 98, 94, 65, 31,  0,  0,  0,  0,  0,  0,  0, 70, 30,\n",
      "        43,  0, 79,  0,  0,  0,  0,  0, 82, 40, 20, 86,  0, 15,  0,  0,  0,  0,\n",
      "        69, 23, 53, 45,  0,  0,  0,  0,  0,  0,  0, 25, 88, 53, 18, 31, 14,  0,\n",
      "         0,  0, 58, 16,  0,  0,  0,  0,  0,  0,  0,  0,  0,  0, 89,  0,  0,  0,\n",
      "        92,  0,  0,  0, 93, 51, 89, 47,  0, 82, 98, 80, 38,  0,  0,  0, 84, 40,\n",
      "         0,  0,  0, 98,  0,  0,  0,  0,  0, 73, 36,  0, 36,  0,  0,  0,  0,  0,\n",
      "         0,  0,  0,  0,  0,  0,  0,  0,  0, 88, 53,  0,  0,  0, 96,  0,  0,  0,\n",
      "         0,  0, 21,  0,  0,  0, 97, 90,  0,  0,  0,  0,  0,  0,  0,  0,  0,  0,\n",
      "         0, 95, 56,  0,  0,  0,  0, 35,  0,  0,  0, 83,  0,  0,  0,  0,  0,  0,\n",
      "         0,  0,  0, 29,  0,  0,  0,  0,  0,  0,  0, 44, 31,  0,  0,  0,  0,  0,\n",
      "         0, 24,  0,  0,  0, 67, 25,  0,  0,  0,  0,  0,  0, 81,  0, 92, 49,  0,\n",
      "        19,  0,  0,  0,  0,  0,  0,  0,  0,  0,  0,  0,  0,  0,  0,  0, 66, 29,\n",
      "         0, 80, 75, 33, 72, 30, 16,  0,  0,  0,  0,  0,  0,  0,  0, 93, 48,  0,\n",
      "         0, 28, 27, 30, 96, 64, 20, 41, 91, 47,  0, 83, 86, 44, 25, 60, 18, 63,\n",
      "        28, 20, 97, 59, 21, 33, 65, 11, 65, 35,  0,  0,  0, 60, 22, 24, 21, 64,\n",
      "        24, 77, 43,  0,  0,  0,  0, 90, 51, 98, 63,  0,  0,  0,  0,  0,  0,  0,\n",
      "         0,  0,  0,  0, 91,  0,  0,  0,  0,  0,  0,  0,  0,  0,  0,  0,  0,  0,\n",
      "        21,  0,  0,  0,  0,  0, 98, 53,  7,  0,  0, 72,  0,  0,  0,  0, 26, 62,\n",
      "        21, 24,  0, 72, 31,  0,  0,  0,  0, 34, 35,  0,  0, 82, 44,  0,  0, 84,\n",
      "         0,  0,  0,  0,  0,  0,  0,  0,  0])\n",
      "\n",
      "tensor([-0.2504, -4.9955, -5.1937, -4.8027, -2.3255, -2.4952, -3.4134, -1.3483,\n",
      "        -2.0317,  0.2781,  0.3995, -0.3252,  0.8362,  0.5359,  0.3455,  0.3727,\n",
      "         0.1452,  0.9412, -0.3315, -0.1260,  0.7615, -0.9323, -0.9204,  0.4036,\n",
      "         1.3838,  2.3550,  1.8483,  1.6260, -0.5081, -1.1123, -0.4575, -0.4047,\n",
      "        -1.0701, -1.2119, -1.1195, -1.2034, -1.7958, -3.1268, -3.0106, -2.7736,\n",
      "        -3.2706, -2.9769, -2.9778, -2.7786, -3.1247, -3.5007, -2.8533, -3.5342,\n",
      "        -4.2921, -2.3495, -0.4992, -3.3026, -1.3995, -3.0990, -4.0867, -3.7441,\n",
      "        -3.4579, -2.9846, -3.5239, -3.3116, -3.5822, -4.1052, -1.7972,  0.4159,\n",
      "        -2.1748, -3.2073, -2.4184, -3.9051, -2.7796, -3.5373, -2.1036, -3.0970,\n",
      "        -2.4880, -3.4616, -4.2113, -3.4789, -2.8337, -1.7457, -2.3678, -2.8559,\n",
      "        -3.0524, -1.1974, -0.1040, -2.3760, -2.8349, -1.6246, -1.8842, -0.9981,\n",
      "        -0.8369, -0.7808, -1.3684, -1.7239, -1.0945, -1.7907, -2.6382, -1.1724,\n",
      "        -0.4834, -2.0331, -2.6860, -2.9939])\n",
      "tensor(2.8476, device='cuda:0', grad_fn=<DivBackward0>)\n"
     ]
    }
   ],
   "source": [
    "tokenizer=T2\n",
    "model=M2\n",
    "\n",
    "max_length=100\n",
    "stride=50\n",
    "\n",
    "\n",
    "for i, data in enumerate(val_dataloader, 0):\n",
    "    if i>0:\n",
    "        break\n",
    "\n",
    "    (passage, question), (sep_starts, sep_ends) = data\n",
    "    inputs = encode(tokenizer, question, passage, max_length=max_length, stride=stride)\n",
    "\n",
    "    start_positions, end_positions= get_target_indices(inputs, sep_starts, sep_ends)\n",
    "\n",
    "    target_start_index = torch.tensor(start_positions)[inputs['overflow_to_sample_mapping']].to('cuda')\n",
    "    target_end_index = torch.tensor(end_positions)[inputs['overflow_to_sample_mapping']].to('cuda')\n",
    "\n",
    "    del inputs['overflow_to_sample_mapping']\n",
    "    del inputs['offset_mapping']\n",
    "\n",
    "\n",
    "    outputs = model(**inputs.to('cuda'), start_positions=target_start_index, end_positions=target_end_index)\n",
    "\n",
    "    print(np.argmax(outputs.start_logits.detach().cpu(),1))\n",
    "    print(np.argmax(outputs.end_logits.detach().cpu(),1))\n",
    "    print()\n",
    "    print(outputs.start_logits.detach().cpu()[0])\n",
    "    print(outputs.loss)"
   ]
  }
 ],
 "metadata": {
  "kernelspec": {
   "display_name": "Python 3.10.0 64-bit",
   "language": "python",
   "name": "python3"
  },
  "language_info": {
   "codemirror_mode": {
    "name": "ipython",
    "version": 3
   },
   "file_extension": ".py",
   "mimetype": "text/x-python",
   "name": "python",
   "nbconvert_exporter": "python",
   "pygments_lexer": "ipython3",
   "version": "3.10.0"
  },
  "orig_nbformat": 4,
  "vscode": {
   "interpreter": {
    "hash": "0bb5e395f71e970ef2dfa88b10e29155c2f154fbffe5a547ccb4cc942724aa68"
   }
  }
 },
 "nbformat": 4,
 "nbformat_minor": 2
}
