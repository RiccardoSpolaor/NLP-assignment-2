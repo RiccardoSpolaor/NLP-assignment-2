{
 "cells": [
  {
   "cell_type": "markdown",
   "metadata": {},
   "source": [
    "<center>\n",
    "    <h1>Assignment 2 - Question Answering with Transformers on CoQA</h1>\n",
    "    <h2>Natural Language Processing</h2>\n",
    "    <h3>Antonio Politano, Enrico Pittini, Riccardo Spolaor and Samuele Bortolato</h3>\n",
    "    <h4>antonio.politano2@studio.unibo.it, enrico.pittini@studio.unibo.it, riccardo.spolaor@studio.unibo.it, samuele.bortolato@studio.unibo.it</h4>\n",
    "</center>\n",
    "\n",
    "\n",
    "\n",
    "---\n",
    "\n",
    "\n",
    "\n",
    "Assignment description: see `Assignment.ipynb`.\n",
    "\n",
    "In this notebook the QA task is addressed.\n",
    "\n",
    "For more detailed informations about the used functions, look into the corresponding docstrings inside the python files, inside the `utils` folder."
   ]
  },
  {
   "cell_type": "code",
   "execution_count": 1,
   "metadata": {},
   "outputs": [],
   "source": [
    "import json\n",
    "import numpy as np\n",
    "import pandas as pd\n",
    "import torch"
   ]
  },
  {
   "cell_type": "code",
   "execution_count": 2,
   "metadata": {},
   "outputs": [],
   "source": [
    "# Settings for autoreloading\n",
    "\n",
    "%load_ext autoreload\n",
    "%autoreload 2"
   ]
  },
  {
   "cell_type": "code",
   "execution_count": 3,
   "metadata": {},
   "outputs": [],
   "source": [
    "# Settings for reproducibility\n",
    "from utils.seeder import set_random_seed\n",
    "\n",
    "set_random_seed(42)"
   ]
  },
  {
   "cell_type": "markdown",
   "metadata": {},
   "source": [
    "# [Task 1] Remove unaswerable QA pairs"
   ]
  },
  {
   "cell_type": "markdown",
   "metadata": {},
   "source": [
    "## 1.1 Dataset download\n",
    "\n",
    "The dataset is downloaded and saved in the `coqua` folder using the snippet of code provided in `Assignment.ipynb`."
   ]
  },
  {
   "cell_type": "code",
   "execution_count": 4,
   "metadata": {},
   "outputs": [],
   "source": [
    "import os\n",
    "import urllib.request\n",
    "from tqdm import tqdm\n",
    "\n",
    "class DownloadProgressBar(tqdm):\n",
    "    def update_to(self, b=1, bsize=1, tsize=None):\n",
    "        if tsize is not None:\n",
    "            self.total = tsize\n",
    "        self.update(b * bsize - self.n)\n",
    "        \n",
    "def download_url(url, output_path):\n",
    "    with DownloadProgressBar(unit='B', unit_scale=True,\n",
    "                             miniters=1, desc=url.split('/')[-1]) as t:\n",
    "        urllib.request.urlretrieve(url, filename=output_path, reporthook=t.update_to)\n",
    "\n",
    "def download_data(data_path, url_path, suffix):    \n",
    "    if not os.path.exists(data_path):\n",
    "        os.makedirs(data_path)\n",
    "        \n",
    "    data_path = os.path.join(data_path, f'{suffix}.json')\n",
    "\n",
    "    if not os.path.exists(data_path):\n",
    "        print(f\"Downloading CoQA {suffix} data split... (it may take a while)\")\n",
    "        download_url(url=url_path, output_path=data_path)\n",
    "        print(\"Download completed!\")"
   ]
  },
  {
   "cell_type": "code",
   "execution_count": 5,
   "metadata": {},
   "outputs": [],
   "source": [
    "# Train data\n",
    "train_url = \"https://nlp.stanford.edu/data/coqa/coqa-train-v1.0.json\"\n",
    "download_data(data_path='coqa', url_path=train_url, suffix='train')\n",
    "\n",
    "# Test data\n",
    "test_url = \"https://nlp.stanford.edu/data/coqa/coqa-dev-v1.0.json\"\n",
    "download_data(data_path='coqa', url_path=test_url, suffix='test')  # <-- Why test? See next slides for an answer!"
   ]
  },
  {
   "cell_type": "markdown",
   "metadata": {},
   "source": [
    "## 1.2 Dataframe Creation\n",
    "\n",
    "The train and test dataframes (`train_df` and `test_df`) are built. Each row contains information about a specific question and the corresponding answer along with their chronological collocation (`turn_id`) in the conversation. Furthermore informations about the passage containing the context and the history of previous questions and answers of the relative conversation is contained."
   ]
  },
  {
   "cell_type": "code",
   "execution_count": 6,
   "metadata": {},
   "outputs": [],
   "source": [
    "from utils.dataframe_builder import get_dataframe\n",
    "\n",
    "train_df = get_dataframe(os.path.join('coqa', 'train.json'))\n",
    "test_df = get_dataframe(os.path.join('coqa', 'test.json'))\n"
   ]
  },
  {
   "cell_type": "markdown",
   "metadata": {},
   "source": [
    "## 1.3 Data Inspection"
   ]
  },
  {
   "cell_type": "markdown",
   "metadata": {},
   "source": [
    "The heads of the train and test dataframes are shown below along with their shapes."
   ]
  },
  {
   "cell_type": "code",
   "execution_count": 7,
   "metadata": {},
   "outputs": [
    {
     "name": "stdout",
     "output_type": "stream",
     "text": [
      "Train dataframe shape: (108647, 15)\n"
     ]
    },
    {
     "data": {
      "text/html": [
       "<div>\n",
       "<style scoped>\n",
       "    .dataframe tbody tr th:only-of-type {\n",
       "        vertical-align: middle;\n",
       "    }\n",
       "\n",
       "    .dataframe tbody tr th {\n",
       "        vertical-align: top;\n",
       "    }\n",
       "\n",
       "    .dataframe thead th {\n",
       "        text-align: right;\n",
       "    }\n",
       "</style>\n",
       "<table border=\"1\" class=\"dataframe\">\n",
       "  <thead>\n",
       "    <tr style=\"text-align: right;\">\n",
       "      <th></th>\n",
       "      <th>source</th>\n",
       "      <th>id</th>\n",
       "      <th>filename</th>\n",
       "      <th>story</th>\n",
       "      <th>name</th>\n",
       "      <th>question_input_text</th>\n",
       "      <th>question_turn_id</th>\n",
       "      <th>question_bad_turn</th>\n",
       "      <th>answer_span_start</th>\n",
       "      <th>answer_span_end</th>\n",
       "      <th>answer_span_text</th>\n",
       "      <th>answer_input_text</th>\n",
       "      <th>answer_turn_id</th>\n",
       "      <th>answer_bad_turn</th>\n",
       "      <th>history</th>\n",
       "    </tr>\n",
       "  </thead>\n",
       "  <tbody>\n",
       "    <tr>\n",
       "      <th>0</th>\n",
       "      <td>wikipedia</td>\n",
       "      <td>3zotghdk5ibi9cex97fepx7jetpso7</td>\n",
       "      <td>Vatican_Library.txt</td>\n",
       "      <td>The Vatican Apostolic Library (), more commonl...</td>\n",
       "      <td>Vatican_Library.txt</td>\n",
       "      <td>When was the Vat formally opened?</td>\n",
       "      <td>1</td>\n",
       "      <td>NaN</td>\n",
       "      <td>151</td>\n",
       "      <td>179</td>\n",
       "      <td>Formally established in 1475</td>\n",
       "      <td>It was formally established in 1475</td>\n",
       "      <td>1</td>\n",
       "      <td>NaN</td>\n",
       "      <td>[]</td>\n",
       "    </tr>\n",
       "    <tr>\n",
       "      <th>1</th>\n",
       "      <td>wikipedia</td>\n",
       "      <td>3zotghdk5ibi9cex97fepx7jetpso7</td>\n",
       "      <td>Vatican_Library.txt</td>\n",
       "      <td>The Vatican Apostolic Library (), more commonl...</td>\n",
       "      <td>Vatican_Library.txt</td>\n",
       "      <td>what is the library for?</td>\n",
       "      <td>2</td>\n",
       "      <td>NaN</td>\n",
       "      <td>454</td>\n",
       "      <td>494</td>\n",
       "      <td>he Vatican Library is a research library</td>\n",
       "      <td>research</td>\n",
       "      <td>2</td>\n",
       "      <td>NaN</td>\n",
       "      <td>[When was the Vat formally opened?, It was for...</td>\n",
       "    </tr>\n",
       "    <tr>\n",
       "      <th>2</th>\n",
       "      <td>wikipedia</td>\n",
       "      <td>3zotghdk5ibi9cex97fepx7jetpso7</td>\n",
       "      <td>Vatican_Library.txt</td>\n",
       "      <td>The Vatican Apostolic Library (), more commonl...</td>\n",
       "      <td>Vatican_Library.txt</td>\n",
       "      <td>for what subjects?</td>\n",
       "      <td>3</td>\n",
       "      <td>NaN</td>\n",
       "      <td>457</td>\n",
       "      <td>511</td>\n",
       "      <td>Vatican Library is a research library for hist...</td>\n",
       "      <td>history, and law</td>\n",
       "      <td>3</td>\n",
       "      <td>NaN</td>\n",
       "      <td>[When was the Vat formally opened?, It was for...</td>\n",
       "    </tr>\n",
       "    <tr>\n",
       "      <th>3</th>\n",
       "      <td>wikipedia</td>\n",
       "      <td>3zotghdk5ibi9cex97fepx7jetpso7</td>\n",
       "      <td>Vatican_Library.txt</td>\n",
       "      <td>The Vatican Apostolic Library (), more commonl...</td>\n",
       "      <td>Vatican_Library.txt</td>\n",
       "      <td>and?</td>\n",
       "      <td>4</td>\n",
       "      <td>NaN</td>\n",
       "      <td>457</td>\n",
       "      <td>545</td>\n",
       "      <td>Vatican Library is a research library for hist...</td>\n",
       "      <td>philosophy, science and theology</td>\n",
       "      <td>4</td>\n",
       "      <td>NaN</td>\n",
       "      <td>[When was the Vat formally opened?, It was for...</td>\n",
       "    </tr>\n",
       "    <tr>\n",
       "      <th>4</th>\n",
       "      <td>wikipedia</td>\n",
       "      <td>3zotghdk5ibi9cex97fepx7jetpso7</td>\n",
       "      <td>Vatican_Library.txt</td>\n",
       "      <td>The Vatican Apostolic Library (), more commonl...</td>\n",
       "      <td>Vatican_Library.txt</td>\n",
       "      <td>what was started in 2014?</td>\n",
       "      <td>5</td>\n",
       "      <td>NaN</td>\n",
       "      <td>769</td>\n",
       "      <td>879</td>\n",
       "      <td>March 2014, the Vatican Library began an initi...</td>\n",
       "      <td>a  project</td>\n",
       "      <td>5</td>\n",
       "      <td>NaN</td>\n",
       "      <td>[When was the Vat formally opened?, It was for...</td>\n",
       "    </tr>\n",
       "  </tbody>\n",
       "</table>\n",
       "</div>"
      ],
      "text/plain": [
       "      source                              id             filename  \\\n",
       "0  wikipedia  3zotghdk5ibi9cex97fepx7jetpso7  Vatican_Library.txt   \n",
       "1  wikipedia  3zotghdk5ibi9cex97fepx7jetpso7  Vatican_Library.txt   \n",
       "2  wikipedia  3zotghdk5ibi9cex97fepx7jetpso7  Vatican_Library.txt   \n",
       "3  wikipedia  3zotghdk5ibi9cex97fepx7jetpso7  Vatican_Library.txt   \n",
       "4  wikipedia  3zotghdk5ibi9cex97fepx7jetpso7  Vatican_Library.txt   \n",
       "\n",
       "                                               story                 name  \\\n",
       "0  The Vatican Apostolic Library (), more commonl...  Vatican_Library.txt   \n",
       "1  The Vatican Apostolic Library (), more commonl...  Vatican_Library.txt   \n",
       "2  The Vatican Apostolic Library (), more commonl...  Vatican_Library.txt   \n",
       "3  The Vatican Apostolic Library (), more commonl...  Vatican_Library.txt   \n",
       "4  The Vatican Apostolic Library (), more commonl...  Vatican_Library.txt   \n",
       "\n",
       "                 question_input_text  question_turn_id question_bad_turn  \\\n",
       "0  When was the Vat formally opened?                 1               NaN   \n",
       "1           what is the library for?                 2               NaN   \n",
       "2                 for what subjects?                 3               NaN   \n",
       "3                               and?                 4               NaN   \n",
       "4          what was started in 2014?                 5               NaN   \n",
       "\n",
       "   answer_span_start  answer_span_end  \\\n",
       "0                151              179   \n",
       "1                454              494   \n",
       "2                457              511   \n",
       "3                457              545   \n",
       "4                769              879   \n",
       "\n",
       "                                    answer_span_text  \\\n",
       "0                       Formally established in 1475   \n",
       "1           he Vatican Library is a research library   \n",
       "2  Vatican Library is a research library for hist...   \n",
       "3  Vatican Library is a research library for hist...   \n",
       "4  March 2014, the Vatican Library began an initi...   \n",
       "\n",
       "                     answer_input_text  answer_turn_id answer_bad_turn  \\\n",
       "0  It was formally established in 1475               1             NaN   \n",
       "1                             research               2             NaN   \n",
       "2                     history, and law               3             NaN   \n",
       "3     philosophy, science and theology               4             NaN   \n",
       "4                           a  project               5             NaN   \n",
       "\n",
       "                                             history  \n",
       "0                                                 []  \n",
       "1  [When was the Vat formally opened?, It was for...  \n",
       "2  [When was the Vat formally opened?, It was for...  \n",
       "3  [When was the Vat formally opened?, It was for...  \n",
       "4  [When was the Vat formally opened?, It was for...  "
      ]
     },
     "execution_count": 7,
     "metadata": {},
     "output_type": "execute_result"
    }
   ],
   "source": [
    "print(f'Train dataframe shape: {train_df.shape}')\n",
    "train_df.head()"
   ]
  },
  {
   "cell_type": "code",
   "execution_count": 8,
   "metadata": {},
   "outputs": [
    {
     "name": "stdout",
     "output_type": "stream",
     "text": [
      "Test dataframe shape: (7983, 14)\n"
     ]
    },
    {
     "data": {
      "text/html": [
       "<div>\n",
       "<style scoped>\n",
       "    .dataframe tbody tr th:only-of-type {\n",
       "        vertical-align: middle;\n",
       "    }\n",
       "\n",
       "    .dataframe tbody tr th {\n",
       "        vertical-align: top;\n",
       "    }\n",
       "\n",
       "    .dataframe thead th {\n",
       "        text-align: right;\n",
       "    }\n",
       "</style>\n",
       "<table border=\"1\" class=\"dataframe\">\n",
       "  <thead>\n",
       "    <tr style=\"text-align: right;\">\n",
       "      <th></th>\n",
       "      <th>source</th>\n",
       "      <th>id</th>\n",
       "      <th>filename</th>\n",
       "      <th>story</th>\n",
       "      <th>additional_answers</th>\n",
       "      <th>name</th>\n",
       "      <th>question_input_text</th>\n",
       "      <th>question_turn_id</th>\n",
       "      <th>answer_span_start</th>\n",
       "      <th>answer_span_end</th>\n",
       "      <th>answer_span_text</th>\n",
       "      <th>answer_input_text</th>\n",
       "      <th>answer_turn_id</th>\n",
       "      <th>history</th>\n",
       "    </tr>\n",
       "  </thead>\n",
       "  <tbody>\n",
       "    <tr>\n",
       "      <th>0</th>\n",
       "      <td>mctest</td>\n",
       "      <td>3dr23u6we5exclen4th8uq9rb42tel</td>\n",
       "      <td>mc160.test.41</td>\n",
       "      <td>Once upon a time, in a barn near a farm house,...</td>\n",
       "      <td>{'0': [{'span_start': 68, 'span_end': 93, 'spa...</td>\n",
       "      <td>mc160.test.41</td>\n",
       "      <td>What color was Cotton?</td>\n",
       "      <td>1</td>\n",
       "      <td>59</td>\n",
       "      <td>93</td>\n",
       "      <td>a little white kitten named Cotton</td>\n",
       "      <td>white</td>\n",
       "      <td>1</td>\n",
       "      <td>[]</td>\n",
       "    </tr>\n",
       "    <tr>\n",
       "      <th>1</th>\n",
       "      <td>mctest</td>\n",
       "      <td>3dr23u6we5exclen4th8uq9rb42tel</td>\n",
       "      <td>mc160.test.41</td>\n",
       "      <td>Once upon a time, in a barn near a farm house,...</td>\n",
       "      <td>{'0': [{'span_start': 68, 'span_end': 93, 'spa...</td>\n",
       "      <td>mc160.test.41</td>\n",
       "      <td>Where did she live?</td>\n",
       "      <td>2</td>\n",
       "      <td>18</td>\n",
       "      <td>80</td>\n",
       "      <td>in a barn near a farm house, there lived a lit...</td>\n",
       "      <td>in a barn</td>\n",
       "      <td>2</td>\n",
       "      <td>[What color was Cotton?, white]</td>\n",
       "    </tr>\n",
       "    <tr>\n",
       "      <th>2</th>\n",
       "      <td>mctest</td>\n",
       "      <td>3dr23u6we5exclen4th8uq9rb42tel</td>\n",
       "      <td>mc160.test.41</td>\n",
       "      <td>Once upon a time, in a barn near a farm house,...</td>\n",
       "      <td>{'0': [{'span_start': 68, 'span_end': 93, 'spa...</td>\n",
       "      <td>mc160.test.41</td>\n",
       "      <td>Did she live alone?</td>\n",
       "      <td>3</td>\n",
       "      <td>196</td>\n",
       "      <td>215</td>\n",
       "      <td>Cotton wasn't alone</td>\n",
       "      <td>no</td>\n",
       "      <td>3</td>\n",
       "      <td>[What color was Cotton?, white, Where did she ...</td>\n",
       "    </tr>\n",
       "    <tr>\n",
       "      <th>3</th>\n",
       "      <td>mctest</td>\n",
       "      <td>3dr23u6we5exclen4th8uq9rb42tel</td>\n",
       "      <td>mc160.test.41</td>\n",
       "      <td>Once upon a time, in a barn near a farm house,...</td>\n",
       "      <td>{'0': [{'span_start': 68, 'span_end': 93, 'spa...</td>\n",
       "      <td>mc160.test.41</td>\n",
       "      <td>Who did she live with?</td>\n",
       "      <td>4</td>\n",
       "      <td>281</td>\n",
       "      <td>315</td>\n",
       "      <td>with her mommy and 5 other sisters</td>\n",
       "      <td>with her mommy and 5 sisters</td>\n",
       "      <td>4</td>\n",
       "      <td>[What color was Cotton?, white, Where did she ...</td>\n",
       "    </tr>\n",
       "    <tr>\n",
       "      <th>4</th>\n",
       "      <td>mctest</td>\n",
       "      <td>3dr23u6we5exclen4th8uq9rb42tel</td>\n",
       "      <td>mc160.test.41</td>\n",
       "      <td>Once upon a time, in a barn near a farm house,...</td>\n",
       "      <td>{'0': [{'span_start': 68, 'span_end': 93, 'spa...</td>\n",
       "      <td>mc160.test.41</td>\n",
       "      <td>What color were her sisters?</td>\n",
       "      <td>5</td>\n",
       "      <td>428</td>\n",
       "      <td>490</td>\n",
       "      <td>her sisters were all orange with beautiful whi...</td>\n",
       "      <td>orange and white</td>\n",
       "      <td>5</td>\n",
       "      <td>[What color was Cotton?, white, Where did she ...</td>\n",
       "    </tr>\n",
       "  </tbody>\n",
       "</table>\n",
       "</div>"
      ],
      "text/plain": [
       "   source                              id       filename  \\\n",
       "0  mctest  3dr23u6we5exclen4th8uq9rb42tel  mc160.test.41   \n",
       "1  mctest  3dr23u6we5exclen4th8uq9rb42tel  mc160.test.41   \n",
       "2  mctest  3dr23u6we5exclen4th8uq9rb42tel  mc160.test.41   \n",
       "3  mctest  3dr23u6we5exclen4th8uq9rb42tel  mc160.test.41   \n",
       "4  mctest  3dr23u6we5exclen4th8uq9rb42tel  mc160.test.41   \n",
       "\n",
       "                                               story  \\\n",
       "0  Once upon a time, in a barn near a farm house,...   \n",
       "1  Once upon a time, in a barn near a farm house,...   \n",
       "2  Once upon a time, in a barn near a farm house,...   \n",
       "3  Once upon a time, in a barn near a farm house,...   \n",
       "4  Once upon a time, in a barn near a farm house,...   \n",
       "\n",
       "                                  additional_answers           name  \\\n",
       "0  {'0': [{'span_start': 68, 'span_end': 93, 'spa...  mc160.test.41   \n",
       "1  {'0': [{'span_start': 68, 'span_end': 93, 'spa...  mc160.test.41   \n",
       "2  {'0': [{'span_start': 68, 'span_end': 93, 'spa...  mc160.test.41   \n",
       "3  {'0': [{'span_start': 68, 'span_end': 93, 'spa...  mc160.test.41   \n",
       "4  {'0': [{'span_start': 68, 'span_end': 93, 'spa...  mc160.test.41   \n",
       "\n",
       "            question_input_text  question_turn_id  answer_span_start  \\\n",
       "0        What color was Cotton?                 1                 59   \n",
       "1           Where did she live?                 2                 18   \n",
       "2           Did she live alone?                 3                196   \n",
       "3        Who did she live with?                 4                281   \n",
       "4  What color were her sisters?                 5                428   \n",
       "\n",
       "   answer_span_end                                   answer_span_text  \\\n",
       "0               93                 a little white kitten named Cotton   \n",
       "1               80  in a barn near a farm house, there lived a lit...   \n",
       "2              215                                Cotton wasn't alone   \n",
       "3              315                 with her mommy and 5 other sisters   \n",
       "4              490  her sisters were all orange with beautiful whi...   \n",
       "\n",
       "              answer_input_text  answer_turn_id  \\\n",
       "0                         white               1   \n",
       "1                     in a barn               2   \n",
       "2                            no               3   \n",
       "3  with her mommy and 5 sisters               4   \n",
       "4              orange and white               5   \n",
       "\n",
       "                                             history  \n",
       "0                                                 []  \n",
       "1                    [What color was Cotton?, white]  \n",
       "2  [What color was Cotton?, white, Where did she ...  \n",
       "3  [What color was Cotton?, white, Where did she ...  \n",
       "4  [What color was Cotton?, white, Where did she ...  "
      ]
     },
     "execution_count": 8,
     "metadata": {},
     "output_type": "execute_result"
    }
   ],
   "source": [
    "print(f'Test dataframe shape: {test_df.shape}')\n",
    "test_df.head()"
   ]
  },
  {
   "cell_type": "markdown",
   "metadata": {},
   "source": [
    "We can observe that the training dataframe contains $15$ different features, while the test dataframe has just $14$. In particular the train dataframe includes the additional features `question_bad_turn` and `answer_bad_turn`. With a quick inspection of the dataframe's head it can be observed that they include `NaN` values. Since the task requires to remove solely unanswerable question-answer pairs, not mentioning the handling of \"bad turn\", these two features are dropped.\n",
    "\n",
    "On the other hand the test dataframe contains the extra feature `additional_answers`, which can be removed as expressed in the specifications of the assignment."
   ]
  },
  {
   "cell_type": "code",
   "execution_count": 9,
   "metadata": {},
   "outputs": [],
   "source": [
    "# Drop non-matching features\n",
    "\n",
    "train_df.drop(['question_bad_turn', 'answer_bad_turn'], axis=1, inplace=True)\n",
    "test_df.drop('additional_answers', axis=1, inplace=True)"
   ]
  },
  {
   "attachments": {},
   "cell_type": "markdown",
   "metadata": {},
   "source": [
    "In addition the features `name` and `filename` are removed since they are considered useless for the task."
   ]
  },
  {
   "cell_type": "code",
   "execution_count": 10,
   "metadata": {},
   "outputs": [],
   "source": [
    "# Drop useless columns (`name`, `filename`)\n",
    "\n",
    "train_df.drop(['name', 'filename'], axis=1, inplace=True)\n",
    "test_df.drop(['name', 'filename'], axis=1, inplace=True)"
   ]
  },
  {
   "cell_type": "markdown",
   "metadata": {},
   "source": [
    "Next, by inspecting the `question_turn_id` and `answer_turn_id` it can be noticed that they are equivalent, since they refer to the same question-answer pair, hence they can be merged in a single feature (`turn_id`)."
   ]
  },
  {
   "cell_type": "code",
   "execution_count": 11,
   "metadata": {},
   "outputs": [],
   "source": [
    "# Assert that the turn ids of the questions are the same as the respective answers\n",
    "\n",
    "assert train_df['question_turn_id'].equals(train_df['answer_turn_id']), \\\n",
    "    'Question and answer turn ids are different in the train dataset'\n",
    "    \n",
    "assert test_df['question_turn_id'].equals(test_df['answer_turn_id']), \\\n",
    "    'Question and answer turn ids are different in the test dataset'"
   ]
  },
  {
   "cell_type": "code",
   "execution_count": 12,
   "metadata": {},
   "outputs": [],
   "source": [
    "# Rename columns `question_turn_id` and `answer_turn_id` into a singular `turn_id` column since they are equal\n",
    "refactor_turn_id_columns = lambda df: \\\n",
    "    df.drop('question_turn_id', axis=1).rename(columns = {'answer_turn_id': 'turn_id'})\n",
    "    \n",
    "train_df = refactor_turn_id_columns(train_df)\n",
    "test_df = refactor_turn_id_columns(test_df)"
   ]
  },
  {
   "cell_type": "markdown",
   "metadata": {},
   "source": [
    "Finally the columns `answer_input_text` and `question_input_text` are renamed into `answer` and `question` respectively for simplicity."
   ]
  },
  {
   "cell_type": "code",
   "execution_count": 13,
   "metadata": {},
   "outputs": [],
   "source": [
    "# Rename columns `answer_input_text` and `question_input_text` into `answer` and `question` respectively\n",
    "column_renames = {'answer_input_text': 'answer', 'question_input_text': 'question'}\n",
    "\n",
    "train_df.rename(columns=column_renames, inplace=True)\n",
    "test_df.rename(columns=column_renames, inplace=True)"
   ]
  },
  {
   "cell_type": "markdown",
   "metadata": {},
   "source": [
    "The shapes of the dataframes now match on the column number and no Null values are present."
   ]
  },
  {
   "cell_type": "code",
   "execution_count": 14,
   "metadata": {},
   "outputs": [
    {
     "name": "stdout",
     "output_type": "stream",
     "text": [
      "Train dataframe shape after the unwanted columns drop: (108647, 10)\n",
      "Test dataframe shape after the unwanted column drop: (7983, 10)\n"
     ]
    }
   ],
   "source": [
    "print(f'Train dataframe shape after the unwanted columns drop: {train_df.shape}')\n",
    "print(f'Test dataframe shape after the unwanted column drop: {test_df.shape}')"
   ]
  },
  {
   "cell_type": "code",
   "execution_count": 15,
   "metadata": {},
   "outputs": [
    {
     "name": "stdout",
     "output_type": "stream",
     "text": [
      "Null values in the train dataframe: 0.\n",
      "Null values in the test dataframe: 0.\n"
     ]
    }
   ],
   "source": [
    "print(f'Null values in the train dataframe: {train_df.isna().sum().sum()}.')\n",
    "print(f'Null values in the test dataframe: {test_df.isna().sum().sum()}.')"
   ]
  },
  {
   "cell_type": "code",
   "execution_count": 16,
   "metadata": {},
   "outputs": [
    {
     "data": {
      "text/html": [
       "<div>\n",
       "<style scoped>\n",
       "    .dataframe tbody tr th:only-of-type {\n",
       "        vertical-align: middle;\n",
       "    }\n",
       "\n",
       "    .dataframe tbody tr th {\n",
       "        vertical-align: top;\n",
       "    }\n",
       "\n",
       "    .dataframe thead th {\n",
       "        text-align: right;\n",
       "    }\n",
       "</style>\n",
       "<table border=\"1\" class=\"dataframe\">\n",
       "  <thead>\n",
       "    <tr style=\"text-align: right;\">\n",
       "      <th></th>\n",
       "      <th>source</th>\n",
       "      <th>id</th>\n",
       "      <th>story</th>\n",
       "      <th>question</th>\n",
       "      <th>answer_span_start</th>\n",
       "      <th>answer_span_end</th>\n",
       "      <th>answer_span_text</th>\n",
       "      <th>answer</th>\n",
       "      <th>turn_id</th>\n",
       "      <th>history</th>\n",
       "    </tr>\n",
       "  </thead>\n",
       "  <tbody>\n",
       "    <tr>\n",
       "      <th>0</th>\n",
       "      <td>wikipedia</td>\n",
       "      <td>3zotghdk5ibi9cex97fepx7jetpso7</td>\n",
       "      <td>The Vatican Apostolic Library (), more commonl...</td>\n",
       "      <td>When was the Vat formally opened?</td>\n",
       "      <td>151</td>\n",
       "      <td>179</td>\n",
       "      <td>Formally established in 1475</td>\n",
       "      <td>It was formally established in 1475</td>\n",
       "      <td>1</td>\n",
       "      <td>[]</td>\n",
       "    </tr>\n",
       "    <tr>\n",
       "      <th>1</th>\n",
       "      <td>wikipedia</td>\n",
       "      <td>3zotghdk5ibi9cex97fepx7jetpso7</td>\n",
       "      <td>The Vatican Apostolic Library (), more commonl...</td>\n",
       "      <td>what is the library for?</td>\n",
       "      <td>454</td>\n",
       "      <td>494</td>\n",
       "      <td>he Vatican Library is a research library</td>\n",
       "      <td>research</td>\n",
       "      <td>2</td>\n",
       "      <td>[When was the Vat formally opened?, It was for...</td>\n",
       "    </tr>\n",
       "    <tr>\n",
       "      <th>2</th>\n",
       "      <td>wikipedia</td>\n",
       "      <td>3zotghdk5ibi9cex97fepx7jetpso7</td>\n",
       "      <td>The Vatican Apostolic Library (), more commonl...</td>\n",
       "      <td>for what subjects?</td>\n",
       "      <td>457</td>\n",
       "      <td>511</td>\n",
       "      <td>Vatican Library is a research library for hist...</td>\n",
       "      <td>history, and law</td>\n",
       "      <td>3</td>\n",
       "      <td>[When was the Vat formally opened?, It was for...</td>\n",
       "    </tr>\n",
       "    <tr>\n",
       "      <th>3</th>\n",
       "      <td>wikipedia</td>\n",
       "      <td>3zotghdk5ibi9cex97fepx7jetpso7</td>\n",
       "      <td>The Vatican Apostolic Library (), more commonl...</td>\n",
       "      <td>and?</td>\n",
       "      <td>457</td>\n",
       "      <td>545</td>\n",
       "      <td>Vatican Library is a research library for hist...</td>\n",
       "      <td>philosophy, science and theology</td>\n",
       "      <td>4</td>\n",
       "      <td>[When was the Vat formally opened?, It was for...</td>\n",
       "    </tr>\n",
       "    <tr>\n",
       "      <th>4</th>\n",
       "      <td>wikipedia</td>\n",
       "      <td>3zotghdk5ibi9cex97fepx7jetpso7</td>\n",
       "      <td>The Vatican Apostolic Library (), more commonl...</td>\n",
       "      <td>what was started in 2014?</td>\n",
       "      <td>769</td>\n",
       "      <td>879</td>\n",
       "      <td>March 2014, the Vatican Library began an initi...</td>\n",
       "      <td>a  project</td>\n",
       "      <td>5</td>\n",
       "      <td>[When was the Vat formally opened?, It was for...</td>\n",
       "    </tr>\n",
       "  </tbody>\n",
       "</table>\n",
       "</div>"
      ],
      "text/plain": [
       "      source                              id  \\\n",
       "0  wikipedia  3zotghdk5ibi9cex97fepx7jetpso7   \n",
       "1  wikipedia  3zotghdk5ibi9cex97fepx7jetpso7   \n",
       "2  wikipedia  3zotghdk5ibi9cex97fepx7jetpso7   \n",
       "3  wikipedia  3zotghdk5ibi9cex97fepx7jetpso7   \n",
       "4  wikipedia  3zotghdk5ibi9cex97fepx7jetpso7   \n",
       "\n",
       "                                               story  \\\n",
       "0  The Vatican Apostolic Library (), more commonl...   \n",
       "1  The Vatican Apostolic Library (), more commonl...   \n",
       "2  The Vatican Apostolic Library (), more commonl...   \n",
       "3  The Vatican Apostolic Library (), more commonl...   \n",
       "4  The Vatican Apostolic Library (), more commonl...   \n",
       "\n",
       "                            question  answer_span_start  answer_span_end  \\\n",
       "0  When was the Vat formally opened?                151              179   \n",
       "1           what is the library for?                454              494   \n",
       "2                 for what subjects?                457              511   \n",
       "3                               and?                457              545   \n",
       "4          what was started in 2014?                769              879   \n",
       "\n",
       "                                    answer_span_text  \\\n",
       "0                       Formally established in 1475   \n",
       "1           he Vatican Library is a research library   \n",
       "2  Vatican Library is a research library for hist...   \n",
       "3  Vatican Library is a research library for hist...   \n",
       "4  March 2014, the Vatican Library began an initi...   \n",
       "\n",
       "                                answer  turn_id  \\\n",
       "0  It was formally established in 1475        1   \n",
       "1                             research        2   \n",
       "2                     history, and law        3   \n",
       "3     philosophy, science and theology        4   \n",
       "4                           a  project        5   \n",
       "\n",
       "                                             history  \n",
       "0                                                 []  \n",
       "1  [When was the Vat formally opened?, It was for...  \n",
       "2  [When was the Vat formally opened?, It was for...  \n",
       "3  [When was the Vat formally opened?, It was for...  \n",
       "4  [When was the Vat formally opened?, It was for...  "
      ]
     },
     "execution_count": 16,
     "metadata": {},
     "output_type": "execute_result"
    }
   ],
   "source": [
    "train_df.head()"
   ]
  },
  {
   "cell_type": "code",
   "execution_count": 17,
   "metadata": {},
   "outputs": [
    {
     "data": {
      "text/html": [
       "<div>\n",
       "<style scoped>\n",
       "    .dataframe tbody tr th:only-of-type {\n",
       "        vertical-align: middle;\n",
       "    }\n",
       "\n",
       "    .dataframe tbody tr th {\n",
       "        vertical-align: top;\n",
       "    }\n",
       "\n",
       "    .dataframe thead th {\n",
       "        text-align: right;\n",
       "    }\n",
       "</style>\n",
       "<table border=\"1\" class=\"dataframe\">\n",
       "  <thead>\n",
       "    <tr style=\"text-align: right;\">\n",
       "      <th></th>\n",
       "      <th>source</th>\n",
       "      <th>id</th>\n",
       "      <th>story</th>\n",
       "      <th>question</th>\n",
       "      <th>answer_span_start</th>\n",
       "      <th>answer_span_end</th>\n",
       "      <th>answer_span_text</th>\n",
       "      <th>answer</th>\n",
       "      <th>turn_id</th>\n",
       "      <th>history</th>\n",
       "    </tr>\n",
       "  </thead>\n",
       "  <tbody>\n",
       "    <tr>\n",
       "      <th>0</th>\n",
       "      <td>mctest</td>\n",
       "      <td>3dr23u6we5exclen4th8uq9rb42tel</td>\n",
       "      <td>Once upon a time, in a barn near a farm house,...</td>\n",
       "      <td>What color was Cotton?</td>\n",
       "      <td>59</td>\n",
       "      <td>93</td>\n",
       "      <td>a little white kitten named Cotton</td>\n",
       "      <td>white</td>\n",
       "      <td>1</td>\n",
       "      <td>[]</td>\n",
       "    </tr>\n",
       "    <tr>\n",
       "      <th>1</th>\n",
       "      <td>mctest</td>\n",
       "      <td>3dr23u6we5exclen4th8uq9rb42tel</td>\n",
       "      <td>Once upon a time, in a barn near a farm house,...</td>\n",
       "      <td>Where did she live?</td>\n",
       "      <td>18</td>\n",
       "      <td>80</td>\n",
       "      <td>in a barn near a farm house, there lived a lit...</td>\n",
       "      <td>in a barn</td>\n",
       "      <td>2</td>\n",
       "      <td>[What color was Cotton?, white]</td>\n",
       "    </tr>\n",
       "    <tr>\n",
       "      <th>2</th>\n",
       "      <td>mctest</td>\n",
       "      <td>3dr23u6we5exclen4th8uq9rb42tel</td>\n",
       "      <td>Once upon a time, in a barn near a farm house,...</td>\n",
       "      <td>Did she live alone?</td>\n",
       "      <td>196</td>\n",
       "      <td>215</td>\n",
       "      <td>Cotton wasn't alone</td>\n",
       "      <td>no</td>\n",
       "      <td>3</td>\n",
       "      <td>[What color was Cotton?, white, Where did she ...</td>\n",
       "    </tr>\n",
       "    <tr>\n",
       "      <th>3</th>\n",
       "      <td>mctest</td>\n",
       "      <td>3dr23u6we5exclen4th8uq9rb42tel</td>\n",
       "      <td>Once upon a time, in a barn near a farm house,...</td>\n",
       "      <td>Who did she live with?</td>\n",
       "      <td>281</td>\n",
       "      <td>315</td>\n",
       "      <td>with her mommy and 5 other sisters</td>\n",
       "      <td>with her mommy and 5 sisters</td>\n",
       "      <td>4</td>\n",
       "      <td>[What color was Cotton?, white, Where did she ...</td>\n",
       "    </tr>\n",
       "    <tr>\n",
       "      <th>4</th>\n",
       "      <td>mctest</td>\n",
       "      <td>3dr23u6we5exclen4th8uq9rb42tel</td>\n",
       "      <td>Once upon a time, in a barn near a farm house,...</td>\n",
       "      <td>What color were her sisters?</td>\n",
       "      <td>428</td>\n",
       "      <td>490</td>\n",
       "      <td>her sisters were all orange with beautiful whi...</td>\n",
       "      <td>orange and white</td>\n",
       "      <td>5</td>\n",
       "      <td>[What color was Cotton?, white, Where did she ...</td>\n",
       "    </tr>\n",
       "  </tbody>\n",
       "</table>\n",
       "</div>"
      ],
      "text/plain": [
       "   source                              id  \\\n",
       "0  mctest  3dr23u6we5exclen4th8uq9rb42tel   \n",
       "1  mctest  3dr23u6we5exclen4th8uq9rb42tel   \n",
       "2  mctest  3dr23u6we5exclen4th8uq9rb42tel   \n",
       "3  mctest  3dr23u6we5exclen4th8uq9rb42tel   \n",
       "4  mctest  3dr23u6we5exclen4th8uq9rb42tel   \n",
       "\n",
       "                                               story  \\\n",
       "0  Once upon a time, in a barn near a farm house,...   \n",
       "1  Once upon a time, in a barn near a farm house,...   \n",
       "2  Once upon a time, in a barn near a farm house,...   \n",
       "3  Once upon a time, in a barn near a farm house,...   \n",
       "4  Once upon a time, in a barn near a farm house,...   \n",
       "\n",
       "                       question  answer_span_start  answer_span_end  \\\n",
       "0        What color was Cotton?                 59               93   \n",
       "1           Where did she live?                 18               80   \n",
       "2           Did she live alone?                196              215   \n",
       "3        Who did she live with?                281              315   \n",
       "4  What color were her sisters?                428              490   \n",
       "\n",
       "                                    answer_span_text  \\\n",
       "0                 a little white kitten named Cotton   \n",
       "1  in a barn near a farm house, there lived a lit...   \n",
       "2                                Cotton wasn't alone   \n",
       "3                 with her mommy and 5 other sisters   \n",
       "4  her sisters were all orange with beautiful whi...   \n",
       "\n",
       "                         answer  turn_id  \\\n",
       "0                         white        1   \n",
       "1                     in a barn        2   \n",
       "2                            no        3   \n",
       "3  with her mommy and 5 sisters        4   \n",
       "4              orange and white        5   \n",
       "\n",
       "                                             history  \n",
       "0                                                 []  \n",
       "1                    [What color was Cotton?, white]  \n",
       "2  [What color was Cotton?, white, Where did she ...  \n",
       "3  [What color was Cotton?, white, Where did she ...  \n",
       "4  [What color was Cotton?, white, Where did she ...  "
      ]
     },
     "execution_count": 17,
     "metadata": {},
     "output_type": "execute_result"
    }
   ],
   "source": [
    "test_df.head()"
   ]
  },
  {
   "cell_type": "markdown",
   "metadata": {},
   "source": [
    "## 1.3 Remove Unanswerable Question-Answer Pairs"
   ]
  },
  {
   "cell_type": "markdown",
   "metadata": {},
   "source": [
    "As required by the task, the unanswerable question-answer pairs are removed from the dataset by dropping the rows of the dataframes where the feature `answer` is equal to \"unknown\"."
   ]
  },
  {
   "cell_type": "code",
   "execution_count": 18,
   "metadata": {},
   "outputs": [],
   "source": [
    "# Delete rows with unknown answer\n",
    "\n",
    "train_df.drop(train_df[train_df['answer'] == 'unknown'].index, inplace=True)\n",
    "train_df.reset_index(drop=True, inplace=True)\n",
    "\n",
    "test_df.drop(test_df[test_df['answer'] == 'unknown'].index, inplace=True)\n",
    "test_df.reset_index(drop=True, inplace=True)\n"
   ]
  },
  {
   "cell_type": "code",
   "execution_count": 19,
   "metadata": {},
   "outputs": [
    {
     "name": "stdout",
     "output_type": "stream",
     "text": [
      "Train dataframe shape after the unanswerable question-answer pairs are removed: (107276, 10)\n",
      "Test dataframe shape after the unanswerable question-answer pairs are removed: (7917, 10)\n"
     ]
    }
   ],
   "source": [
    "print(f'Train dataframe shape after the unanswerable question-answer pairs are removed: {train_df.shape}')\n",
    "print(f'Test dataframe shape after the unanswerable question-answer pairs are removed: {test_df.shape}')"
   ]
  },
  {
   "attachments": {},
   "cell_type": "markdown",
   "metadata": {},
   "source": [
    "In the next cell it is asserted that the history was properly created for each Question-Answer pair."
   ]
  },
  {
   "cell_type": "code",
   "execution_count": 20,
   "metadata": {},
   "outputs": [
    {
     "name": "stdout",
     "output_type": "stream",
     "text": [
      "The history of train dataframe was properly built for each Question-Answer pair.\n",
      "The history of test dataframe was properly built for each Question-Answer pair.\n"
     ]
    }
   ],
   "source": [
    "def check_history(df: pd.DataFrame, dataframe_name: str = None):\n",
    "    \"\"\"Check that the history is properly built for each Question-Answer pair in each row of the dataframe.\n",
    "\n",
    "    Parameters\n",
    "    ----------\n",
    "    df : DataFrame\n",
    "        The dataframe on which the history is checked.\n",
    "    dataframe_name : str, optional\n",
    "        The name of the dataframe. Defaults to None.\n",
    "    \"\"\"\n",
    "    prev_doc = None\n",
    "    prev_hist = []\n",
    "    prev_question = None\n",
    "    prev_answer = None\n",
    "    for d, h, q, a in zip(df['id'], df['history'], df['question'], df['answer']):\n",
    "        if d != prev_doc:\n",
    "            assert len(h) == 0, 'Error: Initial history of a new conversation is not empty!'\n",
    "            prev_doc = d\n",
    "            prev_hist = []\n",
    "            prev_question = q\n",
    "            prev_answer = a\n",
    "        else:\n",
    "            assert prev_hist + [prev_question, prev_answer] == h, 'Error: The history was not computed properly!'\n",
    "            prev_question = q\n",
    "            prev_answer = a\n",
    "            prev_hist = h\n",
    "\n",
    "    print(f'The history{f\" of {dataframe_name} dataframe\" if dataframe_name is not None else \"\"}', \n",
    "          'was properly built for each Question-Answer pair.')\n",
    "\n",
    "check_history(train_df, 'train')\n",
    "check_history(test_df, 'test')"
   ]
  },
  {
   "cell_type": "markdown",
   "metadata": {},
   "source": [
    "## 1.4 Data Analysis"
   ]
  },
  {
   "cell_type": "markdown",
   "metadata": {},
   "source": [
    "In this section some interesting analyses on the training set are carried out."
   ]
  },
  {
   "cell_type": "code",
   "execution_count": 21,
   "metadata": {},
   "outputs": [],
   "source": [
    "# Group dataframe by `id`\n",
    "grouped_train_df = train_df.groupby(by=['id'])"
   ]
  },
  {
   "cell_type": "code",
   "execution_count": 22,
   "metadata": {},
   "outputs": [
    {
     "name": "stdout",
     "output_type": "stream",
     "text": [
      "Number of train passages: 7193\n"
     ]
    }
   ],
   "source": [
    "print(f'Number of train passages: {len(grouped_train_df)}')"
   ]
  },
  {
   "cell_type": "code",
   "execution_count": 23,
   "metadata": {},
   "outputs": [
    {
     "data": {
      "image/png": "[encoded data removed]",
      "text/plain": [
       "<Figure size 1080x504 with 1 Axes>"
      ]
     },
     "metadata": {
      "needs_background": "light"
     },
     "output_type": "display_data"
    }
   ],
   "source": [
    "from utils.dataset_analisys import *\n",
    "plot_converstion_length_distribution(grouped_train_df)"
   ]
  },
  {
   "cell_type": "code",
   "execution_count": 24,
   "metadata": {},
   "outputs": [
    {
     "data": {
      "image/png": "[encoded data removed]",
      "text/plain": [
       "<Figure size 1080x504 with 2 Axes>"
      ]
     },
     "metadata": {
      "needs_background": "light"
     },
     "output_type": "display_data"
    }
   ],
   "source": [
    "plot_passage_length_analysis(grouped_train_df.story.unique())"
   ]
  },
  {
   "cell_type": "code",
   "execution_count": 25,
   "metadata": {},
   "outputs": [
    {
     "data": {
      "image/png": "[encoded data removed]",
      "text/plain": [
       "<Figure size 1080x504 with 1 Axes>"
      ]
     },
     "metadata": {
      "needs_background": "light"
     },
     "output_type": "display_data"
    }
   ],
   "source": [
    "plot_answer_span_text_percentile(train_df)"
   ]
  },
  {
   "cell_type": "markdown",
   "metadata": {},
   "source": [
    "## [Task 2] Train, Validation and Test splits"
   ]
  },
  {
   "cell_type": "markdown",
   "metadata": {},
   "source": [
    "In this section the train dataframe is split into an actual train and a validation dataframes.\n",
    "\n",
    "The split is performed as follows:\n",
    "1. The random seed is set to $42$ for reproducibility purposes.\n",
    "2. The train proportion of the actual training dataset to the original dataset is of $0.8$.\n",
    "3. The train dataframe is shuffled and divided into the two new dataframes making sure that no conversation is split among them."
   ]
  },
  {
   "cell_type": "code",
   "execution_count": 26,
   "metadata": {},
   "outputs": [],
   "source": [
    "set_random_seed(42)"
   ]
  },
  {
   "cell_type": "code",
   "execution_count": 27,
   "metadata": {},
   "outputs": [],
   "source": [
    "from sklearn.model_selection import GroupShuffleSplit\n",
    "from typing import Tuple\n",
    "\n",
    "def train_validation_split(df: pd.DataFrame, train_size: int = .8, random_seed: int = 42) \\\n",
    "    -> Tuple[pd.DataFrame, pd.DataFrame]:\n",
    "    \"\"\" Get train and validation dataframes by shuffling and splitting an original dataframe according to a given proportion\n",
    "    and a specific random seed.\n",
    "    \n",
    "    Note: The order of the rows of the same conversation is preserved in the shuffle. Moreover, the conversations are never\n",
    "    split across the two resulting dataframes.\n",
    "\n",
    "    Parameters\n",
    "    ----------\n",
    "    df : DataFrame\n",
    "        The dataframe from which the train and validation dataframes are obtained.\n",
    "    train_size : int, optional\n",
    "        The proportion of the train split. Defaults to 0.8.\n",
    "    random_seed : int, optional\n",
    "        The random seed for the shuffle. Defaults to 42.\n",
    "\n",
    "    Returns:\n",
    "        Tuple[pd.DataFrame, pd.DataFrame]: _description_\n",
    "    \"\"\"\n",
    "    # Get indices of train and test rows in the dataframe\n",
    "    group_shuffle_split = GroupShuffleSplit(n_splits=2, train_size=train_size, random_state=random_seed)\n",
    "    train_ix, test_ix = next(group_shuffle_split.split(df, groups=df.id))\n",
    "\n",
    "    train_df = df.loc[train_ix]\n",
    "    train_df.reset_index(inplace=True, drop=True)\n",
    "    \n",
    "    val_df = df.loc[test_ix]\n",
    "    val_df.reset_index(inplace=True, drop=True)\n",
    "    \n",
    "    return train_df, val_df"
   ]
  },
  {
   "cell_type": "code",
   "execution_count": 28,
   "metadata": {},
   "outputs": [],
   "source": [
    "train_df, val_df = train_validation_split(train_df)"
   ]
  },
  {
   "cell_type": "markdown",
   "metadata": {},
   "source": [
    "The tail of the obtain dataframe (`train_df`) and the head of the validation dataframe (`val_df`) are shown below to assert that the conversations are not splitted and that their question-answer pairs are still chronologically ordered."
   ]
  },
  {
   "cell_type": "code",
   "execution_count": 29,
   "metadata": {},
   "outputs": [
    {
     "name": "stdout",
     "output_type": "stream",
     "text": [
      "Train dataframe shape after the split: (85824, 10)\n"
     ]
    },
    {
     "data": {
      "text/html": [
       "<div>\n",
       "<style scoped>\n",
       "    .dataframe tbody tr th:only-of-type {\n",
       "        vertical-align: middle;\n",
       "    }\n",
       "\n",
       "    .dataframe tbody tr th {\n",
       "        vertical-align: top;\n",
       "    }\n",
       "\n",
       "    .dataframe thead th {\n",
       "        text-align: right;\n",
       "    }\n",
       "</style>\n",
       "<table border=\"1\" class=\"dataframe\">\n",
       "  <thead>\n",
       "    <tr style=\"text-align: right;\">\n",
       "      <th></th>\n",
       "      <th>source</th>\n",
       "      <th>id</th>\n",
       "      <th>story</th>\n",
       "      <th>question</th>\n",
       "      <th>answer_span_start</th>\n",
       "      <th>answer_span_end</th>\n",
       "      <th>answer_span_text</th>\n",
       "      <th>answer</th>\n",
       "      <th>turn_id</th>\n",
       "      <th>history</th>\n",
       "    </tr>\n",
       "  </thead>\n",
       "  <tbody>\n",
       "    <tr>\n",
       "      <th>85819</th>\n",
       "      <td>cnn</td>\n",
       "      <td>31qnsg6a5rtt5m7pens7xklnbwf87b</td>\n",
       "      <td>(CNN) -- Cristiano Ronaldo provided the perfec...</td>\n",
       "      <td>Who was a sub?</td>\n",
       "      <td>1405</td>\n",
       "      <td>1427</td>\n",
       "      <td>substitute Xabi Alonso</td>\n",
       "      <td>Xabi Alonso</td>\n",
       "      <td>10</td>\n",
       "      <td>[Who was in charge of FIFA?, Sepp Blatter, Wha...</td>\n",
       "    </tr>\n",
       "    <tr>\n",
       "      <th>85820</th>\n",
       "      <td>cnn</td>\n",
       "      <td>31qnsg6a5rtt5m7pens7xklnbwf87b</td>\n",
       "      <td>(CNN) -- Cristiano Ronaldo provided the perfec...</td>\n",
       "      <td>Was it his first game this year?</td>\n",
       "      <td>1415</td>\n",
       "      <td>1467</td>\n",
       "      <td>Xabi Alonso made his first appearance of the ...</td>\n",
       "      <td>Yes</td>\n",
       "      <td>11</td>\n",
       "      <td>[Who was in charge of FIFA?, Sepp Blatter, Wha...</td>\n",
       "    </tr>\n",
       "    <tr>\n",
       "      <th>85821</th>\n",
       "      <td>cnn</td>\n",
       "      <td>31qnsg6a5rtt5m7pens7xklnbwf87b</td>\n",
       "      <td>(CNN) -- Cristiano Ronaldo provided the perfec...</td>\n",
       "      <td>What position did the team reach?</td>\n",
       "      <td>1520</td>\n",
       "      <td>1555</td>\n",
       "      <td>Real moved up to third in the table</td>\n",
       "      <td>third</td>\n",
       "      <td>12</td>\n",
       "      <td>[Who was in charge of FIFA?, Sepp Blatter, Wha...</td>\n",
       "    </tr>\n",
       "    <tr>\n",
       "      <th>85822</th>\n",
       "      <td>cnn</td>\n",
       "      <td>31qnsg6a5rtt5m7pens7xklnbwf87b</td>\n",
       "      <td>(CNN) -- Cristiano Ronaldo provided the perfec...</td>\n",
       "      <td>Who was ahead of them?</td>\n",
       "      <td>1557</td>\n",
       "      <td>1582</td>\n",
       "      <td>six points behind Barca.</td>\n",
       "      <td>Barca.</td>\n",
       "      <td>13</td>\n",
       "      <td>[Who was in charge of FIFA?, Sepp Blatter, Wha...</td>\n",
       "    </tr>\n",
       "    <tr>\n",
       "      <th>85823</th>\n",
       "      <td>cnn</td>\n",
       "      <td>31qnsg6a5rtt5m7pens7xklnbwf87b</td>\n",
       "      <td>(CNN) -- Cristiano Ronaldo provided the perfec...</td>\n",
       "      <td>By how much?</td>\n",
       "      <td>1557</td>\n",
       "      <td>1581</td>\n",
       "      <td>six points behind Barca.</td>\n",
       "      <td>six points</td>\n",
       "      <td>14</td>\n",
       "      <td>[Who was in charge of FIFA?, Sepp Blatter, Wha...</td>\n",
       "    </tr>\n",
       "  </tbody>\n",
       "</table>\n",
       "</div>"
      ],
      "text/plain": [
       "      source                              id  \\\n",
       "85819    cnn  31qnsg6a5rtt5m7pens7xklnbwf87b   \n",
       "85820    cnn  31qnsg6a5rtt5m7pens7xklnbwf87b   \n",
       "85821    cnn  31qnsg6a5rtt5m7pens7xklnbwf87b   \n",
       "85822    cnn  31qnsg6a5rtt5m7pens7xklnbwf87b   \n",
       "85823    cnn  31qnsg6a5rtt5m7pens7xklnbwf87b   \n",
       "\n",
       "                                                   story  \\\n",
       "85819  (CNN) -- Cristiano Ronaldo provided the perfec...   \n",
       "85820  (CNN) -- Cristiano Ronaldo provided the perfec...   \n",
       "85821  (CNN) -- Cristiano Ronaldo provided the perfec...   \n",
       "85822  (CNN) -- Cristiano Ronaldo provided the perfec...   \n",
       "85823  (CNN) -- Cristiano Ronaldo provided the perfec...   \n",
       "\n",
       "                                question  answer_span_start  answer_span_end  \\\n",
       "85819                     Who was a sub?               1405             1427   \n",
       "85820   Was it his first game this year?               1415             1467   \n",
       "85821  What position did the team reach?               1520             1555   \n",
       "85822             Who was ahead of them?               1557             1582   \n",
       "85823                       By how much?               1557             1581   \n",
       "\n",
       "                                        answer_span_text       answer  \\\n",
       "85819                             substitute Xabi Alonso  Xabi Alonso   \n",
       "85820   Xabi Alonso made his first appearance of the ...          Yes   \n",
       "85821                Real moved up to third in the table        third   \n",
       "85822                          six points behind Barca.        Barca.   \n",
       "85823                           six points behind Barca.   six points   \n",
       "\n",
       "       turn_id                                            history  \n",
       "85819       10  [Who was in charge of FIFA?, Sepp Blatter, Wha...  \n",
       "85820       11  [Who was in charge of FIFA?, Sepp Blatter, Wha...  \n",
       "85821       12  [Who was in charge of FIFA?, Sepp Blatter, Wha...  \n",
       "85822       13  [Who was in charge of FIFA?, Sepp Blatter, Wha...  \n",
       "85823       14  [Who was in charge of FIFA?, Sepp Blatter, Wha...  "
      ]
     },
     "execution_count": 29,
     "metadata": {},
     "output_type": "execute_result"
    }
   ],
   "source": [
    "print(f'Train dataframe shape after the split: {train_df.shape}')\n",
    "train_df.tail()"
   ]
  },
  {
   "cell_type": "code",
   "execution_count": 30,
   "metadata": {},
   "outputs": [
    {
     "name": "stdout",
     "output_type": "stream",
     "text": [
      "Validation dataframe shape after the split: (21452, 10)\n"
     ]
    },
    {
     "data": {
      "text/html": [
       "<div>\n",
       "<style scoped>\n",
       "    .dataframe tbody tr th:only-of-type {\n",
       "        vertical-align: middle;\n",
       "    }\n",
       "\n",
       "    .dataframe tbody tr th {\n",
       "        vertical-align: top;\n",
       "    }\n",
       "\n",
       "    .dataframe thead th {\n",
       "        text-align: right;\n",
       "    }\n",
       "</style>\n",
       "<table border=\"1\" class=\"dataframe\">\n",
       "  <thead>\n",
       "    <tr style=\"text-align: right;\">\n",
       "      <th></th>\n",
       "      <th>source</th>\n",
       "      <th>id</th>\n",
       "      <th>story</th>\n",
       "      <th>question</th>\n",
       "      <th>answer_span_start</th>\n",
       "      <th>answer_span_end</th>\n",
       "      <th>answer_span_text</th>\n",
       "      <th>answer</th>\n",
       "      <th>turn_id</th>\n",
       "      <th>history</th>\n",
       "    </tr>\n",
       "  </thead>\n",
       "  <tbody>\n",
       "    <tr>\n",
       "      <th>0</th>\n",
       "      <td>cnn</td>\n",
       "      <td>3wj1oxy92agboo5nlq4r7bndc3t8a8</td>\n",
       "      <td>New York (CNN) -- More than 80 Michael Jackson...</td>\n",
       "      <td>Where was the Auction held?</td>\n",
       "      <td>243</td>\n",
       "      <td>284</td>\n",
       "      <td>Hard Rock Cafe in New York's Times Square</td>\n",
       "      <td>Hard Rock Cafe</td>\n",
       "      <td>1</td>\n",
       "      <td>[]</td>\n",
       "    </tr>\n",
       "    <tr>\n",
       "      <th>1</th>\n",
       "      <td>cnn</td>\n",
       "      <td>3wj1oxy92agboo5nlq4r7bndc3t8a8</td>\n",
       "      <td>New York (CNN) -- More than 80 Michael Jackson...</td>\n",
       "      <td>How much did they make?</td>\n",
       "      <td>180</td>\n",
       "      <td>210</td>\n",
       "      <td>reaping a total $2 million. \\n</td>\n",
       "      <td>$2 million.</td>\n",
       "      <td>2</td>\n",
       "      <td>[Where was the Auction held?, Hard Rock Cafe]</td>\n",
       "    </tr>\n",
       "    <tr>\n",
       "      <th>2</th>\n",
       "      <td>cnn</td>\n",
       "      <td>3wj1oxy92agboo5nlq4r7bndc3t8a8</td>\n",
       "      <td>New York (CNN) -- More than 80 Michael Jackson...</td>\n",
       "      <td>How much did they expected?</td>\n",
       "      <td>292</td>\n",
       "      <td>342</td>\n",
       "      <td>pre-sale expectations of only $120,000 in sal...</td>\n",
       "      <td>$120,000</td>\n",
       "      <td>3</td>\n",
       "      <td>[Where was the Auction held?, Hard Rock Cafe, ...</td>\n",
       "    </tr>\n",
       "    <tr>\n",
       "      <th>3</th>\n",
       "      <td>cnn</td>\n",
       "      <td>3wj1oxy92agboo5nlq4r7bndc3t8a8</td>\n",
       "      <td>New York (CNN) -- More than 80 Michael Jackson...</td>\n",
       "      <td>WHo buy the Jackson Glove</td>\n",
       "      <td>1295</td>\n",
       "      <td>1365</td>\n",
       "      <td>Hoffman Ma, who bought the glove on behalf of ...</td>\n",
       "      <td>Hoffman Ma</td>\n",
       "      <td>4</td>\n",
       "      <td>[Where was the Auction held?, Hard Rock Cafe, ...</td>\n",
       "    </tr>\n",
       "    <tr>\n",
       "      <th>4</th>\n",
       "      <td>cnn</td>\n",
       "      <td>3wj1oxy92agboo5nlq4r7bndc3t8a8</td>\n",
       "      <td>New York (CNN) -- More than 80 Michael Jackson...</td>\n",
       "      <td>Where was the buyer of the glove from?</td>\n",
       "      <td>1331</td>\n",
       "      <td>1366</td>\n",
       "      <td>behalf of Ponte 16 Resort in Macau,</td>\n",
       "      <td>Macau</td>\n",
       "      <td>5</td>\n",
       "      <td>[Where was the Auction held?, Hard Rock Cafe, ...</td>\n",
       "    </tr>\n",
       "  </tbody>\n",
       "</table>\n",
       "</div>"
      ],
      "text/plain": [
       "  source                              id  \\\n",
       "0    cnn  3wj1oxy92agboo5nlq4r7bndc3t8a8   \n",
       "1    cnn  3wj1oxy92agboo5nlq4r7bndc3t8a8   \n",
       "2    cnn  3wj1oxy92agboo5nlq4r7bndc3t8a8   \n",
       "3    cnn  3wj1oxy92agboo5nlq4r7bndc3t8a8   \n",
       "4    cnn  3wj1oxy92agboo5nlq4r7bndc3t8a8   \n",
       "\n",
       "                                               story  \\\n",
       "0  New York (CNN) -- More than 80 Michael Jackson...   \n",
       "1  New York (CNN) -- More than 80 Michael Jackson...   \n",
       "2  New York (CNN) -- More than 80 Michael Jackson...   \n",
       "3  New York (CNN) -- More than 80 Michael Jackson...   \n",
       "4  New York (CNN) -- More than 80 Michael Jackson...   \n",
       "\n",
       "                                 question  answer_span_start  answer_span_end  \\\n",
       "0             Where was the Auction held?                243              284   \n",
       "1                 How much did they make?                180              210   \n",
       "2             How much did they expected?                292              342   \n",
       "3               WHo buy the Jackson Glove               1295             1365   \n",
       "4  Where was the buyer of the glove from?               1331             1366   \n",
       "\n",
       "                                    answer_span_text          answer  turn_id  \\\n",
       "0          Hard Rock Cafe in New York's Times Square  Hard Rock Cafe        1   \n",
       "1                     reaping a total $2 million. \\n     $2 million.        2   \n",
       "2   pre-sale expectations of only $120,000 in sal...        $120,000        3   \n",
       "3  Hoffman Ma, who bought the glove on behalf of ...      Hoffman Ma        4   \n",
       "4                behalf of Ponte 16 Resort in Macau,           Macau        5   \n",
       "\n",
       "                                             history  \n",
       "0                                                 []  \n",
       "1      [Where was the Auction held?, Hard Rock Cafe]  \n",
       "2  [Where was the Auction held?, Hard Rock Cafe, ...  \n",
       "3  [Where was the Auction held?, Hard Rock Cafe, ...  \n",
       "4  [Where was the Auction held?, Hard Rock Cafe, ...  "
      ]
     },
     "execution_count": 30,
     "metadata": {},
     "output_type": "execute_result"
    }
   ],
   "source": [
    "print(f'Validation dataframe shape after the split: {val_df.shape}')\n",
    "val_df.head()"
   ]
  },
  {
   "cell_type": "code",
   "execution_count": 31,
   "metadata": {},
   "outputs": [
    {
     "name": "stdout",
     "output_type": "stream",
     "text": [
      "Train passages count: 5754\n",
      "Validation passages count: 1439\n",
      "\n",
      "Train QaA count: 85824 \t\t Train QaA ratio: 0.80\n",
      "Validation QaA count: 21452 \t Validation QaA ratio: 0.20\n"
     ]
    }
   ],
   "source": [
    "print(f'Train passages count: {len(train_df.groupby(by=[\"id\"]))}')\n",
    "print(f'Validation passages count: {len(val_df.groupby(by=[\"id\"]))}')\n",
    "\n",
    "print()\n",
    "\n",
    "len_tot=len(train_df)+len(val_df)\n",
    "print(f'Train QaA count: {len(train_df)} \\t\\t Train QaA ratio: {len(train_df)/len_tot:.2f}')\n",
    "print(f'Validation QaA count: {len(val_df)} \\t Validation QaA ratio: {len(val_df)/len_tot:.2f}')"
   ]
  },
  {
   "cell_type": "markdown",
   "metadata": {},
   "source": [
    "In addition, the train, validation and test dataloaders are provided for future training purposes."
   ]
  },
  {
   "cell_type": "code",
   "execution_count": 32,
   "metadata": {},
   "outputs": [],
   "source": [
    "from utils.dataloader_builder import get_dataloader\n",
    "\n",
    "train_dataloader = get_dataloader(train_df, batch_size=8)\n",
    "val_dataloader = get_dataloader(val_df)\n",
    "test_dataloader = get_dataloader(test_df)"
   ]
  },
  {
   "cell_type": "markdown",
   "id": "230a21de",
   "metadata": {
    "slideshow": {
     "slide_type": "slide"
    }
   },
   "source": [
    "## [Task 3] Model definition"
   ]
  },
  {
   "attachments": {},
   "cell_type": "markdown",
   "metadata": {},
   "source": [
    "Distil Roberta"
   ]
  },
  {
   "cell_type": "code",
   "execution_count": 35,
   "metadata": {},
   "outputs": [
    {
     "name": "stderr",
     "output_type": "stream",
     "text": [
      "Some weights of the model checkpoint at distilroberta-base were not used when initializing RobertaModel: ['lm_head.dense.weight', 'lm_head.bias', 'lm_head.layer_norm.bias', 'lm_head.dense.bias', 'lm_head.decoder.weight', 'lm_head.layer_norm.weight']\n",
      "- This IS expected if you are initializing RobertaModel from the checkpoint of a model trained on another task or with another architecture (e.g. initializing a BertForSequenceClassification model from a BertForPreTraining model).\n",
      "- This IS NOT expected if you are initializing RobertaModel from the checkpoint of a model that you expect to be exactly identical (initializing a BertForSequenceClassification model from a BertForSequenceClassification model).\n",
      "Some weights of the model checkpoint at distilroberta-base were not used when initializing RobertaModel: ['lm_head.dense.weight', 'lm_head.bias', 'lm_head.layer_norm.bias', 'lm_head.dense.bias', 'lm_head.decoder.weight', 'lm_head.layer_norm.weight']\n",
      "- This IS expected if you are initializing RobertaModel from the checkpoint of a model trained on another task or with another architecture (e.g. initializing a BertForSequenceClassification model from a BertForPreTraining model).\n",
      "- This IS NOT expected if you are initializing RobertaModel from the checkpoint of a model that you expect to be exactly identical (initializing a BertForSequenceClassification model from a BertForSequenceClassification model).\n",
      "Some weights of RobertaForCausalLM were not initialized from the model checkpoint at distilroberta-base and are newly initialized: ['roberta.encoder.layer.4.crossattention.output.dense.bias', 'roberta.encoder.layer.5.crossattention.output.LayerNorm.bias', 'roberta.encoder.layer.1.crossattention.output.LayerNorm.weight', 'roberta.encoder.layer.2.crossattention.output.dense.weight', 'roberta.encoder.layer.3.crossattention.self.value.bias', 'roberta.encoder.layer.2.crossattention.self.key.bias', 'roberta.encoder.layer.1.crossattention.output.LayerNorm.bias', 'roberta.encoder.layer.2.crossattention.self.value.weight', 'roberta.encoder.layer.4.crossattention.self.value.weight', 'roberta.encoder.layer.4.crossattention.self.query.bias', 'roberta.encoder.layer.5.crossattention.output.LayerNorm.weight', 'roberta.encoder.layer.0.crossattention.self.query.weight', 'roberta.encoder.layer.2.crossattention.self.value.bias', 'roberta.encoder.layer.5.crossattention.self.key.bias', 'roberta.encoder.layer.1.crossattention.self.key.weight', 'roberta.encoder.layer.3.crossattention.output.dense.bias', 'roberta.encoder.layer.4.crossattention.self.key.bias', 'roberta.encoder.layer.1.crossattention.self.value.bias', 'roberta.encoder.layer.1.crossattention.self.query.weight', 'roberta.encoder.layer.0.crossattention.self.key.bias', 'roberta.encoder.layer.4.crossattention.self.value.bias', 'roberta.encoder.layer.2.crossattention.output.LayerNorm.weight', 'roberta.encoder.layer.0.crossattention.self.query.bias', 'roberta.encoder.layer.5.crossattention.output.dense.weight', 'roberta.encoder.layer.2.crossattention.self.key.weight', 'roberta.encoder.layer.3.crossattention.self.query.weight', 'roberta.encoder.layer.0.crossattention.output.LayerNorm.weight', 'roberta.encoder.layer.5.crossattention.output.dense.bias', 'roberta.encoder.layer.2.crossattention.output.dense.bias', 'roberta.encoder.layer.2.crossattention.output.LayerNorm.bias', 'roberta.encoder.layer.0.crossattention.self.value.bias', 'roberta.encoder.layer.1.crossattention.self.value.weight', 'roberta.encoder.layer.3.crossattention.self.key.bias', 'roberta.encoder.layer.5.crossattention.self.key.weight', 'roberta.encoder.layer.3.crossattention.output.LayerNorm.bias', 'roberta.encoder.layer.0.crossattention.self.value.weight', 'roberta.encoder.layer.2.crossattention.self.query.weight', 'roberta.encoder.layer.0.crossattention.output.dense.bias', 'roberta.encoder.layer.1.crossattention.self.query.bias', 'roberta.encoder.layer.3.crossattention.self.query.bias', 'roberta.encoder.layer.5.crossattention.self.value.weight', 'roberta.encoder.layer.0.crossattention.output.LayerNorm.bias', 'roberta.encoder.layer.2.crossattention.self.query.bias', 'roberta.encoder.layer.3.crossattention.self.key.weight', 'roberta.encoder.layer.3.crossattention.self.value.weight', 'roberta.encoder.layer.3.crossattention.output.LayerNorm.weight', 'roberta.encoder.layer.0.crossattention.self.key.weight', 'roberta.encoder.layer.0.crossattention.output.dense.weight', 'roberta.encoder.layer.4.crossattention.output.dense.weight', 'roberta.encoder.layer.4.crossattention.output.LayerNorm.bias', 'roberta.encoder.layer.5.crossattention.self.value.bias', 'roberta.encoder.layer.4.crossattention.self.key.weight', 'roberta.encoder.layer.3.crossattention.output.dense.weight', 'roberta.encoder.layer.4.crossattention.output.LayerNorm.weight', 'roberta.encoder.layer.5.crossattention.self.query.weight', 'roberta.encoder.layer.4.crossattention.self.query.weight', 'roberta.encoder.layer.1.crossattention.output.dense.weight', 'roberta.encoder.layer.1.crossattention.self.key.bias', 'roberta.encoder.layer.5.crossattention.self.query.bias', 'roberta.encoder.layer.1.crossattention.output.dense.bias']\n",
      "You should probably TRAIN this model on a down-stream task to be able to use it for predictions and inference.\n"
     ]
    }
   ],
   "source": [
    "from models.model import Model \n",
    "\n",
    "model_name1 = 'distilroberta-base'\n",
    "\n",
    "M1 = Model(model_name=model_name1, device='cpu')"
   ]
  },
  {
   "attachments": {},
   "cell_type": "markdown",
   "metadata": {},
   "source": [
    "Bert Tiny"
   ]
  },
  {
   "cell_type": "code",
   "execution_count": 36,
   "metadata": {},
   "outputs": [
    {
     "name": "stderr",
     "output_type": "stream",
     "text": [
      "Some weights of the model checkpoint at prajjwal1/bert-tiny were not used when initializing BertModel: ['cls.predictions.transform.dense.bias', 'cls.predictions.decoder.bias', 'cls.predictions.transform.LayerNorm.bias', 'cls.seq_relationship.bias', 'cls.predictions.decoder.weight', 'cls.seq_relationship.weight', 'cls.predictions.transform.LayerNorm.weight', 'cls.predictions.bias', 'cls.predictions.transform.dense.weight']\n",
      "- This IS expected if you are initializing BertModel from the checkpoint of a model trained on another task or with another architecture (e.g. initializing a BertForSequenceClassification model from a BertForPreTraining model).\n",
      "- This IS NOT expected if you are initializing BertModel from the checkpoint of a model that you expect to be exactly identical (initializing a BertForSequenceClassification model from a BertForSequenceClassification model).\n",
      "Some weights of the model checkpoint at prajjwal1/bert-tiny were not used when initializing BertModel: ['cls.predictions.transform.dense.bias', 'cls.predictions.decoder.bias', 'cls.predictions.transform.LayerNorm.bias', 'cls.seq_relationship.bias', 'cls.predictions.decoder.weight', 'cls.seq_relationship.weight', 'cls.predictions.transform.LayerNorm.weight', 'cls.predictions.bias', 'cls.predictions.transform.dense.weight']\n",
      "- This IS expected if you are initializing BertModel from the checkpoint of a model trained on another task or with another architecture (e.g. initializing a BertForSequenceClassification model from a BertForPreTraining model).\n",
      "- This IS NOT expected if you are initializing BertModel from the checkpoint of a model that you expect to be exactly identical (initializing a BertForSequenceClassification model from a BertForSequenceClassification model).\n",
      "Some weights of the model checkpoint at prajjwal1/bert-tiny were not used when initializing BertLMHeadModel: ['cls.seq_relationship.weight', 'cls.seq_relationship.bias']\n",
      "- This IS expected if you are initializing BertLMHeadModel from the checkpoint of a model trained on another task or with another architecture (e.g. initializing a BertForSequenceClassification model from a BertForPreTraining model).\n",
      "- This IS NOT expected if you are initializing BertLMHeadModel from the checkpoint of a model that you expect to be exactly identical (initializing a BertForSequenceClassification model from a BertForSequenceClassification model).\n",
      "Some weights of BertLMHeadModel were not initialized from the model checkpoint at prajjwal1/bert-tiny and are newly initialized: ['bert.encoder.layer.1.crossattention.output.dense.bias', 'bert.encoder.layer.1.crossattention.self.value.weight', 'bert.encoder.layer.0.crossattention.output.LayerNorm.weight', 'bert.encoder.layer.0.crossattention.output.LayerNorm.bias', 'bert.encoder.layer.1.crossattention.self.query.bias', 'bert.encoder.layer.0.crossattention.self.value.bias', 'bert.encoder.layer.0.crossattention.self.query.bias', 'bert.encoder.layer.0.crossattention.output.dense.weight', 'bert.encoder.layer.1.crossattention.output.LayerNorm.weight', 'bert.encoder.layer.0.crossattention.self.value.weight', 'bert.encoder.layer.0.crossattention.output.dense.bias', 'bert.encoder.layer.1.crossattention.self.query.weight', 'bert.encoder.layer.0.crossattention.self.key.bias', 'bert.encoder.layer.1.crossattention.output.dense.weight', 'bert.encoder.layer.1.crossattention.self.value.bias', 'bert.encoder.layer.1.crossattention.self.key.bias', 'bert.encoder.layer.0.crossattention.self.query.weight', 'bert.encoder.layer.0.crossattention.self.key.weight', 'bert.encoder.layer.1.crossattention.self.key.weight', 'bert.encoder.layer.1.crossattention.output.LayerNorm.bias']\n",
      "You should probably TRAIN this model on a down-stream task to be able to use it for predictions and inference.\n"
     ]
    }
   ],
   "source": [
    "from models.model import Model \n",
    "\n",
    "model_name2 = 'prajjwal1/bert-tiny'\n",
    "\n",
    "M2 = Model(model_name=model_name2, device='cpu')"
   ]
  },
  {
   "attachments": {},
   "cell_type": "markdown",
   "metadata": {},
   "source": [
    "## [Task 4] Question generation with text passage $P$ and question $Q$"
   ]
  },
  {
   "cell_type": "code",
   "execution_count": 54,
   "metadata": {},
   "outputs": [
    {
     "name": "stdout",
     "output_type": "stream",
     "text": [
      "Question sample: \"When was the Vat formally opened?\"\n",
      "\n",
      "Predicted answer by the model: \",.,,,, Park,ness,ism\"\n",
      "\n",
      "True answer: \"It was formally established in 1475\"\n"
     ]
    }
   ],
   "source": [
    "question_sample = [train_df.iloc[0]['question']]\n",
    "passage_sample = [train_df.iloc[0]['story']]\n",
    "answer_sample = train_df.iloc[0]['answer']\n",
    "\n",
    "print(f'Question sample: \"{question_sample[0]}\"')\n",
    "print()\n",
    "print(f'Predicted answer by the model: \"{M1.generate(passage_sample, question_sample)[0]}\"')\n",
    "print()\n",
    "print(f'True answer: \"{answer_sample}\"')"
   ]
  },
  {
   "attachments": {},
   "cell_type": "markdown",
   "metadata": {},
   "source": [
    "## [Task 5] Question generation with text passage $P$, question $Q$ and dialogue history $H$"
   ]
  },
  {
   "cell_type": "code",
   "execution_count": 55,
   "metadata": {},
   "outputs": [
    {
     "name": "stdout",
     "output_type": "stream",
     "text": [
      "Question sample: \"how do scholars divide the library?\"\n",
      "\n",
      "Predicted answer by the model: \",.,\"\n",
      "\n",
      "True answer: \"into periods\"\n"
     ]
    }
   ],
   "source": [
    "question_sample = [train_df.iloc[5]['question']]\n",
    "passage_sample = [train_df.iloc[5]['story']]\n",
    "answer_sample = train_df.iloc[5]['answer']\n",
    "history_sample = [' <sep> '.join(train_df.iloc[5]['history'])]\n",
    "\n",
    "print(f'Question sample: \"{question_sample[0]}\"')\n",
    "print()\n",
    "print(f'Predicted answer by the model: \"{M1.generate(passage_sample, question_sample, history=history_sample)[0]}\"')\n",
    "print()\n",
    "print(f'True answer: \"{answer_sample}\"')"
   ]
  },
  {
   "attachments": {},
   "cell_type": "markdown",
   "metadata": {},
   "source": [
    "## [Task 6] Train and evaluate $f_\\theta(P, Q)$ and $f_\\theta(P, Q, H)$"
   ]
  },
  {
   "cell_type": "code",
   "execution_count": 39,
   "metadata": {},
   "outputs": [
    {
     "name": "stdout",
     "output_type": "stream",
     "text": [
      "Training phase 1\n",
      "epoch: 1/2, 1/50, 0s 306ms/step, lr: 1e-05, loss: 0.5\n",
      "epoch: 1/2, 2/50, 1s 530ms/step, lr: 1e-05, loss: 0.463\n",
      "epoch: 1/2, 3/50, 2s 568ms/step, lr: 1e-05, loss: 0.432\n",
      "epoch: 1/2, 4/50, 2s 591ms/step, lr: 1e-05, loss: 0.5\n",
      "epoch: 1/2, 5/50, 3s 602ms/step, lr: 1e-05, loss: 0.504\n",
      "epoch: 1/2, 6/50, 4s 611ms/step, lr: 1e-05, loss: 0.478\n",
      "epoch: 1/2, 7/50, 4s 616ms/step, lr: 1e-05, loss: 0.462\n",
      "epoch: 1/2, 8/50, 5s 617ms/step, lr: 1e-05, loss: 0.448\n",
      "epoch: 1/2, 9/50, 6s 618ms/step, lr: 1e-05, loss: 0.454\n",
      "epoch: 1/2, 10/50, 6s 633ms/step, lr: 1e-05, loss: 0.456\n",
      "epoch: 1/2, 11/50, 7s 631ms/step, lr: 1e-05, loss: 0.45\n",
      "epoch: 1/2, 12/50, 8s 635ms/step, lr: 1e-05, loss: 0.451\n",
      "epoch: 1/2, 13/50, 8s 638ms/step, lr: 1e-05, loss: 0.448\n",
      "epoch: 1/2, 14/50, 9s 640ms/step, lr: 1e-05, loss: 0.46\n",
      "epoch: 1/2, 15/50, 10s 640ms/step, lr: 1e-05, loss: 0.471\n",
      "epoch: 1/2, 16/50, 10s 643ms/step, lr: 1e-05, loss: 0.464\n",
      "epoch: 1/2, 17/50, 11s 643ms/step, lr: 1e-05, loss: 0.479\n",
      "epoch: 1/2, 18/50, 12s 655ms/step, lr: 1e-05, loss: 0.482\n",
      "epoch: 1/2, 19/50, 13s 675ms/step, lr: 1e-05, loss: 0.495\n",
      "epoch: 1/2, 20/50, 14s 704ms/step, lr: 1e-05, loss: 0.495\n",
      "epoch: 1/2, 21/50, 15s 714ms/step, lr: 1e-05, loss: 0.521\n",
      "epoch: 1/2, 22/50, 16s 724ms/step, lr: 1e-05, loss: 0.535\n",
      "epoch: 1/2, 23/50, 17s 726ms/step, lr: 1e-05, loss: 0.541\n",
      "epoch: 1/2, 24/50, 18s 732ms/step, lr: 1e-05, loss: 0.549\n",
      "epoch: 1/2, 25/50, 18s 730ms/step, lr: 1e-05, loss: 0.559\n",
      "epoch: 1/2, 26/50, 19s 738ms/step, lr: 1e-05, loss: 0.56\n",
      "epoch: 1/2, 27/50, 20s 738ms/step, lr: 1e-05, loss: 0.558\n",
      "epoch: 1/2, 28/50, 21s 761ms/step, lr: 1e-05, loss: 0.564\n",
      "epoch: 1/2, 29/50, 24s 840ms/step, lr: 1e-05, loss: 0.564\n",
      "epoch: 1/2, 30/50, 28s 935ms/step, lr: 1e-05, loss: 0.562\n",
      "epoch: 1/2, 31/50, 29s 937ms/step, lr: 1e-05, loss: 0.555\n",
      "epoch: 1/2, 32/50, 30s 933ms/step, lr: 1e-05, loss: 0.552\n",
      "epoch: 1/2, 33/50, 31s 928ms/step, lr: 1e-05, loss: 0.558\n",
      "epoch: 1/2, 34/50, 31s 924ms/step, lr: 1e-05, loss: 0.551\n",
      "epoch: 1/2, 35/50, 32s 917ms/step, lr: 1e-05, loss: 0.552\n",
      "epoch: 1/2, 36/50, 33s 912ms/step, lr: 1e-05, loss: 0.55\n",
      "epoch: 1/2, 37/50, 33s 905ms/step, lr: 1e-05, loss: 0.545\n",
      "epoch: 1/2, 38/50, 34s 900ms/step, lr: 1e-05, loss: 0.54\n",
      "epoch: 1/2, 39/50, 35s 894ms/step, lr: 1e-05, loss: 0.537\n",
      "epoch: 1/2, 40/50, 36s 890ms/step, lr: 1e-05, loss: 0.535\n",
      "epoch: 1/2, 41/50, 36s 884ms/step, lr: 1e-05, loss: 0.53\n",
      "epoch: 1/2, 42/50, 37s 881ms/step, lr: 1e-05, loss: 0.526\n",
      "epoch: 1/2, 43/50, 38s 877ms/step, lr: 1e-05, loss: 0.525\n",
      "epoch: 1/2, 44/50, 38s 873ms/step, lr: 1e-05, loss: 0.521\n",
      "epoch: 1/2, 45/50, 39s 868ms/step, lr: 1e-05, loss: 0.528\n",
      "epoch: 1/2, 46/50, 40s 864ms/step, lr: 1e-05, loss: 0.527\n",
      "epoch: 1/2, 47/50, 40s 859ms/step, lr: 1e-05, loss: 0.535\n",
      "epoch: 1/2, 48/50, 41s 856ms/step, lr: 1e-05, loss: 0.534\n",
      "epoch: 1/2, 49/50, 42s 852ms/step, lr: 1e-05, loss: 0.527\n",
      "epoch: 1/2, 50/50, 42s 849ms/step, lr: 1e-05, loss: 0.523\n",
      "epoch: 1/2, 50/50, 42s 849ms/step, lr: 1e-05, loss: 0.523\n",
      "epoch: 2/2, 1/50, 0s 40ms/step, lr: 1e-05, loss: 0.372\n",
      "epoch: 2/2, 2/50, 1s 348ms/step, lr: 1e-05, loss: 0.385\n",
      "epoch: 2/2, 3/50, 1s 434ms/step, lr: 1e-05, loss: 0.405\n",
      "epoch: 2/2, 4/50, 2s 491ms/step, lr: 1e-05, loss: 0.369\n",
      "epoch: 2/2, 5/50, 3s 553ms/step, lr: 1e-05, loss: 0.377\n",
      "epoch: 2/2, 6/50, 3s 574ms/step, lr: 1e-05, loss: 0.363\n",
      "epoch: 2/2, 7/50, 4s 580ms/step, lr: 1e-05, loss: 0.372\n",
      "epoch: 2/2, 8/50, 5s 592ms/step, lr: 1e-05, loss: 0.475\n",
      "epoch: 2/2, 9/50, 5s 591ms/step, lr: 1e-05, loss: 0.528\n",
      "epoch: 2/2, 10/50, 6s 597ms/step, lr: 1e-05, loss: 0.514\n",
      "epoch: 2/2, 11/50, 7s 601ms/step, lr: 1e-05, loss: 0.511\n",
      "epoch: 2/2, 12/50, 7s 606ms/step, lr: 1e-05, loss: 0.508\n",
      "epoch: 2/2, 13/50, 8s 608ms/step, lr: 1e-05, loss: 0.511\n",
      "epoch: 2/2, 14/50, 9s 610ms/step, lr: 1e-05, loss: 0.504\n",
      "epoch: 2/2, 15/50, 9s 612ms/step, lr: 1e-05, loss: 0.502\n",
      "epoch: 2/2, 16/50, 10s 616ms/step, lr: 1e-05, loss: 0.494\n",
      "epoch: 2/2, 17/50, 10s 617ms/step, lr: 1e-05, loss: 0.49\n",
      "epoch: 2/2, 18/50, 11s 620ms/step, lr: 1e-05, loss: 0.496\n",
      "epoch: 2/2, 19/50, 12s 621ms/step, lr: 1e-05, loss: 0.497\n",
      "epoch: 2/2, 20/50, 12s 623ms/step, lr: 1e-05, loss: 0.488\n",
      "epoch: 2/2, 21/50, 13s 621ms/step, lr: 1e-05, loss: 0.486\n",
      "epoch: 2/2, 22/50, 15s 682ms/step, lr: 1e-05, loss: 0.48\n",
      "epoch: 2/2, 23/50, 18s 779ms/step, lr: 1e-05, loss: 0.474\n",
      "epoch: 2/2, 24/50, 19s 801ms/step, lr: 1e-05, loss: 0.472\n",
      "epoch: 2/2, 25/50, 20s 792ms/step, lr: 1e-05, loss: 0.467\n",
      "epoch: 2/2, 26/50, 20s 787ms/step, lr: 1e-05, loss: 0.463\n",
      "epoch: 2/2, 27/50, 21s 778ms/step, lr: 1e-05, loss: 0.461\n",
      "epoch: 2/2, 28/50, 22s 772ms/step, lr: 1e-05, loss: 0.455\n",
      "epoch: 2/2, 29/50, 22s 765ms/step, lr: 1e-05, loss: 0.449\n",
      "epoch: 2/2, 30/50, 23s 761ms/step, lr: 1e-05, loss: 0.448\n",
      "epoch: 2/2, 31/50, 23s 754ms/step, lr: 1e-05, loss: 0.45\n",
      "epoch: 2/2, 32/50, 24s 749ms/step, lr: 1e-05, loss: 0.444\n",
      "epoch: 2/2, 33/50, 25s 744ms/step, lr: 1e-05, loss: 0.44\n",
      "epoch: 2/2, 34/50, 25s 740ms/step, lr: 1e-05, loss: 0.44\n",
      "epoch: 2/2, 35/50, 26s 735ms/step, lr: 1e-05, loss: 0.437\n",
      "epoch: 2/2, 36/50, 26s 732ms/step, lr: 1e-05, loss: 0.433\n",
      "epoch: 2/2, 37/50, 27s 728ms/step, lr: 1e-05, loss: 0.434\n",
      "epoch: 2/2, 38/50, 28s 725ms/step, lr: 1e-05, loss: 0.434\n",
      "epoch: 2/2, 39/50, 28s 722ms/step, lr: 1e-05, loss: 0.431\n",
      "epoch: 2/2, 40/50, 29s 719ms/step, lr: 1e-05, loss: 0.428\n",
      "epoch: 2/2, 41/50, 29s 715ms/step, lr: 1e-05, loss: 0.437\n",
      "epoch: 2/2, 42/50, 30s 713ms/step, lr: 1e-05, loss: 0.433\n",
      "epoch: 2/2, 43/50, 31s 710ms/step, lr: 1e-05, loss: 0.43\n",
      "epoch: 2/2, 44/50, 31s 708ms/step, lr: 1e-05, loss: 0.427\n",
      "epoch: 2/2, 45/50, 32s 705ms/step, lr: 1e-05, loss: 0.426\n",
      "epoch: 2/2, 46/50, 32s 704ms/step, lr: 1e-05, loss: 0.444\n",
      "epoch: 2/2, 47/50, 33s 701ms/step, lr: 1e-05, loss: 0.442\n",
      "epoch: 2/2, 48/50, 34s 699ms/step, lr: 1e-05, loss: 0.443\n",
      "epoch: 2/2, 49/50, 34s 697ms/step, lr: 1e-05, loss: 0.439\n",
      "epoch: 2/2, 50/50, 35s 695ms/step, lr: 1e-05, loss: 0.435\n",
      "epoch: 2/2, 50/50, 35s 695ms/step, lr: 1e-05, loss: 0.435\n",
      "\n",
      "\n",
      "Validation f1 squad after the first phase: 1.0\n",
      "\n",
      "Training phase 2\n",
      "epoch: 1/1, 1/50, 0s 146ms/step, lr: 1e-05, loss: 4.13\n"
     ]
    },
    {
     "name": "stderr",
     "output_type": "stream",
     "text": [
      "c:\\Users\\riccardo\\Desktop\\NLP-assignment-2\\models\\encoder_decoder_distilroberta.py:145: FutureWarning: Version v4.12.0 introduces a better way to train encoder-decoder models by computing the loss inside the encoder-decoder framework rather than in the decoder itself. You may observe training discrepancies if fine-tuning a model trained with versions anterior to 4.12.0. The decoder_input_ids are now created based on the labels, no need to pass them yourself anymore.\n",
      "  warnings.warn(DEPRECATION_WARNING, FutureWarning)\n"
     ]
    },
    {
     "name": "stdout",
     "output_type": "stream",
     "text": [
      "epoch: 1/1, 2/50, 2s 833ms/step, lr: 1e-05, loss: 3.43\n",
      "epoch: 1/1, 3/50, 3s 1150ms/step, lr: 1e-05, loss: 3.82\n",
      "epoch: 1/1, 4/50, 5s 1198ms/step, lr: 1e-05, loss: 4.02\n",
      "epoch: 1/1, 5/50, 6s 1221ms/step, lr: 1e-05, loss: 4.46\n",
      "epoch: 1/1, 6/50, 8s 1254ms/step, lr: 1e-05, loss: 4.14\n"
     ]
    },
    {
     "ename": "KeyboardInterrupt",
     "evalue": "",
     "output_type": "error",
     "traceback": [
      "\u001b[1;31m---------------------------------------------------------------------------\u001b[0m",
      "\u001b[1;31mKeyboardInterrupt\u001b[0m                         Traceback (most recent call last)",
      "Cell \u001b[1;32mIn [39], line 5\u001b[0m\n\u001b[0;32m      3\u001b[0m seed \u001b[39m=\u001b[39m \u001b[39m42\u001b[39m\n\u001b[0;32m      4\u001b[0m set_random_seed(seed)\n\u001b[1;32m----> 5\u001b[0m train(train_dataloader\u001b[39m=\u001b[39;49mtrain_dataloader, validation_dataframe\u001b[39m=\u001b[39;49mval_df\u001b[39m.\u001b[39;49miloc[:\u001b[39m100\u001b[39;49m], model\u001b[39m=\u001b[39;49mmodel, model_name\u001b[39m=\u001b[39;49m\u001b[39m'\u001b[39;49m\u001b[39mDistilRoberta\u001b[39;49m\u001b[39m'\u001b[39;49m, seed\u001b[39m=\u001b[39;49mseed, device\u001b[39m=\u001b[39;49m\u001b[39m'\u001b[39;49m\u001b[39mcuda\u001b[39;49m\u001b[39m'\u001b[39;49m, \n\u001b[0;32m      6\u001b[0m       plot\u001b[39m=\u001b[39;49m\u001b[39mTrue\u001b[39;49;00m)\n",
      "File \u001b[1;32mc:\\Users\\riccardo\\Desktop\\NLP-assignment-2\\utils\\training.py:58\u001b[0m, in \u001b[0;36mtrain\u001b[1;34m(train_dataloader, validation_dataframe, model, model_name, use_history, epochs, optimizers, learnin_rates, steps_per_update, steps_empty_cache, seed, device, plot)\u001b[0m\n\u001b[0;32m     55\u001b[0m \u001b[39m# torch.cuda.empty_cache()\u001b[39;00m\n\u001b[0;32m     57\u001b[0m \u001b[39mprint\u001b[39m(\u001b[39m'\u001b[39m\u001b[39mTraining phase 2\u001b[39m\u001b[39m'\u001b[39m)\n\u001b[1;32m---> 58\u001b[0m loss_history2 \u001b[39m=\u001b[39m train_EncoderDecoder(train_dataloader, token_importances_extractor, encoder_decoder, tokenizer, model_name,\n\u001b[0;32m     59\u001b[0m                                      use_history\u001b[39m=\u001b[39;49muse_history, epochs\u001b[39m=\u001b[39;49mepochs2, optimizer\u001b[39m=\u001b[39;49moptim2, learning_rate\u001b[39m=\u001b[39;49mlr2, \n\u001b[0;32m     60\u001b[0m                                      steps_per_update\u001b[39m=\u001b[39;49msteps_per_update, steps_empty_cache\u001b[39m=\u001b[39;49msteps_empty_cache, seed\u001b[39m=\u001b[39;49mseed,\n\u001b[0;32m     61\u001b[0m                                      device\u001b[39m=\u001b[39;49mdevice)\n\u001b[0;32m     62\u001b[0m \u001b[39mif\u001b[39;00m plot \u001b[39mand\u001b[39;00m epochs2\u001b[39m>\u001b[39m\u001b[39m0\u001b[39m:\n\u001b[0;32m     63\u001b[0m     plt\u001b[39m.\u001b[39mplot(loss_history2)\n",
      "File \u001b[1;32mc:\\Users\\riccardo\\Desktop\\NLP-assignment-2\\utils\\training.py:282\u001b[0m, in \u001b[0;36mtrain_EncoderDecoder\u001b[1;34m(train_dataloader, token_importances_extractor, encoder_decoder, tokenizer, model_name, use_history, train_tokenImportancesExtractor, epochs, optimizer, learning_rate, loss_history, steps_per_update, steps_empty_cache, seed, device)\u001b[0m\n\u001b[0;32m    279\u001b[0m \u001b[39m# TODO end\u001b[39;00m\n\u001b[0;32m    280\u001b[0m \u001b[39mprint\u001b[39m(\u001b[39mf\u001b[39m\u001b[39m\"\u001b[39m\u001b[39mepoch: \u001b[39m\u001b[39m{\u001b[39;00mepoch \u001b[39m+\u001b[39m \u001b[39m1\u001b[39m\u001b[39m}\u001b[39;00m\u001b[39m/\u001b[39m\u001b[39m{\u001b[39;00mepochs\u001b[39m}\u001b[39;00m\u001b[39m, \u001b[39m\u001b[39m{\u001b[39;00mbatch_idx \u001b[39m+\u001b[39m \u001b[39m1\u001b[39m\u001b[39m}\u001b[39;00m\u001b[39m/\u001b[39m\u001b[39m{\u001b[39;00m\u001b[39mlen\u001b[39m(train_dataloader)\u001b[39m}\u001b[39;00m\u001b[39m, \u001b[39m\u001b[39m{\u001b[39;00mepoch_time\u001b[39m:\u001b[39;00m\u001b[39m.0f\u001b[39m\u001b[39m}\u001b[39;00m\u001b[39ms \u001b[39m\u001b[39m{\u001b[39;00mbatch_time\u001b[39m*\u001b[39m\u001b[39m1e3\u001b[39m\u001b[39m:\u001b[39;00m\u001b[39m.0f\u001b[39m\u001b[39m}\u001b[39;00m\u001b[39mms/step, lr: \u001b[39m\u001b[39m{\u001b[39;00moptimizer\u001b[39m.\u001b[39mparam_groups[\u001b[39m0\u001b[39m][\u001b[39m'\u001b[39m\u001b[39mlr\u001b[39m\u001b[39m'\u001b[39m]\u001b[39m:\u001b[39;00m\u001b[39m.3g\u001b[39m\u001b[39m}\u001b[39;00m\u001b[39m, loss: \u001b[39m\u001b[39m{\u001b[39;00mrunning_loss\u001b[39m/\u001b[39m(batch_idx\u001b[39m+\u001b[39m\u001b[39m1\u001b[39m)\u001b[39m:\u001b[39;00m\u001b[39m.3g\u001b[39m\u001b[39m}\u001b[39;00m\u001b[39m\"\u001b[39m)\u001b[39m#, end='\\r')\u001b[39;00m\n\u001b[1;32m--> 282\u001b[0m _save_model_parameters(model\u001b[39m=\u001b[39;49mencoder_decoder, model_name\u001b[39m=\u001b[39;49mmodel_name, model_type\u001b[39m=\u001b[39;49m\u001b[39m'\u001b[39;49m\u001b[39mEncoderDecoder\u001b[39;49m\u001b[39m'\u001b[39;49m, \n\u001b[0;32m    283\u001b[0m                        seed\u001b[39m=\u001b[39;49mseed)\n\u001b[0;32m    284\u001b[0m \u001b[39mif\u001b[39;00m train_tokenImportancesExtractor:\n\u001b[0;32m    285\u001b[0m     _save_model_parameters(model\u001b[39m=\u001b[39mtoken_importances_extractor, model_name\u001b[39m=\u001b[39mmodel_name, model_type\u001b[39m=\u001b[39m\u001b[39m'\u001b[39m\u001b[39mTokenImportancesExtractor\u001b[39m\u001b[39m'\u001b[39m, \n\u001b[0;32m    286\u001b[0m                            seed\u001b[39m=\u001b[39mseed)\n",
      "File \u001b[1;32mc:\\Users\\riccardo\\Desktop\\NLP-assignment-2\\utils\\training.py:106\u001b[0m, in \u001b[0;36m_save_model_parameters\u001b[1;34m(model, model_name, model_type, seed)\u001b[0m\n\u001b[0;32m    104\u001b[0m file_name \u001b[39m=\u001b[39m \u001b[39mf\u001b[39m\u001b[39m'\u001b[39m\u001b[39m{\u001b[39;00mmodel_name\u001b[39m}\u001b[39;00m\u001b[39m_\u001b[39m\u001b[39m{\u001b[39;00mmodel_type\u001b[39m}\u001b[39;00m\u001b[39m.pt\u001b[39m\u001b[39m'\u001b[39m\n\u001b[0;32m    105\u001b[0m file_path \u001b[39m=\u001b[39m os\u001b[39m.\u001b[39mpath\u001b[39m.\u001b[39mjoin(folder_name, file_name)\n\u001b[1;32m--> 106\u001b[0m torch\u001b[39m.\u001b[39;49msave(model\u001b[39m.\u001b[39;49mstate_dict(), file_path)\n",
      "File \u001b[1;32mc:\\Users\\riccardo\\AppData\\Local\\Programs\\Python\\Python310\\lib\\site-packages\\torch\\serialization.py:423\u001b[0m, in \u001b[0;36msave\u001b[1;34m(obj, f, pickle_module, pickle_protocol, _use_new_zipfile_serialization)\u001b[0m\n\u001b[0;32m    421\u001b[0m \u001b[39mif\u001b[39;00m _use_new_zipfile_serialization:\n\u001b[0;32m    422\u001b[0m     \u001b[39mwith\u001b[39;00m _open_zipfile_writer(f) \u001b[39mas\u001b[39;00m opened_zipfile:\n\u001b[1;32m--> 423\u001b[0m         _save(obj, opened_zipfile, pickle_module, pickle_protocol)\n\u001b[0;32m    424\u001b[0m         \u001b[39mreturn\u001b[39;00m\n\u001b[0;32m    425\u001b[0m \u001b[39melse\u001b[39;00m:\n",
      "File \u001b[1;32mc:\\Users\\riccardo\\AppData\\Local\\Programs\\Python\\Python310\\lib\\site-packages\\torch\\serialization.py:647\u001b[0m, in \u001b[0;36m_save\u001b[1;34m(obj, zip_file, pickle_module, pickle_protocol)\u001b[0m\n\u001b[0;32m    643\u001b[0m \u001b[39m# given that we copy things around anyway, we might use storage.cpu()\u001b[39;00m\n\u001b[0;32m    644\u001b[0m \u001b[39m# this means to that to get tensors serialized, you need to implement\u001b[39;00m\n\u001b[0;32m    645\u001b[0m \u001b[39m# .cpu() on the underlying Storage\u001b[39;00m\n\u001b[0;32m    646\u001b[0m \u001b[39mif\u001b[39;00m storage\u001b[39m.\u001b[39mdevice\u001b[39m.\u001b[39mtype \u001b[39m!=\u001b[39m \u001b[39m'\u001b[39m\u001b[39mcpu\u001b[39m\u001b[39m'\u001b[39m:\n\u001b[1;32m--> 647\u001b[0m     storage \u001b[39m=\u001b[39m storage\u001b[39m.\u001b[39;49mcpu()\n\u001b[0;32m    648\u001b[0m \u001b[39m# Now that it is on the CPU we can directly copy it into the zip file\u001b[39;00m\n\u001b[0;32m    649\u001b[0m num_bytes \u001b[39m=\u001b[39m storage\u001b[39m.\u001b[39mnbytes()\n",
      "\u001b[1;31mKeyboardInterrupt\u001b[0m: "
     ]
    },
    {
     "data": {
      "image/png": "[encoded data removed]",
      "text/plain": [
       "<Figure size 640x480 with 1 Axes>"
      ]
     },
     "metadata": {},
     "output_type": "display_data"
    }
   ],
   "source": [
    "from utils.training import train \n",
    "\n",
    "seed = 42\n",
    "set_random_seed(seed)\n",
    "train(train_dataloader=train_dataloader, val_dataloader=val_dataloader, model=model, model_name='DistilRoberta', seed=seed, device='cuda', \n",
    "      plot=True)"
   ]
  },
  {
   "cell_type": "code",
   "execution_count": 37,
   "metadata": {},
   "outputs": [
    {
     "name": "stdout",
     "output_type": "stream",
     "text": [
      "Training phase 1\n",
      "epoch: 1/2, 1/42912, 0s 339ms/step, lr: 1e-05, loss: 1.31\n",
      "epoch: 1/2, 2/42912, 1s 531ms/step, lr: 1e-05, loss: 1.35\n",
      "epoch: 1/2, 3/42912, 2s 580ms/step, lr: 1e-05, loss: 1.35\n",
      "epoch: 1/2, 4/42912, 2s 612ms/step, lr: 1e-05, loss: 1.23\n",
      "epoch: 1/2, 5/42912, 3s 624ms/step, lr: 1e-05, loss: 1.26\n",
      "epoch: 1/2, 6/42912, 4s 637ms/step, lr: 1e-05, loss: 1.26\n",
      "epoch: 1/2, 7/42912, 4s 637ms/step, lr: 1e-05, loss: 1.26\n",
      "epoch: 1/2, 8/42912, 5s 644ms/step, lr: 1e-05, loss: 1.23\n",
      "epoch: 1/2, 9/42912, 6s 643ms/step, lr: 1e-05, loss: 1.24\n",
      "epoch: 1/2, 10/42912, 6s 644ms/step, lr: 1e-05, loss: 1.25\n",
      "epoch: 1/2, 11/42912, 7s 648ms/step, lr: 1e-05, loss: 1.23\n",
      "epoch: 1/2, 12/42912, 8s 662ms/step, lr: 1e-05, loss: 1.22\n",
      "epoch: 1/2, 13/42912, 9s 662ms/step, lr: 1e-05, loss: 1.23\n",
      "epoch: 1/2, 14/42912, 9s 670ms/step, lr: 1e-05, loss: 1.21\n",
      "epoch: 1/2, 15/42912, 10s 666ms/step, lr: 1e-05, loss: 1.22\n",
      "epoch: 1/2, 16/42912, 11s 665ms/step, lr: 1e-05, loss: 1.2\n",
      "epoch: 1/2, 17/42912, 11s 669ms/step, lr: 1e-05, loss: 1.19\n",
      "epoch: 1/2, 18/42912, 12s 674ms/step, lr: 1e-05, loss: 1.2\n",
      "epoch: 1/2, 19/42912, 13s 668ms/step, lr: 1e-05, loss: 1.18\n",
      "epoch: 1/2, 20/42912, 13s 672ms/step, lr: 1e-05, loss: 1.19\n",
      "epoch: 1/2, 21/42912, 14s 668ms/step, lr: 1e-05, loss: 1.19\n",
      "epoch: 1/2, 22/42912, 15s 668ms/step, lr: 1e-05, loss: 1.18\n",
      "epoch: 1/2, 23/42912, 17s 756ms/step, lr: 1e-05, loss: 1.19\n",
      "epoch: 1/2, 24/42912, 21s 871ms/step, lr: 1e-05, loss: 1.18\n",
      "epoch: 1/2, 25/42912, 24s 961ms/step, lr: 1e-05, loss: 1.18\n",
      "epoch: 1/2, 26/42912, 26s 1017ms/step, lr: 1e-05, loss: 1.18\n",
      "epoch: 1/2, 27/42912, 27s 1016ms/step, lr: 1e-05, loss: 1.18\n",
      "epoch: 1/2, 28/42912, 28s 1008ms/step, lr: 1e-05, loss: 1.19\n",
      "epoch: 1/2, 29/42912, 29s 997ms/step, lr: 1e-05, loss: 1.19\n",
      "epoch: 1/2, 30/42912, 30s 986ms/step, lr: 1e-05, loss: 1.19\n",
      "epoch: 1/2, 31/42912, 30s 974ms/step, lr: 1e-05, loss: 1.2\n",
      "epoch: 1/2, 32/42912, 31s 964ms/step, lr: 1e-05, loss: 1.2\n",
      "epoch: 1/2, 33/42912, 31s 954ms/step, lr: 1e-05, loss: 1.2\n",
      "epoch: 1/2, 34/42912, 32s 946ms/step, lr: 1e-05, loss: 1.21\n",
      "epoch: 1/2, 35/42912, 33s 937ms/step, lr: 1e-05, loss: 1.2\n",
      "epoch: 1/2, 36/42912, 33s 928ms/step, lr: 1e-05, loss: 1.2\n",
      "epoch: 1/2, 37/42912, 34s 920ms/step, lr: 1e-05, loss: 1.2\n",
      "epoch: 1/2, 38/42912, 35s 912ms/step, lr: 1e-05, loss: 1.2\n",
      "epoch: 1/2, 39/42912, 35s 904ms/step, lr: 1e-05, loss: 1.2\n",
      "epoch: 1/2, 40/42912, 36s 898ms/step, lr: 1e-05, loss: 1.2\n",
      "epoch: 1/2, 41/42912, 37s 891ms/step, lr: 1e-05, loss: 1.19\n",
      "epoch: 1/2, 42/42912, 37s 885ms/step, lr: 1e-05, loss: 1.19\n",
      "epoch: 1/2, 43/42912, 38s 880ms/step, lr: 1e-05, loss: 1.19\n",
      "epoch: 1/2, 44/42912, 38s 875ms/step, lr: 1e-05, loss: 1.19\n",
      "epoch: 1/2, 45/42912, 39s 868ms/step, lr: 1e-05, loss: 1.18\n",
      "epoch: 1/2, 46/42912, 40s 863ms/step, lr: 1e-05, loss: 1.18\n",
      "epoch: 1/2, 47/42912, 40s 857ms/step, lr: 1e-05, loss: 1.17\n",
      "epoch: 1/2, 48/42912, 41s 852ms/step, lr: 1e-05, loss: 1.17\n",
      "epoch: 1/2, 49/42912, 42s 847ms/step, lr: 1e-05, loss: 1.18\n",
      "epoch: 1/2, 50/42912, 42s 843ms/step, lr: 1e-05, loss: 1.18\n",
      "epoch: 1/2, 51/42912, 43s 839ms/step, lr: 1e-05, loss: 1.18\n",
      "epoch: 1/2, 52/42912, 43s 835ms/step, lr: 1e-05, loss: 1.18\n",
      "epoch: 1/2, 53/42912, 44s 831ms/step, lr: 1e-05, loss: 1.18\n",
      "epoch: 1/2, 54/42912, 45s 827ms/step, lr: 1e-05, loss: 1.18\n",
      "epoch: 1/2, 55/42912, 45s 823ms/step, lr: 1e-05, loss: 1.17\n",
      "epoch: 1/2, 56/42912, 46s 820ms/step, lr: 1e-05, loss: 1.17\n",
      "epoch: 1/2, 57/42912, 46s 815ms/step, lr: 1e-05, loss: 1.17\n",
      "epoch: 1/2, 58/42912, 47s 812ms/step, lr: 1e-05, loss: 1.17\n",
      "epoch: 1/2, 59/42912, 48s 808ms/step, lr: 1e-05, loss: 1.17\n",
      "epoch: 1/2, 60/42912, 48s 806ms/step, lr: 1e-05, loss: 1.17\n",
      "epoch: 1/2, 61/42912, 49s 802ms/step, lr: 1e-05, loss: 1.17\n",
      "epoch: 1/2, 62/42912, 50s 799ms/step, lr: 1e-05, loss: 1.17\n",
      "epoch: 1/2, 63/42912, 51s 805ms/step, lr: 1e-05, loss: 1.17\n",
      "epoch: 1/2, 64/42912, 54s 838ms/step, lr: 1e-05, loss: 1.17\n",
      "epoch: 1/2, 65/42912, 57s 870ms/step, lr: 1e-05, loss: 1.17\n",
      "epoch: 1/2, 66/42912, 58s 874ms/step, lr: 1e-05, loss: 1.17\n",
      "epoch: 1/2, 67/42912, 58s 869ms/step, lr: 1e-05, loss: 1.17\n",
      "epoch: 1/2, 68/42912, 59s 865ms/step, lr: 1e-05, loss: 1.17\n",
      "epoch: 1/2, 69/42912, 59s 861ms/step, lr: 1e-05, loss: 1.17\n",
      "epoch: 1/2, 70/42912, 60s 858ms/step, lr: 1e-05, loss: 1.17\n",
      "epoch: 1/2, 71/42912, 61s 853ms/step, lr: 1e-05, loss: 1.17\n",
      "epoch: 1/2, 72/42912, 61s 850ms/step, lr: 1e-05, loss: 1.17\n",
      "epoch: 1/2, 73/42912, 62s 847ms/step, lr: 1e-05, loss: 1.17\n",
      "epoch: 1/2, 74/42912, 62s 844ms/step, lr: 1e-05, loss: 1.17\n",
      "epoch: 1/2, 75/42912, 63s 840ms/step, lr: 1e-05, loss: 1.17\n",
      "epoch: 1/2, 76/42912, 64s 837ms/step, lr: 1e-05, loss: 1.17\n",
      "epoch: 1/2, 77/42912, 64s 834ms/step, lr: 1e-05, loss: 1.17\n",
      "epoch: 1/2, 78/42912, 65s 831ms/step, lr: 1e-05, loss: 1.17\n",
      "epoch: 1/2, 79/42912, 65s 828ms/step, lr: 1e-05, loss: 1.16\n",
      "epoch: 1/2, 80/42912, 66s 826ms/step, lr: 1e-05, loss: 1.16\n",
      "epoch: 1/2, 81/42912, 67s 822ms/step, lr: 1e-05, loss: 1.16\n",
      "epoch: 1/2, 82/42912, 67s 820ms/step, lr: 1e-05, loss: 1.16\n",
      "epoch: 1/2, 83/42912, 68s 817ms/step, lr: 1e-05, loss: 1.16\n",
      "epoch: 1/2, 84/42912, 78s 923ms/step, lr: 1e-05, loss: 1.16\n",
      "epoch: 1/2, 85/42912, 94s 1108ms/step, lr: 1e-05, loss: 1.16\n",
      "epoch: 1/2, 86/42912, 95s 1102ms/step, lr: 1e-05, loss: 1.16\n",
      "epoch: 1/2, 87/42912, 95s 1096ms/step, lr: 1e-05, loss: 1.16\n",
      "epoch: 1/2, 88/42912, 96s 1090ms/step, lr: 1e-05, loss: 1.15\n",
      "epoch: 1/2, 89/42912, 97s 1085ms/step, lr: 1e-05, loss: 1.15\n",
      "epoch: 1/2, 90/42912, 97s 1080ms/step, lr: 1e-05, loss: 1.15\n",
      "epoch: 1/2, 91/42912, 98s 1074ms/step, lr: 1e-05, loss: 1.16\n",
      "epoch: 1/2, 92/42912, 98s 1069ms/step, lr: 1e-05, loss: 1.16\n",
      "epoch: 1/2, 93/42912, 99s 1064ms/step, lr: 1e-05, loss: 1.16\n",
      "epoch: 1/2, 94/42912, 100s 1060ms/step, lr: 1e-05, loss: 1.16\n",
      "epoch: 1/2, 95/42912, 100s 1054ms/step, lr: 1e-05, loss: 1.16\n",
      "epoch: 1/2, 96/42912, 101s 1050ms/step, lr: 1e-05, loss: 1.16\n",
      "epoch: 1/2, 97/42912, 101s 1045ms/step, lr: 1e-05, loss: 1.16\n",
      "epoch: 1/2, 98/42912, 102s 1041ms/step, lr: 1e-05, loss: 1.16\n",
      "epoch: 1/2, 99/42912, 103s 1036ms/step, lr: 1e-05, loss: 1.16\n",
      "epoch: 1/2, 100/42912, 103s 1032ms/step, lr: 1e-05, loss: 1.16\n",
      "epoch: 1/2, 101/42912, 104s 1028ms/step, lr: 1e-05, loss: 1.16\n",
      "epoch: 1/2, 102/42912, 104s 1023ms/step, lr: 1e-05, loss: 1.16\n",
      "epoch: 1/2, 103/42912, 105s 1019ms/step, lr: 1e-05, loss: 1.16\n",
      "epoch: 1/2, 104/42912, 106s 1015ms/step, lr: 1e-05, loss: 1.16\n",
      "epoch: 1/2, 105/42912, 106s 1011ms/step, lr: 1e-05, loss: 1.16\n",
      "epoch: 1/2, 106/42912, 107s 1010ms/step, lr: 1e-05, loss: 1.16\n",
      "epoch: 1/2, 107/42912, 108s 1006ms/step, lr: 1e-05, loss: 1.15\n",
      "epoch: 1/2, 108/42912, 108s 1002ms/step, lr: 1e-05, loss: 1.16\n",
      "epoch: 1/2, 109/42912, 109s 998ms/step, lr: 1e-05, loss: 1.16\n",
      "epoch: 1/2, 110/42912, 109s 995ms/step, lr: 1e-05, loss: 1.15\n",
      "epoch: 1/2, 111/42912, 110s 991ms/step, lr: 1e-05, loss: 1.16\n",
      "epoch: 1/2, 112/42912, 111s 988ms/step, lr: 1e-05, loss: 1.16\n",
      "epoch: 1/2, 113/42912, 111s 985ms/step, lr: 1e-05, loss: 1.16\n",
      "epoch: 1/2, 114/42912, 112s 984ms/step, lr: 1e-05, loss: 1.15\n",
      "epoch: 1/2, 115/42912, 113s 980ms/step, lr: 1e-05, loss: 1.16\n",
      "epoch: 1/2, 116/42912, 113s 977ms/step, lr: 1e-05, loss: 1.15\n",
      "epoch: 1/2, 117/42912, 114s 974ms/step, lr: 1e-05, loss: 1.15\n",
      "epoch: 1/2, 118/42912, 115s 971ms/step, lr: 1e-05, loss: 1.15\n",
      "epoch: 1/2, 119/42912, 115s 968ms/step, lr: 1e-05, loss: 1.15\n",
      "epoch: 1/2, 120/42912, 116s 965ms/step, lr: 1e-05, loss: 1.15\n",
      "epoch: 1/2, 121/42912, 117s 963ms/step, lr: 1e-05, loss: 1.15\n",
      "epoch: 1/2, 122/42912, 117s 961ms/step, lr: 1e-05, loss: 1.15\n",
      "epoch: 1/2, 123/42912, 118s 958ms/step, lr: 1e-05, loss: 1.15\n",
      "epoch: 1/2, 124/42912, 118s 955ms/step, lr: 1e-05, loss: 1.15\n",
      "epoch: 1/2, 125/42912, 119s 952ms/step, lr: 1e-05, loss: 1.15\n",
      "epoch: 1/2, 126/42912, 120s 949ms/step, lr: 1e-05, loss: 1.15\n",
      "epoch: 1/2, 127/42912, 120s 947ms/step, lr: 1e-05, loss: 1.15\n",
      "epoch: 1/2, 128/42912, 121s 944ms/step, lr: 1e-05, loss: 1.15\n",
      "epoch: 1/2, 129/42912, 122s 946ms/step, lr: 1e-05, loss: 1.15\n",
      "epoch: 1/2, 130/42912, 125s 959ms/step, lr: 1e-05, loss: 1.15\n",
      "epoch: 1/2, 131/42912, 128s 976ms/step, lr: 1e-05, loss: 1.15\n",
      "epoch: 1/2, 132/42912, 129s 974ms/step, lr: 1e-05, loss: 1.15\n",
      "epoch: 1/2, 133/42912, 129s 972ms/step, lr: 1e-05, loss: 1.15\n",
      "epoch: 1/2, 134/42912, 130s 969ms/step, lr: 1e-05, loss: 1.15\n",
      "epoch: 1/2, 135/42912, 131s 967ms/step, lr: 1e-05, loss: 1.15\n",
      "epoch: 1/2, 136/42912, 131s 965ms/step, lr: 1e-05, loss: 1.14\n",
      "epoch: 1/2, 137/42912, 132s 963ms/step, lr: 1e-05, loss: 1.14\n",
      "epoch: 1/2, 138/42912, 133s 961ms/step, lr: 1e-05, loss: 1.14\n",
      "epoch: 1/2, 139/42912, 133s 959ms/step, lr: 1e-05, loss: 1.14\n",
      "epoch: 1/2, 140/42912, 134s 957ms/step, lr: 1e-05, loss: 1.14\n",
      "epoch: 1/2, 141/42912, 135s 957ms/step, lr: 1e-05, loss: 1.14\n",
      "epoch: 1/2, 142/42912, 136s 956ms/step, lr: 1e-05, loss: 1.14\n",
      "epoch: 1/2, 143/42912, 136s 953ms/step, lr: 1e-05, loss: 1.14\n",
      "epoch: 1/2, 144/42912, 137s 952ms/step, lr: 1e-05, loss: 1.14\n",
      "epoch: 1/2, 145/42912, 138s 950ms/step, lr: 1e-05, loss: 1.14\n",
      "epoch: 1/2, 146/42912, 138s 948ms/step, lr: 1e-05, loss: 1.14\n",
      "epoch: 1/2, 147/42912, 139s 945ms/step, lr: 1e-05, loss: 1.14\n",
      "epoch: 1/2, 148/42912, 140s 943ms/step, lr: 1e-05, loss: 1.14\n",
      "epoch: 1/2, 149/42912, 140s 941ms/step, lr: 1e-05, loss: 1.14\n",
      "epoch: 1/2, 150/42912, 141s 940ms/step, lr: 1e-05, loss: 1.14\n",
      "epoch: 1/2, 151/42912, 142s 938ms/step, lr: 1e-05, loss: 1.13\n",
      "epoch: 1/2, 152/42912, 142s 936ms/step, lr: 1e-05, loss: 1.13\n",
      "epoch: 1/2, 153/42912, 143s 934ms/step, lr: 1e-05, loss: 1.13\n",
      "epoch: 1/2, 154/42912, 143s 931ms/step, lr: 1e-05, loss: 1.13\n",
      "epoch: 1/2, 155/42912, 144s 929ms/step, lr: 1e-05, loss: 1.13\n",
      "epoch: 1/2, 156/42912, 145s 927ms/step, lr: 1e-05, loss: 1.13\n",
      "epoch: 1/2, 157/42912, 145s 925ms/step, lr: 1e-05, loss: 1.13\n",
      "epoch: 1/2, 158/42912, 146s 923ms/step, lr: 1e-05, loss: 1.13\n",
      "epoch: 1/2, 159/42912, 146s 921ms/step, lr: 1e-05, loss: 1.13\n",
      "epoch: 1/2, 160/42912, 147s 919ms/step, lr: 1e-05, loss: 1.13\n",
      "epoch: 1/2, 161/42912, 148s 917ms/step, lr: 1e-05, loss: 1.13\n",
      "epoch: 1/2, 162/42912, 148s 916ms/step, lr: 1e-05, loss: 1.13\n",
      "epoch: 1/2, 163/42912, 149s 914ms/step, lr: 1e-05, loss: 1.13\n",
      "epoch: 1/2, 164/42912, 150s 912ms/step, lr: 1e-05, loss: 1.13\n",
      "epoch: 1/2, 165/42912, 150s 910ms/step, lr: 1e-05, loss: 1.13\n",
      "epoch: 1/2, 166/42912, 151s 908ms/step, lr: 1e-05, loss: 1.13\n",
      "epoch: 1/2, 167/42912, 151s 906ms/step, lr: 1e-05, loss: 1.13\n",
      "epoch: 1/2, 168/42912, 152s 906ms/step, lr: 1e-05, loss: 1.13\n",
      "epoch: 1/2, 169/42912, 155s 916ms/step, lr: 1e-05, loss: 1.13\n",
      "epoch: 1/2, 170/42912, 158s 929ms/step, lr: 1e-05, loss: 1.13\n",
      "epoch: 1/2, 171/42912, 160s 937ms/step, lr: 1e-05, loss: 1.13\n",
      "epoch: 1/2, 172/42912, 161s 935ms/step, lr: 1e-05, loss: 1.13\n",
      "epoch: 1/2, 173/42912, 161s 933ms/step, lr: 1e-05, loss: 1.13\n",
      "epoch: 1/2, 174/42912, 162s 931ms/step, lr: 1e-05, loss: 1.13\n",
      "epoch: 1/2, 175/42912, 163s 929ms/step, lr: 1e-05, loss: 1.13\n",
      "epoch: 1/2, 176/42912, 163s 927ms/step, lr: 1e-05, loss: 1.13\n",
      "epoch: 1/2, 177/42912, 164s 926ms/step, lr: 1e-05, loss: 1.13\n",
      "epoch: 1/2, 178/42912, 164s 924ms/step, lr: 1e-05, loss: 1.13\n",
      "epoch: 1/2, 179/42912, 165s 922ms/step, lr: 1e-05, loss: 1.12\n",
      "epoch: 1/2, 180/42912, 166s 920ms/step, lr: 1e-05, loss: 1.12\n",
      "epoch: 1/2, 181/42912, 166s 919ms/step, lr: 1e-05, loss: 1.12\n",
      "epoch: 1/2, 182/42912, 167s 917ms/step, lr: 1e-05, loss: 1.12\n",
      "epoch: 1/2, 183/42912, 168s 915ms/step, lr: 1e-05, loss: 1.12\n",
      "epoch: 1/2, 184/42912, 168s 914ms/step, lr: 1e-05, loss: 1.12\n",
      "epoch: 1/2, 185/42912, 169s 912ms/step, lr: 1e-05, loss: 1.12\n",
      "epoch: 1/2, 186/42912, 169s 910ms/step, lr: 1e-05, loss: 1.12\n",
      "epoch: 1/2, 187/42912, 170s 908ms/step, lr: 1e-05, loss: 1.12\n",
      "epoch: 1/2, 188/42912, 170s 907ms/step, lr: 1e-05, loss: 1.12\n",
      "epoch: 1/2, 189/42912, 171s 905ms/step, lr: 1e-05, loss: 1.12\n",
      "epoch: 1/2, 190/42912, 172s 904ms/step, lr: 1e-05, loss: 1.12\n",
      "epoch: 1/2, 191/42912, 172s 902ms/step, lr: 1e-05, loss: 1.12\n",
      "epoch: 1/2, 192/42912, 173s 901ms/step, lr: 1e-05, loss: 1.12\n",
      "epoch: 1/2, 193/42912, 174s 900ms/step, lr: 1e-05, loss: 1.12\n",
      "epoch: 1/2, 194/42912, 174s 899ms/step, lr: 1e-05, loss: 1.12\n",
      "epoch: 1/2, 195/42912, 175s 898ms/step, lr: 1e-05, loss: 1.12\n",
      "epoch: 1/2, 196/42912, 176s 899ms/step, lr: 1e-05, loss: 1.12\n",
      "epoch: 1/2, 197/42912, 177s 898ms/step, lr: 1e-05, loss: 1.12\n",
      "epoch: 1/2, 198/42912, 178s 897ms/step, lr: 1e-05, loss: 1.12\n",
      "epoch: 1/2, 199/42912, 178s 896ms/step, lr: 1e-05, loss: 1.12\n",
      "epoch: 1/2, 200/42912, 179s 895ms/step, lr: 1e-05, loss: 1.12\n",
      "epoch: 1/2, 201/42912, 180s 893ms/step, lr: 1e-05, loss: 1.12\n",
      "epoch: 1/2, 202/42912, 180s 892ms/step, lr: 1e-05, loss: 1.12\n",
      "epoch: 1/2, 203/42912, 181s 891ms/step, lr: 1e-05, loss: 1.12\n",
      "epoch: 1/2, 204/42912, 182s 890ms/step, lr: 1e-05, loss: 1.12\n",
      "epoch: 1/2, 205/42912, 184s 897ms/step, lr: 1e-05, loss: 1.12\n",
      "epoch: 1/2, 206/42912, 187s 907ms/step, lr: 1e-05, loss: 1.12\n",
      "epoch: 1/2, 207/42912, 190s 916ms/step, lr: 1e-05, loss: 1.12\n",
      "epoch: 1/2, 208/42912, 190s 914ms/step, lr: 1e-05, loss: 1.12\n",
      "epoch: 1/2, 209/42912, 191s 913ms/step, lr: 1e-05, loss: 1.12\n",
      "epoch: 1/2, 210/42912, 191s 912ms/step, lr: 1e-05, loss: 1.12\n",
      "epoch: 1/2, 211/42912, 192s 910ms/step, lr: 1e-05, loss: 1.12\n",
      "epoch: 1/2, 212/42912, 193s 909ms/step, lr: 1e-05, loss: 1.11\n",
      "epoch: 1/2, 213/42912, 193s 907ms/step, lr: 1e-05, loss: 1.11\n",
      "epoch: 1/2, 214/42912, 194s 906ms/step, lr: 1e-05, loss: 1.11\n",
      "epoch: 1/2, 215/42912, 194s 905ms/step, lr: 1e-05, loss: 1.11\n",
      "epoch: 1/2, 216/42912, 195s 903ms/step, lr: 1e-05, loss: 1.11\n",
      "epoch: 1/2, 217/42912, 196s 902ms/step, lr: 1e-05, loss: 1.11\n",
      "epoch: 1/2, 218/42912, 196s 900ms/step, lr: 1e-05, loss: 1.11\n",
      "epoch: 1/2, 219/42912, 197s 899ms/step, lr: 1e-05, loss: 1.11\n",
      "epoch: 1/2, 220/42912, 198s 898ms/step, lr: 1e-05, loss: 1.11\n",
      "epoch: 1/2, 221/42912, 198s 897ms/step, lr: 1e-05, loss: 1.11\n",
      "epoch: 1/2, 222/42912, 199s 896ms/step, lr: 1e-05, loss: 1.11\n",
      "epoch: 1/2, 223/42912, 200s 895ms/step, lr: 1e-05, loss: 1.11\n",
      "epoch: 1/2, 224/42912, 200s 894ms/step, lr: 1e-05, loss: 1.11\n",
      "epoch: 1/2, 225/42912, 201s 892ms/step, lr: 1e-05, loss: 1.11\n",
      "epoch: 1/2, 226/42912, 201s 891ms/step, lr: 1e-05, loss: 1.11\n",
      "epoch: 1/2, 227/42912, 202s 891ms/step, lr: 1e-05, loss: 1.11\n",
      "epoch: 1/2, 228/42912, 203s 889ms/step, lr: 1e-05, loss: 1.11\n",
      "epoch: 1/2, 229/42912, 203s 888ms/step, lr: 1e-05, loss: 1.11\n",
      "epoch: 1/2, 230/42912, 204s 887ms/step, lr: 1e-05, loss: 1.11\n",
      "epoch: 1/2, 231/42912, 205s 886ms/step, lr: 1e-05, loss: 1.11\n",
      "epoch: 1/2, 232/42912, 205s 884ms/step, lr: 1e-05, loss: 1.11\n",
      "epoch: 1/2, 233/42912, 206s 883ms/step, lr: 1e-05, loss: 1.11\n",
      "epoch: 1/2, 234/42912, 206s 882ms/step, lr: 1e-05, loss: 1.11\n",
      "epoch: 1/2, 235/42912, 207s 881ms/step, lr: 1e-05, loss: 1.11\n",
      "epoch: 1/2, 236/42912, 208s 880ms/step, lr: 1e-05, loss: 1.11\n",
      "epoch: 1/2, 237/42912, 208s 879ms/step, lr: 1e-05, loss: 1.11\n",
      "epoch: 1/2, 238/42912, 209s 878ms/step, lr: 1e-05, loss: 1.11\n",
      "epoch: 1/2, 239/42912, 210s 877ms/step, lr: 1e-05, loss: 1.1\n",
      "epoch: 1/2, 240/42912, 210s 876ms/step, lr: 1e-05, loss: 1.1\n",
      "epoch: 1/2, 241/42912, 211s 875ms/step, lr: 1e-05, loss: 1.1\n",
      "epoch: 1/2, 242/42912, 214s 885ms/step, lr: 1e-05, loss: 1.1\n",
      "epoch: 1/2, 243/42912, 217s 892ms/step, lr: 1e-05, loss: 1.1\n",
      "epoch: 1/2, 244/42912, 219s 898ms/step, lr: 1e-05, loss: 1.1\n",
      "epoch: 1/2, 245/42912, 220s 897ms/step, lr: 1e-05, loss: 1.1\n",
      "epoch: 1/2, 246/42912, 220s 896ms/step, lr: 1e-05, loss: 1.1\n",
      "epoch: 1/2, 247/42912, 221s 894ms/step, lr: 1e-05, loss: 1.1\n",
      "epoch: 1/2, 248/42912, 222s 893ms/step, lr: 1e-05, loss: 1.1\n",
      "epoch: 1/2, 249/42912, 222s 892ms/step, lr: 1e-05, loss: 1.1\n",
      "epoch: 1/2, 250/42912, 223s 891ms/step, lr: 1e-05, loss: 1.1\n",
      "epoch: 1/2, 251/42912, 223s 890ms/step, lr: 1e-05, loss: 1.1\n",
      "epoch: 1/2, 252/42912, 224s 889ms/step, lr: 1e-05, loss: 1.1\n",
      "epoch: 1/2, 253/42912, 225s 888ms/step, lr: 1e-05, loss: 1.1\n",
      "epoch: 1/2, 254/42912, 225s 887ms/step, lr: 1e-05, loss: 1.1\n",
      "epoch: 1/2, 255/42912, 226s 886ms/step, lr: 1e-05, loss: 1.1\n",
      "epoch: 1/2, 256/42912, 226s 885ms/step, lr: 1e-05, loss: 1.1\n",
      "epoch: 1/2, 257/42912, 227s 884ms/step, lr: 1e-05, loss: 1.1\n",
      "epoch: 1/2, 258/42912, 228s 883ms/step, lr: 1e-05, loss: 1.1\n",
      "epoch: 1/2, 259/42912, 228s 882ms/step, lr: 1e-05, loss: 1.1\n",
      "epoch: 1/2, 260/42912, 229s 881ms/step, lr: 1e-05, loss: 1.1\n",
      "epoch: 1/2, 261/42912, 230s 880ms/step, lr: 1e-05, loss: 1.1\n",
      "epoch: 1/2, 262/42912, 230s 879ms/step, lr: 1e-05, loss: 1.1\n",
      "epoch: 1/2, 263/42912, 231s 878ms/step, lr: 1e-05, loss: 1.1\n",
      "epoch: 1/2, 264/42912, 232s 877ms/step, lr: 1e-05, loss: 1.1\n",
      "epoch: 1/2, 265/42912, 232s 877ms/step, lr: 1e-05, loss: 1.1\n",
      "epoch: 1/2, 266/42912, 233s 876ms/step, lr: 1e-05, loss: 1.1\n",
      "epoch: 1/2, 267/42912, 234s 875ms/step, lr: 1e-05, loss: 1.1\n",
      "epoch: 1/2, 268/42912, 234s 874ms/step, lr: 1e-05, loss: 1.1\n",
      "epoch: 1/2, 269/42912, 235s 872ms/step, lr: 1e-05, loss: 1.09\n",
      "epoch: 1/2, 270/42912, 235s 872ms/step, lr: 1e-05, loss: 1.09\n",
      "epoch: 1/2, 271/42912, 236s 871ms/step, lr: 1e-05, loss: 1.09\n",
      "epoch: 1/2, 272/42912, 237s 870ms/step, lr: 1e-05, loss: 1.1\n",
      "epoch: 1/2, 273/42912, 237s 869ms/step, lr: 1e-05, loss: 1.1\n",
      "epoch: 1/2, 274/42912, 238s 868ms/step, lr: 1e-05, loss: 1.09\n",
      "epoch: 1/2, 275/42912, 238s 867ms/step, lr: 1e-05, loss: 1.09\n",
      "epoch: 1/2, 276/42912, 239s 866ms/step, lr: 1e-05, loss: 1.09\n",
      "epoch: 1/2, 277/42912, 240s 865ms/step, lr: 1e-05, loss: 1.09\n",
      "epoch: 1/2, 278/42912, 240s 864ms/step, lr: 1e-05, loss: 1.09\n",
      "epoch: 1/2, 279/42912, 241s 863ms/step, lr: 1e-05, loss: 1.09\n",
      "epoch: 1/2, 280/42912, 241s 862ms/step, lr: 1e-05, loss: 1.09\n",
      "epoch: 1/2, 281/42912, 243s 866ms/step, lr: 1e-05, loss: 1.09\n",
      "epoch: 1/2, 282/42912, 246s 873ms/step, lr: 1e-05, loss: 1.09\n",
      "epoch: 1/2, 283/42912, 249s 881ms/step, lr: 1e-05, loss: 1.09\n",
      "epoch: 1/2, 284/42912, 250s 880ms/step, lr: 1e-05, loss: 1.09\n",
      "epoch: 1/2, 285/42912, 250s 879ms/step, lr: 1e-05, loss: 1.09\n",
      "epoch: 1/2, 286/42912, 251s 878ms/step, lr: 1e-05, loss: 1.09\n",
      "epoch: 1/2, 287/42912, 252s 877ms/step, lr: 1e-05, loss: 1.09\n",
      "epoch: 1/2, 288/42912, 252s 876ms/step, lr: 1e-05, loss: 1.09\n",
      "epoch: 1/2, 289/42912, 253s 875ms/step, lr: 1e-05, loss: 1.09\n",
      "epoch: 1/2, 290/42912, 253s 874ms/step, lr: 1e-05, loss: 1.09\n",
      "epoch: 1/2, 291/42912, 254s 873ms/step, lr: 1e-05, loss: 1.09\n",
      "epoch: 1/2, 292/42912, 255s 872ms/step, lr: 1e-05, loss: 1.09\n",
      "epoch: 1/2, 293/42912, 255s 871ms/step, lr: 1e-05, loss: 1.09\n",
      "epoch: 1/2, 294/42912, 256s 870ms/step, lr: 1e-05, loss: 1.09\n",
      "epoch: 1/2, 295/42912, 256s 869ms/step, lr: 1e-05, loss: 1.09\n",
      "epoch: 1/2, 296/42912, 257s 869ms/step, lr: 1e-05, loss: 1.09\n",
      "epoch: 1/2, 297/42912, 258s 868ms/step, lr: 1e-05, loss: 1.09\n",
      "epoch: 1/2, 298/42912, 258s 867ms/step, lr: 1e-05, loss: 1.09\n",
      "epoch: 1/2, 299/42912, 259s 866ms/step, lr: 1e-05, loss: 1.09\n",
      "epoch: 1/2, 300/42912, 260s 865ms/step, lr: 1e-05, loss: 1.09\n",
      "epoch: 1/2, 301/42912, 260s 865ms/step, lr: 1e-05, loss: 1.09\n",
      "epoch: 1/2, 302/42912, 261s 865ms/step, lr: 1e-05, loss: 1.09\n",
      "epoch: 1/2, 303/42912, 262s 866ms/step, lr: 1e-05, loss: 1.09\n",
      "epoch: 1/2, 304/42912, 263s 865ms/step, lr: 1e-05, loss: 1.09\n",
      "epoch: 1/2, 305/42912, 264s 864ms/step, lr: 1e-05, loss: 1.09\n",
      "epoch: 1/2, 306/42912, 264s 864ms/step, lr: 1e-05, loss: 1.09\n",
      "epoch: 1/2, 307/42912, 265s 863ms/step, lr: 1e-05, loss: 1.09\n",
      "epoch: 1/2, 308/42912, 266s 862ms/step, lr: 1e-05, loss: 1.09\n",
      "epoch: 1/2, 309/42912, 266s 862ms/step, lr: 1e-05, loss: 1.09\n",
      "epoch: 1/2, 310/42912, 267s 861ms/step, lr: 1e-05, loss: 1.09\n",
      "epoch: 1/2, 311/42912, 268s 860ms/step, lr: 1e-05, loss: 1.09\n",
      "epoch: 1/2, 312/42912, 268s 860ms/step, lr: 1e-05, loss: 1.09\n",
      "epoch: 1/2, 313/42912, 269s 859ms/step, lr: 1e-05, loss: 1.09\n",
      "epoch: 1/2, 314/42912, 269s 858ms/step, lr: 1e-05, loss: 1.09\n",
      "epoch: 1/2, 315/42912, 270s 858ms/step, lr: 1e-05, loss: 1.08\n",
      "epoch: 1/2, 316/42912, 271s 857ms/step, lr: 1e-05, loss: 1.08\n",
      "epoch: 1/2, 317/42912, 271s 856ms/step, lr: 1e-05, loss: 1.08\n",
      "epoch: 1/2, 318/42912, 272s 856ms/step, lr: 1e-05, loss: 1.08\n",
      "epoch: 1/2, 319/42912, 274s 859ms/step, lr: 1e-05, loss: 1.08\n",
      "epoch: 1/2, 320/42912, 277s 866ms/step, lr: 1e-05, loss: 1.08\n"
     ]
    },
    {
     "ename": "KeyboardInterrupt",
     "evalue": "",
     "output_type": "error",
     "traceback": [
      "\u001b[1;31m---------------------------------------------------------------------------\u001b[0m",
      "\u001b[1;31mKeyboardInterrupt\u001b[0m                         Traceback (most recent call last)",
      "Cell \u001b[1;32mIn [37], line 5\u001b[0m\n\u001b[0;32m      3\u001b[0m seed \u001b[39m=\u001b[39m \u001b[39m42\u001b[39m\n\u001b[0;32m      4\u001b[0m set_random_seed(seed)\n\u001b[1;32m----> 5\u001b[0m train(train_dataloader\u001b[39m=\u001b[39;49mtrain_dataloader, model\u001b[39m=\u001b[39;49mmodel, model_name\u001b[39m=\u001b[39;49m\u001b[39m'\u001b[39;49m\u001b[39mDistilRoberta\u001b[39;49m\u001b[39m'\u001b[39;49m, use_history\u001b[39m=\u001b[39;49m\u001b[39mTrue\u001b[39;49;00m, seed\u001b[39m=\u001b[39;49mseed, device\u001b[39m=\u001b[39;49m\u001b[39m'\u001b[39;49m\u001b[39mcuda\u001b[39;49m\u001b[39m'\u001b[39;49m, \n\u001b[0;32m      6\u001b[0m       plot\u001b[39m=\u001b[39;49m\u001b[39mTrue\u001b[39;49;00m)\n",
      "File \u001b[1;32mc:\\Users\\riccardo\\Desktop\\NLP-assignment-2\\utils\\training.py:35\u001b[0m, in \u001b[0;36mtrain\u001b[1;34m(train_dataloader, model, model_name, use_history, epochs, optimizers, learnin_rates, steps_per_update, steps_empty_cache, seed, device, plot)\u001b[0m\n\u001b[0;32m     32\u001b[0m     lr1, lr2, lr3 \u001b[39m=\u001b[39m \u001b[39m1e-5\u001b[39m, \u001b[39m1e-5\u001b[39m, \u001b[39m1e-5\u001b[39m\n\u001b[0;32m     34\u001b[0m \u001b[39mprint\u001b[39m(\u001b[39m'\u001b[39m\u001b[39mTraining phase 1\u001b[39m\u001b[39m'\u001b[39m)\n\u001b[1;32m---> 35\u001b[0m loss_history1 \u001b[39m=\u001b[39m train_tokenImportancesExtractor(train_dataloader, token_importances_extractor, tokenizer, model_name,\n\u001b[0;32m     36\u001b[0m                                                 use_history\u001b[39m=\u001b[39;49muse_history, epochs\u001b[39m=\u001b[39;49mepochs1, optimizer\u001b[39m=\u001b[39;49moptim1, learning_rate\u001b[39m=\u001b[39;49mlr1, \n\u001b[0;32m     37\u001b[0m                                                 steps_per_update\u001b[39m=\u001b[39;49msteps_per_update, \n\u001b[0;32m     38\u001b[0m                                                 steps_empty_cache\u001b[39m=\u001b[39;49msteps_empty_cache, \n\u001b[0;32m     39\u001b[0m                                                 seed\u001b[39m=\u001b[39;49mseed, device\u001b[39m=\u001b[39;49mdevice)\n\u001b[0;32m     40\u001b[0m \u001b[39mprint\u001b[39m()\n\u001b[0;32m     41\u001b[0m \u001b[39mif\u001b[39;00m plot \u001b[39mand\u001b[39;00m epochs1\u001b[39m>\u001b[39m\u001b[39m0\u001b[39m:\n",
      "File \u001b[1;32mc:\\Users\\riccardo\\Desktop\\NLP-assignment-2\\utils\\training.py:171\u001b[0m, in \u001b[0;36mtrain_tokenImportancesExtractor\u001b[1;34m(train_dataloader, token_importances_extractor, tokenizer, model_name, use_history, epochs, optimizer, learning_rate, loss_history, steps_per_update, steps_empty_cache, seed, device)\u001b[0m\n\u001b[0;32m    168\u001b[0m         \u001b[39m# TODO end\u001b[39;00m\n\u001b[0;32m    169\u001b[0m         \u001b[39mprint\u001b[39m(\u001b[39mf\u001b[39m\u001b[39m\"\u001b[39m\u001b[39mepoch: \u001b[39m\u001b[39m{\u001b[39;00mepoch \u001b[39m+\u001b[39m \u001b[39m1\u001b[39m\u001b[39m}\u001b[39;00m\u001b[39m/\u001b[39m\u001b[39m{\u001b[39;00mepochs\u001b[39m}\u001b[39;00m\u001b[39m, \u001b[39m\u001b[39m{\u001b[39;00mbatch_idx \u001b[39m+\u001b[39m \u001b[39m1\u001b[39m\u001b[39m}\u001b[39;00m\u001b[39m/\u001b[39m\u001b[39m{\u001b[39;00m\u001b[39mlen\u001b[39m(train_dataloader)\u001b[39m}\u001b[39;00m\u001b[39m, \u001b[39m\u001b[39m{\u001b[39;00mepoch_time\u001b[39m:\u001b[39;00m\u001b[39m.0f\u001b[39m\u001b[39m}\u001b[39;00m\u001b[39ms \u001b[39m\u001b[39m{\u001b[39;00mbatch_time\u001b[39m*\u001b[39m\u001b[39m1e3\u001b[39m\u001b[39m:\u001b[39;00m\u001b[39m.0f\u001b[39m\u001b[39m}\u001b[39;00m\u001b[39mms/step, lr: \u001b[39m\u001b[39m{\u001b[39;00moptimizer\u001b[39m.\u001b[39mparam_groups[\u001b[39m0\u001b[39m][\u001b[39m'\u001b[39m\u001b[39mlr\u001b[39m\u001b[39m'\u001b[39m]\u001b[39m:\u001b[39;00m\u001b[39m.3g\u001b[39m\u001b[39m}\u001b[39;00m\u001b[39m, loss: \u001b[39m\u001b[39m{\u001b[39;00mrunning_loss\u001b[39m/\u001b[39m(batch_idx\u001b[39m+\u001b[39m\u001b[39m1\u001b[39m)\u001b[39m:\u001b[39;00m\u001b[39m.3g\u001b[39m\u001b[39m}\u001b[39;00m\u001b[39m\"\u001b[39m)\u001b[39m#, end = '\\r')\u001b[39;00m\n\u001b[1;32m--> 171\u001b[0m         _save_model_parameters(model\u001b[39m=\u001b[39;49mtoken_importances_extractor, model_name\u001b[39m=\u001b[39;49mmodel_name, model_type\u001b[39m=\u001b[39;49m\u001b[39m'\u001b[39;49m\u001b[39mTokenImportancesExtractor\u001b[39;49m\u001b[39m'\u001b[39;49m,\n\u001b[0;32m    172\u001b[0m                                seed\u001b[39m=\u001b[39;49mseed)\n\u001b[0;32m    174\u001b[0m     \u001b[39mprint\u001b[39m(\u001b[39mf\u001b[39m\u001b[39m\"\u001b[39m\u001b[39mepoch: \u001b[39m\u001b[39m{\u001b[39;00mepoch \u001b[39m+\u001b[39m \u001b[39m1\u001b[39m\u001b[39m}\u001b[39;00m\u001b[39m/\u001b[39m\u001b[39m{\u001b[39;00mepochs\u001b[39m}\u001b[39;00m\u001b[39m, \u001b[39m\u001b[39m{\u001b[39;00mbatch_idx \u001b[39m+\u001b[39m \u001b[39m1\u001b[39m\u001b[39m}\u001b[39;00m\u001b[39m/\u001b[39m\u001b[39m{\u001b[39;00m\u001b[39mlen\u001b[39m(train_dataloader)\u001b[39m}\u001b[39;00m\u001b[39m, \u001b[39m\u001b[39m{\u001b[39;00mepoch_time\u001b[39m:\u001b[39;00m\u001b[39m.0f\u001b[39m\u001b[39m}\u001b[39;00m\u001b[39ms \u001b[39m\u001b[39m{\u001b[39;00mbatch_time\u001b[39m*\u001b[39m\u001b[39m1e3\u001b[39m\u001b[39m:\u001b[39;00m\u001b[39m.0f\u001b[39m\u001b[39m}\u001b[39;00m\u001b[39mms/step, lr: \u001b[39m\u001b[39m{\u001b[39;00moptimizer\u001b[39m.\u001b[39mparam_groups[\u001b[39m0\u001b[39m][\u001b[39m'\u001b[39m\u001b[39mlr\u001b[39m\u001b[39m'\u001b[39m]\u001b[39m:\u001b[39;00m\u001b[39m.3g\u001b[39m\u001b[39m}\u001b[39;00m\u001b[39m, loss: \u001b[39m\u001b[39m{\u001b[39;00mrunning_loss\u001b[39m/\u001b[39m(batch_idx\u001b[39m+\u001b[39m\u001b[39m1\u001b[39m)\u001b[39m:\u001b[39;00m\u001b[39m.3g\u001b[39m\u001b[39m}\u001b[39;00m\u001b[39m\"\u001b[39m)\n\u001b[0;32m    176\u001b[0m \u001b[39mreturn\u001b[39;00m loss_history\n",
      "File \u001b[1;32mc:\\Users\\riccardo\\Desktop\\NLP-assignment-2\\utils\\training.py:83\u001b[0m, in \u001b[0;36m_save_model_parameters\u001b[1;34m(model, model_name, model_type, seed)\u001b[0m\n\u001b[0;32m     81\u001b[0m file_name \u001b[39m=\u001b[39m \u001b[39mf\u001b[39m\u001b[39m'\u001b[39m\u001b[39m{\u001b[39;00mmodel_name\u001b[39m}\u001b[39;00m\u001b[39m_\u001b[39m\u001b[39m{\u001b[39;00mmodel_type\u001b[39m}\u001b[39;00m\u001b[39m.pt\u001b[39m\u001b[39m'\u001b[39m\n\u001b[0;32m     82\u001b[0m file_path \u001b[39m=\u001b[39m os\u001b[39m.\u001b[39mpath\u001b[39m.\u001b[39mjoin(folder_name, file_name)\n\u001b[1;32m---> 83\u001b[0m torch\u001b[39m.\u001b[39;49msave(model\u001b[39m.\u001b[39;49mstate_dict(), file_path)\n",
      "File \u001b[1;32mc:\\Users\\riccardo\\AppData\\Local\\Programs\\Python\\Python310\\lib\\site-packages\\torch\\serialization.py:423\u001b[0m, in \u001b[0;36msave\u001b[1;34m(obj, f, pickle_module, pickle_protocol, _use_new_zipfile_serialization)\u001b[0m\n\u001b[0;32m    421\u001b[0m \u001b[39mif\u001b[39;00m _use_new_zipfile_serialization:\n\u001b[0;32m    422\u001b[0m     \u001b[39mwith\u001b[39;00m _open_zipfile_writer(f) \u001b[39mas\u001b[39;00m opened_zipfile:\n\u001b[1;32m--> 423\u001b[0m         _save(obj, opened_zipfile, pickle_module, pickle_protocol)\n\u001b[0;32m    424\u001b[0m         \u001b[39mreturn\u001b[39;00m\n\u001b[0;32m    425\u001b[0m \u001b[39melse\u001b[39;00m:\n",
      "File \u001b[1;32mc:\\Users\\riccardo\\AppData\\Local\\Programs\\Python\\Python310\\lib\\site-packages\\torch\\serialization.py:650\u001b[0m, in \u001b[0;36m_save\u001b[1;34m(obj, zip_file, pickle_module, pickle_protocol)\u001b[0m\n\u001b[0;32m    648\u001b[0m \u001b[39m# Now that it is on the CPU we can directly copy it into the zip file\u001b[39;00m\n\u001b[0;32m    649\u001b[0m num_bytes \u001b[39m=\u001b[39m storage\u001b[39m.\u001b[39mnbytes()\n\u001b[1;32m--> 650\u001b[0m zip_file\u001b[39m.\u001b[39mwrite_record(name, storage\u001b[39m.\u001b[39mdata_ptr(), num_bytes)\n",
      "\u001b[1;31mKeyboardInterrupt\u001b[0m: "
     ]
    }
   ],
   "source": [
    "from utils.training import train \n",
    "\n",
    "seed = 42\n",
    "set_random_seed(seed)\n",
    "train(train_dataloader=train_dataloader, model=model, model_name='DistilRoberta', use_history=True, seed=seed, device='cuda', \n",
    "      plot=True)"
   ]
  },
  {
   "attachments": {},
   "cell_type": "markdown",
   "metadata": {},
   "source": [
    "## [Task 7] Error Analysis"
   ]
  },
  {
   "attachments": {},
   "cell_type": "markdown",
   "metadata": {},
   "source": [
    "Load weights"
   ]
  },
  {
   "cell_type": "code",
   "execution_count": 56,
   "metadata": {},
   "outputs": [
    {
     "name": "stdout",
     "output_type": "stream",
     "text": [
      "Unexpected exception formatting exception. Falling back to standard exception\n"
     ]
    },
    {
     "name": "stderr",
     "output_type": "stream",
     "text": [
      "Traceback (most recent call last):\n",
      "  File \"c:\\Users\\pitti\\AppData\\Local\\Programs\\Python\\Python310\\lib\\site-packages\\IPython\\core\\interactiveshell.py\", line 3398, in run_code\n",
      "    exec(code_obj, self.user_global_ns, self.user_ns)\n",
      "  File \"C:\\Users\\pitti\\AppData\\Local\\Temp\\ipykernel_12560\\2807241427.py\", line 1, in <cell line: 1>\n",
      "    M2.load_weigths(tokenImportancesExtractor_weigths_path='./weigths/PQ/seed1337/prajjwal1-bert-tiny_TokenImportancesExtractor.pt',\n",
      "  File \"c:\\Users\\pitti\\Desktop\\Artificial Intelligence - Master degree\\Second year\\Natural Language Processing\\Assignments\\NLP-assignment-2\\models\\model.py\", line 78, in load_weigths\n",
      "    self.token_importances_extractor.load_state_dict(torch.load(tokenImportancesExtractor_weigths_path))\n",
      "  File \"c:\\Users\\pitti\\AppData\\Local\\Programs\\Python\\Python310\\lib\\site-packages\\torch\\serialization.py\", line 712, in load\n",
      "    return _load(opened_zipfile, map_location, pickle_module, **pickle_load_args)\n",
      "  File \"c:\\Users\\pitti\\AppData\\Local\\Programs\\Python\\Python310\\lib\\site-packages\\torch\\serialization.py\", line 1049, in _load\n",
      "    result = unpickler.load()\n",
      "  File \"c:\\Users\\pitti\\AppData\\Local\\Programs\\Python\\Python310\\lib\\site-packages\\torch\\serialization.py\", line 1019, in persistent_load\n",
      "    load_tensor(dtype, nbytes, key, _maybe_decode_ascii(location))\n",
      "  File \"c:\\Users\\pitti\\AppData\\Local\\Programs\\Python\\Python310\\lib\\site-packages\\torch\\serialization.py\", line 1001, in load_tensor\n",
      "    wrap_storage=restore_location(storage, location),\n",
      "  File \"c:\\Users\\pitti\\AppData\\Local\\Programs\\Python\\Python310\\lib\\site-packages\\torch\\serialization.py\", line 175, in default_restore_location\n",
      "    result = fn(storage, location)\n",
      "  File \"c:\\Users\\pitti\\AppData\\Local\\Programs\\Python\\Python310\\lib\\site-packages\\torch\\serialization.py\", line 152, in _cuda_deserialize\n",
      "    device = validate_cuda_device(location)\n",
      "  File \"c:\\Users\\pitti\\AppData\\Local\\Programs\\Python\\Python310\\lib\\site-packages\\torch\\serialization.py\", line 136, in validate_cuda_device\n",
      "    raise RuntimeError('Attempting to deserialize object on a CUDA '\n",
      "RuntimeError: Attempting to deserialize object on a CUDA device but torch.cuda.is_available() is False. If you are running on a CPU-only machine, please use torch.load with map_location=torch.device('cpu') to map your storages to the CPU.\n",
      "\n",
      "During handling of the above exception, another exception occurred:\n",
      "\n",
      "Traceback (most recent call last):\n",
      "  File \"c:\\Users\\pitti\\AppData\\Local\\Programs\\Python\\Python310\\lib\\site-packages\\IPython\\core\\interactiveshell.py\", line 1993, in showtraceback\n",
      "    stb = self.InteractiveTB.structured_traceback(\n",
      "  File \"c:\\Users\\pitti\\AppData\\Local\\Programs\\Python\\Python310\\lib\\site-packages\\IPython\\core\\ultratb.py\", line 1118, in structured_traceback\n",
      "    return FormattedTB.structured_traceback(\n",
      "  File \"c:\\Users\\pitti\\AppData\\Local\\Programs\\Python\\Python310\\lib\\site-packages\\IPython\\core\\ultratb.py\", line 1012, in structured_traceback\n",
      "    return VerboseTB.structured_traceback(\n",
      "  File \"c:\\Users\\pitti\\AppData\\Local\\Programs\\Python\\Python310\\lib\\site-packages\\IPython\\core\\ultratb.py\", line 865, in structured_traceback\n",
      "    formatted_exception = self.format_exception_as_a_whole(etype, evalue, etb, number_of_lines_of_context,\n",
      "  File \"c:\\Users\\pitti\\AppData\\Local\\Programs\\Python\\Python310\\lib\\site-packages\\IPython\\core\\ultratb.py\", line 818, in format_exception_as_a_whole\n",
      "    frames.append(self.format_record(r))\n",
      "  File \"c:\\Users\\pitti\\AppData\\Local\\Programs\\Python\\Python310\\lib\\site-packages\\IPython\\core\\ultratb.py\", line 736, in format_record\n",
      "    result += ''.join(_format_traceback_lines(frame_info.lines, Colors, self.has_colors, lvals))\n",
      "  File \"c:\\Users\\pitti\\AppData\\Local\\Programs\\Python\\Python310\\lib\\site-packages\\stack_data\\utils.py\", line 145, in cached_property_wrapper\n",
      "    value = obj.__dict__[self.func.__name__] = self.func(obj)\n",
      "  File \"c:\\Users\\pitti\\AppData\\Local\\Programs\\Python\\Python310\\lib\\site-packages\\stack_data\\core.py\", line 698, in lines\n",
      "    pieces = self.included_pieces\n",
      "  File \"c:\\Users\\pitti\\AppData\\Local\\Programs\\Python\\Python310\\lib\\site-packages\\stack_data\\utils.py\", line 145, in cached_property_wrapper\n",
      "    value = obj.__dict__[self.func.__name__] = self.func(obj)\n",
      "  File \"c:\\Users\\pitti\\AppData\\Local\\Programs\\Python\\Python310\\lib\\site-packages\\stack_data\\core.py\", line 649, in included_pieces\n",
      "    pos = scope_pieces.index(self.executing_piece)\n",
      "  File \"c:\\Users\\pitti\\AppData\\Local\\Programs\\Python\\Python310\\lib\\site-packages\\stack_data\\utils.py\", line 145, in cached_property_wrapper\n",
      "    value = obj.__dict__[self.func.__name__] = self.func(obj)\n",
      "  File \"c:\\Users\\pitti\\AppData\\Local\\Programs\\Python\\Python310\\lib\\site-packages\\stack_data\\core.py\", line 628, in executing_piece\n",
      "    return only(\n",
      "  File \"c:\\Users\\pitti\\AppData\\Local\\Programs\\Python\\Python310\\lib\\site-packages\\executing\\executing.py\", line 164, in only\n",
      "    raise NotOneValueFound('Expected one value, found 0')\n",
      "executing.executing.NotOneValueFound: Expected one value, found 0\n"
     ]
    }
   ],
   "source": [
    "M2.load_weigths(tokenImportancesExtractor_weigths_path='./weigths/PQ/seed1337/prajjwal1-bert-tiny_TokenImportancesExtractor.pt',\n",
    "                encoderDecoder_weigths_path='./weigths/PQ/seed1337/prajjwal1-bert-tiny_EncoderDecoder.pt')"
   ]
  },
  {
   "cell_type": "code",
   "execution_count": 69,
   "metadata": {},
   "outputs": [],
   "source": [
    "from utils.squad import _compute_squad_f1\n",
    "from tqdm import tqdm\n",
    "\n",
    "def get_worst_answers(model: Model, df_source, use_history: bool = False, k=5):\n",
    "    # (f1, question, passage, history if, gold_answer, pred_answer)\n",
    "    worst_answers = []\n",
    "\n",
    "    torch.cuda.empty_cache()\n",
    "\n",
    "    source_dataloader = get_dataloader(df=df_source, batch_size=16)\n",
    "\n",
    "    for batch_idx, data in tqdm(enumerate(source_dataloader, 0)):\n",
    "        \n",
    "        with torch.no_grad():\n",
    "            # get the inputs; data is a list of [inputs, labels]\n",
    "            (passage, question, history), (answer, _, _) = data\n",
    "            \n",
    "            pred = model.generate(passage,question,history if use_history else None)\n",
    "\n",
    "            f1_scores = np.array([_compute_squad_f1(gold,predicet) for gold, predicet in zip(answer,pred)])\n",
    "            samples_indices = np.argsort(f1_scores)[::-1][:k]\n",
    "\n",
    "            worst_answers += [(f1_scores[sample_idx], question[sample_idx], passage[sample_idx], history[sample_idx], \n",
    "                               answer[sample_idx], pred[sample_idx]) \n",
    "                              for sample_idx in samples_indices]\n",
    "            worst_answers = sorted(worst_answers)[::-1][:k]\n",
    "    \n",
    "    return worst_answers"
   ]
  },
  {
   "cell_type": "code",
   "execution_count": 82,
   "metadata": {},
   "outputs": [
    {
     "name": "stderr",
     "output_type": "stream",
     "text": [
      "C:\\Users\\pitti\\AppData\\Local\\Temp\\ipykernel_12560\\3591629657.py:1: FutureWarning: In a future version of pandas, a length 1 tuple will be returned when iterating over a groupby with a grouper equal to a list of length 1. Don't supply a list with a single grouper to avoid this warning.\n",
      "  it = iter(train_df.groupby(by=['source']))\n"
     ]
    }
   ],
   "source": [
    "it = iter(train_df.groupby(by=['source']))\n",
    "next(it)\n",
    "next(it)\n",
    "df_source = next(it)[1]"
   ]
  },
  {
   "cell_type": "code",
   "execution_count": 83,
   "metadata": {},
   "outputs": [
    {
     "name": "stdout",
     "output_type": "stream",
     "text": [
      "<class 'pandas.core.frame.DataFrame'>\n",
      "Int64Index: 6105 entries, 237 to 85665\n",
      "Data columns (total 10 columns):\n",
      " #   Column             Non-Null Count  Dtype \n",
      "---  ------             --------------  ----- \n",
      " 0   source             6105 non-null   object\n",
      " 1   id                 6105 non-null   object\n",
      " 2   story              6105 non-null   object\n",
      " 3   question           6105 non-null   object\n",
      " 4   answer_span_start  6105 non-null   int64 \n",
      " 5   answer_span_end    6105 non-null   int64 \n",
      " 6   answer_span_text   6105 non-null   object\n",
      " 7   answer             6105 non-null   object\n",
      " 8   turn_id            6105 non-null   int64 \n",
      " 9   history            6105 non-null   object\n",
      "dtypes: int64(3), object(7)\n",
      "memory usage: 524.6+ KB\n"
     ]
    }
   ],
   "source": [
    "df_source.info()"
   ]
  },
  {
   "cell_type": "code",
   "execution_count": 84,
   "metadata": {},
   "outputs": [],
   "source": [
    "source_dataloader = get_dataloader(df=df_source, batch_size=16)"
   ]
  },
  {
   "cell_type": "code",
   "execution_count": 85,
   "metadata": {},
   "outputs": [
    {
     "data": {
      "text/plain": [
       "382"
      ]
     },
     "execution_count": 85,
     "metadata": {},
     "output_type": "execute_result"
    }
   ],
   "source": [
    "len(source_dataloader)"
   ]
  },
  {
   "cell_type": "code",
   "execution_count": 86,
   "metadata": {},
   "outputs": [
    {
     "name": "stderr",
     "output_type": "stream",
     "text": [
      "0it [00:00, ?it/s]c:\\Users\\pitti\\AppData\\Local\\Programs\\Python\\Python310\\lib\\site-packages\\transformers\\generation\\utils.py:1387: UserWarning: Neither `max_length` nor `max_new_tokens` has been set, `max_length` will default to 20 (`self.config.max_length`). Controlling `max_length` via the config is deprecated and `max_length` will be removed from the config in v5 of Transformers -- we recommend using `max_new_tokens` to control the maximum length of the generation.\n",
      "  warnings.warn(\n",
      "74it [01:42,  1.43s/it]"
     ]
    }
   ],
   "source": [
    "get_worst_answers(M2, df_source)"
   ]
  },
  {
   "cell_type": "code",
   "execution_count": null,
   "metadata": {},
   "outputs": [],
   "source": []
  },
  {
   "cell_type": "code",
   "execution_count": null,
   "metadata": {},
   "outputs": [],
   "source": []
  },
  {
   "cell_type": "code",
   "execution_count": null,
   "metadata": {},
   "outputs": [],
   "source": []
  },
  {
   "cell_type": "code",
   "execution_count": null,
   "metadata": {},
   "outputs": [],
   "source": []
  },
  {
   "cell_type": "code",
   "execution_count": null,
   "metadata": {},
   "outputs": [
    {
     "name": "stderr",
     "output_type": "stream",
     "text": [
      "Some weights of the model checkpoint at distilroberta-base were not used when initializing RobertaModel: ['lm_head.layer_norm.weight', 'lm_head.bias', 'lm_head.dense.bias', 'lm_head.layer_norm.bias', 'lm_head.decoder.weight', 'lm_head.dense.weight']\n",
      "- This IS expected if you are initializing RobertaModel from the checkpoint of a model trained on another task or with another architecture (e.g. initializing a BertForSequenceClassification model from a BertForPreTraining model).\n",
      "- This IS NOT expected if you are initializing RobertaModel from the checkpoint of a model that you expect to be exactly identical (initializing a BertForSequenceClassification model from a BertForSequenceClassification model).\n",
      "Some weights of the model checkpoint at distilroberta-base were not used when initializing RobertaModel: ['lm_head.layer_norm.weight', 'lm_head.bias', 'lm_head.dense.bias', 'lm_head.layer_norm.bias', 'lm_head.decoder.weight', 'lm_head.dense.weight']\n",
      "- This IS expected if you are initializing RobertaModel from the checkpoint of a model trained on another task or with another architecture (e.g. initializing a BertForSequenceClassification model from a BertForPreTraining model).\n",
      "- This IS NOT expected if you are initializing RobertaModel from the checkpoint of a model that you expect to be exactly identical (initializing a BertForSequenceClassification model from a BertForSequenceClassification model).\n",
      "Some weights of RobertaForCausalLM were not initialized from the model checkpoint at distilroberta-base and are newly initialized: ['roberta.encoder.layer.5.crossattention.output.dense.weight', 'roberta.encoder.layer.0.crossattention.self.key.bias', 'roberta.encoder.layer.1.crossattention.self.query.bias', 'roberta.encoder.layer.2.crossattention.output.LayerNorm.weight', 'roberta.encoder.layer.2.crossattention.output.dense.bias', 'roberta.encoder.layer.0.crossattention.self.query.weight', 'roberta.encoder.layer.3.crossattention.self.value.bias', 'roberta.encoder.layer.3.crossattention.self.query.bias', 'roberta.encoder.layer.2.crossattention.output.LayerNorm.bias', 'roberta.encoder.layer.1.crossattention.self.key.weight', 'roberta.encoder.layer.2.crossattention.self.key.weight', 'roberta.encoder.layer.3.crossattention.output.LayerNorm.weight', 'roberta.encoder.layer.4.crossattention.output.LayerNorm.bias', 'roberta.encoder.layer.1.crossattention.output.LayerNorm.bias', 'roberta.encoder.layer.5.crossattention.self.key.weight', 'roberta.encoder.layer.5.crossattention.output.dense.bias', 'roberta.encoder.layer.1.crossattention.self.key.bias', 'roberta.encoder.layer.5.crossattention.self.value.weight', 'roberta.encoder.layer.2.crossattention.self.query.bias', 'roberta.encoder.layer.0.crossattention.self.value.bias', 'roberta.encoder.layer.4.crossattention.self.key.bias', 'roberta.encoder.layer.1.crossattention.self.value.weight', 'roberta.encoder.layer.5.crossattention.self.key.bias', 'roberta.encoder.layer.4.crossattention.output.dense.weight', 'roberta.encoder.layer.2.crossattention.self.value.bias', 'roberta.encoder.layer.1.crossattention.self.value.bias', 'roberta.encoder.layer.0.crossattention.output.dense.bias', 'roberta.encoder.layer.3.crossattention.self.value.weight', 'roberta.encoder.layer.2.crossattention.output.dense.weight', 'roberta.encoder.layer.3.crossattention.output.dense.bias', 'roberta.encoder.layer.5.crossattention.self.query.bias', 'roberta.encoder.layer.0.crossattention.output.LayerNorm.bias', 'roberta.encoder.layer.4.crossattention.self.query.weight', 'roberta.encoder.layer.3.crossattention.self.key.weight', 'roberta.encoder.layer.4.crossattention.self.value.bias', 'roberta.encoder.layer.5.crossattention.self.query.weight', 'roberta.encoder.layer.1.crossattention.output.LayerNorm.weight', 'roberta.encoder.layer.1.crossattention.output.dense.bias', 'roberta.encoder.layer.3.crossattention.output.dense.weight', 'roberta.encoder.layer.5.crossattention.output.LayerNorm.bias', 'roberta.encoder.layer.5.crossattention.output.LayerNorm.weight', 'roberta.encoder.layer.4.crossattention.self.key.weight', 'roberta.encoder.layer.1.crossattention.output.dense.weight', 'roberta.encoder.layer.2.crossattention.self.value.weight', 'roberta.encoder.layer.0.crossattention.output.LayerNorm.weight', 'roberta.encoder.layer.0.crossattention.self.query.bias', 'roberta.encoder.layer.3.crossattention.self.key.bias', 'roberta.encoder.layer.4.crossattention.output.LayerNorm.weight', 'roberta.encoder.layer.0.crossattention.self.key.weight', 'roberta.encoder.layer.4.crossattention.self.query.bias', 'roberta.encoder.layer.2.crossattention.self.query.weight', 'roberta.encoder.layer.1.crossattention.self.query.weight', 'roberta.encoder.layer.5.crossattention.self.value.bias', 'roberta.encoder.layer.4.crossattention.self.value.weight', 'roberta.encoder.layer.4.crossattention.output.dense.bias', 'roberta.encoder.layer.0.crossattention.self.value.weight', 'roberta.encoder.layer.3.crossattention.output.LayerNorm.bias', 'roberta.encoder.layer.0.crossattention.output.dense.weight', 'roberta.encoder.layer.2.crossattention.self.key.bias', 'roberta.encoder.layer.3.crossattention.self.query.weight']\n",
      "You should probably TRAIN this model on a down-stream task to be able to use it for predictions and inference.\n",
      "Some weights of the model checkpoint at prajjwal1/bert-tiny were not used when initializing BertModel: ['cls.predictions.transform.dense.bias', 'cls.seq_relationship.bias', 'cls.predictions.decoder.bias', 'cls.predictions.transform.dense.weight', 'cls.predictions.transform.LayerNorm.weight', 'cls.predictions.bias', 'cls.predictions.decoder.weight', 'cls.seq_relationship.weight', 'cls.predictions.transform.LayerNorm.bias']\n",
      "- This IS expected if you are initializing BertModel from the checkpoint of a model trained on another task or with another architecture (e.g. initializing a BertForSequenceClassification model from a BertForPreTraining model).\n",
      "- This IS NOT expected if you are initializing BertModel from the checkpoint of a model that you expect to be exactly identical (initializing a BertForSequenceClassification model from a BertForSequenceClassification model).\n",
      "Some weights of the model checkpoint at prajjwal1/bert-tiny were not used when initializing BertModel: ['cls.predictions.transform.dense.bias', 'cls.seq_relationship.bias', 'cls.predictions.decoder.bias', 'cls.predictions.transform.dense.weight', 'cls.predictions.transform.LayerNorm.weight', 'cls.predictions.bias', 'cls.predictions.decoder.weight', 'cls.seq_relationship.weight', 'cls.predictions.transform.LayerNorm.bias']\n",
      "- This IS expected if you are initializing BertModel from the checkpoint of a model trained on another task or with another architecture (e.g. initializing a BertForSequenceClassification model from a BertForPreTraining model).\n",
      "- This IS NOT expected if you are initializing BertModel from the checkpoint of a model that you expect to be exactly identical (initializing a BertForSequenceClassification model from a BertForSequenceClassification model).\n",
      "Some weights of the model checkpoint at prajjwal1/bert-tiny were not used when initializing BertLMHeadModel: ['cls.seq_relationship.weight', 'cls.seq_relationship.bias']\n",
      "- This IS expected if you are initializing BertLMHeadModel from the checkpoint of a model trained on another task or with another architecture (e.g. initializing a BertForSequenceClassification model from a BertForPreTraining model).\n",
      "- This IS NOT expected if you are initializing BertLMHeadModel from the checkpoint of a model that you expect to be exactly identical (initializing a BertForSequenceClassification model from a BertForSequenceClassification model).\n",
      "Some weights of BertLMHeadModel were not initialized from the model checkpoint at prajjwal1/bert-tiny and are newly initialized: ['bert.encoder.layer.0.crossattention.self.value.bias', 'bert.encoder.layer.1.crossattention.output.dense.weight', 'bert.encoder.layer.0.crossattention.output.dense.weight', 'bert.encoder.layer.1.crossattention.output.LayerNorm.weight', 'bert.encoder.layer.0.crossattention.output.LayerNorm.weight', 'bert.encoder.layer.1.crossattention.self.value.bias', 'bert.encoder.layer.1.crossattention.output.LayerNorm.bias', 'bert.encoder.layer.0.crossattention.self.query.bias', 'bert.encoder.layer.1.crossattention.output.dense.bias', 'bert.encoder.layer.0.crossattention.output.LayerNorm.bias', 'bert.encoder.layer.0.crossattention.output.dense.bias', 'bert.encoder.layer.0.crossattention.self.key.weight', 'bert.encoder.layer.0.crossattention.self.query.weight', 'bert.encoder.layer.1.crossattention.self.query.bias', 'bert.encoder.layer.0.crossattention.self.key.bias', 'bert.encoder.layer.1.crossattention.self.value.weight', 'bert.encoder.layer.1.crossattention.self.query.weight', 'bert.encoder.layer.1.crossattention.self.key.bias', 'bert.encoder.layer.0.crossattention.self.value.weight', 'bert.encoder.layer.1.crossattention.self.key.weight']\n",
      "You should probably TRAIN this model on a down-stream task to be able to use it for predictions and inference.\n"
     ]
    }
   ],
   "source": [
    "from transformers import AutoTokenizer\n",
    "\n",
    "from utils.build_model import Model\n",
    "\n",
    "M1_name = 'distilroberta-base'\n",
    "M2_name = 'prajjwal1/bert-tiny'\n",
    "\n",
    "tokenizer_1 = AutoTokenizer.from_pretrained(M1_name)\n",
    "tokenizer_2 = AutoTokenizer.from_pretrained(M2_name)\n",
    "\n",
    "M1 = Model(M1_name, tokenizer=tokenizer_1)\n",
    "M2 = Model(M2_name, tokenizer=tokenizer_2)"
   ]
  },
  {
   "cell_type": "markdown",
   "metadata": {},
   "source": [
    "# Task 4"
   ]
  },
  {
   "cell_type": "code",
   "execution_count": null,
   "metadata": {},
   "outputs": [],
   "source": [
    "from transformers import PreTrainedTokenizer\n",
    "\n",
    "def f_theta_QP(model: Model, tokenizer: PreTrainedTokenizer, question: str, passage: str, max_length: int = 512, \n",
    "               device: str = 'cuda') -> str:\n",
    "    inputs = tokenizer(question, passage, max_length=max_length, truncation=True, padding=True,\n",
    "                       return_tensors=\"pt\").to(device)\n",
    "    generated_ids = model.forward(input_ids=inputs.input_ids, attention_mask=inputs.attention_mask, device=device)\n",
    "    generated_text = tokenizer.batch_decode(generated_ids, skip_special_tokens=True)[0]\n",
    "    return generated_text"
   ]
  },
  {
   "cell_type": "code",
   "execution_count": null,
   "metadata": {},
   "outputs": [
    {
     "name": "stdout",
     "output_type": "stream",
     "text": [
      "Question sample: \"When was the Vat formally opened?\"\n",
      "\n",
      "Predicted answer by the first model: \".,\"\n",
      "Predicted answer by the second model: \"mar mar mar mar mar mar mar mar mar mar mar mar mar mar mar mar mar mar mar mar mar mar mar mar mar mar mar mar mar mar mar mar mar mar mar mar mar mar mar mar mar mar mar mar mar mar mar mar mar mar\"\n",
      "\n",
      "True answer: \"It was formally established in 1475\"\n"
     ]
    }
   ],
   "source": [
    "question_sample = train_df.iloc[0]['question']\n",
    "passage_sample = train_df.iloc[0]['story']\n",
    "answer_sample = train_df.iloc[0]['answer']\n",
    "\n",
    "print(f'Question sample: \"{question_sample}\"')\n",
    "print()\n",
    "print(f'Predicted answer by the first model: \"{f_theta_QP(M1, tokenizer_1, question_sample, passage_sample)}\"')\n",
    "print(f'Predicted answer by the second model: \"{f_theta_QP(M2, tokenizer_2, question_sample, passage_sample)}\"')\n",
    "print()\n",
    "print(f'True answer: \"{answer_sample}\"')"
   ]
  },
  {
   "cell_type": "markdown",
   "metadata": {},
   "source": [
    "# Task 5"
   ]
  },
  {
   "cell_type": "code",
   "execution_count": null,
   "metadata": {},
   "outputs": [],
   "source": [
    "from typing import List\n",
    "\n",
    "def f_theta_QPH(model: Model, tokenizer: PreTrainedTokenizer, question: str, passage: str, history: List[str],\n",
    "                max_length: int = 512, device: str = 'cuda') -> str:\n",
    "    separator = f' {tokenizer.sep_token} '\n",
    "    question_and_history = question + f'{separator if len(history) else \"\"}' + separator.join(history)\n",
    "    \n",
    "    inputs = tokenizer(question_and_history, passage, max_length=max_length, truncation=True, padding=True,\n",
    "                       return_tensors=\"pt\").to(device)\n",
    "    generated_ids = model.forward(input_ids=inputs.input_ids, attention_mask=inputs.attention_mask, device=device)\n",
    "    generated_text = tokenizer.batch_decode(generated_ids, skip_special_tokens=True)[0]\n",
    "    return generated_text"
   ]
  },
  {
   "cell_type": "code",
   "execution_count": null,
   "metadata": {},
   "outputs": [
    {
     "name": "stdout",
     "output_type": "stream",
     "text": [
      "Question sample: \"how do scholars divide the library?\"\n",
      "\n",
      "Predicted answer by the first model: \".,\"\n",
      "Predicted answer by the second model: \"mar mar mar mar mar mar mar mar mar mar mar mar mar mar mar mar mar mar mar mar mar mar mar mar mar mar mar mar mar mar mar mar mar mar mar mar mar mar mar mar mar mar mar mar mar mar mar mar mar mar\"\n",
      "\n",
      "True answer: \"into periods\"\n"
     ]
    }
   ],
   "source": [
    "question_sample = train_df.iloc[5]['question']\n",
    "passage_sample = train_df.iloc[5]['story']\n",
    "history = train_df.iloc[5]['history']\n",
    "answer_sample = train_df.iloc[5]['answer']\n",
    "\n",
    "print(f'Question sample: \"{question_sample}\"')\n",
    "print()\n",
    "print(f'Predicted answer by the first model: \"{f_theta_QPH(M1, tokenizer_1, question_sample, passage_sample, history)}\"')\n",
    "print(f'Predicted answer by the second model: \"{f_theta_QPH(M2, tokenizer_2, question_sample, passage_sample, history)}\"')\n",
    "print()\n",
    "print(f'True answer: \"{answer_sample}\"')"
   ]
  },
  {
   "cell_type": "markdown",
   "metadata": {},
   "source": [
    "# Task 6"
   ]
  },
  {
   "cell_type": "code",
   "execution_count": null,
   "metadata": {},
   "outputs": [],
   "source": [
    "class CustomDataset(torch.utils.data.Dataset):\n",
    "    def __init__(self, data, tokenizer, return_history=False):\n",
    "        self.story=[d['story'] for d in data]\n",
    "        self.questions=[d['questions'] for d in data]\n",
    "        self.answers=[d['answers'] for d in data]\n",
    "        lengths = [len(doc['questions']) for doc in data]\n",
    "        self.lengths = np.cumsum(np.array(lengths,dtype=np.int32))\n",
    "        self.R_H=return_history\n",
    "        self.tokenizer = tokenizer\n",
    "        \n",
    "\n",
    "    def __len__(self):\n",
    "        return self.lengths[-1]\n",
    "\n",
    "    def __getitem__(self, idx):\n",
    "        f_idx=int(np.where(self.lengths > idx)[0][0])\n",
    "        if f_idx>0:\n",
    "            q_idx=idx-self.lengths[f_idx-1]\n",
    "        else:\n",
    "            q_idx=idx\n",
    "\n",
    "        passage=self.story[f_idx]\n",
    "        questions=self.questions[f_idx]\n",
    "        answers=self.answers[f_idx]\n",
    "        question=questions[q_idx]['input_text']\n",
    "        answer=answers[q_idx]['input_text']\n",
    "\n",
    "        if self.R_H:\n",
    "            print([ [questions[i]['input_text'],answers[i]['input_text']] for i in range(q_idx)])\n",
    "            history=np.concatenate([ [questions[i]['input_text'],answers[i]['input_text']] for i in range(q_idx)],0)\n",
    "            return (passage,question,history), answer\n",
    "        \n",
    "        #input_ids = torch.tensor(self.encodings['input_ids'])\n",
    "        #target_ids = torch.tensor(self.labels[idx])\n",
    "    \n",
    "        inputs = self.tokenizer(\n",
    "            question,\n",
    "            passage,\n",
    "            max_length=512,\n",
    "            padding=\"max_length\",\n",
    "            truncation=True,\n",
    "            return_tensors=\"pt\",\n",
    "        ).input_ids\n",
    "\n",
    "        labels = self.tokenizer(\n",
    "            answer,\n",
    "            max_length=100,\n",
    "            truncation=True,\n",
    "            padding=\"max_length\",\n",
    "            return_tensors=\"pt\",\n",
    "        ).input_ids\n",
    "\n",
    "        return {\"input_ids\": inputs.squeeze(0).to('cuda'), \"labels\": labels.squeeze(0).to('cuda')}"
   ]
  },
  {
   "cell_type": "code",
   "execution_count": null,
   "metadata": {},
   "outputs": [],
   "source": []
  },
  {
   "cell_type": "code",
   "execution_count": null,
   "metadata": {},
   "outputs": [],
   "source": []
  },
  {
   "cell_type": "code",
   "execution_count": null,
   "metadata": {},
   "outputs": [
    {
     "name": "stderr",
     "output_type": "stream",
     "text": [
      "PyTorch: setting up devices\n",
      "The default value for the training argument `--report_to` will change in v5 (from all installed integrations to none). In v5, you will need to use `--report_to all` to get the same behavior as now. You should start updating your code and make this info disappear :-).\n"
     ]
    }
   ],
   "source": [
    "from transformers import TrainingArguments, Trainer, DataCollatorWithPadding\n",
    "from sklearn.metrics import precision_recall_fscore_support\n",
    "from sklearn.metrics import accuracy_score\n",
    "\n",
    "data_collator = DataCollatorWithPadding(tokenizer=T2)\n",
    "\n",
    "# metric = load('accuracy')\n",
    "training_args = TrainingArguments(output_dir='/prova', evaluation_strategy=\"epoch\", num_train_epochs=3)\n",
    "\n",
    "def compute_metrics(pred):\n",
    "    labels = pred.label_ids\n",
    "    preds = pred.predictions.argmax(-1)\n",
    "    acc = accuracy_score(labels, preds)\n",
    "    return {\n",
    "        'accuracy': acc,\n",
    "    }\n",
    "\n",
    "M2.config.decoder_start_token_id = T2.cls_token_id\n",
    "M2.config.pad_token_id = T2.pad_token_id\n",
    "\n",
    "trainer = Trainer(\n",
    "    model=M2,\n",
    "    tokenizer=T2,\n",
    "    args=training_args,\n",
    "    train_dataset=CustomDataset(train, T2),\n",
    "    eval_dataset=CustomDataset(validation, T2),\n",
    "    compute_metrics=compute_metrics,\n",
    "    optimizers=(torch.optim.AdamW(M2.parameters(), lr=0.001), None),\n",
    "    data_collator=data_collator\n",
    ")"
   ]
  },
  {
   "cell_type": "code",
   "execution_count": null,
   "metadata": {},
   "outputs": [
    {
     "name": "stderr",
     "output_type": "stream",
     "text": [
      "***** Running training *****\n",
      "  Num examples = 85810\n",
      "  Num Epochs = 3\n",
      "  Instantaneous batch size per device = 8\n",
      "  Total train batch size (w. parallel, distributed & accumulation) = 8\n",
      "  Gradient Accumulation steps = 1\n",
      "  Total optimization steps = 32181\n",
      "  Number of trainable parameters = 8935226\n",
      " 15%|█▍        | 4800/32181 [06:50<37:19, 12.23it/s]Saving model checkpoint to /prova\\checkpoint-500\n",
      "Configuration saved in /prova\\checkpoint-500\\config.json\n",
      "Model weights saved in /prova\\checkpoint-500\\pytorch_model.bin\n",
      "tokenizer config file saved in /prova\\checkpoint-500\\tokenizer_config.json\n",
      "Special tokens file saved in /prova\\checkpoint-500\\special_tokens_map.json\n",
      "c:\\Users\\riccardo\\AppData\\Local\\Programs\\Python\\Python310\\lib\\site-packages\\transformers\\models\\encoder_decoder\\modeling_encoder_decoder.py:634: FutureWarning: Version v4.12.0 introduces a better way to train encoder-decoder models by computing the loss inside the encoder-decoder framework rather than in the decoder itself. You may observe training discrepancies if fine-tuning a model trained with versions anterior to 4.12.0. The decoder_input_ids are now created based on the labels, no need to pass them yourself anymore.\n",
      "  warnings.warn(DEPRECATION_WARNING, FutureWarning)\n",
      "Saving model checkpoint to /prova\\checkpoint-1000\n",
      "Configuration saved in /prova\\checkpoint-1000\\config.json\n",
      "Model weights saved in /prova\\checkpoint-1000\\pytorch_model.bin\n",
      "tokenizer config file saved in /prova\\checkpoint-1000\\tokenizer_config.json\n",
      "Special tokens file saved in /prova\\checkpoint-1000\\special_tokens_map.json\n",
      "c:\\Users\\riccardo\\AppData\\Local\\Programs\\Python\\Python310\\lib\\site-packages\\transformers\\models\\encoder_decoder\\modeling_encoder_decoder.py:634: FutureWarning: Version v4.12.0 introduces a better way to train encoder-decoder models by computing the loss inside the encoder-decoder framework rather than in the decoder itself. You may observe training discrepancies if fine-tuning a model trained with versions anterior to 4.12.0. The decoder_input_ids are now created based on the labels, no need to pass them yourself anymore.\n",
      "  warnings.warn(DEPRECATION_WARNING, FutureWarning)\n",
      " 15%|█▍        | 4800/32181 [08:27<48:15,  9.46it/s]\n"
     ]
    },
    {
     "ename": "KeyboardInterrupt",
     "evalue": "",
     "output_type": "error",
     "traceback": [
      "\u001b[1;31m---------------------------------------------------------------------------\u001b[0m",
      "\u001b[1;31mKeyboardInterrupt\u001b[0m                         Traceback (most recent call last)",
      "Cell \u001b[1;32mIn [23], line 1\u001b[0m\n\u001b[1;32m----> 1\u001b[0m trainer\u001b[39m.\u001b[39;49mtrain()\n",
      "File \u001b[1;32mc:\\Users\\riccardo\\AppData\\Local\\Programs\\Python\\Python310\\lib\\site-packages\\transformers\\trainer.py:1501\u001b[0m, in \u001b[0;36mTrainer.train\u001b[1;34m(self, resume_from_checkpoint, trial, ignore_keys_for_eval, **kwargs)\u001b[0m\n\u001b[0;32m   1496\u001b[0m     \u001b[39mself\u001b[39m\u001b[39m.\u001b[39mmodel_wrapped \u001b[39m=\u001b[39m \u001b[39mself\u001b[39m\u001b[39m.\u001b[39mmodel\n\u001b[0;32m   1498\u001b[0m inner_training_loop \u001b[39m=\u001b[39m find_executable_batch_size(\n\u001b[0;32m   1499\u001b[0m     \u001b[39mself\u001b[39m\u001b[39m.\u001b[39m_inner_training_loop, \u001b[39mself\u001b[39m\u001b[39m.\u001b[39m_train_batch_size, args\u001b[39m.\u001b[39mauto_find_batch_size\n\u001b[0;32m   1500\u001b[0m )\n\u001b[1;32m-> 1501\u001b[0m \u001b[39mreturn\u001b[39;00m inner_training_loop(\n\u001b[0;32m   1502\u001b[0m     args\u001b[39m=\u001b[39;49margs,\n\u001b[0;32m   1503\u001b[0m     resume_from_checkpoint\u001b[39m=\u001b[39;49mresume_from_checkpoint,\n\u001b[0;32m   1504\u001b[0m     trial\u001b[39m=\u001b[39;49mtrial,\n\u001b[0;32m   1505\u001b[0m     ignore_keys_for_eval\u001b[39m=\u001b[39;49mignore_keys_for_eval,\n\u001b[0;32m   1506\u001b[0m )\n",
      "File \u001b[1;32mc:\\Users\\riccardo\\AppData\\Local\\Programs\\Python\\Python310\\lib\\site-packages\\transformers\\trainer.py:1723\u001b[0m, in \u001b[0;36mTrainer._inner_training_loop\u001b[1;34m(self, batch_size, args, resume_from_checkpoint, trial, ignore_keys_for_eval)\u001b[0m\n\u001b[0;32m   1720\u001b[0m     \u001b[39mself\u001b[39m\u001b[39m.\u001b[39m_load_rng_state(resume_from_checkpoint)\n\u001b[0;32m   1722\u001b[0m step \u001b[39m=\u001b[39m \u001b[39m-\u001b[39m\u001b[39m1\u001b[39m\n\u001b[1;32m-> 1723\u001b[0m \u001b[39mfor\u001b[39;00m step, inputs \u001b[39min\u001b[39;00m \u001b[39menumerate\u001b[39m(epoch_iterator):\n\u001b[0;32m   1724\u001b[0m \n\u001b[0;32m   1725\u001b[0m     \u001b[39m# Skip past any already trained steps if resuming training\u001b[39;00m\n\u001b[0;32m   1726\u001b[0m     \u001b[39mif\u001b[39;00m steps_trained_in_current_epoch \u001b[39m>\u001b[39m \u001b[39m0\u001b[39m:\n\u001b[0;32m   1727\u001b[0m         steps_trained_in_current_epoch \u001b[39m-\u001b[39m\u001b[39m=\u001b[39m \u001b[39m1\u001b[39m\n",
      "File \u001b[1;32mc:\\Users\\riccardo\\AppData\\Local\\Programs\\Python\\Python310\\lib\\site-packages\\torch\\utils\\data\\dataloader.py:628\u001b[0m, in \u001b[0;36m_BaseDataLoaderIter.__next__\u001b[1;34m(self)\u001b[0m\n\u001b[0;32m    625\u001b[0m \u001b[39mif\u001b[39;00m \u001b[39mself\u001b[39m\u001b[39m.\u001b[39m_sampler_iter \u001b[39mis\u001b[39;00m \u001b[39mNone\u001b[39;00m:\n\u001b[0;32m    626\u001b[0m     \u001b[39m# TODO(https://github.com/pytorch/pytorch/issues/76750)\u001b[39;00m\n\u001b[0;32m    627\u001b[0m     \u001b[39mself\u001b[39m\u001b[39m.\u001b[39m_reset()  \u001b[39m# type: ignore[call-arg]\u001b[39;00m\n\u001b[1;32m--> 628\u001b[0m data \u001b[39m=\u001b[39m \u001b[39mself\u001b[39;49m\u001b[39m.\u001b[39;49m_next_data()\n\u001b[0;32m    629\u001b[0m \u001b[39mself\u001b[39m\u001b[39m.\u001b[39m_num_yielded \u001b[39m+\u001b[39m\u001b[39m=\u001b[39m \u001b[39m1\u001b[39m\n\u001b[0;32m    630\u001b[0m \u001b[39mif\u001b[39;00m \u001b[39mself\u001b[39m\u001b[39m.\u001b[39m_dataset_kind \u001b[39m==\u001b[39m _DatasetKind\u001b[39m.\u001b[39mIterable \u001b[39mand\u001b[39;00m \\\n\u001b[0;32m    631\u001b[0m         \u001b[39mself\u001b[39m\u001b[39m.\u001b[39m_IterableDataset_len_called \u001b[39mis\u001b[39;00m \u001b[39mnot\u001b[39;00m \u001b[39mNone\u001b[39;00m \u001b[39mand\u001b[39;00m \\\n\u001b[0;32m    632\u001b[0m         \u001b[39mself\u001b[39m\u001b[39m.\u001b[39m_num_yielded \u001b[39m>\u001b[39m \u001b[39mself\u001b[39m\u001b[39m.\u001b[39m_IterableDataset_len_called:\n",
      "File \u001b[1;32mc:\\Users\\riccardo\\AppData\\Local\\Programs\\Python\\Python310\\lib\\site-packages\\torch\\utils\\data\\dataloader.py:671\u001b[0m, in \u001b[0;36m_SingleProcessDataLoaderIter._next_data\u001b[1;34m(self)\u001b[0m\n\u001b[0;32m    669\u001b[0m \u001b[39mdef\u001b[39;00m \u001b[39m_next_data\u001b[39m(\u001b[39mself\u001b[39m):\n\u001b[0;32m    670\u001b[0m     index \u001b[39m=\u001b[39m \u001b[39mself\u001b[39m\u001b[39m.\u001b[39m_next_index()  \u001b[39m# may raise StopIteration\u001b[39;00m\n\u001b[1;32m--> 671\u001b[0m     data \u001b[39m=\u001b[39m \u001b[39mself\u001b[39;49m\u001b[39m.\u001b[39;49m_dataset_fetcher\u001b[39m.\u001b[39;49mfetch(index)  \u001b[39m# may raise StopIteration\u001b[39;00m\n\u001b[0;32m    672\u001b[0m     \u001b[39mif\u001b[39;00m \u001b[39mself\u001b[39m\u001b[39m.\u001b[39m_pin_memory:\n\u001b[0;32m    673\u001b[0m         data \u001b[39m=\u001b[39m _utils\u001b[39m.\u001b[39mpin_memory\u001b[39m.\u001b[39mpin_memory(data, \u001b[39mself\u001b[39m\u001b[39m.\u001b[39m_pin_memory_device)\n",
      "File \u001b[1;32mc:\\Users\\riccardo\\AppData\\Local\\Programs\\Python\\Python310\\lib\\site-packages\\torch\\utils\\data\\_utils\\fetch.py:58\u001b[0m, in \u001b[0;36m_MapDatasetFetcher.fetch\u001b[1;34m(self, possibly_batched_index)\u001b[0m\n\u001b[0;32m     56\u001b[0m         data \u001b[39m=\u001b[39m \u001b[39mself\u001b[39m\u001b[39m.\u001b[39mdataset\u001b[39m.\u001b[39m__getitems__(possibly_batched_index)\n\u001b[0;32m     57\u001b[0m     \u001b[39melse\u001b[39;00m:\n\u001b[1;32m---> 58\u001b[0m         data \u001b[39m=\u001b[39m [\u001b[39mself\u001b[39m\u001b[39m.\u001b[39mdataset[idx] \u001b[39mfor\u001b[39;00m idx \u001b[39min\u001b[39;00m possibly_batched_index]\n\u001b[0;32m     59\u001b[0m \u001b[39melse\u001b[39;00m:\n\u001b[0;32m     60\u001b[0m     data \u001b[39m=\u001b[39m \u001b[39mself\u001b[39m\u001b[39m.\u001b[39mdataset[possibly_batched_index]\n",
      "File \u001b[1;32mc:\\Users\\riccardo\\AppData\\Local\\Programs\\Python\\Python310\\lib\\site-packages\\torch\\utils\\data\\_utils\\fetch.py:58\u001b[0m, in \u001b[0;36m<listcomp>\u001b[1;34m(.0)\u001b[0m\n\u001b[0;32m     56\u001b[0m         data \u001b[39m=\u001b[39m \u001b[39mself\u001b[39m\u001b[39m.\u001b[39mdataset\u001b[39m.\u001b[39m__getitems__(possibly_batched_index)\n\u001b[0;32m     57\u001b[0m     \u001b[39melse\u001b[39;00m:\n\u001b[1;32m---> 58\u001b[0m         data \u001b[39m=\u001b[39m [\u001b[39mself\u001b[39;49m\u001b[39m.\u001b[39;49mdataset[idx] \u001b[39mfor\u001b[39;00m idx \u001b[39min\u001b[39;00m possibly_batched_index]\n\u001b[0;32m     59\u001b[0m \u001b[39melse\u001b[39;00m:\n\u001b[0;32m     60\u001b[0m     data \u001b[39m=\u001b[39m \u001b[39mself\u001b[39m\u001b[39m.\u001b[39mdataset[possibly_batched_index]\n",
      "Cell \u001b[1;32mIn [19], line 36\u001b[0m, in \u001b[0;36mCustomDataset.__getitem__\u001b[1;34m(self, idx)\u001b[0m\n\u001b[0;32m     31\u001b[0m     \u001b[39mreturn\u001b[39;00m (passage,question,history), answer\n\u001b[0;32m     33\u001b[0m \u001b[39m#input_ids = torch.tensor(self.encodings['input_ids'])\u001b[39;00m\n\u001b[0;32m     34\u001b[0m \u001b[39m#target_ids = torch.tensor(self.labels[idx])\u001b[39;00m\n\u001b[1;32m---> 36\u001b[0m inputs \u001b[39m=\u001b[39m \u001b[39mself\u001b[39;49m\u001b[39m.\u001b[39;49mtokenizer(\n\u001b[0;32m     37\u001b[0m     question,\n\u001b[0;32m     38\u001b[0m     passage,\n\u001b[0;32m     39\u001b[0m     max_length\u001b[39m=\u001b[39;49m\u001b[39m512\u001b[39;49m,\n\u001b[0;32m     40\u001b[0m     padding\u001b[39m=\u001b[39;49m\u001b[39m\"\u001b[39;49m\u001b[39mmax_length\u001b[39;49m\u001b[39m\"\u001b[39;49m,\n\u001b[0;32m     41\u001b[0m     truncation\u001b[39m=\u001b[39;49m\u001b[39mTrue\u001b[39;49;00m,\n\u001b[0;32m     42\u001b[0m     return_tensors\u001b[39m=\u001b[39;49m\u001b[39m\"\u001b[39;49m\u001b[39mpt\u001b[39;49m\u001b[39m\"\u001b[39;49m,\n\u001b[0;32m     43\u001b[0m )\u001b[39m.\u001b[39minput_ids\n\u001b[0;32m     45\u001b[0m labels \u001b[39m=\u001b[39m \u001b[39mself\u001b[39m\u001b[39m.\u001b[39mtokenizer(\n\u001b[0;32m     46\u001b[0m     answer,\n\u001b[0;32m     47\u001b[0m     max_length\u001b[39m=\u001b[39m\u001b[39m100\u001b[39m,\n\u001b[1;32m   (...)\u001b[0m\n\u001b[0;32m     50\u001b[0m     return_tensors\u001b[39m=\u001b[39m\u001b[39m\"\u001b[39m\u001b[39mpt\u001b[39m\u001b[39m\"\u001b[39m,\n\u001b[0;32m     51\u001b[0m )\u001b[39m.\u001b[39minput_ids\n\u001b[0;32m     53\u001b[0m \u001b[39mreturn\u001b[39;00m {\u001b[39m\"\u001b[39m\u001b[39minput_ids\u001b[39m\u001b[39m\"\u001b[39m: inputs\u001b[39m.\u001b[39msqueeze(\u001b[39m0\u001b[39m)\u001b[39m.\u001b[39mto(\u001b[39m'\u001b[39m\u001b[39mcuda\u001b[39m\u001b[39m'\u001b[39m), \u001b[39m\"\u001b[39m\u001b[39mlabels\u001b[39m\u001b[39m\"\u001b[39m: labels\u001b[39m.\u001b[39msqueeze(\u001b[39m0\u001b[39m)\u001b[39m.\u001b[39mto(\u001b[39m'\u001b[39m\u001b[39mcuda\u001b[39m\u001b[39m'\u001b[39m)}\n",
      "File \u001b[1;32mc:\\Users\\riccardo\\AppData\\Local\\Programs\\Python\\Python310\\lib\\site-packages\\transformers\\tokenization_utils_base.py:2488\u001b[0m, in \u001b[0;36mPreTrainedTokenizerBase.__call__\u001b[1;34m(self, text, text_pair, text_target, text_pair_target, add_special_tokens, padding, truncation, max_length, stride, is_split_into_words, pad_to_multiple_of, return_tensors, return_token_type_ids, return_attention_mask, return_overflowing_tokens, return_special_tokens_mask, return_offsets_mapping, return_length, verbose, **kwargs)\u001b[0m\n\u001b[0;32m   2486\u001b[0m     \u001b[39mif\u001b[39;00m \u001b[39mnot\u001b[39;00m \u001b[39mself\u001b[39m\u001b[39m.\u001b[39m_in_target_context_manager:\n\u001b[0;32m   2487\u001b[0m         \u001b[39mself\u001b[39m\u001b[39m.\u001b[39m_switch_to_input_mode()\n\u001b[1;32m-> 2488\u001b[0m     encodings \u001b[39m=\u001b[39m \u001b[39mself\u001b[39m\u001b[39m.\u001b[39m_call_one(text\u001b[39m=\u001b[39mtext, text_pair\u001b[39m=\u001b[39mtext_pair, \u001b[39m*\u001b[39m\u001b[39m*\u001b[39mall_kwargs)\n\u001b[0;32m   2489\u001b[0m \u001b[39mif\u001b[39;00m text_target \u001b[39mis\u001b[39;00m \u001b[39mnot\u001b[39;00m \u001b[39mNone\u001b[39;00m:\n\u001b[0;32m   2490\u001b[0m     \u001b[39mself\u001b[39m\u001b[39m.\u001b[39m_switch_to_target_mode()\n",
      "File \u001b[1;32mc:\\Users\\riccardo\\AppData\\Local\\Programs\\Python\\Python310\\lib\\site-packages\\transformers\\tokenization_utils_base.py:2594\u001b[0m, in \u001b[0;36mPreTrainedTokenizerBase._call_one\u001b[1;34m(self, text, text_pair, add_special_tokens, padding, truncation, max_length, stride, is_split_into_words, pad_to_multiple_of, return_tensors, return_token_type_ids, return_attention_mask, return_overflowing_tokens, return_special_tokens_mask, return_offsets_mapping, return_length, verbose, **kwargs)\u001b[0m\n\u001b[0;32m   2574\u001b[0m     \u001b[39mreturn\u001b[39;00m \u001b[39mself\u001b[39m\u001b[39m.\u001b[39mbatch_encode_plus(\n\u001b[0;32m   2575\u001b[0m         batch_text_or_text_pairs\u001b[39m=\u001b[39mbatch_text_or_text_pairs,\n\u001b[0;32m   2576\u001b[0m         add_special_tokens\u001b[39m=\u001b[39madd_special_tokens,\n\u001b[1;32m   (...)\u001b[0m\n\u001b[0;32m   2591\u001b[0m         \u001b[39m*\u001b[39m\u001b[39m*\u001b[39mkwargs,\n\u001b[0;32m   2592\u001b[0m     )\n\u001b[0;32m   2593\u001b[0m \u001b[39melse\u001b[39;00m:\n\u001b[1;32m-> 2594\u001b[0m     \u001b[39mreturn\u001b[39;00m \u001b[39mself\u001b[39m\u001b[39m.\u001b[39mencode_plus(\n\u001b[0;32m   2595\u001b[0m         text\u001b[39m=\u001b[39mtext,\n\u001b[0;32m   2596\u001b[0m         text_pair\u001b[39m=\u001b[39mtext_pair,\n\u001b[0;32m   2597\u001b[0m         add_special_tokens\u001b[39m=\u001b[39madd_special_tokens,\n\u001b[0;32m   2598\u001b[0m         padding\u001b[39m=\u001b[39mpadding,\n\u001b[0;32m   2599\u001b[0m         truncation\u001b[39m=\u001b[39mtruncation,\n\u001b[0;32m   2600\u001b[0m         max_length\u001b[39m=\u001b[39mmax_length,\n\u001b[0;32m   2601\u001b[0m         stride\u001b[39m=\u001b[39mstride,\n\u001b[0;32m   2602\u001b[0m         is_split_into_words\u001b[39m=\u001b[39mis_split_into_words,\n\u001b[0;32m   2603\u001b[0m         pad_to_multiple_of\u001b[39m=\u001b[39mpad_to_multiple_of,\n\u001b[0;32m   2604\u001b[0m         return_tensors\u001b[39m=\u001b[39mreturn_tensors,\n\u001b[0;32m   2605\u001b[0m         return_token_type_ids\u001b[39m=\u001b[39mreturn_token_type_ids,\n\u001b[0;32m   2606\u001b[0m         return_attention_mask\u001b[39m=\u001b[39mreturn_attention_mask,\n\u001b[0;32m   2607\u001b[0m         return_overflowing_tokens\u001b[39m=\u001b[39mreturn_overflowing_tokens,\n\u001b[0;32m   2608\u001b[0m         return_special_tokens_mask\u001b[39m=\u001b[39mreturn_special_tokens_mask,\n\u001b[0;32m   2609\u001b[0m         return_offsets_mapping\u001b[39m=\u001b[39mreturn_offsets_mapping,\n\u001b[0;32m   2610\u001b[0m         return_length\u001b[39m=\u001b[39mreturn_length,\n\u001b[0;32m   2611\u001b[0m         verbose\u001b[39m=\u001b[39mverbose,\n\u001b[0;32m   2612\u001b[0m         \u001b[39m*\u001b[39m\u001b[39m*\u001b[39mkwargs,\n\u001b[0;32m   2613\u001b[0m     )\n",
      "File \u001b[1;32mc:\\Users\\riccardo\\AppData\\Local\\Programs\\Python\\Python310\\lib\\site-packages\\transformers\\tokenization_utils_base.py:2667\u001b[0m, in \u001b[0;36mPreTrainedTokenizerBase.encode_plus\u001b[1;34m(self, text, text_pair, add_special_tokens, padding, truncation, max_length, stride, is_split_into_words, pad_to_multiple_of, return_tensors, return_token_type_ids, return_attention_mask, return_overflowing_tokens, return_special_tokens_mask, return_offsets_mapping, return_length, verbose, **kwargs)\u001b[0m\n\u001b[0;32m   2657\u001b[0m \u001b[39m# Backward compatibility for 'truncation_strategy', 'pad_to_max_length'\u001b[39;00m\n\u001b[0;32m   2658\u001b[0m padding_strategy, truncation_strategy, max_length, kwargs \u001b[39m=\u001b[39m \u001b[39mself\u001b[39m\u001b[39m.\u001b[39m_get_padding_truncation_strategies(\n\u001b[0;32m   2659\u001b[0m     padding\u001b[39m=\u001b[39mpadding,\n\u001b[0;32m   2660\u001b[0m     truncation\u001b[39m=\u001b[39mtruncation,\n\u001b[1;32m   (...)\u001b[0m\n\u001b[0;32m   2664\u001b[0m     \u001b[39m*\u001b[39m\u001b[39m*\u001b[39mkwargs,\n\u001b[0;32m   2665\u001b[0m )\n\u001b[1;32m-> 2667\u001b[0m \u001b[39mreturn\u001b[39;00m \u001b[39mself\u001b[39m\u001b[39m.\u001b[39m_encode_plus(\n\u001b[0;32m   2668\u001b[0m     text\u001b[39m=\u001b[39mtext,\n\u001b[0;32m   2669\u001b[0m     text_pair\u001b[39m=\u001b[39mtext_pair,\n\u001b[0;32m   2670\u001b[0m     add_special_tokens\u001b[39m=\u001b[39madd_special_tokens,\n\u001b[0;32m   2671\u001b[0m     padding_strategy\u001b[39m=\u001b[39mpadding_strategy,\n\u001b[0;32m   2672\u001b[0m     truncation_strategy\u001b[39m=\u001b[39mtruncation_strategy,\n\u001b[0;32m   2673\u001b[0m     max_length\u001b[39m=\u001b[39mmax_length,\n\u001b[0;32m   2674\u001b[0m     stride\u001b[39m=\u001b[39mstride,\n\u001b[0;32m   2675\u001b[0m     is_split_into_words\u001b[39m=\u001b[39mis_split_into_words,\n\u001b[0;32m   2676\u001b[0m     pad_to_multiple_of\u001b[39m=\u001b[39mpad_to_multiple_of,\n\u001b[0;32m   2677\u001b[0m     return_tensors\u001b[39m=\u001b[39mreturn_tensors,\n\u001b[0;32m   2678\u001b[0m     return_token_type_ids\u001b[39m=\u001b[39mreturn_token_type_ids,\n\u001b[0;32m   2679\u001b[0m     return_attention_mask\u001b[39m=\u001b[39mreturn_attention_mask,\n\u001b[0;32m   2680\u001b[0m     return_overflowing_tokens\u001b[39m=\u001b[39mreturn_overflowing_tokens,\n\u001b[0;32m   2681\u001b[0m     return_special_tokens_mask\u001b[39m=\u001b[39mreturn_special_tokens_mask,\n\u001b[0;32m   2682\u001b[0m     return_offsets_mapping\u001b[39m=\u001b[39mreturn_offsets_mapping,\n\u001b[0;32m   2683\u001b[0m     return_length\u001b[39m=\u001b[39mreturn_length,\n\u001b[0;32m   2684\u001b[0m     verbose\u001b[39m=\u001b[39mverbose,\n\u001b[0;32m   2685\u001b[0m     \u001b[39m*\u001b[39m\u001b[39m*\u001b[39mkwargs,\n\u001b[0;32m   2686\u001b[0m )\n",
      "File \u001b[1;32mc:\\Users\\riccardo\\AppData\\Local\\Programs\\Python\\Python310\\lib\\site-packages\\transformers\\tokenization_utils_fast.py:502\u001b[0m, in \u001b[0;36mPreTrainedTokenizerFast._encode_plus\u001b[1;34m(self, text, text_pair, add_special_tokens, padding_strategy, truncation_strategy, max_length, stride, is_split_into_words, pad_to_multiple_of, return_tensors, return_token_type_ids, return_attention_mask, return_overflowing_tokens, return_special_tokens_mask, return_offsets_mapping, return_length, verbose, **kwargs)\u001b[0m\n\u001b[0;32m    479\u001b[0m \u001b[39mdef\u001b[39;00m \u001b[39m_encode_plus\u001b[39m(\n\u001b[0;32m    480\u001b[0m     \u001b[39mself\u001b[39m,\n\u001b[0;32m    481\u001b[0m     text: Union[TextInput, PreTokenizedInput],\n\u001b[1;32m   (...)\u001b[0m\n\u001b[0;32m    498\u001b[0m     \u001b[39m*\u001b[39m\u001b[39m*\u001b[39mkwargs\n\u001b[0;32m    499\u001b[0m ) \u001b[39m-\u001b[39m\u001b[39m>\u001b[39m BatchEncoding:\n\u001b[0;32m    501\u001b[0m     batched_input \u001b[39m=\u001b[39m [(text, text_pair)] \u001b[39mif\u001b[39;00m text_pair \u001b[39melse\u001b[39;00m [text]\n\u001b[1;32m--> 502\u001b[0m     batched_output \u001b[39m=\u001b[39m \u001b[39mself\u001b[39m\u001b[39m.\u001b[39m_batch_encode_plus(\n\u001b[0;32m    503\u001b[0m         batched_input,\n\u001b[0;32m    504\u001b[0m         is_split_into_words\u001b[39m=\u001b[39mis_split_into_words,\n\u001b[0;32m    505\u001b[0m         add_special_tokens\u001b[39m=\u001b[39madd_special_tokens,\n\u001b[0;32m    506\u001b[0m         padding_strategy\u001b[39m=\u001b[39mpadding_strategy,\n\u001b[0;32m    507\u001b[0m         truncation_strategy\u001b[39m=\u001b[39mtruncation_strategy,\n\u001b[0;32m    508\u001b[0m         max_length\u001b[39m=\u001b[39mmax_length,\n\u001b[0;32m    509\u001b[0m         stride\u001b[39m=\u001b[39mstride,\n\u001b[0;32m    510\u001b[0m         pad_to_multiple_of\u001b[39m=\u001b[39mpad_to_multiple_of,\n\u001b[0;32m    511\u001b[0m         return_tensors\u001b[39m=\u001b[39mreturn_tensors,\n\u001b[0;32m    512\u001b[0m         return_token_type_ids\u001b[39m=\u001b[39mreturn_token_type_ids,\n\u001b[0;32m    513\u001b[0m         return_attention_mask\u001b[39m=\u001b[39mreturn_attention_mask,\n\u001b[0;32m    514\u001b[0m         return_overflowing_tokens\u001b[39m=\u001b[39mreturn_overflowing_tokens,\n\u001b[0;32m    515\u001b[0m         return_special_tokens_mask\u001b[39m=\u001b[39mreturn_special_tokens_mask,\n\u001b[0;32m    516\u001b[0m         return_offsets_mapping\u001b[39m=\u001b[39mreturn_offsets_mapping,\n\u001b[0;32m    517\u001b[0m         return_length\u001b[39m=\u001b[39mreturn_length,\n\u001b[0;32m    518\u001b[0m         verbose\u001b[39m=\u001b[39mverbose,\n\u001b[0;32m    519\u001b[0m         \u001b[39m*\u001b[39m\u001b[39m*\u001b[39mkwargs,\n\u001b[0;32m    520\u001b[0m     )\n\u001b[0;32m    522\u001b[0m     \u001b[39m# Return tensor is None, then we can remove the leading batch axis\u001b[39;00m\n\u001b[0;32m    523\u001b[0m     \u001b[39m# Overflowing tokens are returned as a batch of output so we keep them in this case\u001b[39;00m\n\u001b[0;32m    524\u001b[0m     \u001b[39mif\u001b[39;00m return_tensors \u001b[39mis\u001b[39;00m \u001b[39mNone\u001b[39;00m \u001b[39mand\u001b[39;00m \u001b[39mnot\u001b[39;00m return_overflowing_tokens:\n",
      "File \u001b[1;32mc:\\Users\\riccardo\\AppData\\Local\\Programs\\Python\\Python310\\lib\\site-packages\\transformers\\tokenization_utils_fast.py:429\u001b[0m, in \u001b[0;36mPreTrainedTokenizerFast._batch_encode_plus\u001b[1;34m(self, batch_text_or_text_pairs, add_special_tokens, padding_strategy, truncation_strategy, max_length, stride, is_split_into_words, pad_to_multiple_of, return_tensors, return_token_type_ids, return_attention_mask, return_overflowing_tokens, return_special_tokens_mask, return_offsets_mapping, return_length, verbose)\u001b[0m\n\u001b[0;32m    420\u001b[0m \u001b[39m# Set the truncation and padding strategy and restore the initial configuration\u001b[39;00m\n\u001b[0;32m    421\u001b[0m \u001b[39mself\u001b[39m\u001b[39m.\u001b[39mset_truncation_and_padding(\n\u001b[0;32m    422\u001b[0m     padding_strategy\u001b[39m=\u001b[39mpadding_strategy,\n\u001b[0;32m    423\u001b[0m     truncation_strategy\u001b[39m=\u001b[39mtruncation_strategy,\n\u001b[1;32m   (...)\u001b[0m\n\u001b[0;32m    426\u001b[0m     pad_to_multiple_of\u001b[39m=\u001b[39mpad_to_multiple_of,\n\u001b[0;32m    427\u001b[0m )\n\u001b[1;32m--> 429\u001b[0m encodings \u001b[39m=\u001b[39m \u001b[39mself\u001b[39;49m\u001b[39m.\u001b[39;49m_tokenizer\u001b[39m.\u001b[39;49mencode_batch(\n\u001b[0;32m    430\u001b[0m     batch_text_or_text_pairs,\n\u001b[0;32m    431\u001b[0m     add_special_tokens\u001b[39m=\u001b[39;49madd_special_tokens,\n\u001b[0;32m    432\u001b[0m     is_pretokenized\u001b[39m=\u001b[39;49mis_split_into_words,\n\u001b[0;32m    433\u001b[0m )\n\u001b[0;32m    435\u001b[0m \u001b[39m# Convert encoding to dict\u001b[39;00m\n\u001b[0;32m    436\u001b[0m \u001b[39m# `Tokens` has type: Tuple[\u001b[39;00m\n\u001b[0;32m    437\u001b[0m \u001b[39m#                       List[Dict[str, List[List[int]]]] or List[Dict[str, 2D-Tensor]],\u001b[39;00m\n\u001b[0;32m    438\u001b[0m \u001b[39m#                       List[EncodingFast]\u001b[39;00m\n\u001b[0;32m    439\u001b[0m \u001b[39m#                    ]\u001b[39;00m\n\u001b[0;32m    440\u001b[0m \u001b[39m# with nested dimensions corresponding to batch, overflows, sequence length\u001b[39;00m\n\u001b[0;32m    441\u001b[0m tokens_and_encodings \u001b[39m=\u001b[39m [\n\u001b[0;32m    442\u001b[0m     \u001b[39mself\u001b[39m\u001b[39m.\u001b[39m_convert_encoding(\n\u001b[0;32m    443\u001b[0m         encoding\u001b[39m=\u001b[39mencoding,\n\u001b[1;32m   (...)\u001b[0m\n\u001b[0;32m    452\u001b[0m     \u001b[39mfor\u001b[39;00m encoding \u001b[39min\u001b[39;00m encodings\n\u001b[0;32m    453\u001b[0m ]\n",
      "\u001b[1;31mKeyboardInterrupt\u001b[0m: "
     ]
    }
   ],
   "source": [
    "trainer.train()"
   ]
  },
  {
   "cell_type": "code",
   "execution_count": null,
   "metadata": {},
   "outputs": [],
   "source": []
  },
  {
   "cell_type": "code",
   "execution_count": null,
   "metadata": {},
   "outputs": [],
   "source": [
    "import time"
   ]
  },
  {
   "cell_type": "code",
   "execution_count": null,
   "metadata": {},
   "outputs": [],
   "source": [
    "def train(model, tokenizer, n_epochs=3, learning_rate=1e-3):\n",
    "    model.to('cuda')\n",
    "\n",
    "    L=[]\n",
    "\n",
    "    model.config.decoder_start_token_id = tokenizer.cls_token_id\n",
    "    model.config.pad_token_id = tokenizer.pad_token_id\n",
    "\n",
    "    optimizer = torch.optim.Adam(model.parameters(), lr=learning_rate)\n",
    "\n",
    "    start_time = time.time()\n",
    "    for epoch in range(n_epochs):  # loop over the dataset multiple times\n",
    "\n",
    "        running_loss = 0.0\n",
    "        for i, data in enumerate(train_dataloader, 0):\n",
    "            # get the inputs; data is a list of [inputs, labels]\n",
    "            (passage, question), answer = data\n",
    "\n",
    "            # text_input = [question[i] + ' [SEP] ' + passage[i] for i in range(len(passage))]\n",
    "\n",
    "            # zero the parameter gradients\n",
    "            optimizer.zero_grad()\n",
    "\n",
    "            inputs = tokenizer(\n",
    "                question,\n",
    "                passage,\n",
    "                padding=True,\n",
    "                max_length=512,\n",
    "                truncation=True,\n",
    "                return_tensors=\"pt\",\n",
    "            ).input_ids\n",
    "\n",
    "            labels = tokenizer(\n",
    "                answer,\n",
    "                max_length=512,\n",
    "                truncation=True,\n",
    "                padding=True,\n",
    "                return_tensors=\"pt\",\n",
    "            ).input_ids\n",
    "\n",
    "            #X=torch.tensor(input_ids,device='cuda')\n",
    "            #y=torch.tensor(labels,device='cuda')\n",
    "            \n",
    "            #print(X.shape,y.shape)\n",
    "            \n",
    "            #if X.shape[1]>500:\n",
    "            #    continue\n",
    "\n",
    "            # the forward function automatically creates the correct decoder_input_ids\n",
    "            outputs = model(inputs.to('cuda'), labels=labels.to('cuda'))\n",
    "            loss = outputs.loss\n",
    "\n",
    "            loss.backward()\n",
    "            optimizer.step()\n",
    "\n",
    "            # print statistics\n",
    "            running_loss += loss.item()\n",
    "\n",
    "            L.append(loss.detach().cpu().numpy())\n",
    "            \n",
    "            epoch_time = time.time() - start_time\n",
    "            batch_time = epoch_time/(i+1)\n",
    "            \n",
    "            print(f\"epoch: {epoch + 1}/{n_epochs}, {i + 1}/{len(train_dataloader)}, {epoch_time:.0f}s {batch_time*1e3:.0f}ms/step, lr: {optimizer.param_groups[0]['lr']:.3g}, loss: {running_loss/(i+1):.3g}\", end = '\\r')\n",
    "\n",
    "        print(f\"epoch: {epoch + 1}/{n_epochs}, {i + 1}/{len(train_dataloader)}, {epoch_time:.0f}s {batch_time*1e3:.0f}ms/step, lr: {optimizer.param_groups[0]['lr']:.3g}, loss: {running_loss/(i+1):.3g}\")\n",
    "\n",
    "    print('Finished Training')"
   ]
  },
  {
   "cell_type": "code",
   "execution_count": null,
   "metadata": {},
   "outputs": [
    {
     "name": "stderr",
     "output_type": "stream",
     "text": [
      "c:\\Users\\riccardo\\AppData\\Local\\Programs\\Python\\Python310\\lib\\site-packages\\transformers\\models\\encoder_decoder\\modeling_encoder_decoder.py:634: FutureWarning: Version v4.12.0 introduces a better way to train encoder-decoder models by computing the loss inside the encoder-decoder framework rather than in the decoder itself. You may observe training discrepancies if fine-tuning a model trained with versions anterior to 4.12.0. The decoder_input_ids are now created based on the labels, no need to pass them yourself anymore.\n",
      "  warnings.warn(DEPRECATION_WARNING, FutureWarning)\n"
     ]
    },
    {
     "name": "stdout",
     "output_type": "stream",
     "text": [
      "epoch: 1/3, 229/1341, 175s 762ms/step, lr: 0.001, loss: 1.43\r"
     ]
    },
    {
     "ename": "OutOfMemoryError",
     "evalue": "CUDA out of memory. Tried to allocate 806.00 MiB (GPU 0; 6.00 GiB total capacity; 4.41 GiB already allocated; 0 bytes free; 4.58 GiB reserved in total by PyTorch) If reserved memory is >> allocated memory try setting max_split_size_mb to avoid fragmentation.  See documentation for Memory Management and PYTORCH_CUDA_ALLOC_CONF",
     "output_type": "error",
     "traceback": [
      "\u001b[1;31m---------------------------------------------------------------------------\u001b[0m",
      "\u001b[1;31mOutOfMemoryError\u001b[0m                          Traceback (most recent call last)",
      "Cell \u001b[1;32mIn [22], line 1\u001b[0m\n\u001b[1;32m----> 1\u001b[0m train(M2,T2)\n",
      "Cell \u001b[1;32mIn [21], line 53\u001b[0m, in \u001b[0;36mtrain\u001b[1;34m(model, tokenizer, n_epochs, learning_rate)\u001b[0m\n\u001b[0;32m     50\u001b[0m outputs \u001b[39m=\u001b[39m model(inputs\u001b[39m.\u001b[39mto(\u001b[39m'\u001b[39m\u001b[39mcuda\u001b[39m\u001b[39m'\u001b[39m), labels\u001b[39m=\u001b[39mlabels\u001b[39m.\u001b[39mto(\u001b[39m'\u001b[39m\u001b[39mcuda\u001b[39m\u001b[39m'\u001b[39m))\n\u001b[0;32m     51\u001b[0m loss \u001b[39m=\u001b[39m outputs\u001b[39m.\u001b[39mloss\n\u001b[1;32m---> 53\u001b[0m loss\u001b[39m.\u001b[39;49mbackward()\n\u001b[0;32m     54\u001b[0m optimizer\u001b[39m.\u001b[39mstep()\n\u001b[0;32m     56\u001b[0m \u001b[39m# print statistics\u001b[39;00m\n",
      "File \u001b[1;32mc:\\Users\\riccardo\\AppData\\Local\\Programs\\Python\\Python310\\lib\\site-packages\\torch\\_tensor.py:487\u001b[0m, in \u001b[0;36mTensor.backward\u001b[1;34m(self, gradient, retain_graph, create_graph, inputs)\u001b[0m\n\u001b[0;32m    477\u001b[0m \u001b[39mif\u001b[39;00m has_torch_function_unary(\u001b[39mself\u001b[39m):\n\u001b[0;32m    478\u001b[0m     \u001b[39mreturn\u001b[39;00m handle_torch_function(\n\u001b[0;32m    479\u001b[0m         Tensor\u001b[39m.\u001b[39mbackward,\n\u001b[0;32m    480\u001b[0m         (\u001b[39mself\u001b[39m,),\n\u001b[1;32m   (...)\u001b[0m\n\u001b[0;32m    485\u001b[0m         inputs\u001b[39m=\u001b[39minputs,\n\u001b[0;32m    486\u001b[0m     )\n\u001b[1;32m--> 487\u001b[0m torch\u001b[39m.\u001b[39;49mautograd\u001b[39m.\u001b[39;49mbackward(\n\u001b[0;32m    488\u001b[0m     \u001b[39mself\u001b[39;49m, gradient, retain_graph, create_graph, inputs\u001b[39m=\u001b[39;49minputs\n\u001b[0;32m    489\u001b[0m )\n",
      "File \u001b[1;32mc:\\Users\\riccardo\\AppData\\Local\\Programs\\Python\\Python310\\lib\\site-packages\\torch\\autograd\\__init__.py:197\u001b[0m, in \u001b[0;36mbackward\u001b[1;34m(tensors, grad_tensors, retain_graph, create_graph, grad_variables, inputs)\u001b[0m\n\u001b[0;32m    192\u001b[0m     retain_graph \u001b[39m=\u001b[39m create_graph\n\u001b[0;32m    194\u001b[0m \u001b[39m# The reason we repeat same the comment below is that\u001b[39;00m\n\u001b[0;32m    195\u001b[0m \u001b[39m# some Python versions print out the first line of a multi-line function\u001b[39;00m\n\u001b[0;32m    196\u001b[0m \u001b[39m# calls in the traceback and some print out the last line\u001b[39;00m\n\u001b[1;32m--> 197\u001b[0m Variable\u001b[39m.\u001b[39;49m_execution_engine\u001b[39m.\u001b[39;49mrun_backward(  \u001b[39m# Calls into the C++ engine to run the backward pass\u001b[39;49;00m\n\u001b[0;32m    198\u001b[0m     tensors, grad_tensors_, retain_graph, create_graph, inputs,\n\u001b[0;32m    199\u001b[0m     allow_unreachable\u001b[39m=\u001b[39;49m\u001b[39mTrue\u001b[39;49;00m, accumulate_grad\u001b[39m=\u001b[39;49m\u001b[39mTrue\u001b[39;49;00m)\n",
      "\u001b[1;31mOutOfMemoryError\u001b[0m: CUDA out of memory. Tried to allocate 806.00 MiB (GPU 0; 6.00 GiB total capacity; 4.41 GiB already allocated; 0 bytes free; 4.58 GiB reserved in total by PyTorch) If reserved memory is >> allocated memory try setting max_split_size_mb to avoid fragmentation.  See documentation for Memory Management and PYTORCH_CUDA_ALLOC_CONF"
     ]
    }
   ],
   "source": [
    "train(M2,T2)"
   ]
  },
  {
   "cell_type": "markdown",
   "metadata": {},
   "source": [
    "# Task 7"
   ]
  },
  {
   "cell_type": "code",
   "execution_count": null,
   "metadata": {},
   "outputs": [],
   "source": []
  }
 ],
 "metadata": {
  "kernelspec": {
   "display_name": "Python 3",
   "language": "python",
   "name": "python3"
  },
  "language_info": {
   "codemirror_mode": {
    "name": "ipython",
    "version": 3
   },
   "file_extension": ".py",
   "mimetype": "text/x-python",
   "name": "python",
   "nbconvert_exporter": "python",
   "pygments_lexer": "ipython3",
   "version": "3.10.0"
  },
  "orig_nbformat": 4,
  "vscode": {
   "interpreter": {
    "hash": "d14990a399795653de35f1f5395269163893147857e74010bc072f6042c8e8da"
   }
  }
 },
 "nbformat": 4,
 "nbformat_minor": 2
}
