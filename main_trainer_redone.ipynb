{
 "cells": [
  {
   "cell_type": "markdown",
   "metadata": {},
   "source": [
    "<center>\n",
    "    <h1>Assignment 2 - Question Answering with Transformers on CoQA</h1>\n",
    "    <h2>Natural Language Processing</h2>\n",
    "    <h3>Antonio Politano, Enrico Pittini, Riccardo Spolaor and Samuele Bortolato</h3>\n",
    "    <h4>antonio.politano2@studio.unibo.it, enrico.pittini@studio.unibo.it, riccardo.spolaor@studio.unibo.it, samuele.bortolato@studio.unibo.it</h4>\n",
    "</center>\n",
    "\n",
    "\n",
    "\n",
    "---\n",
    "\n",
    "\n",
    "\n",
    "Assignment description: see `Assignment.ipynb`.\n",
    "\n",
    "In this notebook the QA task is addressed.\n",
    "\n",
    "For more detailed informations about the used functions, look into the corresponding docstrings inside the python files, inside the `utils` folder."
   ]
  },
  {
   "cell_type": "code",
   "execution_count": 1,
   "metadata": {},
   "outputs": [
    {
     "name": "stderr",
     "output_type": "stream",
     "text": [
      "c:\\Users\\riccardo\\AppData\\Local\\Programs\\Python\\Python310\\lib\\site-packages\\tqdm\\auto.py:22: TqdmWarning: IProgress not found. Please update jupyter and ipywidgets. See https://ipywidgets.readthedocs.io/en/stable/user_install.html\n",
      "  from .autonotebook import tqdm as notebook_tqdm\n"
     ]
    }
   ],
   "source": [
    "import json\n",
    "import numpy as np\n",
    "import pandas as pd\n",
    "import torch"
   ]
  },
  {
   "cell_type": "code",
   "execution_count": 2,
   "metadata": {},
   "outputs": [],
   "source": [
    "# Settings for autoreloading\n",
    "\n",
    "%load_ext autoreload\n",
    "%autoreload 2"
   ]
  },
  {
   "cell_type": "code",
   "execution_count": 3,
   "metadata": {},
   "outputs": [],
   "source": [
    "# Settings for reproducibility\n",
    "from utils.seeder import set_random_seed\n",
    "\n",
    "set_random_seed(42)"
   ]
  },
  {
   "cell_type": "markdown",
   "metadata": {},
   "source": [
    "# [Task 1] Remove unaswerable QA pairs"
   ]
  },
  {
   "cell_type": "markdown",
   "metadata": {},
   "source": [
    "## 1.1 Dataset download\n",
    "\n",
    "The dataset is downloaded and saved in the `coqua` folder using the snippet of code provided in `Assignment.ipynb`."
   ]
  },
  {
   "cell_type": "code",
   "execution_count": 4,
   "metadata": {},
   "outputs": [],
   "source": [
    "import os\n",
    "import urllib.request\n",
    "from tqdm import tqdm\n",
    "\n",
    "class DownloadProgressBar(tqdm):\n",
    "    def update_to(self, b=1, bsize=1, tsize=None):\n",
    "        if tsize is not None:\n",
    "            self.total = tsize\n",
    "        self.update(b * bsize - self.n)\n",
    "        \n",
    "def download_url(url, output_path):\n",
    "    with DownloadProgressBar(unit='B', unit_scale=True,\n",
    "                             miniters=1, desc=url.split('/')[-1]) as t:\n",
    "        urllib.request.urlretrieve(url, filename=output_path, reporthook=t.update_to)\n",
    "\n",
    "def download_data(data_path, url_path, suffix):    \n",
    "    if not os.path.exists(data_path):\n",
    "        os.makedirs(data_path)\n",
    "        \n",
    "    data_path = os.path.join(data_path, f'{suffix}.json')\n",
    "\n",
    "    if not os.path.exists(data_path):\n",
    "        print(f\"Downloading CoQA {suffix} data split... (it may take a while)\")\n",
    "        download_url(url=url_path, output_path=data_path)\n",
    "        print(\"Download completed!\")"
   ]
  },
  {
   "cell_type": "code",
   "execution_count": 5,
   "metadata": {},
   "outputs": [],
   "source": [
    "# Train data\n",
    "train_url = \"https://nlp.stanford.edu/data/coqa/coqa-train-v1.0.json\"\n",
    "download_data(data_path='coqa', url_path=train_url, suffix='train')\n",
    "\n",
    "# Test data\n",
    "test_url = \"https://nlp.stanford.edu/data/coqa/coqa-dev-v1.0.json\"\n",
    "download_data(data_path='coqa', url_path=test_url, suffix='test')  # <-- Why test? See next slides for an answer!"
   ]
  },
  {
   "cell_type": "markdown",
   "metadata": {},
   "source": [
    "## 1.2 Dataframe Creation\n",
    "\n",
    "The train and test dataframes (`train_df` and `test_df`) are built. Each row contains information about a specific question and the corresponding answer along with their chronological collocation (`turn_id`) in the conversation. Furthermore informations about the passage containing the context and the history of previous questions and answers of the relative conversation is contained."
   ]
  },
  {
   "cell_type": "code",
   "execution_count": 6,
   "metadata": {},
   "outputs": [],
   "source": [
    "from utils.dataframe_builder import get_dataframe\n",
    "\n",
    "train_df = get_dataframe(os.path.join('coqa', 'train.json'))\n",
    "test_df = get_dataframe(os.path.join('coqa', 'test.json'))\n"
   ]
  },
  {
   "cell_type": "markdown",
   "metadata": {},
   "source": [
    "## 1.3 Data Inspection"
   ]
  },
  {
   "cell_type": "markdown",
   "metadata": {},
   "source": [
    "The heads of the train and test dataframes are shown below along with their shapes."
   ]
  },
  {
   "cell_type": "code",
   "execution_count": 7,
   "metadata": {},
   "outputs": [
    {
     "name": "stdout",
     "output_type": "stream",
     "text": [
      "Train dataframe shape: (108647, 15)\n"
     ]
    },
    {
     "data": {
      "text/html": [
       "<div>\n",
       "<style scoped>\n",
       "    .dataframe tbody tr th:only-of-type {\n",
       "        vertical-align: middle;\n",
       "    }\n",
       "\n",
       "    .dataframe tbody tr th {\n",
       "        vertical-align: top;\n",
       "    }\n",
       "\n",
       "    .dataframe thead th {\n",
       "        text-align: right;\n",
       "    }\n",
       "</style>\n",
       "<table border=\"1\" class=\"dataframe\">\n",
       "  <thead>\n",
       "    <tr style=\"text-align: right;\">\n",
       "      <th></th>\n",
       "      <th>source</th>\n",
       "      <th>id</th>\n",
       "      <th>filename</th>\n",
       "      <th>story</th>\n",
       "      <th>name</th>\n",
       "      <th>question_input_text</th>\n",
       "      <th>question_turn_id</th>\n",
       "      <th>question_bad_turn</th>\n",
       "      <th>answer_span_start</th>\n",
       "      <th>answer_span_end</th>\n",
       "      <th>answer_span_text</th>\n",
       "      <th>answer_input_text</th>\n",
       "      <th>answer_turn_id</th>\n",
       "      <th>answer_bad_turn</th>\n",
       "      <th>history</th>\n",
       "    </tr>\n",
       "  </thead>\n",
       "  <tbody>\n",
       "    <tr>\n",
       "      <th>0</th>\n",
       "      <td>wikipedia</td>\n",
       "      <td>3zotghdk5ibi9cex97fepx7jetpso7</td>\n",
       "      <td>Vatican_Library.txt</td>\n",
       "      <td>The Vatican Apostolic Library (), more commonl...</td>\n",
       "      <td>Vatican_Library.txt</td>\n",
       "      <td>When was the Vat formally opened?</td>\n",
       "      <td>1</td>\n",
       "      <td>NaN</td>\n",
       "      <td>151</td>\n",
       "      <td>179</td>\n",
       "      <td>Formally established in 1475</td>\n",
       "      <td>It was formally established in 1475</td>\n",
       "      <td>1</td>\n",
       "      <td>NaN</td>\n",
       "      <td>[]</td>\n",
       "    </tr>\n",
       "    <tr>\n",
       "      <th>1</th>\n",
       "      <td>wikipedia</td>\n",
       "      <td>3zotghdk5ibi9cex97fepx7jetpso7</td>\n",
       "      <td>Vatican_Library.txt</td>\n",
       "      <td>The Vatican Apostolic Library (), more commonl...</td>\n",
       "      <td>Vatican_Library.txt</td>\n",
       "      <td>what is the library for?</td>\n",
       "      <td>2</td>\n",
       "      <td>NaN</td>\n",
       "      <td>454</td>\n",
       "      <td>494</td>\n",
       "      <td>he Vatican Library is a research library</td>\n",
       "      <td>research</td>\n",
       "      <td>2</td>\n",
       "      <td>NaN</td>\n",
       "      <td>[When was the Vat formally opened?, It was for...</td>\n",
       "    </tr>\n",
       "    <tr>\n",
       "      <th>2</th>\n",
       "      <td>wikipedia</td>\n",
       "      <td>3zotghdk5ibi9cex97fepx7jetpso7</td>\n",
       "      <td>Vatican_Library.txt</td>\n",
       "      <td>The Vatican Apostolic Library (), more commonl...</td>\n",
       "      <td>Vatican_Library.txt</td>\n",
       "      <td>for what subjects?</td>\n",
       "      <td>3</td>\n",
       "      <td>NaN</td>\n",
       "      <td>457</td>\n",
       "      <td>511</td>\n",
       "      <td>Vatican Library is a research library for hist...</td>\n",
       "      <td>history, and law</td>\n",
       "      <td>3</td>\n",
       "      <td>NaN</td>\n",
       "      <td>[When was the Vat formally opened?, It was for...</td>\n",
       "    </tr>\n",
       "    <tr>\n",
       "      <th>3</th>\n",
       "      <td>wikipedia</td>\n",
       "      <td>3zotghdk5ibi9cex97fepx7jetpso7</td>\n",
       "      <td>Vatican_Library.txt</td>\n",
       "      <td>The Vatican Apostolic Library (), more commonl...</td>\n",
       "      <td>Vatican_Library.txt</td>\n",
       "      <td>and?</td>\n",
       "      <td>4</td>\n",
       "      <td>NaN</td>\n",
       "      <td>457</td>\n",
       "      <td>545</td>\n",
       "      <td>Vatican Library is a research library for hist...</td>\n",
       "      <td>philosophy, science and theology</td>\n",
       "      <td>4</td>\n",
       "      <td>NaN</td>\n",
       "      <td>[When was the Vat formally opened?, It was for...</td>\n",
       "    </tr>\n",
       "    <tr>\n",
       "      <th>4</th>\n",
       "      <td>wikipedia</td>\n",
       "      <td>3zotghdk5ibi9cex97fepx7jetpso7</td>\n",
       "      <td>Vatican_Library.txt</td>\n",
       "      <td>The Vatican Apostolic Library (), more commonl...</td>\n",
       "      <td>Vatican_Library.txt</td>\n",
       "      <td>what was started in 2014?</td>\n",
       "      <td>5</td>\n",
       "      <td>NaN</td>\n",
       "      <td>769</td>\n",
       "      <td>879</td>\n",
       "      <td>March 2014, the Vatican Library began an initi...</td>\n",
       "      <td>a  project</td>\n",
       "      <td>5</td>\n",
       "      <td>NaN</td>\n",
       "      <td>[When was the Vat formally opened?, It was for...</td>\n",
       "    </tr>\n",
       "  </tbody>\n",
       "</table>\n",
       "</div>"
      ],
      "text/plain": [
       "      source                              id             filename  \\\n",
       "0  wikipedia  3zotghdk5ibi9cex97fepx7jetpso7  Vatican_Library.txt   \n",
       "1  wikipedia  3zotghdk5ibi9cex97fepx7jetpso7  Vatican_Library.txt   \n",
       "2  wikipedia  3zotghdk5ibi9cex97fepx7jetpso7  Vatican_Library.txt   \n",
       "3  wikipedia  3zotghdk5ibi9cex97fepx7jetpso7  Vatican_Library.txt   \n",
       "4  wikipedia  3zotghdk5ibi9cex97fepx7jetpso7  Vatican_Library.txt   \n",
       "\n",
       "                                               story                 name  \\\n",
       "0  The Vatican Apostolic Library (), more commonl...  Vatican_Library.txt   \n",
       "1  The Vatican Apostolic Library (), more commonl...  Vatican_Library.txt   \n",
       "2  The Vatican Apostolic Library (), more commonl...  Vatican_Library.txt   \n",
       "3  The Vatican Apostolic Library (), more commonl...  Vatican_Library.txt   \n",
       "4  The Vatican Apostolic Library (), more commonl...  Vatican_Library.txt   \n",
       "\n",
       "                 question_input_text  question_turn_id question_bad_turn  \\\n",
       "0  When was the Vat formally opened?                 1               NaN   \n",
       "1           what is the library for?                 2               NaN   \n",
       "2                 for what subjects?                 3               NaN   \n",
       "3                               and?                 4               NaN   \n",
       "4          what was started in 2014?                 5               NaN   \n",
       "\n",
       "   answer_span_start  answer_span_end  \\\n",
       "0                151              179   \n",
       "1                454              494   \n",
       "2                457              511   \n",
       "3                457              545   \n",
       "4                769              879   \n",
       "\n",
       "                                    answer_span_text  \\\n",
       "0                       Formally established in 1475   \n",
       "1           he Vatican Library is a research library   \n",
       "2  Vatican Library is a research library for hist...   \n",
       "3  Vatican Library is a research library for hist...   \n",
       "4  March 2014, the Vatican Library began an initi...   \n",
       "\n",
       "                     answer_input_text  answer_turn_id answer_bad_turn  \\\n",
       "0  It was formally established in 1475               1             NaN   \n",
       "1                             research               2             NaN   \n",
       "2                     history, and law               3             NaN   \n",
       "3     philosophy, science and theology               4             NaN   \n",
       "4                           a  project               5             NaN   \n",
       "\n",
       "                                             history  \n",
       "0                                                 []  \n",
       "1  [When was the Vat formally opened?, It was for...  \n",
       "2  [When was the Vat formally opened?, It was for...  \n",
       "3  [When was the Vat formally opened?, It was for...  \n",
       "4  [When was the Vat formally opened?, It was for...  "
      ]
     },
     "execution_count": 7,
     "metadata": {},
     "output_type": "execute_result"
    }
   ],
   "source": [
    "print(f'Train dataframe shape: {train_df.shape}')\n",
    "train_df.head()"
   ]
  },
  {
   "cell_type": "code",
   "execution_count": 8,
   "metadata": {},
   "outputs": [
    {
     "name": "stdout",
     "output_type": "stream",
     "text": [
      "Test dataframe shape: (7983, 14)\n"
     ]
    },
    {
     "data": {
      "text/html": [
       "<div>\n",
       "<style scoped>\n",
       "    .dataframe tbody tr th:only-of-type {\n",
       "        vertical-align: middle;\n",
       "    }\n",
       "\n",
       "    .dataframe tbody tr th {\n",
       "        vertical-align: top;\n",
       "    }\n",
       "\n",
       "    .dataframe thead th {\n",
       "        text-align: right;\n",
       "    }\n",
       "</style>\n",
       "<table border=\"1\" class=\"dataframe\">\n",
       "  <thead>\n",
       "    <tr style=\"text-align: right;\">\n",
       "      <th></th>\n",
       "      <th>source</th>\n",
       "      <th>id</th>\n",
       "      <th>filename</th>\n",
       "      <th>story</th>\n",
       "      <th>additional_answers</th>\n",
       "      <th>name</th>\n",
       "      <th>question_input_text</th>\n",
       "      <th>question_turn_id</th>\n",
       "      <th>answer_span_start</th>\n",
       "      <th>answer_span_end</th>\n",
       "      <th>answer_span_text</th>\n",
       "      <th>answer_input_text</th>\n",
       "      <th>answer_turn_id</th>\n",
       "      <th>history</th>\n",
       "    </tr>\n",
       "  </thead>\n",
       "  <tbody>\n",
       "    <tr>\n",
       "      <th>0</th>\n",
       "      <td>mctest</td>\n",
       "      <td>3dr23u6we5exclen4th8uq9rb42tel</td>\n",
       "      <td>mc160.test.41</td>\n",
       "      <td>Once upon a time, in a barn near a farm house,...</td>\n",
       "      <td>{'0': [{'span_start': 68, 'span_end': 93, 'spa...</td>\n",
       "      <td>mc160.test.41</td>\n",
       "      <td>What color was Cotton?</td>\n",
       "      <td>1</td>\n",
       "      <td>59</td>\n",
       "      <td>93</td>\n",
       "      <td>a little white kitten named Cotton</td>\n",
       "      <td>white</td>\n",
       "      <td>1</td>\n",
       "      <td>[]</td>\n",
       "    </tr>\n",
       "    <tr>\n",
       "      <th>1</th>\n",
       "      <td>mctest</td>\n",
       "      <td>3dr23u6we5exclen4th8uq9rb42tel</td>\n",
       "      <td>mc160.test.41</td>\n",
       "      <td>Once upon a time, in a barn near a farm house,...</td>\n",
       "      <td>{'0': [{'span_start': 68, 'span_end': 93, 'spa...</td>\n",
       "      <td>mc160.test.41</td>\n",
       "      <td>Where did she live?</td>\n",
       "      <td>2</td>\n",
       "      <td>18</td>\n",
       "      <td>80</td>\n",
       "      <td>in a barn near a farm house, there lived a lit...</td>\n",
       "      <td>in a barn</td>\n",
       "      <td>2</td>\n",
       "      <td>[What color was Cotton?, white]</td>\n",
       "    </tr>\n",
       "    <tr>\n",
       "      <th>2</th>\n",
       "      <td>mctest</td>\n",
       "      <td>3dr23u6we5exclen4th8uq9rb42tel</td>\n",
       "      <td>mc160.test.41</td>\n",
       "      <td>Once upon a time, in a barn near a farm house,...</td>\n",
       "      <td>{'0': [{'span_start': 68, 'span_end': 93, 'spa...</td>\n",
       "      <td>mc160.test.41</td>\n",
       "      <td>Did she live alone?</td>\n",
       "      <td>3</td>\n",
       "      <td>196</td>\n",
       "      <td>215</td>\n",
       "      <td>Cotton wasn't alone</td>\n",
       "      <td>no</td>\n",
       "      <td>3</td>\n",
       "      <td>[What color was Cotton?, white, Where did she ...</td>\n",
       "    </tr>\n",
       "    <tr>\n",
       "      <th>3</th>\n",
       "      <td>mctest</td>\n",
       "      <td>3dr23u6we5exclen4th8uq9rb42tel</td>\n",
       "      <td>mc160.test.41</td>\n",
       "      <td>Once upon a time, in a barn near a farm house,...</td>\n",
       "      <td>{'0': [{'span_start': 68, 'span_end': 93, 'spa...</td>\n",
       "      <td>mc160.test.41</td>\n",
       "      <td>Who did she live with?</td>\n",
       "      <td>4</td>\n",
       "      <td>281</td>\n",
       "      <td>315</td>\n",
       "      <td>with her mommy and 5 other sisters</td>\n",
       "      <td>with her mommy and 5 sisters</td>\n",
       "      <td>4</td>\n",
       "      <td>[What color was Cotton?, white, Where did she ...</td>\n",
       "    </tr>\n",
       "    <tr>\n",
       "      <th>4</th>\n",
       "      <td>mctest</td>\n",
       "      <td>3dr23u6we5exclen4th8uq9rb42tel</td>\n",
       "      <td>mc160.test.41</td>\n",
       "      <td>Once upon a time, in a barn near a farm house,...</td>\n",
       "      <td>{'0': [{'span_start': 68, 'span_end': 93, 'spa...</td>\n",
       "      <td>mc160.test.41</td>\n",
       "      <td>What color were her sisters?</td>\n",
       "      <td>5</td>\n",
       "      <td>428</td>\n",
       "      <td>490</td>\n",
       "      <td>her sisters were all orange with beautiful whi...</td>\n",
       "      <td>orange and white</td>\n",
       "      <td>5</td>\n",
       "      <td>[What color was Cotton?, white, Where did she ...</td>\n",
       "    </tr>\n",
       "  </tbody>\n",
       "</table>\n",
       "</div>"
      ],
      "text/plain": [
       "   source                              id       filename  \\\n",
       "0  mctest  3dr23u6we5exclen4th8uq9rb42tel  mc160.test.41   \n",
       "1  mctest  3dr23u6we5exclen4th8uq9rb42tel  mc160.test.41   \n",
       "2  mctest  3dr23u6we5exclen4th8uq9rb42tel  mc160.test.41   \n",
       "3  mctest  3dr23u6we5exclen4th8uq9rb42tel  mc160.test.41   \n",
       "4  mctest  3dr23u6we5exclen4th8uq9rb42tel  mc160.test.41   \n",
       "\n",
       "                                               story  \\\n",
       "0  Once upon a time, in a barn near a farm house,...   \n",
       "1  Once upon a time, in a barn near a farm house,...   \n",
       "2  Once upon a time, in a barn near a farm house,...   \n",
       "3  Once upon a time, in a barn near a farm house,...   \n",
       "4  Once upon a time, in a barn near a farm house,...   \n",
       "\n",
       "                                  additional_answers           name  \\\n",
       "0  {'0': [{'span_start': 68, 'span_end': 93, 'spa...  mc160.test.41   \n",
       "1  {'0': [{'span_start': 68, 'span_end': 93, 'spa...  mc160.test.41   \n",
       "2  {'0': [{'span_start': 68, 'span_end': 93, 'spa...  mc160.test.41   \n",
       "3  {'0': [{'span_start': 68, 'span_end': 93, 'spa...  mc160.test.41   \n",
       "4  {'0': [{'span_start': 68, 'span_end': 93, 'spa...  mc160.test.41   \n",
       "\n",
       "            question_input_text  question_turn_id  answer_span_start  \\\n",
       "0        What color was Cotton?                 1                 59   \n",
       "1           Where did she live?                 2                 18   \n",
       "2           Did she live alone?                 3                196   \n",
       "3        Who did she live with?                 4                281   \n",
       "4  What color were her sisters?                 5                428   \n",
       "\n",
       "   answer_span_end                                   answer_span_text  \\\n",
       "0               93                 a little white kitten named Cotton   \n",
       "1               80  in a barn near a farm house, there lived a lit...   \n",
       "2              215                                Cotton wasn't alone   \n",
       "3              315                 with her mommy and 5 other sisters   \n",
       "4              490  her sisters were all orange with beautiful whi...   \n",
       "\n",
       "              answer_input_text  answer_turn_id  \\\n",
       "0                         white               1   \n",
       "1                     in a barn               2   \n",
       "2                            no               3   \n",
       "3  with her mommy and 5 sisters               4   \n",
       "4              orange and white               5   \n",
       "\n",
       "                                             history  \n",
       "0                                                 []  \n",
       "1                    [What color was Cotton?, white]  \n",
       "2  [What color was Cotton?, white, Where did she ...  \n",
       "3  [What color was Cotton?, white, Where did she ...  \n",
       "4  [What color was Cotton?, white, Where did she ...  "
      ]
     },
     "execution_count": 8,
     "metadata": {},
     "output_type": "execute_result"
    }
   ],
   "source": [
    "print(f'Test dataframe shape: {test_df.shape}')\n",
    "test_df.head()"
   ]
  },
  {
   "cell_type": "markdown",
   "metadata": {},
   "source": [
    "We can observe that the training dataframe contains $15$ different features, while the test dataframe has just $14$. In particular the train dataframe includes the additional features `question_bad_turn` and `answer_bad_turn`. With a quick inspection of the dataframe's head it can be observed that they include `NaN` values. Since the task requires to remove solely unanswerable question-answer pairs, not mentioning the handling of \"bad turn\", these two features are dropped.\n",
    "\n",
    "On the other hand the test dataframe contains the extra feature `additional_answers`, which can be removed as expressed in the specifications of the assignment."
   ]
  },
  {
   "cell_type": "code",
   "execution_count": 9,
   "metadata": {},
   "outputs": [],
   "source": [
    "# Drop non-matching features\n",
    "\n",
    "train_df.drop(['question_bad_turn', 'answer_bad_turn'], axis=1, inplace=True)\n",
    "test_df.drop('additional_answers', axis=1, inplace=True)"
   ]
  },
  {
   "cell_type": "markdown",
   "metadata": {},
   "source": [
    "In addition the features `source`, `name` and `filename` are removed since they are considered useless for the task."
   ]
  },
  {
   "cell_type": "code",
   "execution_count": 10,
   "metadata": {},
   "outputs": [],
   "source": [
    "# Drop useless columns (`source`, `name`, `filename`)\n",
    "\n",
    "train_df.drop(['source', 'name', 'filename'], axis=1, inplace=True)\n",
    "test_df.drop(['source', 'name', 'filename'], axis=1, inplace=True)"
   ]
  },
  {
   "cell_type": "markdown",
   "metadata": {},
   "source": [
    "Next, by inspecting the `question_turn_id` and `answer_turn_id` it can be noticed that they are equivalent, since they refer to the same question-answer pair, hence they can be merged in a single feature (`turn_id`)."
   ]
  },
  {
   "cell_type": "code",
   "execution_count": 11,
   "metadata": {},
   "outputs": [],
   "source": [
    "# Assert that the turn ids of the questions are the same as the respective answers\n",
    "\n",
    "assert train_df['question_turn_id'].equals(train_df['answer_turn_id']), \\\n",
    "    'Question and answer turn ids are different in the train dataset'\n",
    "    \n",
    "assert test_df['question_turn_id'].equals(test_df['answer_turn_id']), \\\n",
    "    'Question and answer turn ids are different in the test dataset'"
   ]
  },
  {
   "cell_type": "code",
   "execution_count": 12,
   "metadata": {},
   "outputs": [],
   "source": [
    "# Rename columns `question_turn_id` and `answer_turn_id` into a singular `turn_id` column since they are equal\n",
    "refactor_turn_id_columns = lambda df: \\\n",
    "    df.drop('question_turn_id', axis=1).rename(columns = {'answer_turn_id': 'turn_id'})\n",
    "    \n",
    "train_df = refactor_turn_id_columns(train_df)\n",
    "test_df = refactor_turn_id_columns(test_df)"
   ]
  },
  {
   "cell_type": "markdown",
   "metadata": {},
   "source": [
    "Finally the columns `answer_input_text` and `question_input_text` are renamed into `answer` and `question` respectively for simplicity."
   ]
  },
  {
   "cell_type": "code",
   "execution_count": 13,
   "metadata": {},
   "outputs": [],
   "source": [
    "# Rename columns `answer_input_text` and `question_input_text` into `answer` and `question` respectively\n",
    "column_renames = {'answer_input_text': 'answer', 'question_input_text': 'question'}\n",
    "\n",
    "train_df.rename(columns=column_renames, inplace=True)\n",
    "test_df.rename(columns=column_renames, inplace=True)"
   ]
  },
  {
   "cell_type": "markdown",
   "metadata": {},
   "source": [
    "The shapes of the dataframes now match on the column number and no Null values are present."
   ]
  },
  {
   "cell_type": "code",
   "execution_count": 14,
   "metadata": {},
   "outputs": [
    {
     "name": "stdout",
     "output_type": "stream",
     "text": [
      "Train dataframe shape after the unwanted columns drop: (108647, 9)\n",
      "Test dataframe shape after the unwanted column drop: (7983, 9)\n"
     ]
    }
   ],
   "source": [
    "print(f'Train dataframe shape after the unwanted columns drop: {train_df.shape}')\n",
    "print(f'Test dataframe shape after the unwanted column drop: {test_df.shape}')"
   ]
  },
  {
   "cell_type": "code",
   "execution_count": 15,
   "metadata": {},
   "outputs": [
    {
     "name": "stdout",
     "output_type": "stream",
     "text": [
      "Null values in the train dataframe: 0.\n",
      "Null values in the test dataframe: 0.\n"
     ]
    }
   ],
   "source": [
    "print(f'Null values in the train dataframe: {train_df.isna().sum().sum()}.')\n",
    "print(f'Null values in the test dataframe: {test_df.isna().sum().sum()}.')"
   ]
  },
  {
   "cell_type": "code",
   "execution_count": 16,
   "metadata": {},
   "outputs": [
    {
     "data": {
      "text/html": [
       "<div>\n",
       "<style scoped>\n",
       "    .dataframe tbody tr th:only-of-type {\n",
       "        vertical-align: middle;\n",
       "    }\n",
       "\n",
       "    .dataframe tbody tr th {\n",
       "        vertical-align: top;\n",
       "    }\n",
       "\n",
       "    .dataframe thead th {\n",
       "        text-align: right;\n",
       "    }\n",
       "</style>\n",
       "<table border=\"1\" class=\"dataframe\">\n",
       "  <thead>\n",
       "    <tr style=\"text-align: right;\">\n",
       "      <th></th>\n",
       "      <th>id</th>\n",
       "      <th>story</th>\n",
       "      <th>question</th>\n",
       "      <th>answer_span_start</th>\n",
       "      <th>answer_span_end</th>\n",
       "      <th>answer_span_text</th>\n",
       "      <th>answer</th>\n",
       "      <th>turn_id</th>\n",
       "      <th>history</th>\n",
       "    </tr>\n",
       "  </thead>\n",
       "  <tbody>\n",
       "    <tr>\n",
       "      <th>0</th>\n",
       "      <td>3zotghdk5ibi9cex97fepx7jetpso7</td>\n",
       "      <td>The Vatican Apostolic Library (), more commonl...</td>\n",
       "      <td>When was the Vat formally opened?</td>\n",
       "      <td>151</td>\n",
       "      <td>179</td>\n",
       "      <td>Formally established in 1475</td>\n",
       "      <td>It was formally established in 1475</td>\n",
       "      <td>1</td>\n",
       "      <td>[]</td>\n",
       "    </tr>\n",
       "    <tr>\n",
       "      <th>1</th>\n",
       "      <td>3zotghdk5ibi9cex97fepx7jetpso7</td>\n",
       "      <td>The Vatican Apostolic Library (), more commonl...</td>\n",
       "      <td>what is the library for?</td>\n",
       "      <td>454</td>\n",
       "      <td>494</td>\n",
       "      <td>he Vatican Library is a research library</td>\n",
       "      <td>research</td>\n",
       "      <td>2</td>\n",
       "      <td>[When was the Vat formally opened?, It was for...</td>\n",
       "    </tr>\n",
       "    <tr>\n",
       "      <th>2</th>\n",
       "      <td>3zotghdk5ibi9cex97fepx7jetpso7</td>\n",
       "      <td>The Vatican Apostolic Library (), more commonl...</td>\n",
       "      <td>for what subjects?</td>\n",
       "      <td>457</td>\n",
       "      <td>511</td>\n",
       "      <td>Vatican Library is a research library for hist...</td>\n",
       "      <td>history, and law</td>\n",
       "      <td>3</td>\n",
       "      <td>[When was the Vat formally opened?, It was for...</td>\n",
       "    </tr>\n",
       "    <tr>\n",
       "      <th>3</th>\n",
       "      <td>3zotghdk5ibi9cex97fepx7jetpso7</td>\n",
       "      <td>The Vatican Apostolic Library (), more commonl...</td>\n",
       "      <td>and?</td>\n",
       "      <td>457</td>\n",
       "      <td>545</td>\n",
       "      <td>Vatican Library is a research library for hist...</td>\n",
       "      <td>philosophy, science and theology</td>\n",
       "      <td>4</td>\n",
       "      <td>[When was the Vat formally opened?, It was for...</td>\n",
       "    </tr>\n",
       "    <tr>\n",
       "      <th>4</th>\n",
       "      <td>3zotghdk5ibi9cex97fepx7jetpso7</td>\n",
       "      <td>The Vatican Apostolic Library (), more commonl...</td>\n",
       "      <td>what was started in 2014?</td>\n",
       "      <td>769</td>\n",
       "      <td>879</td>\n",
       "      <td>March 2014, the Vatican Library began an initi...</td>\n",
       "      <td>a  project</td>\n",
       "      <td>5</td>\n",
       "      <td>[When was the Vat formally opened?, It was for...</td>\n",
       "    </tr>\n",
       "  </tbody>\n",
       "</table>\n",
       "</div>"
      ],
      "text/plain": [
       "                               id  \\\n",
       "0  3zotghdk5ibi9cex97fepx7jetpso7   \n",
       "1  3zotghdk5ibi9cex97fepx7jetpso7   \n",
       "2  3zotghdk5ibi9cex97fepx7jetpso7   \n",
       "3  3zotghdk5ibi9cex97fepx7jetpso7   \n",
       "4  3zotghdk5ibi9cex97fepx7jetpso7   \n",
       "\n",
       "                                               story  \\\n",
       "0  The Vatican Apostolic Library (), more commonl...   \n",
       "1  The Vatican Apostolic Library (), more commonl...   \n",
       "2  The Vatican Apostolic Library (), more commonl...   \n",
       "3  The Vatican Apostolic Library (), more commonl...   \n",
       "4  The Vatican Apostolic Library (), more commonl...   \n",
       "\n",
       "                            question  answer_span_start  answer_span_end  \\\n",
       "0  When was the Vat formally opened?                151              179   \n",
       "1           what is the library for?                454              494   \n",
       "2                 for what subjects?                457              511   \n",
       "3                               and?                457              545   \n",
       "4          what was started in 2014?                769              879   \n",
       "\n",
       "                                    answer_span_text  \\\n",
       "0                       Formally established in 1475   \n",
       "1           he Vatican Library is a research library   \n",
       "2  Vatican Library is a research library for hist...   \n",
       "3  Vatican Library is a research library for hist...   \n",
       "4  March 2014, the Vatican Library began an initi...   \n",
       "\n",
       "                                answer  turn_id  \\\n",
       "0  It was formally established in 1475        1   \n",
       "1                             research        2   \n",
       "2                     history, and law        3   \n",
       "3     philosophy, science and theology        4   \n",
       "4                           a  project        5   \n",
       "\n",
       "                                             history  \n",
       "0                                                 []  \n",
       "1  [When was the Vat formally opened?, It was for...  \n",
       "2  [When was the Vat formally opened?, It was for...  \n",
       "3  [When was the Vat formally opened?, It was for...  \n",
       "4  [When was the Vat formally opened?, It was for...  "
      ]
     },
     "execution_count": 16,
     "metadata": {},
     "output_type": "execute_result"
    }
   ],
   "source": [
    "train_df.head()"
   ]
  },
  {
   "cell_type": "code",
   "execution_count": 17,
   "metadata": {},
   "outputs": [
    {
     "data": {
      "text/html": [
       "<div>\n",
       "<style scoped>\n",
       "    .dataframe tbody tr th:only-of-type {\n",
       "        vertical-align: middle;\n",
       "    }\n",
       "\n",
       "    .dataframe tbody tr th {\n",
       "        vertical-align: top;\n",
       "    }\n",
       "\n",
       "    .dataframe thead th {\n",
       "        text-align: right;\n",
       "    }\n",
       "</style>\n",
       "<table border=\"1\" class=\"dataframe\">\n",
       "  <thead>\n",
       "    <tr style=\"text-align: right;\">\n",
       "      <th></th>\n",
       "      <th>id</th>\n",
       "      <th>story</th>\n",
       "      <th>question</th>\n",
       "      <th>answer_span_start</th>\n",
       "      <th>answer_span_end</th>\n",
       "      <th>answer_span_text</th>\n",
       "      <th>answer</th>\n",
       "      <th>turn_id</th>\n",
       "      <th>history</th>\n",
       "    </tr>\n",
       "  </thead>\n",
       "  <tbody>\n",
       "    <tr>\n",
       "      <th>0</th>\n",
       "      <td>3dr23u6we5exclen4th8uq9rb42tel</td>\n",
       "      <td>Once upon a time, in a barn near a farm house,...</td>\n",
       "      <td>What color was Cotton?</td>\n",
       "      <td>59</td>\n",
       "      <td>93</td>\n",
       "      <td>a little white kitten named Cotton</td>\n",
       "      <td>white</td>\n",
       "      <td>1</td>\n",
       "      <td>[]</td>\n",
       "    </tr>\n",
       "    <tr>\n",
       "      <th>1</th>\n",
       "      <td>3dr23u6we5exclen4th8uq9rb42tel</td>\n",
       "      <td>Once upon a time, in a barn near a farm house,...</td>\n",
       "      <td>Where did she live?</td>\n",
       "      <td>18</td>\n",
       "      <td>80</td>\n",
       "      <td>in a barn near a farm house, there lived a lit...</td>\n",
       "      <td>in a barn</td>\n",
       "      <td>2</td>\n",
       "      <td>[What color was Cotton?, white]</td>\n",
       "    </tr>\n",
       "    <tr>\n",
       "      <th>2</th>\n",
       "      <td>3dr23u6we5exclen4th8uq9rb42tel</td>\n",
       "      <td>Once upon a time, in a barn near a farm house,...</td>\n",
       "      <td>Did she live alone?</td>\n",
       "      <td>196</td>\n",
       "      <td>215</td>\n",
       "      <td>Cotton wasn't alone</td>\n",
       "      <td>no</td>\n",
       "      <td>3</td>\n",
       "      <td>[What color was Cotton?, white, Where did she ...</td>\n",
       "    </tr>\n",
       "    <tr>\n",
       "      <th>3</th>\n",
       "      <td>3dr23u6we5exclen4th8uq9rb42tel</td>\n",
       "      <td>Once upon a time, in a barn near a farm house,...</td>\n",
       "      <td>Who did she live with?</td>\n",
       "      <td>281</td>\n",
       "      <td>315</td>\n",
       "      <td>with her mommy and 5 other sisters</td>\n",
       "      <td>with her mommy and 5 sisters</td>\n",
       "      <td>4</td>\n",
       "      <td>[What color was Cotton?, white, Where did she ...</td>\n",
       "    </tr>\n",
       "    <tr>\n",
       "      <th>4</th>\n",
       "      <td>3dr23u6we5exclen4th8uq9rb42tel</td>\n",
       "      <td>Once upon a time, in a barn near a farm house,...</td>\n",
       "      <td>What color were her sisters?</td>\n",
       "      <td>428</td>\n",
       "      <td>490</td>\n",
       "      <td>her sisters were all orange with beautiful whi...</td>\n",
       "      <td>orange and white</td>\n",
       "      <td>5</td>\n",
       "      <td>[What color was Cotton?, white, Where did she ...</td>\n",
       "    </tr>\n",
       "  </tbody>\n",
       "</table>\n",
       "</div>"
      ],
      "text/plain": [
       "                               id  \\\n",
       "0  3dr23u6we5exclen4th8uq9rb42tel   \n",
       "1  3dr23u6we5exclen4th8uq9rb42tel   \n",
       "2  3dr23u6we5exclen4th8uq9rb42tel   \n",
       "3  3dr23u6we5exclen4th8uq9rb42tel   \n",
       "4  3dr23u6we5exclen4th8uq9rb42tel   \n",
       "\n",
       "                                               story  \\\n",
       "0  Once upon a time, in a barn near a farm house,...   \n",
       "1  Once upon a time, in a barn near a farm house,...   \n",
       "2  Once upon a time, in a barn near a farm house,...   \n",
       "3  Once upon a time, in a barn near a farm house,...   \n",
       "4  Once upon a time, in a barn near a farm house,...   \n",
       "\n",
       "                       question  answer_span_start  answer_span_end  \\\n",
       "0        What color was Cotton?                 59               93   \n",
       "1           Where did she live?                 18               80   \n",
       "2           Did she live alone?                196              215   \n",
       "3        Who did she live with?                281              315   \n",
       "4  What color were her sisters?                428              490   \n",
       "\n",
       "                                    answer_span_text  \\\n",
       "0                 a little white kitten named Cotton   \n",
       "1  in a barn near a farm house, there lived a lit...   \n",
       "2                                Cotton wasn't alone   \n",
       "3                 with her mommy and 5 other sisters   \n",
       "4  her sisters were all orange with beautiful whi...   \n",
       "\n",
       "                         answer  turn_id  \\\n",
       "0                         white        1   \n",
       "1                     in a barn        2   \n",
       "2                            no        3   \n",
       "3  with her mommy and 5 sisters        4   \n",
       "4              orange and white        5   \n",
       "\n",
       "                                             history  \n",
       "0                                                 []  \n",
       "1                    [What color was Cotton?, white]  \n",
       "2  [What color was Cotton?, white, Where did she ...  \n",
       "3  [What color was Cotton?, white, Where did she ...  \n",
       "4  [What color was Cotton?, white, Where did she ...  "
      ]
     },
     "execution_count": 17,
     "metadata": {},
     "output_type": "execute_result"
    }
   ],
   "source": [
    "test_df.head()"
   ]
  },
  {
   "cell_type": "markdown",
   "metadata": {},
   "source": [
    "## 1.3 Remove Unanswerable Question-Answer Pairs"
   ]
  },
  {
   "cell_type": "markdown",
   "metadata": {},
   "source": [
    "As required by the task, the unanswerable question-answer pairs are removed from the dataset by dropping the rows of the dataframes where the feature `answer` is equal to \"unknown\"."
   ]
  },
  {
   "cell_type": "code",
   "execution_count": 18,
   "metadata": {},
   "outputs": [],
   "source": [
    "# Delete rows with unknown answer\n",
    "\n",
    "train_df.drop(train_df[train_df['answer'] == 'unknown'].index, inplace=True)\n",
    "train_df.reset_index(drop=True, inplace=True)\n",
    "\n",
    "test_df.drop(test_df[test_df['answer'] == 'unknown'].index, inplace=True)\n",
    "test_df.reset_index(drop=True, inplace=True)\n"
   ]
  },
  {
   "cell_type": "code",
   "execution_count": 19,
   "metadata": {},
   "outputs": [
    {
     "name": "stdout",
     "output_type": "stream",
     "text": [
      "Train dataframe shape after the unanswerable question-answer pairs are removed: (107276, 9)\n",
      "Test dataframe shape after the unanswerable question-answer pairs are removed: (7917, 9)\n"
     ]
    }
   ],
   "source": [
    "print(f'Train dataframe shape after the unanswerable question-answer pairs are removed: {train_df.shape}')\n",
    "print(f'Test dataframe shape after the unanswerable question-answer pairs are removed: {test_df.shape}')"
   ]
  },
  {
   "cell_type": "markdown",
   "metadata": {},
   "source": [
    "## 1.4 Data Analysis"
   ]
  },
  {
   "cell_type": "markdown",
   "metadata": {},
   "source": [
    "In this section some interesting analyses on the training set are carried out."
   ]
  },
  {
   "cell_type": "code",
   "execution_count": 20,
   "metadata": {},
   "outputs": [],
   "source": [
    "# Group dataframe by `id`\n",
    "grouped_train_df = train_df.groupby(by=['id'])"
   ]
  },
  {
   "cell_type": "code",
   "execution_count": 21,
   "metadata": {},
   "outputs": [
    {
     "name": "stdout",
     "output_type": "stream",
     "text": [
      "Number of train passages: 7193\n"
     ]
    }
   ],
   "source": [
    "print(f'Number of train passages: {len(grouped_train_df)}')"
   ]
  },
  {
   "cell_type": "code",
   "execution_count": 22,
   "metadata": {},
   "outputs": [
    {
     "data": {
      "image/png": "[encoded data removed]",
      "text/plain": [
       "<Figure size 1500x700 with 1 Axes>"
      ]
     },
     "metadata": {},
     "output_type": "display_data"
    }
   ],
   "source": [
    "from utils.dataset_analisys import *\n",
    "plot_converstion_length_distribution(grouped_train_df)"
   ]
  },
  {
   "cell_type": "code",
   "execution_count": 23,
   "metadata": {},
   "outputs": [
    {
     "data": {
      "image/png": "[encoded data removed]",
      "text/plain": [
       "<Figure size 1500x700 with 2 Axes>"
      ]
     },
     "metadata": {},
     "output_type": "display_data"
    }
   ],
   "source": [
    "plot_passage_length_analysis(grouped_train_df.story.unique())"
   ]
  },
  {
   "cell_type": "code",
   "execution_count": 24,
   "metadata": {},
   "outputs": [
    {
     "data": {
      "image/png": "[encoded data removed]",
      "text/plain": [
       "<Figure size 1500x700 with 1 Axes>"
      ]
     },
     "metadata": {},
     "output_type": "display_data"
    }
   ],
   "source": [
    "plot_answer_span_text_percentile(train_df)"
   ]
  },
  {
   "cell_type": "markdown",
   "metadata": {},
   "source": [
    "## [Task 2] Train, Validation and Test splits"
   ]
  },
  {
   "cell_type": "markdown",
   "metadata": {},
   "source": [
    "In this section the train dataframe is split into an actual train and a validation dataframes.\n",
    "\n",
    "The split is performed as follows:\n",
    "1. The random seed is set to $42$ for reproducibility purposes.\n",
    "2. The train proportion of the actual training dataset to the original dataset is of $0.8$.\n",
    "3. The train dataframe is shuffled and divided into the two new dataframes making sure that no conversation is split among them."
   ]
  },
  {
   "cell_type": "code",
   "execution_count": 25,
   "metadata": {},
   "outputs": [],
   "source": [
    "set_random_seed(42)"
   ]
  },
  {
   "cell_type": "code",
   "execution_count": 26,
   "metadata": {},
   "outputs": [],
   "source": [
    "from sklearn.model_selection import GroupShuffleSplit\n",
    "from typing import Tuple\n",
    "\n",
    "def train_validation_split(df: pd.DataFrame, train_size: int = .8, random_seed: int = 42) \\\n",
    "    -> Tuple[pd.DataFrame, pd.DataFrame]:\n",
    "    \"\"\" Get train and validation dataframes by shuffling and splitting an original dataframe according to a given proportion\n",
    "    and a specific random seed.\n",
    "    \n",
    "    Note: The order of the rows of the same conversation is preserved in the shuffle. Moreover, the conversations are never\n",
    "    split across the two resulting dataframes.\n",
    "\n",
    "    Parameters\n",
    "    ----------\n",
    "    df : DataFrame\n",
    "        The dataframe from which the train and validation dataframes are obtained.\n",
    "    train_size : int, optional\n",
    "        The proportion of the train split. Defaults to 0.8.\n",
    "    random_seed : int, optional\n",
    "        The random seed for the shuffle. Defaults to 42.\n",
    "\n",
    "    Returns:\n",
    "        Tuple[pd.DataFrame, pd.DataFrame]: _description_\n",
    "    \"\"\"\n",
    "    # Get indices of train and test rows in the dataframe\n",
    "    group_shuffle_split = GroupShuffleSplit(n_splits=2, train_size=train_size, random_state=random_seed)\n",
    "    train_ix, test_ix = next(group_shuffle_split.split(df, groups=df.id))\n",
    "\n",
    "    train_df = df.loc[train_ix]\n",
    "    train_df.reset_index(inplace=True, drop=True)\n",
    "    \n",
    "    val_df = df.loc[test_ix]\n",
    "    val_df.reset_index(inplace=True, drop=True)\n",
    "    \n",
    "    return train_df, val_df"
   ]
  },
  {
   "cell_type": "code",
   "execution_count": 27,
   "metadata": {},
   "outputs": [],
   "source": [
    "train_df, val_df = train_validation_split(train_df)"
   ]
  },
  {
   "cell_type": "markdown",
   "metadata": {},
   "source": [
    "The tail of the obtain dataframe (`train_df`) and the head of the validation dataframe (`val_df`) are shown below to assert that the conversations are not splitted and that their question-answer pairs are still chronologically ordered."
   ]
  },
  {
   "cell_type": "code",
   "execution_count": 28,
   "metadata": {},
   "outputs": [
    {
     "name": "stdout",
     "output_type": "stream",
     "text": [
      "Train dataframe shape after the split: (85824, 9)\n"
     ]
    },
    {
     "data": {
      "text/html": [
       "<div>\n",
       "<style scoped>\n",
       "    .dataframe tbody tr th:only-of-type {\n",
       "        vertical-align: middle;\n",
       "    }\n",
       "\n",
       "    .dataframe tbody tr th {\n",
       "        vertical-align: top;\n",
       "    }\n",
       "\n",
       "    .dataframe thead th {\n",
       "        text-align: right;\n",
       "    }\n",
       "</style>\n",
       "<table border=\"1\" class=\"dataframe\">\n",
       "  <thead>\n",
       "    <tr style=\"text-align: right;\">\n",
       "      <th></th>\n",
       "      <th>id</th>\n",
       "      <th>story</th>\n",
       "      <th>question</th>\n",
       "      <th>answer_span_start</th>\n",
       "      <th>answer_span_end</th>\n",
       "      <th>answer_span_text</th>\n",
       "      <th>answer</th>\n",
       "      <th>turn_id</th>\n",
       "      <th>history</th>\n",
       "    </tr>\n",
       "  </thead>\n",
       "  <tbody>\n",
       "    <tr>\n",
       "      <th>85819</th>\n",
       "      <td>31qnsg6a5rtt5m7pens7xklnbwf87b</td>\n",
       "      <td>(CNN) -- Cristiano Ronaldo provided the perfec...</td>\n",
       "      <td>Who was a sub?</td>\n",
       "      <td>1405</td>\n",
       "      <td>1427</td>\n",
       "      <td>substitute Xabi Alonso</td>\n",
       "      <td>Xabi Alonso</td>\n",
       "      <td>10</td>\n",
       "      <td>[Who was in charge of FIFA?, Sepp Blatter, Wha...</td>\n",
       "    </tr>\n",
       "    <tr>\n",
       "      <th>85820</th>\n",
       "      <td>31qnsg6a5rtt5m7pens7xklnbwf87b</td>\n",
       "      <td>(CNN) -- Cristiano Ronaldo provided the perfec...</td>\n",
       "      <td>Was it his first game this year?</td>\n",
       "      <td>1415</td>\n",
       "      <td>1467</td>\n",
       "      <td>Xabi Alonso made his first appearance of the ...</td>\n",
       "      <td>Yes</td>\n",
       "      <td>11</td>\n",
       "      <td>[Who was in charge of FIFA?, Sepp Blatter, Wha...</td>\n",
       "    </tr>\n",
       "    <tr>\n",
       "      <th>85821</th>\n",
       "      <td>31qnsg6a5rtt5m7pens7xklnbwf87b</td>\n",
       "      <td>(CNN) -- Cristiano Ronaldo provided the perfec...</td>\n",
       "      <td>What position did the team reach?</td>\n",
       "      <td>1520</td>\n",
       "      <td>1555</td>\n",
       "      <td>Real moved up to third in the table</td>\n",
       "      <td>third</td>\n",
       "      <td>12</td>\n",
       "      <td>[Who was in charge of FIFA?, Sepp Blatter, Wha...</td>\n",
       "    </tr>\n",
       "    <tr>\n",
       "      <th>85822</th>\n",
       "      <td>31qnsg6a5rtt5m7pens7xklnbwf87b</td>\n",
       "      <td>(CNN) -- Cristiano Ronaldo provided the perfec...</td>\n",
       "      <td>Who was ahead of them?</td>\n",
       "      <td>1557</td>\n",
       "      <td>1582</td>\n",
       "      <td>six points behind Barca.</td>\n",
       "      <td>Barca.</td>\n",
       "      <td>13</td>\n",
       "      <td>[Who was in charge of FIFA?, Sepp Blatter, Wha...</td>\n",
       "    </tr>\n",
       "    <tr>\n",
       "      <th>85823</th>\n",
       "      <td>31qnsg6a5rtt5m7pens7xklnbwf87b</td>\n",
       "      <td>(CNN) -- Cristiano Ronaldo provided the perfec...</td>\n",
       "      <td>By how much?</td>\n",
       "      <td>1557</td>\n",
       "      <td>1581</td>\n",
       "      <td>six points behind Barca.</td>\n",
       "      <td>six points</td>\n",
       "      <td>14</td>\n",
       "      <td>[Who was in charge of FIFA?, Sepp Blatter, Wha...</td>\n",
       "    </tr>\n",
       "  </tbody>\n",
       "</table>\n",
       "</div>"
      ],
      "text/plain": [
       "                                   id  \\\n",
       "85819  31qnsg6a5rtt5m7pens7xklnbwf87b   \n",
       "85820  31qnsg6a5rtt5m7pens7xklnbwf87b   \n",
       "85821  31qnsg6a5rtt5m7pens7xklnbwf87b   \n",
       "85822  31qnsg6a5rtt5m7pens7xklnbwf87b   \n",
       "85823  31qnsg6a5rtt5m7pens7xklnbwf87b   \n",
       "\n",
       "                                                   story  \\\n",
       "85819  (CNN) -- Cristiano Ronaldo provided the perfec...   \n",
       "85820  (CNN) -- Cristiano Ronaldo provided the perfec...   \n",
       "85821  (CNN) -- Cristiano Ronaldo provided the perfec...   \n",
       "85822  (CNN) -- Cristiano Ronaldo provided the perfec...   \n",
       "85823  (CNN) -- Cristiano Ronaldo provided the perfec...   \n",
       "\n",
       "                                question  answer_span_start  answer_span_end  \\\n",
       "85819                     Who was a sub?               1405             1427   \n",
       "85820   Was it his first game this year?               1415             1467   \n",
       "85821  What position did the team reach?               1520             1555   \n",
       "85822             Who was ahead of them?               1557             1582   \n",
       "85823                       By how much?               1557             1581   \n",
       "\n",
       "                                        answer_span_text       answer  \\\n",
       "85819                             substitute Xabi Alonso  Xabi Alonso   \n",
       "85820   Xabi Alonso made his first appearance of the ...          Yes   \n",
       "85821                Real moved up to third in the table        third   \n",
       "85822                          six points behind Barca.        Barca.   \n",
       "85823                           six points behind Barca.   six points   \n",
       "\n",
       "       turn_id                                            history  \n",
       "85819       10  [Who was in charge of FIFA?, Sepp Blatter, Wha...  \n",
       "85820       11  [Who was in charge of FIFA?, Sepp Blatter, Wha...  \n",
       "85821       12  [Who was in charge of FIFA?, Sepp Blatter, Wha...  \n",
       "85822       13  [Who was in charge of FIFA?, Sepp Blatter, Wha...  \n",
       "85823       14  [Who was in charge of FIFA?, Sepp Blatter, Wha...  "
      ]
     },
     "execution_count": 28,
     "metadata": {},
     "output_type": "execute_result"
    }
   ],
   "source": [
    "print(f'Train dataframe shape after the split: {train_df.shape}')\n",
    "train_df.tail()"
   ]
  },
  {
   "cell_type": "code",
   "execution_count": 29,
   "metadata": {},
   "outputs": [
    {
     "name": "stdout",
     "output_type": "stream",
     "text": [
      "Validation dataframe shape after the split: (21452, 9)\n"
     ]
    },
    {
     "data": {
      "text/html": [
       "<div>\n",
       "<style scoped>\n",
       "    .dataframe tbody tr th:only-of-type {\n",
       "        vertical-align: middle;\n",
       "    }\n",
       "\n",
       "    .dataframe tbody tr th {\n",
       "        vertical-align: top;\n",
       "    }\n",
       "\n",
       "    .dataframe thead th {\n",
       "        text-align: right;\n",
       "    }\n",
       "</style>\n",
       "<table border=\"1\" class=\"dataframe\">\n",
       "  <thead>\n",
       "    <tr style=\"text-align: right;\">\n",
       "      <th></th>\n",
       "      <th>id</th>\n",
       "      <th>story</th>\n",
       "      <th>question</th>\n",
       "      <th>answer_span_start</th>\n",
       "      <th>answer_span_end</th>\n",
       "      <th>answer_span_text</th>\n",
       "      <th>answer</th>\n",
       "      <th>turn_id</th>\n",
       "      <th>history</th>\n",
       "    </tr>\n",
       "  </thead>\n",
       "  <tbody>\n",
       "    <tr>\n",
       "      <th>0</th>\n",
       "      <td>3wj1oxy92agboo5nlq4r7bndc3t8a8</td>\n",
       "      <td>New York (CNN) -- More than 80 Michael Jackson...</td>\n",
       "      <td>Where was the Auction held?</td>\n",
       "      <td>243</td>\n",
       "      <td>284</td>\n",
       "      <td>Hard Rock Cafe in New York's Times Square</td>\n",
       "      <td>Hard Rock Cafe</td>\n",
       "      <td>1</td>\n",
       "      <td>[]</td>\n",
       "    </tr>\n",
       "    <tr>\n",
       "      <th>1</th>\n",
       "      <td>3wj1oxy92agboo5nlq4r7bndc3t8a8</td>\n",
       "      <td>New York (CNN) -- More than 80 Michael Jackson...</td>\n",
       "      <td>How much did they make?</td>\n",
       "      <td>180</td>\n",
       "      <td>210</td>\n",
       "      <td>reaping a total $2 million. \\n</td>\n",
       "      <td>$2 million.</td>\n",
       "      <td>2</td>\n",
       "      <td>[Where was the Auction held?, Hard Rock Cafe]</td>\n",
       "    </tr>\n",
       "    <tr>\n",
       "      <th>2</th>\n",
       "      <td>3wj1oxy92agboo5nlq4r7bndc3t8a8</td>\n",
       "      <td>New York (CNN) -- More than 80 Michael Jackson...</td>\n",
       "      <td>How much did they expected?</td>\n",
       "      <td>292</td>\n",
       "      <td>342</td>\n",
       "      <td>pre-sale expectations of only $120,000 in sal...</td>\n",
       "      <td>$120,000</td>\n",
       "      <td>3</td>\n",
       "      <td>[Where was the Auction held?, Hard Rock Cafe, ...</td>\n",
       "    </tr>\n",
       "    <tr>\n",
       "      <th>3</th>\n",
       "      <td>3wj1oxy92agboo5nlq4r7bndc3t8a8</td>\n",
       "      <td>New York (CNN) -- More than 80 Michael Jackson...</td>\n",
       "      <td>WHo buy the Jackson Glove</td>\n",
       "      <td>1295</td>\n",
       "      <td>1365</td>\n",
       "      <td>Hoffman Ma, who bought the glove on behalf of ...</td>\n",
       "      <td>Hoffman Ma</td>\n",
       "      <td>4</td>\n",
       "      <td>[Where was the Auction held?, Hard Rock Cafe, ...</td>\n",
       "    </tr>\n",
       "    <tr>\n",
       "      <th>4</th>\n",
       "      <td>3wj1oxy92agboo5nlq4r7bndc3t8a8</td>\n",
       "      <td>New York (CNN) -- More than 80 Michael Jackson...</td>\n",
       "      <td>Where was the buyer of the glove from?</td>\n",
       "      <td>1331</td>\n",
       "      <td>1366</td>\n",
       "      <td>behalf of Ponte 16 Resort in Macau,</td>\n",
       "      <td>Macau</td>\n",
       "      <td>5</td>\n",
       "      <td>[Where was the Auction held?, Hard Rock Cafe, ...</td>\n",
       "    </tr>\n",
       "  </tbody>\n",
       "</table>\n",
       "</div>"
      ],
      "text/plain": [
       "                               id  \\\n",
       "0  3wj1oxy92agboo5nlq4r7bndc3t8a8   \n",
       "1  3wj1oxy92agboo5nlq4r7bndc3t8a8   \n",
       "2  3wj1oxy92agboo5nlq4r7bndc3t8a8   \n",
       "3  3wj1oxy92agboo5nlq4r7bndc3t8a8   \n",
       "4  3wj1oxy92agboo5nlq4r7bndc3t8a8   \n",
       "\n",
       "                                               story  \\\n",
       "0  New York (CNN) -- More than 80 Michael Jackson...   \n",
       "1  New York (CNN) -- More than 80 Michael Jackson...   \n",
       "2  New York (CNN) -- More than 80 Michael Jackson...   \n",
       "3  New York (CNN) -- More than 80 Michael Jackson...   \n",
       "4  New York (CNN) -- More than 80 Michael Jackson...   \n",
       "\n",
       "                                 question  answer_span_start  answer_span_end  \\\n",
       "0             Where was the Auction held?                243              284   \n",
       "1                 How much did they make?                180              210   \n",
       "2             How much did they expected?                292              342   \n",
       "3               WHo buy the Jackson Glove               1295             1365   \n",
       "4  Where was the buyer of the glove from?               1331             1366   \n",
       "\n",
       "                                    answer_span_text          answer  turn_id  \\\n",
       "0          Hard Rock Cafe in New York's Times Square  Hard Rock Cafe        1   \n",
       "1                     reaping a total $2 million. \\n     $2 million.        2   \n",
       "2   pre-sale expectations of only $120,000 in sal...        $120,000        3   \n",
       "3  Hoffman Ma, who bought the glove on behalf of ...      Hoffman Ma        4   \n",
       "4                behalf of Ponte 16 Resort in Macau,           Macau        5   \n",
       "\n",
       "                                             history  \n",
       "0                                                 []  \n",
       "1      [Where was the Auction held?, Hard Rock Cafe]  \n",
       "2  [Where was the Auction held?, Hard Rock Cafe, ...  \n",
       "3  [Where was the Auction held?, Hard Rock Cafe, ...  \n",
       "4  [Where was the Auction held?, Hard Rock Cafe, ...  "
      ]
     },
     "execution_count": 29,
     "metadata": {},
     "output_type": "execute_result"
    }
   ],
   "source": [
    "print(f'Validation dataframe shape after the split: {val_df.shape}')\n",
    "val_df.head()"
   ]
  },
  {
   "cell_type": "code",
   "execution_count": 30,
   "metadata": {},
   "outputs": [
    {
     "name": "stdout",
     "output_type": "stream",
     "text": [
      "Train passages count: 5754\n",
      "Validation passages count: 1439\n",
      "\n",
      "Train QaA count: 85824 \t\t Train QaA ratio: 0.80\n",
      "Validation QaA count: 21452 \t Validation QaA ratio: 0.20\n"
     ]
    }
   ],
   "source": [
    "print(f'Train passages count: {len(train_df.groupby(by=[\"id\"]))}')\n",
    "print(f'Validation passages count: {len(val_df.groupby(by=[\"id\"]))}')\n",
    "\n",
    "print()\n",
    "\n",
    "len_tot=len(train_df)+len(val_df)\n",
    "print(f'Train QaA count: {len(train_df)} \\t\\t Train QaA ratio: {len(train_df)/len_tot:.2f}')\n",
    "print(f'Validation QaA count: {len(val_df)} \\t Validation QaA ratio: {len(val_df)/len_tot:.2f}')"
   ]
  },
  {
   "cell_type": "markdown",
   "metadata": {},
   "source": [
    "In addition, the train, validation and test dataloaders are provided for future training purposes."
   ]
  },
  {
   "cell_type": "code",
   "execution_count": 31,
   "metadata": {},
   "outputs": [],
   "source": [
    "from utils.dataloader_builder import get_dataloader\n",
    "\n",
    "train_dataloader = get_dataloader(train_df)\n",
    "val_dataloader = get_dataloader(val_df)\n",
    "test_dataloader = get_dataloader(test_df)"
   ]
  },
  {
   "cell_type": "markdown",
   "id": "230a21de",
   "metadata": {
    "slideshow": {
     "slide_type": "slide"
    }
   },
   "source": [
    "## [Task 3] Model definition"
   ]
  },
  {
   "cell_type": "code",
   "execution_count": 30,
   "metadata": {},
   "outputs": [
    {
     "name": "stderr",
     "output_type": "stream",
     "text": [
      "Some weights of the model checkpoint at distilroberta-base were not used when initializing RobertaModel: ['lm_head.layer_norm.weight', 'lm_head.bias', 'lm_head.dense.bias', 'lm_head.layer_norm.bias', 'lm_head.decoder.weight', 'lm_head.dense.weight']\n",
      "- This IS expected if you are initializing RobertaModel from the checkpoint of a model trained on another task or with another architecture (e.g. initializing a BertForSequenceClassification model from a BertForPreTraining model).\n",
      "- This IS NOT expected if you are initializing RobertaModel from the checkpoint of a model that you expect to be exactly identical (initializing a BertForSequenceClassification model from a BertForSequenceClassification model).\n",
      "Some weights of the model checkpoint at distilroberta-base were not used when initializing RobertaModel: ['lm_head.layer_norm.weight', 'lm_head.bias', 'lm_head.dense.bias', 'lm_head.layer_norm.bias', 'lm_head.decoder.weight', 'lm_head.dense.weight']\n",
      "- This IS expected if you are initializing RobertaModel from the checkpoint of a model trained on another task or with another architecture (e.g. initializing a BertForSequenceClassification model from a BertForPreTraining model).\n",
      "- This IS NOT expected if you are initializing RobertaModel from the checkpoint of a model that you expect to be exactly identical (initializing a BertForSequenceClassification model from a BertForSequenceClassification model).\n",
      "Some weights of RobertaForCausalLM were not initialized from the model checkpoint at distilroberta-base and are newly initialized: ['roberta.encoder.layer.5.crossattention.output.dense.weight', 'roberta.encoder.layer.0.crossattention.self.key.bias', 'roberta.encoder.layer.1.crossattention.self.query.bias', 'roberta.encoder.layer.2.crossattention.output.LayerNorm.weight', 'roberta.encoder.layer.2.crossattention.output.dense.bias', 'roberta.encoder.layer.0.crossattention.self.query.weight', 'roberta.encoder.layer.3.crossattention.self.value.bias', 'roberta.encoder.layer.3.crossattention.self.query.bias', 'roberta.encoder.layer.2.crossattention.output.LayerNorm.bias', 'roberta.encoder.layer.1.crossattention.self.key.weight', 'roberta.encoder.layer.2.crossattention.self.key.weight', 'roberta.encoder.layer.3.crossattention.output.LayerNorm.weight', 'roberta.encoder.layer.4.crossattention.output.LayerNorm.bias', 'roberta.encoder.layer.1.crossattention.output.LayerNorm.bias', 'roberta.encoder.layer.5.crossattention.self.key.weight', 'roberta.encoder.layer.5.crossattention.output.dense.bias', 'roberta.encoder.layer.1.crossattention.self.key.bias', 'roberta.encoder.layer.5.crossattention.self.value.weight', 'roberta.encoder.layer.2.crossattention.self.query.bias', 'roberta.encoder.layer.0.crossattention.self.value.bias', 'roberta.encoder.layer.4.crossattention.self.key.bias', 'roberta.encoder.layer.1.crossattention.self.value.weight', 'roberta.encoder.layer.5.crossattention.self.key.bias', 'roberta.encoder.layer.4.crossattention.output.dense.weight', 'roberta.encoder.layer.2.crossattention.self.value.bias', 'roberta.encoder.layer.1.crossattention.self.value.bias', 'roberta.encoder.layer.0.crossattention.output.dense.bias', 'roberta.encoder.layer.3.crossattention.self.value.weight', 'roberta.encoder.layer.2.crossattention.output.dense.weight', 'roberta.encoder.layer.3.crossattention.output.dense.bias', 'roberta.encoder.layer.5.crossattention.self.query.bias', 'roberta.encoder.layer.0.crossattention.output.LayerNorm.bias', 'roberta.encoder.layer.4.crossattention.self.query.weight', 'roberta.encoder.layer.3.crossattention.self.key.weight', 'roberta.encoder.layer.4.crossattention.self.value.bias', 'roberta.encoder.layer.5.crossattention.self.query.weight', 'roberta.encoder.layer.1.crossattention.output.LayerNorm.weight', 'roberta.encoder.layer.1.crossattention.output.dense.bias', 'roberta.encoder.layer.3.crossattention.output.dense.weight', 'roberta.encoder.layer.5.crossattention.output.LayerNorm.bias', 'roberta.encoder.layer.5.crossattention.output.LayerNorm.weight', 'roberta.encoder.layer.4.crossattention.self.key.weight', 'roberta.encoder.layer.1.crossattention.output.dense.weight', 'roberta.encoder.layer.2.crossattention.self.value.weight', 'roberta.encoder.layer.0.crossattention.output.LayerNorm.weight', 'roberta.encoder.layer.0.crossattention.self.query.bias', 'roberta.encoder.layer.3.crossattention.self.key.bias', 'roberta.encoder.layer.4.crossattention.output.LayerNorm.weight', 'roberta.encoder.layer.0.crossattention.self.key.weight', 'roberta.encoder.layer.4.crossattention.self.query.bias', 'roberta.encoder.layer.2.crossattention.self.query.weight', 'roberta.encoder.layer.1.crossattention.self.query.weight', 'roberta.encoder.layer.5.crossattention.self.value.bias', 'roberta.encoder.layer.4.crossattention.self.value.weight', 'roberta.encoder.layer.4.crossattention.output.dense.bias', 'roberta.encoder.layer.0.crossattention.self.value.weight', 'roberta.encoder.layer.3.crossattention.output.LayerNorm.bias', 'roberta.encoder.layer.0.crossattention.output.dense.weight', 'roberta.encoder.layer.2.crossattention.self.key.bias', 'roberta.encoder.layer.3.crossattention.self.query.weight']\n",
      "You should probably TRAIN this model on a down-stream task to be able to use it for predictions and inference.\n",
      "Some weights of the model checkpoint at prajjwal1/bert-tiny were not used when initializing BertModel: ['cls.predictions.transform.dense.bias', 'cls.seq_relationship.bias', 'cls.predictions.decoder.bias', 'cls.predictions.transform.dense.weight', 'cls.predictions.transform.LayerNorm.weight', 'cls.predictions.bias', 'cls.predictions.decoder.weight', 'cls.seq_relationship.weight', 'cls.predictions.transform.LayerNorm.bias']\n",
      "- This IS expected if you are initializing BertModel from the checkpoint of a model trained on another task or with another architecture (e.g. initializing a BertForSequenceClassification model from a BertForPreTraining model).\n",
      "- This IS NOT expected if you are initializing BertModel from the checkpoint of a model that you expect to be exactly identical (initializing a BertForSequenceClassification model from a BertForSequenceClassification model).\n",
      "Some weights of the model checkpoint at prajjwal1/bert-tiny were not used when initializing BertModel: ['cls.predictions.transform.dense.bias', 'cls.seq_relationship.bias', 'cls.predictions.decoder.bias', 'cls.predictions.transform.dense.weight', 'cls.predictions.transform.LayerNorm.weight', 'cls.predictions.bias', 'cls.predictions.decoder.weight', 'cls.seq_relationship.weight', 'cls.predictions.transform.LayerNorm.bias']\n",
      "- This IS expected if you are initializing BertModel from the checkpoint of a model trained on another task or with another architecture (e.g. initializing a BertForSequenceClassification model from a BertForPreTraining model).\n",
      "- This IS NOT expected if you are initializing BertModel from the checkpoint of a model that you expect to be exactly identical (initializing a BertForSequenceClassification model from a BertForSequenceClassification model).\n",
      "Some weights of the model checkpoint at prajjwal1/bert-tiny were not used when initializing BertLMHeadModel: ['cls.seq_relationship.weight', 'cls.seq_relationship.bias']\n",
      "- This IS expected if you are initializing BertLMHeadModel from the checkpoint of a model trained on another task or with another architecture (e.g. initializing a BertForSequenceClassification model from a BertForPreTraining model).\n",
      "- This IS NOT expected if you are initializing BertLMHeadModel from the checkpoint of a model that you expect to be exactly identical (initializing a BertForSequenceClassification model from a BertForSequenceClassification model).\n",
      "Some weights of BertLMHeadModel were not initialized from the model checkpoint at prajjwal1/bert-tiny and are newly initialized: ['bert.encoder.layer.0.crossattention.self.value.bias', 'bert.encoder.layer.1.crossattention.output.dense.weight', 'bert.encoder.layer.0.crossattention.output.dense.weight', 'bert.encoder.layer.1.crossattention.output.LayerNorm.weight', 'bert.encoder.layer.0.crossattention.output.LayerNorm.weight', 'bert.encoder.layer.1.crossattention.self.value.bias', 'bert.encoder.layer.1.crossattention.output.LayerNorm.bias', 'bert.encoder.layer.0.crossattention.self.query.bias', 'bert.encoder.layer.1.crossattention.output.dense.bias', 'bert.encoder.layer.0.crossattention.output.LayerNorm.bias', 'bert.encoder.layer.0.crossattention.output.dense.bias', 'bert.encoder.layer.0.crossattention.self.key.weight', 'bert.encoder.layer.0.crossattention.self.query.weight', 'bert.encoder.layer.1.crossattention.self.query.bias', 'bert.encoder.layer.0.crossattention.self.key.bias', 'bert.encoder.layer.1.crossattention.self.value.weight', 'bert.encoder.layer.1.crossattention.self.query.weight', 'bert.encoder.layer.1.crossattention.self.key.bias', 'bert.encoder.layer.0.crossattention.self.value.weight', 'bert.encoder.layer.1.crossattention.self.key.weight']\n",
      "You should probably TRAIN this model on a down-stream task to be able to use it for predictions and inference.\n"
     ]
    }
   ],
   "source": [
    "from transformers import AutoTokenizer\n",
    "\n",
    "from utils.build_model import Model\n",
    "\n",
    "M1_name = 'distilroberta-base'\n",
    "M2_name = 'prajjwal1/bert-tiny'\n",
    "\n",
    "tokenizer_1 = AutoTokenizer.from_pretrained(M1_name)\n",
    "tokenizer_2 = AutoTokenizer.from_pretrained(M2_name)\n",
    "\n",
    "M1 = Model(M1_name, tokenizer=tokenizer_1)\n",
    "M2 = Model(M2_name, tokenizer=tokenizer_2)"
   ]
  },
  {
   "cell_type": "markdown",
   "metadata": {},
   "source": [
    "# Task 4"
   ]
  },
  {
   "cell_type": "code",
   "execution_count": 31,
   "metadata": {},
   "outputs": [],
   "source": [
    "from transformers import PreTrainedTokenizer\n",
    "\n",
    "def f_theta_QP(model: Model, tokenizer: PreTrainedTokenizer, question: str, passage: str, max_length: int = 512, \n",
    "               device: str = 'cuda') -> str:\n",
    "    inputs = tokenizer(question, passage, max_length=max_length, truncation=True, padding=True,\n",
    "                       return_tensors=\"pt\").to(device)\n",
    "    generated_ids = model.forward(input_ids=inputs.input_ids, attention_mask=inputs.attention_mask, device=device)\n",
    "    generated_text = tokenizer.batch_decode(generated_ids, skip_special_tokens=True)[0]\n",
    "    return generated_text"
   ]
  },
  {
   "cell_type": "code",
   "execution_count": 32,
   "metadata": {},
   "outputs": [
    {
     "name": "stdout",
     "output_type": "stream",
     "text": [
      "Question sample: \"When was the Vat formally opened?\"\n",
      "\n",
      "Predicted answer by the first model: \".,\"\n",
      "Predicted answer by the second model: \"mar mar mar mar mar mar mar mar mar mar mar mar mar mar mar mar mar mar mar mar mar mar mar mar mar mar mar mar mar mar mar mar mar mar mar mar mar mar mar mar mar mar mar mar mar mar mar mar mar mar\"\n",
      "\n",
      "True answer: \"It was formally established in 1475\"\n"
     ]
    }
   ],
   "source": [
    "question_sample = train_df.iloc[0]['question']\n",
    "passage_sample = train_df.iloc[0]['story']\n",
    "answer_sample = train_df.iloc[0]['answer']\n",
    "\n",
    "print(f'Question sample: \"{question_sample}\"')\n",
    "print()\n",
    "print(f'Predicted answer by the first model: \"{f_theta_QP(M1, tokenizer_1, question_sample, passage_sample)}\"')\n",
    "print(f'Predicted answer by the second model: \"{f_theta_QP(M2, tokenizer_2, question_sample, passage_sample)}\"')\n",
    "print()\n",
    "print(f'True answer: \"{answer_sample}\"')"
   ]
  },
  {
   "cell_type": "markdown",
   "metadata": {},
   "source": [
    "# Task 5"
   ]
  },
  {
   "cell_type": "code",
   "execution_count": 33,
   "metadata": {},
   "outputs": [],
   "source": [
    "from typing import List\n",
    "\n",
    "def f_theta_QPH(model: Model, tokenizer: PreTrainedTokenizer, question: str, passage: str, history: List[str],\n",
    "                max_length: int = 512, device: str = 'cuda') -> str:\n",
    "    separator = f' {tokenizer.sep_token} '\n",
    "    question_and_history = question + f'{separator if len(history) else \"\"}' + separator.join(history)\n",
    "    \n",
    "    inputs = tokenizer(question_and_history, passage, max_length=max_length, truncation=True, padding=True,\n",
    "                       return_tensors=\"pt\").to(device)\n",
    "    generated_ids = model.forward(input_ids=inputs.input_ids, attention_mask=inputs.attention_mask, device=device)\n",
    "    generated_text = tokenizer.batch_decode(generated_ids, skip_special_tokens=True)[0]\n",
    "    return generated_text"
   ]
  },
  {
   "cell_type": "code",
   "execution_count": 34,
   "metadata": {},
   "outputs": [
    {
     "name": "stdout",
     "output_type": "stream",
     "text": [
      "Question sample: \"how do scholars divide the library?\"\n",
      "\n",
      "Predicted answer by the first model: \".,\"\n",
      "Predicted answer by the second model: \"mar mar mar mar mar mar mar mar mar mar mar mar mar mar mar mar mar mar mar mar mar mar mar mar mar mar mar mar mar mar mar mar mar mar mar mar mar mar mar mar mar mar mar mar mar mar mar mar mar mar\"\n",
      "\n",
      "True answer: \"into periods\"\n"
     ]
    }
   ],
   "source": [
    "question_sample = train_df.iloc[5]['question']\n",
    "passage_sample = train_df.iloc[5]['story']\n",
    "history = train_df.iloc[5]['history']\n",
    "answer_sample = train_df.iloc[5]['answer']\n",
    "\n",
    "print(f'Question sample: \"{question_sample}\"')\n",
    "print()\n",
    "print(f'Predicted answer by the first model: \"{f_theta_QPH(M1, tokenizer_1, question_sample, passage_sample, history)}\"')\n",
    "print(f'Predicted answer by the second model: \"{f_theta_QPH(M2, tokenizer_2, question_sample, passage_sample, history)}\"')\n",
    "print()\n",
    "print(f'True answer: \"{answer_sample}\"')"
   ]
  },
  {
   "cell_type": "markdown",
   "metadata": {},
   "source": [
    "# Task 6"
   ]
  },
  {
   "cell_type": "code",
   "execution_count": 19,
   "metadata": {},
   "outputs": [],
   "source": [
    "class CustomDataset(torch.utils.data.Dataset):\n",
    "    def __init__(self, data, tokenizer, return_history=False):\n",
    "        self.story=[d['story'] for d in data]\n",
    "        self.questions=[d['questions'] for d in data]\n",
    "        self.answers=[d['answers'] for d in data]\n",
    "        lengths = [len(doc['questions']) for doc in data]\n",
    "        self.lengths = np.cumsum(np.array(lengths,dtype=np.int32))\n",
    "        self.R_H=return_history\n",
    "        self.tokenizer = tokenizer\n",
    "        \n",
    "\n",
    "    def __len__(self):\n",
    "        return self.lengths[-1]\n",
    "\n",
    "    def __getitem__(self, idx):\n",
    "        f_idx=int(np.where(self.lengths > idx)[0][0])\n",
    "        if f_idx>0:\n",
    "            q_idx=idx-self.lengths[f_idx-1]\n",
    "        else:\n",
    "            q_idx=idx\n",
    "\n",
    "        passage=self.story[f_idx]\n",
    "        questions=self.questions[f_idx]\n",
    "        answers=self.answers[f_idx]\n",
    "        question=questions[q_idx]['input_text']\n",
    "        answer=answers[q_idx]['input_text']\n",
    "\n",
    "        if self.R_H:\n",
    "            print([ [questions[i]['input_text'],answers[i]['input_text']] for i in range(q_idx)])\n",
    "            history=np.concatenate([ [questions[i]['input_text'],answers[i]['input_text']] for i in range(q_idx)],0)\n",
    "            return (passage,question,history), answer\n",
    "        \n",
    "        #input_ids = torch.tensor(self.encodings['input_ids'])\n",
    "        #target_ids = torch.tensor(self.labels[idx])\n",
    "    \n",
    "        inputs = self.tokenizer(\n",
    "            question,\n",
    "            passage,\n",
    "            max_length=512,\n",
    "            padding=\"max_length\",\n",
    "            truncation=True,\n",
    "            return_tensors=\"pt\",\n",
    "        ).input_ids\n",
    "\n",
    "        labels = self.tokenizer(\n",
    "            answer,\n",
    "            max_length=100,\n",
    "            truncation=True,\n",
    "            padding=\"max_length\",\n",
    "            return_tensors=\"pt\",\n",
    "        ).input_ids\n",
    "\n",
    "        return {\"input_ids\": inputs.squeeze(0).to('cuda'), \"labels\": labels.squeeze(0).to('cuda')}"
   ]
  },
  {
   "cell_type": "code",
   "execution_count": null,
   "metadata": {},
   "outputs": [],
   "source": []
  },
  {
   "cell_type": "code",
   "execution_count": null,
   "metadata": {},
   "outputs": [],
   "source": []
  },
  {
   "cell_type": "code",
   "execution_count": 22,
   "metadata": {},
   "outputs": [
    {
     "name": "stderr",
     "output_type": "stream",
     "text": [
      "PyTorch: setting up devices\n",
      "The default value for the training argument `--report_to` will change in v5 (from all installed integrations to none). In v5, you will need to use `--report_to all` to get the same behavior as now. You should start updating your code and make this info disappear :-).\n"
     ]
    }
   ],
   "source": [
    "from transformers import TrainingArguments, Trainer, DataCollatorWithPadding\n",
    "from sklearn.metrics import precision_recall_fscore_support\n",
    "from sklearn.metrics import accuracy_score\n",
    "\n",
    "data_collator = DataCollatorWithPadding(tokenizer=T2)\n",
    "\n",
    "# metric = load('accuracy')\n",
    "training_args = TrainingArguments(output_dir='/prova', evaluation_strategy=\"epoch\", num_train_epochs=3)\n",
    "\n",
    "def compute_metrics(pred):\n",
    "    labels = pred.label_ids\n",
    "    preds = pred.predictions.argmax(-1)\n",
    "    acc = accuracy_score(labels, preds)\n",
    "    return {\n",
    "        'accuracy': acc,\n",
    "    }\n",
    "\n",
    "M2.config.decoder_start_token_id = T2.cls_token_id\n",
    "M2.config.pad_token_id = T2.pad_token_id\n",
    "\n",
    "trainer = Trainer(\n",
    "    model=M2,\n",
    "    tokenizer=T2,\n",
    "    args=training_args,\n",
    "    train_dataset=CustomDataset(train, T2),\n",
    "    eval_dataset=CustomDataset(validation, T2),\n",
    "    compute_metrics=compute_metrics,\n",
    "    optimizers=(torch.optim.AdamW(M2.parameters(), lr=0.001), None),\n",
    "    data_collator=data_collator\n",
    ")"
   ]
  },
  {
   "cell_type": "code",
   "execution_count": 23,
   "metadata": {},
   "outputs": [
    {
     "name": "stderr",
     "output_type": "stream",
     "text": [
      "***** Running training *****\n",
      "  Num examples = 85810\n",
      "  Num Epochs = 3\n",
      "  Instantaneous batch size per device = 8\n",
      "  Total train batch size (w. parallel, distributed & accumulation) = 8\n",
      "  Gradient Accumulation steps = 1\n",
      "  Total optimization steps = 32181\n",
      "  Number of trainable parameters = 8935226\n",
      " 15%|█▍        | 4800/32181 [06:50<37:19, 12.23it/s]Saving model checkpoint to /prova\\checkpoint-500\n",
      "Configuration saved in /prova\\checkpoint-500\\config.json\n",
      "Model weights saved in /prova\\checkpoint-500\\pytorch_model.bin\n",
      "tokenizer config file saved in /prova\\checkpoint-500\\tokenizer_config.json\n",
      "Special tokens file saved in /prova\\checkpoint-500\\special_tokens_map.json\n",
      "c:\\Users\\riccardo\\AppData\\Local\\Programs\\Python\\Python310\\lib\\site-packages\\transformers\\models\\encoder_decoder\\modeling_encoder_decoder.py:634: FutureWarning: Version v4.12.0 introduces a better way to train encoder-decoder models by computing the loss inside the encoder-decoder framework rather than in the decoder itself. You may observe training discrepancies if fine-tuning a model trained with versions anterior to 4.12.0. The decoder_input_ids are now created based on the labels, no need to pass them yourself anymore.\n",
      "  warnings.warn(DEPRECATION_WARNING, FutureWarning)\n",
      "Saving model checkpoint to /prova\\checkpoint-1000\n",
      "Configuration saved in /prova\\checkpoint-1000\\config.json\n",
      "Model weights saved in /prova\\checkpoint-1000\\pytorch_model.bin\n",
      "tokenizer config file saved in /prova\\checkpoint-1000\\tokenizer_config.json\n",
      "Special tokens file saved in /prova\\checkpoint-1000\\special_tokens_map.json\n",
      "c:\\Users\\riccardo\\AppData\\Local\\Programs\\Python\\Python310\\lib\\site-packages\\transformers\\models\\encoder_decoder\\modeling_encoder_decoder.py:634: FutureWarning: Version v4.12.0 introduces a better way to train encoder-decoder models by computing the loss inside the encoder-decoder framework rather than in the decoder itself. You may observe training discrepancies if fine-tuning a model trained with versions anterior to 4.12.0. The decoder_input_ids are now created based on the labels, no need to pass them yourself anymore.\n",
      "  warnings.warn(DEPRECATION_WARNING, FutureWarning)\n",
      " 15%|█▍        | 4800/32181 [08:27<48:15,  9.46it/s]\n"
     ]
    },
    {
     "ename": "KeyboardInterrupt",
     "evalue": "",
     "output_type": "error",
     "traceback": [
      "\u001b[1;31m---------------------------------------------------------------------------\u001b[0m",
      "\u001b[1;31mKeyboardInterrupt\u001b[0m                         Traceback (most recent call last)",
      "Cell \u001b[1;32mIn [23], line 1\u001b[0m\n\u001b[1;32m----> 1\u001b[0m trainer\u001b[39m.\u001b[39;49mtrain()\n",
      "File \u001b[1;32mc:\\Users\\riccardo\\AppData\\Local\\Programs\\Python\\Python310\\lib\\site-packages\\transformers\\trainer.py:1501\u001b[0m, in \u001b[0;36mTrainer.train\u001b[1;34m(self, resume_from_checkpoint, trial, ignore_keys_for_eval, **kwargs)\u001b[0m\n\u001b[0;32m   1496\u001b[0m     \u001b[39mself\u001b[39m\u001b[39m.\u001b[39mmodel_wrapped \u001b[39m=\u001b[39m \u001b[39mself\u001b[39m\u001b[39m.\u001b[39mmodel\n\u001b[0;32m   1498\u001b[0m inner_training_loop \u001b[39m=\u001b[39m find_executable_batch_size(\n\u001b[0;32m   1499\u001b[0m     \u001b[39mself\u001b[39m\u001b[39m.\u001b[39m_inner_training_loop, \u001b[39mself\u001b[39m\u001b[39m.\u001b[39m_train_batch_size, args\u001b[39m.\u001b[39mauto_find_batch_size\n\u001b[0;32m   1500\u001b[0m )\n\u001b[1;32m-> 1501\u001b[0m \u001b[39mreturn\u001b[39;00m inner_training_loop(\n\u001b[0;32m   1502\u001b[0m     args\u001b[39m=\u001b[39;49margs,\n\u001b[0;32m   1503\u001b[0m     resume_from_checkpoint\u001b[39m=\u001b[39;49mresume_from_checkpoint,\n\u001b[0;32m   1504\u001b[0m     trial\u001b[39m=\u001b[39;49mtrial,\n\u001b[0;32m   1505\u001b[0m     ignore_keys_for_eval\u001b[39m=\u001b[39;49mignore_keys_for_eval,\n\u001b[0;32m   1506\u001b[0m )\n",
      "File \u001b[1;32mc:\\Users\\riccardo\\AppData\\Local\\Programs\\Python\\Python310\\lib\\site-packages\\transformers\\trainer.py:1723\u001b[0m, in \u001b[0;36mTrainer._inner_training_loop\u001b[1;34m(self, batch_size, args, resume_from_checkpoint, trial, ignore_keys_for_eval)\u001b[0m\n\u001b[0;32m   1720\u001b[0m     \u001b[39mself\u001b[39m\u001b[39m.\u001b[39m_load_rng_state(resume_from_checkpoint)\n\u001b[0;32m   1722\u001b[0m step \u001b[39m=\u001b[39m \u001b[39m-\u001b[39m\u001b[39m1\u001b[39m\n\u001b[1;32m-> 1723\u001b[0m \u001b[39mfor\u001b[39;00m step, inputs \u001b[39min\u001b[39;00m \u001b[39menumerate\u001b[39m(epoch_iterator):\n\u001b[0;32m   1724\u001b[0m \n\u001b[0;32m   1725\u001b[0m     \u001b[39m# Skip past any already trained steps if resuming training\u001b[39;00m\n\u001b[0;32m   1726\u001b[0m     \u001b[39mif\u001b[39;00m steps_trained_in_current_epoch \u001b[39m>\u001b[39m \u001b[39m0\u001b[39m:\n\u001b[0;32m   1727\u001b[0m         steps_trained_in_current_epoch \u001b[39m-\u001b[39m\u001b[39m=\u001b[39m \u001b[39m1\u001b[39m\n",
      "File \u001b[1;32mc:\\Users\\riccardo\\AppData\\Local\\Programs\\Python\\Python310\\lib\\site-packages\\torch\\utils\\data\\dataloader.py:628\u001b[0m, in \u001b[0;36m_BaseDataLoaderIter.__next__\u001b[1;34m(self)\u001b[0m\n\u001b[0;32m    625\u001b[0m \u001b[39mif\u001b[39;00m \u001b[39mself\u001b[39m\u001b[39m.\u001b[39m_sampler_iter \u001b[39mis\u001b[39;00m \u001b[39mNone\u001b[39;00m:\n\u001b[0;32m    626\u001b[0m     \u001b[39m# TODO(https://github.com/pytorch/pytorch/issues/76750)\u001b[39;00m\n\u001b[0;32m    627\u001b[0m     \u001b[39mself\u001b[39m\u001b[39m.\u001b[39m_reset()  \u001b[39m# type: ignore[call-arg]\u001b[39;00m\n\u001b[1;32m--> 628\u001b[0m data \u001b[39m=\u001b[39m \u001b[39mself\u001b[39;49m\u001b[39m.\u001b[39;49m_next_data()\n\u001b[0;32m    629\u001b[0m \u001b[39mself\u001b[39m\u001b[39m.\u001b[39m_num_yielded \u001b[39m+\u001b[39m\u001b[39m=\u001b[39m \u001b[39m1\u001b[39m\n\u001b[0;32m    630\u001b[0m \u001b[39mif\u001b[39;00m \u001b[39mself\u001b[39m\u001b[39m.\u001b[39m_dataset_kind \u001b[39m==\u001b[39m _DatasetKind\u001b[39m.\u001b[39mIterable \u001b[39mand\u001b[39;00m \\\n\u001b[0;32m    631\u001b[0m         \u001b[39mself\u001b[39m\u001b[39m.\u001b[39m_IterableDataset_len_called \u001b[39mis\u001b[39;00m \u001b[39mnot\u001b[39;00m \u001b[39mNone\u001b[39;00m \u001b[39mand\u001b[39;00m \\\n\u001b[0;32m    632\u001b[0m         \u001b[39mself\u001b[39m\u001b[39m.\u001b[39m_num_yielded \u001b[39m>\u001b[39m \u001b[39mself\u001b[39m\u001b[39m.\u001b[39m_IterableDataset_len_called:\n",
      "File \u001b[1;32mc:\\Users\\riccardo\\AppData\\Local\\Programs\\Python\\Python310\\lib\\site-packages\\torch\\utils\\data\\dataloader.py:671\u001b[0m, in \u001b[0;36m_SingleProcessDataLoaderIter._next_data\u001b[1;34m(self)\u001b[0m\n\u001b[0;32m    669\u001b[0m \u001b[39mdef\u001b[39;00m \u001b[39m_next_data\u001b[39m(\u001b[39mself\u001b[39m):\n\u001b[0;32m    670\u001b[0m     index \u001b[39m=\u001b[39m \u001b[39mself\u001b[39m\u001b[39m.\u001b[39m_next_index()  \u001b[39m# may raise StopIteration\u001b[39;00m\n\u001b[1;32m--> 671\u001b[0m     data \u001b[39m=\u001b[39m \u001b[39mself\u001b[39;49m\u001b[39m.\u001b[39;49m_dataset_fetcher\u001b[39m.\u001b[39;49mfetch(index)  \u001b[39m# may raise StopIteration\u001b[39;00m\n\u001b[0;32m    672\u001b[0m     \u001b[39mif\u001b[39;00m \u001b[39mself\u001b[39m\u001b[39m.\u001b[39m_pin_memory:\n\u001b[0;32m    673\u001b[0m         data \u001b[39m=\u001b[39m _utils\u001b[39m.\u001b[39mpin_memory\u001b[39m.\u001b[39mpin_memory(data, \u001b[39mself\u001b[39m\u001b[39m.\u001b[39m_pin_memory_device)\n",
      "File \u001b[1;32mc:\\Users\\riccardo\\AppData\\Local\\Programs\\Python\\Python310\\lib\\site-packages\\torch\\utils\\data\\_utils\\fetch.py:58\u001b[0m, in \u001b[0;36m_MapDatasetFetcher.fetch\u001b[1;34m(self, possibly_batched_index)\u001b[0m\n\u001b[0;32m     56\u001b[0m         data \u001b[39m=\u001b[39m \u001b[39mself\u001b[39m\u001b[39m.\u001b[39mdataset\u001b[39m.\u001b[39m__getitems__(possibly_batched_index)\n\u001b[0;32m     57\u001b[0m     \u001b[39melse\u001b[39;00m:\n\u001b[1;32m---> 58\u001b[0m         data \u001b[39m=\u001b[39m [\u001b[39mself\u001b[39m\u001b[39m.\u001b[39mdataset[idx] \u001b[39mfor\u001b[39;00m idx \u001b[39min\u001b[39;00m possibly_batched_index]\n\u001b[0;32m     59\u001b[0m \u001b[39melse\u001b[39;00m:\n\u001b[0;32m     60\u001b[0m     data \u001b[39m=\u001b[39m \u001b[39mself\u001b[39m\u001b[39m.\u001b[39mdataset[possibly_batched_index]\n",
      "File \u001b[1;32mc:\\Users\\riccardo\\AppData\\Local\\Programs\\Python\\Python310\\lib\\site-packages\\torch\\utils\\data\\_utils\\fetch.py:58\u001b[0m, in \u001b[0;36m<listcomp>\u001b[1;34m(.0)\u001b[0m\n\u001b[0;32m     56\u001b[0m         data \u001b[39m=\u001b[39m \u001b[39mself\u001b[39m\u001b[39m.\u001b[39mdataset\u001b[39m.\u001b[39m__getitems__(possibly_batched_index)\n\u001b[0;32m     57\u001b[0m     \u001b[39melse\u001b[39;00m:\n\u001b[1;32m---> 58\u001b[0m         data \u001b[39m=\u001b[39m [\u001b[39mself\u001b[39;49m\u001b[39m.\u001b[39;49mdataset[idx] \u001b[39mfor\u001b[39;00m idx \u001b[39min\u001b[39;00m possibly_batched_index]\n\u001b[0;32m     59\u001b[0m \u001b[39melse\u001b[39;00m:\n\u001b[0;32m     60\u001b[0m     data \u001b[39m=\u001b[39m \u001b[39mself\u001b[39m\u001b[39m.\u001b[39mdataset[possibly_batched_index]\n",
      "Cell \u001b[1;32mIn [19], line 36\u001b[0m, in \u001b[0;36mCustomDataset.__getitem__\u001b[1;34m(self, idx)\u001b[0m\n\u001b[0;32m     31\u001b[0m     \u001b[39mreturn\u001b[39;00m (passage,question,history), answer\n\u001b[0;32m     33\u001b[0m \u001b[39m#input_ids = torch.tensor(self.encodings['input_ids'])\u001b[39;00m\n\u001b[0;32m     34\u001b[0m \u001b[39m#target_ids = torch.tensor(self.labels[idx])\u001b[39;00m\n\u001b[1;32m---> 36\u001b[0m inputs \u001b[39m=\u001b[39m \u001b[39mself\u001b[39;49m\u001b[39m.\u001b[39;49mtokenizer(\n\u001b[0;32m     37\u001b[0m     question,\n\u001b[0;32m     38\u001b[0m     passage,\n\u001b[0;32m     39\u001b[0m     max_length\u001b[39m=\u001b[39;49m\u001b[39m512\u001b[39;49m,\n\u001b[0;32m     40\u001b[0m     padding\u001b[39m=\u001b[39;49m\u001b[39m\"\u001b[39;49m\u001b[39mmax_length\u001b[39;49m\u001b[39m\"\u001b[39;49m,\n\u001b[0;32m     41\u001b[0m     truncation\u001b[39m=\u001b[39;49m\u001b[39mTrue\u001b[39;49;00m,\n\u001b[0;32m     42\u001b[0m     return_tensors\u001b[39m=\u001b[39;49m\u001b[39m\"\u001b[39;49m\u001b[39mpt\u001b[39;49m\u001b[39m\"\u001b[39;49m,\n\u001b[0;32m     43\u001b[0m )\u001b[39m.\u001b[39minput_ids\n\u001b[0;32m     45\u001b[0m labels \u001b[39m=\u001b[39m \u001b[39mself\u001b[39m\u001b[39m.\u001b[39mtokenizer(\n\u001b[0;32m     46\u001b[0m     answer,\n\u001b[0;32m     47\u001b[0m     max_length\u001b[39m=\u001b[39m\u001b[39m100\u001b[39m,\n\u001b[1;32m   (...)\u001b[0m\n\u001b[0;32m     50\u001b[0m     return_tensors\u001b[39m=\u001b[39m\u001b[39m\"\u001b[39m\u001b[39mpt\u001b[39m\u001b[39m\"\u001b[39m,\n\u001b[0;32m     51\u001b[0m )\u001b[39m.\u001b[39minput_ids\n\u001b[0;32m     53\u001b[0m \u001b[39mreturn\u001b[39;00m {\u001b[39m\"\u001b[39m\u001b[39minput_ids\u001b[39m\u001b[39m\"\u001b[39m: inputs\u001b[39m.\u001b[39msqueeze(\u001b[39m0\u001b[39m)\u001b[39m.\u001b[39mto(\u001b[39m'\u001b[39m\u001b[39mcuda\u001b[39m\u001b[39m'\u001b[39m), \u001b[39m\"\u001b[39m\u001b[39mlabels\u001b[39m\u001b[39m\"\u001b[39m: labels\u001b[39m.\u001b[39msqueeze(\u001b[39m0\u001b[39m)\u001b[39m.\u001b[39mto(\u001b[39m'\u001b[39m\u001b[39mcuda\u001b[39m\u001b[39m'\u001b[39m)}\n",
      "File \u001b[1;32mc:\\Users\\riccardo\\AppData\\Local\\Programs\\Python\\Python310\\lib\\site-packages\\transformers\\tokenization_utils_base.py:2488\u001b[0m, in \u001b[0;36mPreTrainedTokenizerBase.__call__\u001b[1;34m(self, text, text_pair, text_target, text_pair_target, add_special_tokens, padding, truncation, max_length, stride, is_split_into_words, pad_to_multiple_of, return_tensors, return_token_type_ids, return_attention_mask, return_overflowing_tokens, return_special_tokens_mask, return_offsets_mapping, return_length, verbose, **kwargs)\u001b[0m\n\u001b[0;32m   2486\u001b[0m     \u001b[39mif\u001b[39;00m \u001b[39mnot\u001b[39;00m \u001b[39mself\u001b[39m\u001b[39m.\u001b[39m_in_target_context_manager:\n\u001b[0;32m   2487\u001b[0m         \u001b[39mself\u001b[39m\u001b[39m.\u001b[39m_switch_to_input_mode()\n\u001b[1;32m-> 2488\u001b[0m     encodings \u001b[39m=\u001b[39m \u001b[39mself\u001b[39m\u001b[39m.\u001b[39m_call_one(text\u001b[39m=\u001b[39mtext, text_pair\u001b[39m=\u001b[39mtext_pair, \u001b[39m*\u001b[39m\u001b[39m*\u001b[39mall_kwargs)\n\u001b[0;32m   2489\u001b[0m \u001b[39mif\u001b[39;00m text_target \u001b[39mis\u001b[39;00m \u001b[39mnot\u001b[39;00m \u001b[39mNone\u001b[39;00m:\n\u001b[0;32m   2490\u001b[0m     \u001b[39mself\u001b[39m\u001b[39m.\u001b[39m_switch_to_target_mode()\n",
      "File \u001b[1;32mc:\\Users\\riccardo\\AppData\\Local\\Programs\\Python\\Python310\\lib\\site-packages\\transformers\\tokenization_utils_base.py:2594\u001b[0m, in \u001b[0;36mPreTrainedTokenizerBase._call_one\u001b[1;34m(self, text, text_pair, add_special_tokens, padding, truncation, max_length, stride, is_split_into_words, pad_to_multiple_of, return_tensors, return_token_type_ids, return_attention_mask, return_overflowing_tokens, return_special_tokens_mask, return_offsets_mapping, return_length, verbose, **kwargs)\u001b[0m\n\u001b[0;32m   2574\u001b[0m     \u001b[39mreturn\u001b[39;00m \u001b[39mself\u001b[39m\u001b[39m.\u001b[39mbatch_encode_plus(\n\u001b[0;32m   2575\u001b[0m         batch_text_or_text_pairs\u001b[39m=\u001b[39mbatch_text_or_text_pairs,\n\u001b[0;32m   2576\u001b[0m         add_special_tokens\u001b[39m=\u001b[39madd_special_tokens,\n\u001b[1;32m   (...)\u001b[0m\n\u001b[0;32m   2591\u001b[0m         \u001b[39m*\u001b[39m\u001b[39m*\u001b[39mkwargs,\n\u001b[0;32m   2592\u001b[0m     )\n\u001b[0;32m   2593\u001b[0m \u001b[39melse\u001b[39;00m:\n\u001b[1;32m-> 2594\u001b[0m     \u001b[39mreturn\u001b[39;00m \u001b[39mself\u001b[39m\u001b[39m.\u001b[39mencode_plus(\n\u001b[0;32m   2595\u001b[0m         text\u001b[39m=\u001b[39mtext,\n\u001b[0;32m   2596\u001b[0m         text_pair\u001b[39m=\u001b[39mtext_pair,\n\u001b[0;32m   2597\u001b[0m         add_special_tokens\u001b[39m=\u001b[39madd_special_tokens,\n\u001b[0;32m   2598\u001b[0m         padding\u001b[39m=\u001b[39mpadding,\n\u001b[0;32m   2599\u001b[0m         truncation\u001b[39m=\u001b[39mtruncation,\n\u001b[0;32m   2600\u001b[0m         max_length\u001b[39m=\u001b[39mmax_length,\n\u001b[0;32m   2601\u001b[0m         stride\u001b[39m=\u001b[39mstride,\n\u001b[0;32m   2602\u001b[0m         is_split_into_words\u001b[39m=\u001b[39mis_split_into_words,\n\u001b[0;32m   2603\u001b[0m         pad_to_multiple_of\u001b[39m=\u001b[39mpad_to_multiple_of,\n\u001b[0;32m   2604\u001b[0m         return_tensors\u001b[39m=\u001b[39mreturn_tensors,\n\u001b[0;32m   2605\u001b[0m         return_token_type_ids\u001b[39m=\u001b[39mreturn_token_type_ids,\n\u001b[0;32m   2606\u001b[0m         return_attention_mask\u001b[39m=\u001b[39mreturn_attention_mask,\n\u001b[0;32m   2607\u001b[0m         return_overflowing_tokens\u001b[39m=\u001b[39mreturn_overflowing_tokens,\n\u001b[0;32m   2608\u001b[0m         return_special_tokens_mask\u001b[39m=\u001b[39mreturn_special_tokens_mask,\n\u001b[0;32m   2609\u001b[0m         return_offsets_mapping\u001b[39m=\u001b[39mreturn_offsets_mapping,\n\u001b[0;32m   2610\u001b[0m         return_length\u001b[39m=\u001b[39mreturn_length,\n\u001b[0;32m   2611\u001b[0m         verbose\u001b[39m=\u001b[39mverbose,\n\u001b[0;32m   2612\u001b[0m         \u001b[39m*\u001b[39m\u001b[39m*\u001b[39mkwargs,\n\u001b[0;32m   2613\u001b[0m     )\n",
      "File \u001b[1;32mc:\\Users\\riccardo\\AppData\\Local\\Programs\\Python\\Python310\\lib\\site-packages\\transformers\\tokenization_utils_base.py:2667\u001b[0m, in \u001b[0;36mPreTrainedTokenizerBase.encode_plus\u001b[1;34m(self, text, text_pair, add_special_tokens, padding, truncation, max_length, stride, is_split_into_words, pad_to_multiple_of, return_tensors, return_token_type_ids, return_attention_mask, return_overflowing_tokens, return_special_tokens_mask, return_offsets_mapping, return_length, verbose, **kwargs)\u001b[0m\n\u001b[0;32m   2657\u001b[0m \u001b[39m# Backward compatibility for 'truncation_strategy', 'pad_to_max_length'\u001b[39;00m\n\u001b[0;32m   2658\u001b[0m padding_strategy, truncation_strategy, max_length, kwargs \u001b[39m=\u001b[39m \u001b[39mself\u001b[39m\u001b[39m.\u001b[39m_get_padding_truncation_strategies(\n\u001b[0;32m   2659\u001b[0m     padding\u001b[39m=\u001b[39mpadding,\n\u001b[0;32m   2660\u001b[0m     truncation\u001b[39m=\u001b[39mtruncation,\n\u001b[1;32m   (...)\u001b[0m\n\u001b[0;32m   2664\u001b[0m     \u001b[39m*\u001b[39m\u001b[39m*\u001b[39mkwargs,\n\u001b[0;32m   2665\u001b[0m )\n\u001b[1;32m-> 2667\u001b[0m \u001b[39mreturn\u001b[39;00m \u001b[39mself\u001b[39m\u001b[39m.\u001b[39m_encode_plus(\n\u001b[0;32m   2668\u001b[0m     text\u001b[39m=\u001b[39mtext,\n\u001b[0;32m   2669\u001b[0m     text_pair\u001b[39m=\u001b[39mtext_pair,\n\u001b[0;32m   2670\u001b[0m     add_special_tokens\u001b[39m=\u001b[39madd_special_tokens,\n\u001b[0;32m   2671\u001b[0m     padding_strategy\u001b[39m=\u001b[39mpadding_strategy,\n\u001b[0;32m   2672\u001b[0m     truncation_strategy\u001b[39m=\u001b[39mtruncation_strategy,\n\u001b[0;32m   2673\u001b[0m     max_length\u001b[39m=\u001b[39mmax_length,\n\u001b[0;32m   2674\u001b[0m     stride\u001b[39m=\u001b[39mstride,\n\u001b[0;32m   2675\u001b[0m     is_split_into_words\u001b[39m=\u001b[39mis_split_into_words,\n\u001b[0;32m   2676\u001b[0m     pad_to_multiple_of\u001b[39m=\u001b[39mpad_to_multiple_of,\n\u001b[0;32m   2677\u001b[0m     return_tensors\u001b[39m=\u001b[39mreturn_tensors,\n\u001b[0;32m   2678\u001b[0m     return_token_type_ids\u001b[39m=\u001b[39mreturn_token_type_ids,\n\u001b[0;32m   2679\u001b[0m     return_attention_mask\u001b[39m=\u001b[39mreturn_attention_mask,\n\u001b[0;32m   2680\u001b[0m     return_overflowing_tokens\u001b[39m=\u001b[39mreturn_overflowing_tokens,\n\u001b[0;32m   2681\u001b[0m     return_special_tokens_mask\u001b[39m=\u001b[39mreturn_special_tokens_mask,\n\u001b[0;32m   2682\u001b[0m     return_offsets_mapping\u001b[39m=\u001b[39mreturn_offsets_mapping,\n\u001b[0;32m   2683\u001b[0m     return_length\u001b[39m=\u001b[39mreturn_length,\n\u001b[0;32m   2684\u001b[0m     verbose\u001b[39m=\u001b[39mverbose,\n\u001b[0;32m   2685\u001b[0m     \u001b[39m*\u001b[39m\u001b[39m*\u001b[39mkwargs,\n\u001b[0;32m   2686\u001b[0m )\n",
      "File \u001b[1;32mc:\\Users\\riccardo\\AppData\\Local\\Programs\\Python\\Python310\\lib\\site-packages\\transformers\\tokenization_utils_fast.py:502\u001b[0m, in \u001b[0;36mPreTrainedTokenizerFast._encode_plus\u001b[1;34m(self, text, text_pair, add_special_tokens, padding_strategy, truncation_strategy, max_length, stride, is_split_into_words, pad_to_multiple_of, return_tensors, return_token_type_ids, return_attention_mask, return_overflowing_tokens, return_special_tokens_mask, return_offsets_mapping, return_length, verbose, **kwargs)\u001b[0m\n\u001b[0;32m    479\u001b[0m \u001b[39mdef\u001b[39;00m \u001b[39m_encode_plus\u001b[39m(\n\u001b[0;32m    480\u001b[0m     \u001b[39mself\u001b[39m,\n\u001b[0;32m    481\u001b[0m     text: Union[TextInput, PreTokenizedInput],\n\u001b[1;32m   (...)\u001b[0m\n\u001b[0;32m    498\u001b[0m     \u001b[39m*\u001b[39m\u001b[39m*\u001b[39mkwargs\n\u001b[0;32m    499\u001b[0m ) \u001b[39m-\u001b[39m\u001b[39m>\u001b[39m BatchEncoding:\n\u001b[0;32m    501\u001b[0m     batched_input \u001b[39m=\u001b[39m [(text, text_pair)] \u001b[39mif\u001b[39;00m text_pair \u001b[39melse\u001b[39;00m [text]\n\u001b[1;32m--> 502\u001b[0m     batched_output \u001b[39m=\u001b[39m \u001b[39mself\u001b[39m\u001b[39m.\u001b[39m_batch_encode_plus(\n\u001b[0;32m    503\u001b[0m         batched_input,\n\u001b[0;32m    504\u001b[0m         is_split_into_words\u001b[39m=\u001b[39mis_split_into_words,\n\u001b[0;32m    505\u001b[0m         add_special_tokens\u001b[39m=\u001b[39madd_special_tokens,\n\u001b[0;32m    506\u001b[0m         padding_strategy\u001b[39m=\u001b[39mpadding_strategy,\n\u001b[0;32m    507\u001b[0m         truncation_strategy\u001b[39m=\u001b[39mtruncation_strategy,\n\u001b[0;32m    508\u001b[0m         max_length\u001b[39m=\u001b[39mmax_length,\n\u001b[0;32m    509\u001b[0m         stride\u001b[39m=\u001b[39mstride,\n\u001b[0;32m    510\u001b[0m         pad_to_multiple_of\u001b[39m=\u001b[39mpad_to_multiple_of,\n\u001b[0;32m    511\u001b[0m         return_tensors\u001b[39m=\u001b[39mreturn_tensors,\n\u001b[0;32m    512\u001b[0m         return_token_type_ids\u001b[39m=\u001b[39mreturn_token_type_ids,\n\u001b[0;32m    513\u001b[0m         return_attention_mask\u001b[39m=\u001b[39mreturn_attention_mask,\n\u001b[0;32m    514\u001b[0m         return_overflowing_tokens\u001b[39m=\u001b[39mreturn_overflowing_tokens,\n\u001b[0;32m    515\u001b[0m         return_special_tokens_mask\u001b[39m=\u001b[39mreturn_special_tokens_mask,\n\u001b[0;32m    516\u001b[0m         return_offsets_mapping\u001b[39m=\u001b[39mreturn_offsets_mapping,\n\u001b[0;32m    517\u001b[0m         return_length\u001b[39m=\u001b[39mreturn_length,\n\u001b[0;32m    518\u001b[0m         verbose\u001b[39m=\u001b[39mverbose,\n\u001b[0;32m    519\u001b[0m         \u001b[39m*\u001b[39m\u001b[39m*\u001b[39mkwargs,\n\u001b[0;32m    520\u001b[0m     )\n\u001b[0;32m    522\u001b[0m     \u001b[39m# Return tensor is None, then we can remove the leading batch axis\u001b[39;00m\n\u001b[0;32m    523\u001b[0m     \u001b[39m# Overflowing tokens are returned as a batch of output so we keep them in this case\u001b[39;00m\n\u001b[0;32m    524\u001b[0m     \u001b[39mif\u001b[39;00m return_tensors \u001b[39mis\u001b[39;00m \u001b[39mNone\u001b[39;00m \u001b[39mand\u001b[39;00m \u001b[39mnot\u001b[39;00m return_overflowing_tokens:\n",
      "File \u001b[1;32mc:\\Users\\riccardo\\AppData\\Local\\Programs\\Python\\Python310\\lib\\site-packages\\transformers\\tokenization_utils_fast.py:429\u001b[0m, in \u001b[0;36mPreTrainedTokenizerFast._batch_encode_plus\u001b[1;34m(self, batch_text_or_text_pairs, add_special_tokens, padding_strategy, truncation_strategy, max_length, stride, is_split_into_words, pad_to_multiple_of, return_tensors, return_token_type_ids, return_attention_mask, return_overflowing_tokens, return_special_tokens_mask, return_offsets_mapping, return_length, verbose)\u001b[0m\n\u001b[0;32m    420\u001b[0m \u001b[39m# Set the truncation and padding strategy and restore the initial configuration\u001b[39;00m\n\u001b[0;32m    421\u001b[0m \u001b[39mself\u001b[39m\u001b[39m.\u001b[39mset_truncation_and_padding(\n\u001b[0;32m    422\u001b[0m     padding_strategy\u001b[39m=\u001b[39mpadding_strategy,\n\u001b[0;32m    423\u001b[0m     truncation_strategy\u001b[39m=\u001b[39mtruncation_strategy,\n\u001b[1;32m   (...)\u001b[0m\n\u001b[0;32m    426\u001b[0m     pad_to_multiple_of\u001b[39m=\u001b[39mpad_to_multiple_of,\n\u001b[0;32m    427\u001b[0m )\n\u001b[1;32m--> 429\u001b[0m encodings \u001b[39m=\u001b[39m \u001b[39mself\u001b[39;49m\u001b[39m.\u001b[39;49m_tokenizer\u001b[39m.\u001b[39;49mencode_batch(\n\u001b[0;32m    430\u001b[0m     batch_text_or_text_pairs,\n\u001b[0;32m    431\u001b[0m     add_special_tokens\u001b[39m=\u001b[39;49madd_special_tokens,\n\u001b[0;32m    432\u001b[0m     is_pretokenized\u001b[39m=\u001b[39;49mis_split_into_words,\n\u001b[0;32m    433\u001b[0m )\n\u001b[0;32m    435\u001b[0m \u001b[39m# Convert encoding to dict\u001b[39;00m\n\u001b[0;32m    436\u001b[0m \u001b[39m# `Tokens` has type: Tuple[\u001b[39;00m\n\u001b[0;32m    437\u001b[0m \u001b[39m#                       List[Dict[str, List[List[int]]]] or List[Dict[str, 2D-Tensor]],\u001b[39;00m\n\u001b[0;32m    438\u001b[0m \u001b[39m#                       List[EncodingFast]\u001b[39;00m\n\u001b[0;32m    439\u001b[0m \u001b[39m#                    ]\u001b[39;00m\n\u001b[0;32m    440\u001b[0m \u001b[39m# with nested dimensions corresponding to batch, overflows, sequence length\u001b[39;00m\n\u001b[0;32m    441\u001b[0m tokens_and_encodings \u001b[39m=\u001b[39m [\n\u001b[0;32m    442\u001b[0m     \u001b[39mself\u001b[39m\u001b[39m.\u001b[39m_convert_encoding(\n\u001b[0;32m    443\u001b[0m         encoding\u001b[39m=\u001b[39mencoding,\n\u001b[1;32m   (...)\u001b[0m\n\u001b[0;32m    452\u001b[0m     \u001b[39mfor\u001b[39;00m encoding \u001b[39min\u001b[39;00m encodings\n\u001b[0;32m    453\u001b[0m ]\n",
      "\u001b[1;31mKeyboardInterrupt\u001b[0m: "
     ]
    }
   ],
   "source": [
    "trainer.train()"
   ]
  },
  {
   "cell_type": "code",
   "execution_count": null,
   "metadata": {},
   "outputs": [],
   "source": []
  },
  {
   "cell_type": "code",
   "execution_count": null,
   "metadata": {},
   "outputs": [],
   "source": [
    "import time"
   ]
  },
  {
   "cell_type": "code",
   "execution_count": null,
   "metadata": {},
   "outputs": [],
   "source": [
    "def train(model, tokenizer, n_epochs=3, learning_rate=1e-3):\n",
    "    model.to('cuda')\n",
    "\n",
    "    L=[]\n",
    "\n",
    "    model.config.decoder_start_token_id = tokenizer.cls_token_id\n",
    "    model.config.pad_token_id = tokenizer.pad_token_id\n",
    "\n",
    "    optimizer = torch.optim.Adam(model.parameters(), lr=learning_rate)\n",
    "\n",
    "    start_time = time.time()\n",
    "    for epoch in range(n_epochs):  # loop over the dataset multiple times\n",
    "\n",
    "        running_loss = 0.0\n",
    "        for i, data in enumerate(train_dataloader, 0):\n",
    "            # get the inputs; data is a list of [inputs, labels]\n",
    "            (passage, question), answer = data\n",
    "\n",
    "            # text_input = [question[i] + ' [SEP] ' + passage[i] for i in range(len(passage))]\n",
    "\n",
    "            # zero the parameter gradients\n",
    "            optimizer.zero_grad()\n",
    "\n",
    "            inputs = tokenizer(\n",
    "                question,\n",
    "                passage,\n",
    "                padding=True,\n",
    "                max_length=512,\n",
    "                truncation=True,\n",
    "                return_tensors=\"pt\",\n",
    "            ).input_ids\n",
    "\n",
    "            labels = tokenizer(\n",
    "                answer,\n",
    "                max_length=512,\n",
    "                truncation=True,\n",
    "                padding=True,\n",
    "                return_tensors=\"pt\",\n",
    "            ).input_ids\n",
    "\n",
    "            #X=torch.tensor(input_ids,device='cuda')\n",
    "            #y=torch.tensor(labels,device='cuda')\n",
    "            \n",
    "            #print(X.shape,y.shape)\n",
    "            \n",
    "            #if X.shape[1]>500:\n",
    "            #    continue\n",
    "\n",
    "            # the forward function automatically creates the correct decoder_input_ids\n",
    "            outputs = model(inputs.to('cuda'), labels=labels.to('cuda'))\n",
    "            loss = outputs.loss\n",
    "\n",
    "            loss.backward()\n",
    "            optimizer.step()\n",
    "\n",
    "            # print statistics\n",
    "            running_loss += loss.item()\n",
    "\n",
    "            L.append(loss.detach().cpu().numpy())\n",
    "            \n",
    "            epoch_time = time.time() - start_time\n",
    "            batch_time = epoch_time/(i+1)\n",
    "            \n",
    "            print(f\"epoch: {epoch + 1}/{n_epochs}, {i + 1}/{len(train_dataloader)}, {epoch_time:.0f}s {batch_time*1e3:.0f}ms/step, lr: {optimizer.param_groups[0]['lr']:.3g}, loss: {running_loss/(i+1):.3g}\", end = '\\r')\n",
    "\n",
    "        print(f\"epoch: {epoch + 1}/{n_epochs}, {i + 1}/{len(train_dataloader)}, {epoch_time:.0f}s {batch_time*1e3:.0f}ms/step, lr: {optimizer.param_groups[0]['lr']:.3g}, loss: {running_loss/(i+1):.3g}\")\n",
    "\n",
    "    print('Finished Training')"
   ]
  },
  {
   "cell_type": "code",
   "execution_count": null,
   "metadata": {},
   "outputs": [
    {
     "name": "stderr",
     "output_type": "stream",
     "text": [
      "c:\\Users\\riccardo\\AppData\\Local\\Programs\\Python\\Python310\\lib\\site-packages\\transformers\\models\\encoder_decoder\\modeling_encoder_decoder.py:634: FutureWarning: Version v4.12.0 introduces a better way to train encoder-decoder models by computing the loss inside the encoder-decoder framework rather than in the decoder itself. You may observe training discrepancies if fine-tuning a model trained with versions anterior to 4.12.0. The decoder_input_ids are now created based on the labels, no need to pass them yourself anymore.\n",
      "  warnings.warn(DEPRECATION_WARNING, FutureWarning)\n"
     ]
    },
    {
     "name": "stdout",
     "output_type": "stream",
     "text": [
      "epoch: 1/3, 229/1341, 175s 762ms/step, lr: 0.001, loss: 1.43\r"
     ]
    },
    {
     "ename": "OutOfMemoryError",
     "evalue": "CUDA out of memory. Tried to allocate 806.00 MiB (GPU 0; 6.00 GiB total capacity; 4.41 GiB already allocated; 0 bytes free; 4.58 GiB reserved in total by PyTorch) If reserved memory is >> allocated memory try setting max_split_size_mb to avoid fragmentation.  See documentation for Memory Management and PYTORCH_CUDA_ALLOC_CONF",
     "output_type": "error",
     "traceback": [
      "\u001b[1;31m---------------------------------------------------------------------------\u001b[0m",
      "\u001b[1;31mOutOfMemoryError\u001b[0m                          Traceback (most recent call last)",
      "Cell \u001b[1;32mIn [22], line 1\u001b[0m\n\u001b[1;32m----> 1\u001b[0m train(M2,T2)\n",
      "Cell \u001b[1;32mIn [21], line 53\u001b[0m, in \u001b[0;36mtrain\u001b[1;34m(model, tokenizer, n_epochs, learning_rate)\u001b[0m\n\u001b[0;32m     50\u001b[0m outputs \u001b[39m=\u001b[39m model(inputs\u001b[39m.\u001b[39mto(\u001b[39m'\u001b[39m\u001b[39mcuda\u001b[39m\u001b[39m'\u001b[39m), labels\u001b[39m=\u001b[39mlabels\u001b[39m.\u001b[39mto(\u001b[39m'\u001b[39m\u001b[39mcuda\u001b[39m\u001b[39m'\u001b[39m))\n\u001b[0;32m     51\u001b[0m loss \u001b[39m=\u001b[39m outputs\u001b[39m.\u001b[39mloss\n\u001b[1;32m---> 53\u001b[0m loss\u001b[39m.\u001b[39;49mbackward()\n\u001b[0;32m     54\u001b[0m optimizer\u001b[39m.\u001b[39mstep()\n\u001b[0;32m     56\u001b[0m \u001b[39m# print statistics\u001b[39;00m\n",
      "File \u001b[1;32mc:\\Users\\riccardo\\AppData\\Local\\Programs\\Python\\Python310\\lib\\site-packages\\torch\\_tensor.py:487\u001b[0m, in \u001b[0;36mTensor.backward\u001b[1;34m(self, gradient, retain_graph, create_graph, inputs)\u001b[0m\n\u001b[0;32m    477\u001b[0m \u001b[39mif\u001b[39;00m has_torch_function_unary(\u001b[39mself\u001b[39m):\n\u001b[0;32m    478\u001b[0m     \u001b[39mreturn\u001b[39;00m handle_torch_function(\n\u001b[0;32m    479\u001b[0m         Tensor\u001b[39m.\u001b[39mbackward,\n\u001b[0;32m    480\u001b[0m         (\u001b[39mself\u001b[39m,),\n\u001b[1;32m   (...)\u001b[0m\n\u001b[0;32m    485\u001b[0m         inputs\u001b[39m=\u001b[39minputs,\n\u001b[0;32m    486\u001b[0m     )\n\u001b[1;32m--> 487\u001b[0m torch\u001b[39m.\u001b[39;49mautograd\u001b[39m.\u001b[39;49mbackward(\n\u001b[0;32m    488\u001b[0m     \u001b[39mself\u001b[39;49m, gradient, retain_graph, create_graph, inputs\u001b[39m=\u001b[39;49minputs\n\u001b[0;32m    489\u001b[0m )\n",
      "File \u001b[1;32mc:\\Users\\riccardo\\AppData\\Local\\Programs\\Python\\Python310\\lib\\site-packages\\torch\\autograd\\__init__.py:197\u001b[0m, in \u001b[0;36mbackward\u001b[1;34m(tensors, grad_tensors, retain_graph, create_graph, grad_variables, inputs)\u001b[0m\n\u001b[0;32m    192\u001b[0m     retain_graph \u001b[39m=\u001b[39m create_graph\n\u001b[0;32m    194\u001b[0m \u001b[39m# The reason we repeat same the comment below is that\u001b[39;00m\n\u001b[0;32m    195\u001b[0m \u001b[39m# some Python versions print out the first line of a multi-line function\u001b[39;00m\n\u001b[0;32m    196\u001b[0m \u001b[39m# calls in the traceback and some print out the last line\u001b[39;00m\n\u001b[1;32m--> 197\u001b[0m Variable\u001b[39m.\u001b[39;49m_execution_engine\u001b[39m.\u001b[39;49mrun_backward(  \u001b[39m# Calls into the C++ engine to run the backward pass\u001b[39;49;00m\n\u001b[0;32m    198\u001b[0m     tensors, grad_tensors_, retain_graph, create_graph, inputs,\n\u001b[0;32m    199\u001b[0m     allow_unreachable\u001b[39m=\u001b[39;49m\u001b[39mTrue\u001b[39;49;00m, accumulate_grad\u001b[39m=\u001b[39;49m\u001b[39mTrue\u001b[39;49;00m)\n",
      "\u001b[1;31mOutOfMemoryError\u001b[0m: CUDA out of memory. Tried to allocate 806.00 MiB (GPU 0; 6.00 GiB total capacity; 4.41 GiB already allocated; 0 bytes free; 4.58 GiB reserved in total by PyTorch) If reserved memory is >> allocated memory try setting max_split_size_mb to avoid fragmentation.  See documentation for Memory Management and PYTORCH_CUDA_ALLOC_CONF"
     ]
    }
   ],
   "source": [
    "train(M2,T2)"
   ]
  },
  {
   "cell_type": "markdown",
   "metadata": {},
   "source": [
    "# Task 7"
   ]
  },
  {
   "cell_type": "code",
   "execution_count": null,
   "metadata": {},
   "outputs": [],
   "source": []
  }
 ],
 "metadata": {
  "kernelspec": {
   "display_name": "Python 3",
   "language": "python",
   "name": "python3"
  },
  "language_info": {
   "codemirror_mode": {
    "name": "ipython",
    "version": 3
   },
   "file_extension": ".py",
   "mimetype": "text/x-python",
   "name": "python",
   "nbconvert_exporter": "python",
   "pygments_lexer": "ipython3",
   "version": "3.10.0"
  },
  "orig_nbformat": 4,
  "vscode": {
   "interpreter": {
    "hash": "0bb5e395f71e970ef2dfa88b10e29155c2f154fbffe5a547ccb4cc942724aa68"
   }
  }
 },
 "nbformat": 4,
 "nbformat_minor": 2
}
