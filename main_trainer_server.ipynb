{
 "cells": [
  {
   "cell_type": "code",
   "execution_count": 1,
   "id": "4acc06f1",
   "metadata": {
    "execution": {
     "iopub.execute_input": "2022-12-21T02:18:46.216958Z",
     "iopub.status.busy": "2022-12-21T02:18:46.215778Z",
     "iopub.status.idle": "2022-12-21T02:18:59.908527Z",
     "shell.execute_reply": "2022-12-21T02:18:59.907216Z"
    },
    "papermill": {
     "duration": 13.710659,
     "end_time": "2022-12-21T02:18:59.911417",
     "exception": false,
     "start_time": "2022-12-21T02:18:46.200758",
     "status": "completed"
    },
    "tags": []
   },
   "outputs": [
    {
     "name": "stdout",
     "output_type": "stream",
     "text": [
      "Cloning into 'NLP-assignment-2'...\r\n",
      "remote: Enumerating objects: 343, done.\u001b[K\r\n",
      "remote: Counting objects: 100% (105/105), done.\u001b[K\r\n",
      "remote: Compressing objects: 100% (78/78), done.\u001b[K\r\n",
      "remote: Total 343 (delta 53), reused 77 (delta 27), pack-reused 238\u001b[K\r\n",
      "Receiving objects: 100% (343/343), 295.50 MiB | 32.65 MiB/s, done.\r\n",
      "Resolving deltas: 100% (201/201), done.\r\n",
      "/kaggle/working/NLP-assignment-2\n",
      "Already up to date.\r\n"
     ]
    }
   ],
   "source": [
    "import os \n",
    "if os.getcwd()=='/kaggle/working':\n",
    "    !git clone https://github.com/RiccardoSpolaor/NLP-assignment-2.git\n",
    "    %cd NLP-assignment-2\n",
    "!git pull"
   ]
  },
  {
   "cell_type": "code",
   "execution_count": 2,
   "id": "493a9ee4",
   "metadata": {
    "execution": {
     "iopub.execute_input": "2022-12-21T02:18:59.944994Z",
     "iopub.status.busy": "2022-12-21T02:18:59.943893Z",
     "iopub.status.idle": "2022-12-21T02:19:11.541564Z",
     "shell.execute_reply": "2022-12-21T02:19:11.540216Z"
    },
    "papermill": {
     "duration": 11.61632,
     "end_time": "2022-12-21T02:19:11.544070",
     "exception": false,
     "start_time": "2022-12-21T02:18:59.927750",
     "status": "completed"
    },
    "tags": []
   },
   "outputs": [
    {
     "name": "stdout",
     "output_type": "stream",
     "text": [
      "Requirement already satisfied: transformers in /opt/conda/lib/python3.7/site-packages (4.20.1)\r\n",
      "Requirement already satisfied: tokenizers!=0.11.3,<0.13,>=0.11.1 in /opt/conda/lib/python3.7/site-packages (from transformers) (0.12.1)\r\n",
      "Requirement already satisfied: pyyaml>=5.1 in /opt/conda/lib/python3.7/site-packages (from transformers) (6.0)\r\n",
      "Requirement already satisfied: tqdm>=4.27 in /opt/conda/lib/python3.7/site-packages (from transformers) (4.64.0)\r\n",
      "Requirement already satisfied: importlib-metadata in /opt/conda/lib/python3.7/site-packages (from transformers) (4.13.0)\r\n",
      "Requirement already satisfied: packaging>=20.0 in /opt/conda/lib/python3.7/site-packages (from transformers) (21.3)\r\n",
      "Requirement already satisfied: huggingface-hub<1.0,>=0.1.0 in /opt/conda/lib/python3.7/site-packages (from transformers) (0.10.1)\r\n",
      "Requirement already satisfied: regex!=2019.12.17 in /opt/conda/lib/python3.7/site-packages (from transformers) (2021.11.10)\r\n",
      "Requirement already satisfied: filelock in /opt/conda/lib/python3.7/site-packages (from transformers) (3.7.1)\r\n",
      "Requirement already satisfied: requests in /opt/conda/lib/python3.7/site-packages (from transformers) (2.28.1)\r\n",
      "Requirement already satisfied: numpy>=1.17 in /opt/conda/lib/python3.7/site-packages (from transformers) (1.21.6)\r\n",
      "Requirement already satisfied: typing-extensions>=3.7.4.3 in /opt/conda/lib/python3.7/site-packages (from huggingface-hub<1.0,>=0.1.0->transformers) (4.1.1)\r\n",
      "Requirement already satisfied: pyparsing!=3.0.5,>=2.0.2 in /opt/conda/lib/python3.7/site-packages (from packaging>=20.0->transformers) (3.0.9)\r\n",
      "Requirement already satisfied: zipp>=0.5 in /opt/conda/lib/python3.7/site-packages (from importlib-metadata->transformers) (3.8.0)\r\n",
      "Requirement already satisfied: certifi>=2017.4.17 in /opt/conda/lib/python3.7/site-packages (from requests->transformers) (2022.9.24)\r\n",
      "Requirement already satisfied: idna<4,>=2.5 in /opt/conda/lib/python3.7/site-packages (from requests->transformers) (3.3)\r\n",
      "Requirement already satisfied: urllib3<1.27,>=1.21.1 in /opt/conda/lib/python3.7/site-packages (from requests->transformers) (1.26.12)\r\n",
      "Requirement already satisfied: charset-normalizer<3,>=2 in /opt/conda/lib/python3.7/site-packages (from requests->transformers) (2.1.0)\r\n",
      "\u001b[33mWARNING: Running pip as the 'root' user can result in broken permissions and conflicting behaviour with the system package manager. It is recommended to use a virtual environment instead: https://pip.pypa.io/warnings/venv\u001b[0m\u001b[33m\r\n",
      "\u001b[0m"
     ]
    }
   ],
   "source": [
    "!pip install transformers"
   ]
  },
  {
   "cell_type": "markdown",
   "id": "4512851d",
   "metadata": {
    "papermill": {
     "duration": 0.01413,
     "end_time": "2022-12-21T02:19:11.572302",
     "exception": false,
     "start_time": "2022-12-21T02:19:11.558172",
     "status": "completed"
    },
    "tags": []
   },
   "source": [
    "<center>\n",
    "    <h1>Assignment 2 - Question Answering with Transformers on CoQA</h1>\n",
    "    <h2>Natural Language Processing</h2>\n",
    "    <h3>Antonio Politano, Enrico Pittini, Riccardo Spolaor and Samuele Bortolato</h3>\n",
    "    <h4>antonio.politano2@studio.unibo.it, enrico.pittini@studio.unibo.it, riccardo.spolaor@studio.unibo.it, samuele.bortolato@studio.unibo.it</h4>\n",
    "</center>\n",
    "\n",
    "\n",
    "\n",
    "---\n",
    "\n",
    "\n",
    "\n",
    "Assignment description: see `Assignment.ipynb`.\n",
    "\n",
    "In this notebook the QA task is addressed.\n",
    "\n",
    "For more detailed informations about the used functions, look into the corresponding docstrings inside the python files, inside the `utils` folder."
   ]
  },
  {
   "cell_type": "code",
   "execution_count": 3,
   "id": "65d59150",
   "metadata": {
    "execution": {
     "iopub.execute_input": "2022-12-21T02:19:11.602918Z",
     "iopub.status.busy": "2022-12-21T02:19:11.602515Z",
     "iopub.status.idle": "2022-12-21T02:19:13.597336Z",
     "shell.execute_reply": "2022-12-21T02:19:13.596000Z"
    },
    "papermill": {
     "duration": 2.014298,
     "end_time": "2022-12-21T02:19:13.600955",
     "exception": false,
     "start_time": "2022-12-21T02:19:11.586657",
     "status": "completed"
    },
    "tags": []
   },
   "outputs": [],
   "source": [
    "import json\n",
    "import numpy as np\n",
    "import pandas as pd\n",
    "import torch"
   ]
  },
  {
   "cell_type": "code",
   "execution_count": 4,
   "id": "16f205c7",
   "metadata": {
    "execution": {
     "iopub.execute_input": "2022-12-21T02:19:13.652078Z",
     "iopub.status.busy": "2022-12-21T02:19:13.651125Z",
     "iopub.status.idle": "2022-12-21T02:19:13.711169Z",
     "shell.execute_reply": "2022-12-21T02:19:13.710248Z"
    },
    "papermill": {
     "duration": 0.087794,
     "end_time": "2022-12-21T02:19:13.714338",
     "exception": false,
     "start_time": "2022-12-21T02:19:13.626544",
     "status": "completed"
    },
    "tags": []
   },
   "outputs": [],
   "source": [
    "# Settings for autoreloading\n",
    "\n",
    "%load_ext autoreload\n",
    "%autoreload 2"
   ]
  },
  {
   "cell_type": "code",
   "execution_count": 5,
   "id": "ad67daec",
   "metadata": {
    "execution": {
     "iopub.execute_input": "2022-12-21T02:19:13.760080Z",
     "iopub.status.busy": "2022-12-21T02:19:13.759615Z",
     "iopub.status.idle": "2022-12-21T02:19:13.812875Z",
     "shell.execute_reply": "2022-12-21T02:19:13.811885Z"
    },
    "papermill": {
     "duration": 0.079096,
     "end_time": "2022-12-21T02:19:13.815853",
     "exception": false,
     "start_time": "2022-12-21T02:19:13.736757",
     "status": "completed"
    },
    "tags": []
   },
   "outputs": [],
   "source": [
    "# Settings for reproducibility\n",
    "from utils.seeder import set_random_seed\n",
    "\n",
    "set_random_seed(42)"
   ]
  },
  {
   "cell_type": "markdown",
   "id": "04fcd357",
   "metadata": {
    "papermill": {
     "duration": 0.021497,
     "end_time": "2022-12-21T02:19:13.859589",
     "exception": false,
     "start_time": "2022-12-21T02:19:13.838092",
     "status": "completed"
    },
    "tags": []
   },
   "source": [
    "# [Task 1] Remove unaswerable QA pairs"
   ]
  },
  {
   "cell_type": "markdown",
   "id": "15c915fa",
   "metadata": {
    "papermill": {
     "duration": 0.022505,
     "end_time": "2022-12-21T02:19:13.903880",
     "exception": false,
     "start_time": "2022-12-21T02:19:13.881375",
     "status": "completed"
    },
    "tags": []
   },
   "source": [
    "## 1.1 Dataset download\n",
    "\n",
    "The dataset is downloaded and saved in the `coqua` folder using the snippet of code provided in `Assignment.ipynb`."
   ]
  },
  {
   "cell_type": "code",
   "execution_count": 6,
   "id": "00de897c",
   "metadata": {
    "execution": {
     "iopub.execute_input": "2022-12-21T02:19:13.949822Z",
     "iopub.status.busy": "2022-12-21T02:19:13.949381Z",
     "iopub.status.idle": "2022-12-21T02:19:14.006032Z",
     "shell.execute_reply": "2022-12-21T02:19:14.005036Z"
    },
    "papermill": {
     "duration": 0.083362,
     "end_time": "2022-12-21T02:19:14.009303",
     "exception": false,
     "start_time": "2022-12-21T02:19:13.925941",
     "status": "completed"
    },
    "tags": []
   },
   "outputs": [],
   "source": [
    "import urllib.request\n",
    "from tqdm import tqdm\n",
    "\n",
    "class DownloadProgressBar(tqdm):\n",
    "    def update_to(self, b=1, bsize=1, tsize=None):\n",
    "        if tsize is not None:\n",
    "            self.total = tsize\n",
    "        self.update(b * bsize - self.n)\n",
    "        \n",
    "def download_url(url, output_path):\n",
    "    with DownloadProgressBar(unit='B', unit_scale=True,\n",
    "                             miniters=1, desc=url.split('/')[-1]) as t:\n",
    "        urllib.request.urlretrieve(url, filename=output_path, reporthook=t.update_to)\n",
    "\n",
    "def download_data(data_path, url_path, suffix):    \n",
    "    if not os.path.exists(data_path):\n",
    "        os.makedirs(data_path)\n",
    "        \n",
    "    data_path = os.path.join(data_path, f'{suffix}.json')\n",
    "\n",
    "    if not os.path.exists(data_path):\n",
    "        print(f\"Downloading CoQA {suffix} data split... (it may take a while)\")\n",
    "        download_url(url=url_path, output_path=data_path)\n",
    "        print(\"Download completed!\")"
   ]
  },
  {
   "cell_type": "code",
   "execution_count": 7,
   "id": "0d1d6931",
   "metadata": {
    "execution": {
     "iopub.execute_input": "2022-12-21T02:19:14.054725Z",
     "iopub.status.busy": "2022-12-21T02:19:14.054300Z",
     "iopub.status.idle": "2022-12-21T02:19:14.104490Z",
     "shell.execute_reply": "2022-12-21T02:19:14.103433Z"
    },
    "papermill": {
     "duration": 0.076271,
     "end_time": "2022-12-21T02:19:14.107898",
     "exception": false,
     "start_time": "2022-12-21T02:19:14.031627",
     "status": "completed"
    },
    "tags": []
   },
   "outputs": [],
   "source": [
    "# Train data\n",
    "train_url = \"https://nlp.stanford.edu/data/coqa/coqa-train-v1.0.json\"\n",
    "download_data(data_path='coqa', url_path=train_url, suffix='train')\n",
    "\n",
    "# Test data\n",
    "test_url = \"https://nlp.stanford.edu/data/coqa/coqa-dev-v1.0.json\"\n",
    "download_data(data_path='coqa', url_path=test_url, suffix='test')  # <-- Why test? See next slides for an answer!"
   ]
  },
  {
   "cell_type": "markdown",
   "id": "0e50885c",
   "metadata": {
    "papermill": {
     "duration": 0.021062,
     "end_time": "2022-12-21T02:19:14.151619",
     "exception": false,
     "start_time": "2022-12-21T02:19:14.130557",
     "status": "completed"
    },
    "tags": []
   },
   "source": [
    "## 1.2 Dataframe Creation\n",
    "\n",
    "The train and test dataframes (`train_df` and `test_df`) are built. Each row contains information about a specific question and the corresponding answer along with their chronological collocation (`turn_id`) in the conversation. Furthermore informations about the passage containing the context and the history of previous questions and answers of the relative conversation is contained."
   ]
  },
  {
   "cell_type": "code",
   "execution_count": 8,
   "id": "9f635bf0",
   "metadata": {
    "execution": {
     "iopub.execute_input": "2022-12-21T02:19:14.195311Z",
     "iopub.status.busy": "2022-12-21T02:19:14.194818Z",
     "iopub.status.idle": "2022-12-21T02:19:22.788813Z",
     "shell.execute_reply": "2022-12-21T02:19:22.787433Z"
    },
    "papermill": {
     "duration": 8.618637,
     "end_time": "2022-12-21T02:19:22.791179",
     "exception": false,
     "start_time": "2022-12-21T02:19:14.172542",
     "status": "completed"
    },
    "tags": []
   },
   "outputs": [],
   "source": [
    "from utils.dataframe_builder import get_dataframe\n",
    "\n",
    "train_df = get_dataframe(os.path.join('coqa', 'train.json'))\n",
    "test_df = get_dataframe(os.path.join('coqa', 'test.json'))\n"
   ]
  },
  {
   "cell_type": "markdown",
   "id": "7d03fd3f",
   "metadata": {
    "papermill": {
     "duration": 0.014348,
     "end_time": "2022-12-21T02:19:22.820636",
     "exception": false,
     "start_time": "2022-12-21T02:19:22.806288",
     "status": "completed"
    },
    "tags": []
   },
   "source": [
    "## 1.3 Data Inspection"
   ]
  },
  {
   "cell_type": "markdown",
   "id": "e02faa54",
   "metadata": {
    "papermill": {
     "duration": 0.014438,
     "end_time": "2022-12-21T02:19:22.849740",
     "exception": false,
     "start_time": "2022-12-21T02:19:22.835302",
     "status": "completed"
    },
    "tags": []
   },
   "source": [
    "The heads of the train and test dataframes are shown below along with their shapes."
   ]
  },
  {
   "cell_type": "code",
   "execution_count": 9,
   "id": "6a225f15",
   "metadata": {
    "execution": {
     "iopub.execute_input": "2022-12-21T02:19:22.881284Z",
     "iopub.status.busy": "2022-12-21T02:19:22.880907Z",
     "iopub.status.idle": "2022-12-21T02:19:22.937374Z",
     "shell.execute_reply": "2022-12-21T02:19:22.936135Z"
    },
    "papermill": {
     "duration": 0.075295,
     "end_time": "2022-12-21T02:19:22.940111",
     "exception": false,
     "start_time": "2022-12-21T02:19:22.864816",
     "status": "completed"
    },
    "tags": []
   },
   "outputs": [
    {
     "name": "stdout",
     "output_type": "stream",
     "text": [
      "Train dataframe shape: (108647, 15)\n"
     ]
    },
    {
     "data": {
      "text/html": [
       "<div>\n",
       "<style scoped>\n",
       "    .dataframe tbody tr th:only-of-type {\n",
       "        vertical-align: middle;\n",
       "    }\n",
       "\n",
       "    .dataframe tbody tr th {\n",
       "        vertical-align: top;\n",
       "    }\n",
       "\n",
       "    .dataframe thead th {\n",
       "        text-align: right;\n",
       "    }\n",
       "</style>\n",
       "<table border=\"1\" class=\"dataframe\">\n",
       "  <thead>\n",
       "    <tr style=\"text-align: right;\">\n",
       "      <th></th>\n",
       "      <th>source</th>\n",
       "      <th>id</th>\n",
       "      <th>filename</th>\n",
       "      <th>story</th>\n",
       "      <th>name</th>\n",
       "      <th>question_input_text</th>\n",
       "      <th>question_turn_id</th>\n",
       "      <th>question_bad_turn</th>\n",
       "      <th>answer_span_start</th>\n",
       "      <th>answer_span_end</th>\n",
       "      <th>answer_span_text</th>\n",
       "      <th>answer_input_text</th>\n",
       "      <th>answer_turn_id</th>\n",
       "      <th>answer_bad_turn</th>\n",
       "      <th>history</th>\n",
       "    </tr>\n",
       "  </thead>\n",
       "  <tbody>\n",
       "    <tr>\n",
       "      <th>0</th>\n",
       "      <td>wikipedia</td>\n",
       "      <td>3zotghdk5ibi9cex97fepx7jetpso7</td>\n",
       "      <td>Vatican_Library.txt</td>\n",
       "      <td>The Vatican Apostolic Library (), more commonl...</td>\n",
       "      <td>Vatican_Library.txt</td>\n",
       "      <td>When was the Vat formally opened?</td>\n",
       "      <td>1</td>\n",
       "      <td>NaN</td>\n",
       "      <td>151</td>\n",
       "      <td>179</td>\n",
       "      <td>Formally established in 1475</td>\n",
       "      <td>It was formally established in 1475</td>\n",
       "      <td>1</td>\n",
       "      <td>NaN</td>\n",
       "      <td>[]</td>\n",
       "    </tr>\n",
       "    <tr>\n",
       "      <th>1</th>\n",
       "      <td>wikipedia</td>\n",
       "      <td>3zotghdk5ibi9cex97fepx7jetpso7</td>\n",
       "      <td>Vatican_Library.txt</td>\n",
       "      <td>The Vatican Apostolic Library (), more commonl...</td>\n",
       "      <td>Vatican_Library.txt</td>\n",
       "      <td>what is the library for?</td>\n",
       "      <td>2</td>\n",
       "      <td>NaN</td>\n",
       "      <td>454</td>\n",
       "      <td>494</td>\n",
       "      <td>he Vatican Library is a research library</td>\n",
       "      <td>research</td>\n",
       "      <td>2</td>\n",
       "      <td>NaN</td>\n",
       "      <td>[When was the Vat formally opened?, It was for...</td>\n",
       "    </tr>\n",
       "    <tr>\n",
       "      <th>2</th>\n",
       "      <td>wikipedia</td>\n",
       "      <td>3zotghdk5ibi9cex97fepx7jetpso7</td>\n",
       "      <td>Vatican_Library.txt</td>\n",
       "      <td>The Vatican Apostolic Library (), more commonl...</td>\n",
       "      <td>Vatican_Library.txt</td>\n",
       "      <td>for what subjects?</td>\n",
       "      <td>3</td>\n",
       "      <td>NaN</td>\n",
       "      <td>457</td>\n",
       "      <td>511</td>\n",
       "      <td>Vatican Library is a research library for hist...</td>\n",
       "      <td>history, and law</td>\n",
       "      <td>3</td>\n",
       "      <td>NaN</td>\n",
       "      <td>[When was the Vat formally opened?, It was for...</td>\n",
       "    </tr>\n",
       "    <tr>\n",
       "      <th>3</th>\n",
       "      <td>wikipedia</td>\n",
       "      <td>3zotghdk5ibi9cex97fepx7jetpso7</td>\n",
       "      <td>Vatican_Library.txt</td>\n",
       "      <td>The Vatican Apostolic Library (), more commonl...</td>\n",
       "      <td>Vatican_Library.txt</td>\n",
       "      <td>and?</td>\n",
       "      <td>4</td>\n",
       "      <td>NaN</td>\n",
       "      <td>457</td>\n",
       "      <td>545</td>\n",
       "      <td>Vatican Library is a research library for hist...</td>\n",
       "      <td>philosophy, science and theology</td>\n",
       "      <td>4</td>\n",
       "      <td>NaN</td>\n",
       "      <td>[When was the Vat formally opened?, It was for...</td>\n",
       "    </tr>\n",
       "    <tr>\n",
       "      <th>4</th>\n",
       "      <td>wikipedia</td>\n",
       "      <td>3zotghdk5ibi9cex97fepx7jetpso7</td>\n",
       "      <td>Vatican_Library.txt</td>\n",
       "      <td>The Vatican Apostolic Library (), more commonl...</td>\n",
       "      <td>Vatican_Library.txt</td>\n",
       "      <td>what was started in 2014?</td>\n",
       "      <td>5</td>\n",
       "      <td>NaN</td>\n",
       "      <td>769</td>\n",
       "      <td>879</td>\n",
       "      <td>March 2014, the Vatican Library began an initi...</td>\n",
       "      <td>a  project</td>\n",
       "      <td>5</td>\n",
       "      <td>NaN</td>\n",
       "      <td>[When was the Vat formally opened?, It was for...</td>\n",
       "    </tr>\n",
       "  </tbody>\n",
       "</table>\n",
       "</div>"
      ],
      "text/plain": [
       "      source                              id             filename  \\\n",
       "0  wikipedia  3zotghdk5ibi9cex97fepx7jetpso7  Vatican_Library.txt   \n",
       "1  wikipedia  3zotghdk5ibi9cex97fepx7jetpso7  Vatican_Library.txt   \n",
       "2  wikipedia  3zotghdk5ibi9cex97fepx7jetpso7  Vatican_Library.txt   \n",
       "3  wikipedia  3zotghdk5ibi9cex97fepx7jetpso7  Vatican_Library.txt   \n",
       "4  wikipedia  3zotghdk5ibi9cex97fepx7jetpso7  Vatican_Library.txt   \n",
       "\n",
       "                                               story                 name  \\\n",
       "0  The Vatican Apostolic Library (), more commonl...  Vatican_Library.txt   \n",
       "1  The Vatican Apostolic Library (), more commonl...  Vatican_Library.txt   \n",
       "2  The Vatican Apostolic Library (), more commonl...  Vatican_Library.txt   \n",
       "3  The Vatican Apostolic Library (), more commonl...  Vatican_Library.txt   \n",
       "4  The Vatican Apostolic Library (), more commonl...  Vatican_Library.txt   \n",
       "\n",
       "                 question_input_text  question_turn_id question_bad_turn  \\\n",
       "0  When was the Vat formally opened?                 1               NaN   \n",
       "1           what is the library for?                 2               NaN   \n",
       "2                 for what subjects?                 3               NaN   \n",
       "3                               and?                 4               NaN   \n",
       "4          what was started in 2014?                 5               NaN   \n",
       "\n",
       "   answer_span_start  answer_span_end  \\\n",
       "0                151              179   \n",
       "1                454              494   \n",
       "2                457              511   \n",
       "3                457              545   \n",
       "4                769              879   \n",
       "\n",
       "                                    answer_span_text  \\\n",
       "0                       Formally established in 1475   \n",
       "1           he Vatican Library is a research library   \n",
       "2  Vatican Library is a research library for hist...   \n",
       "3  Vatican Library is a research library for hist...   \n",
       "4  March 2014, the Vatican Library began an initi...   \n",
       "\n",
       "                     answer_input_text  answer_turn_id answer_bad_turn  \\\n",
       "0  It was formally established in 1475               1             NaN   \n",
       "1                             research               2             NaN   \n",
       "2                     history, and law               3             NaN   \n",
       "3     philosophy, science and theology               4             NaN   \n",
       "4                           a  project               5             NaN   \n",
       "\n",
       "                                             history  \n",
       "0                                                 []  \n",
       "1  [When was the Vat formally opened?, It was for...  \n",
       "2  [When was the Vat formally opened?, It was for...  \n",
       "3  [When was the Vat formally opened?, It was for...  \n",
       "4  [When was the Vat formally opened?, It was for...  "
      ]
     },
     "execution_count": 9,
     "metadata": {},
     "output_type": "execute_result"
    }
   ],
   "source": [
    "print(f'Train dataframe shape: {train_df.shape}')\n",
    "train_df.head()"
   ]
  },
  {
   "cell_type": "code",
   "execution_count": 10,
   "id": "702b2abe",
   "metadata": {
    "execution": {
     "iopub.execute_input": "2022-12-21T02:19:22.971245Z",
     "iopub.status.busy": "2022-12-21T02:19:22.970117Z",
     "iopub.status.idle": "2022-12-21T02:19:23.076747Z",
     "shell.execute_reply": "2022-12-21T02:19:23.075626Z"
    },
    "papermill": {
     "duration": 0.124728,
     "end_time": "2022-12-21T02:19:23.079193",
     "exception": false,
     "start_time": "2022-12-21T02:19:22.954465",
     "status": "completed"
    },
    "tags": []
   },
   "outputs": [
    {
     "name": "stdout",
     "output_type": "stream",
     "text": [
      "Test dataframe shape: (7983, 14)\n"
     ]
    },
    {
     "data": {
      "text/html": [
       "<div>\n",
       "<style scoped>\n",
       "    .dataframe tbody tr th:only-of-type {\n",
       "        vertical-align: middle;\n",
       "    }\n",
       "\n",
       "    .dataframe tbody tr th {\n",
       "        vertical-align: top;\n",
       "    }\n",
       "\n",
       "    .dataframe thead th {\n",
       "        text-align: right;\n",
       "    }\n",
       "</style>\n",
       "<table border=\"1\" class=\"dataframe\">\n",
       "  <thead>\n",
       "    <tr style=\"text-align: right;\">\n",
       "      <th></th>\n",
       "      <th>source</th>\n",
       "      <th>id</th>\n",
       "      <th>filename</th>\n",
       "      <th>story</th>\n",
       "      <th>additional_answers</th>\n",
       "      <th>name</th>\n",
       "      <th>question_input_text</th>\n",
       "      <th>question_turn_id</th>\n",
       "      <th>answer_span_start</th>\n",
       "      <th>answer_span_end</th>\n",
       "      <th>answer_span_text</th>\n",
       "      <th>answer_input_text</th>\n",
       "      <th>answer_turn_id</th>\n",
       "      <th>history</th>\n",
       "    </tr>\n",
       "  </thead>\n",
       "  <tbody>\n",
       "    <tr>\n",
       "      <th>0</th>\n",
       "      <td>mctest</td>\n",
       "      <td>3dr23u6we5exclen4th8uq9rb42tel</td>\n",
       "      <td>mc160.test.41</td>\n",
       "      <td>Once upon a time, in a barn near a farm house,...</td>\n",
       "      <td>{'0': [{'span_start': 68, 'span_end': 93, 'spa...</td>\n",
       "      <td>mc160.test.41</td>\n",
       "      <td>What color was Cotton?</td>\n",
       "      <td>1</td>\n",
       "      <td>59</td>\n",
       "      <td>93</td>\n",
       "      <td>a little white kitten named Cotton</td>\n",
       "      <td>white</td>\n",
       "      <td>1</td>\n",
       "      <td>[]</td>\n",
       "    </tr>\n",
       "    <tr>\n",
       "      <th>1</th>\n",
       "      <td>mctest</td>\n",
       "      <td>3dr23u6we5exclen4th8uq9rb42tel</td>\n",
       "      <td>mc160.test.41</td>\n",
       "      <td>Once upon a time, in a barn near a farm house,...</td>\n",
       "      <td>{'0': [{'span_start': 68, 'span_end': 93, 'spa...</td>\n",
       "      <td>mc160.test.41</td>\n",
       "      <td>Where did she live?</td>\n",
       "      <td>2</td>\n",
       "      <td>18</td>\n",
       "      <td>80</td>\n",
       "      <td>in a barn near a farm house, there lived a lit...</td>\n",
       "      <td>in a barn</td>\n",
       "      <td>2</td>\n",
       "      <td>[What color was Cotton?, white]</td>\n",
       "    </tr>\n",
       "    <tr>\n",
       "      <th>2</th>\n",
       "      <td>mctest</td>\n",
       "      <td>3dr23u6we5exclen4th8uq9rb42tel</td>\n",
       "      <td>mc160.test.41</td>\n",
       "      <td>Once upon a time, in a barn near a farm house,...</td>\n",
       "      <td>{'0': [{'span_start': 68, 'span_end': 93, 'spa...</td>\n",
       "      <td>mc160.test.41</td>\n",
       "      <td>Did she live alone?</td>\n",
       "      <td>3</td>\n",
       "      <td>196</td>\n",
       "      <td>215</td>\n",
       "      <td>Cotton wasn't alone</td>\n",
       "      <td>no</td>\n",
       "      <td>3</td>\n",
       "      <td>[What color was Cotton?, white, Where did she ...</td>\n",
       "    </tr>\n",
       "    <tr>\n",
       "      <th>3</th>\n",
       "      <td>mctest</td>\n",
       "      <td>3dr23u6we5exclen4th8uq9rb42tel</td>\n",
       "      <td>mc160.test.41</td>\n",
       "      <td>Once upon a time, in a barn near a farm house,...</td>\n",
       "      <td>{'0': [{'span_start': 68, 'span_end': 93, 'spa...</td>\n",
       "      <td>mc160.test.41</td>\n",
       "      <td>Who did she live with?</td>\n",
       "      <td>4</td>\n",
       "      <td>281</td>\n",
       "      <td>315</td>\n",
       "      <td>with her mommy and 5 other sisters</td>\n",
       "      <td>with her mommy and 5 sisters</td>\n",
       "      <td>4</td>\n",
       "      <td>[What color was Cotton?, white, Where did she ...</td>\n",
       "    </tr>\n",
       "    <tr>\n",
       "      <th>4</th>\n",
       "      <td>mctest</td>\n",
       "      <td>3dr23u6we5exclen4th8uq9rb42tel</td>\n",
       "      <td>mc160.test.41</td>\n",
       "      <td>Once upon a time, in a barn near a farm house,...</td>\n",
       "      <td>{'0': [{'span_start': 68, 'span_end': 93, 'spa...</td>\n",
       "      <td>mc160.test.41</td>\n",
       "      <td>What color were her sisters?</td>\n",
       "      <td>5</td>\n",
       "      <td>428</td>\n",
       "      <td>490</td>\n",
       "      <td>her sisters were all orange with beautiful whi...</td>\n",
       "      <td>orange and white</td>\n",
       "      <td>5</td>\n",
       "      <td>[What color was Cotton?, white, Where did she ...</td>\n",
       "    </tr>\n",
       "  </tbody>\n",
       "</table>\n",
       "</div>"
      ],
      "text/plain": [
       "   source                              id       filename  \\\n",
       "0  mctest  3dr23u6we5exclen4th8uq9rb42tel  mc160.test.41   \n",
       "1  mctest  3dr23u6we5exclen4th8uq9rb42tel  mc160.test.41   \n",
       "2  mctest  3dr23u6we5exclen4th8uq9rb42tel  mc160.test.41   \n",
       "3  mctest  3dr23u6we5exclen4th8uq9rb42tel  mc160.test.41   \n",
       "4  mctest  3dr23u6we5exclen4th8uq9rb42tel  mc160.test.41   \n",
       "\n",
       "                                               story  \\\n",
       "0  Once upon a time, in a barn near a farm house,...   \n",
       "1  Once upon a time, in a barn near a farm house,...   \n",
       "2  Once upon a time, in a barn near a farm house,...   \n",
       "3  Once upon a time, in a barn near a farm house,...   \n",
       "4  Once upon a time, in a barn near a farm house,...   \n",
       "\n",
       "                                  additional_answers           name  \\\n",
       "0  {'0': [{'span_start': 68, 'span_end': 93, 'spa...  mc160.test.41   \n",
       "1  {'0': [{'span_start': 68, 'span_end': 93, 'spa...  mc160.test.41   \n",
       "2  {'0': [{'span_start': 68, 'span_end': 93, 'spa...  mc160.test.41   \n",
       "3  {'0': [{'span_start': 68, 'span_end': 93, 'spa...  mc160.test.41   \n",
       "4  {'0': [{'span_start': 68, 'span_end': 93, 'spa...  mc160.test.41   \n",
       "\n",
       "            question_input_text  question_turn_id  answer_span_start  \\\n",
       "0        What color was Cotton?                 1                 59   \n",
       "1           Where did she live?                 2                 18   \n",
       "2           Did she live alone?                 3                196   \n",
       "3        Who did she live with?                 4                281   \n",
       "4  What color were her sisters?                 5                428   \n",
       "\n",
       "   answer_span_end                                   answer_span_text  \\\n",
       "0               93                 a little white kitten named Cotton   \n",
       "1               80  in a barn near a farm house, there lived a lit...   \n",
       "2              215                                Cotton wasn't alone   \n",
       "3              315                 with her mommy and 5 other sisters   \n",
       "4              490  her sisters were all orange with beautiful whi...   \n",
       "\n",
       "              answer_input_text  answer_turn_id  \\\n",
       "0                         white               1   \n",
       "1                     in a barn               2   \n",
       "2                            no               3   \n",
       "3  with her mommy and 5 sisters               4   \n",
       "4              orange and white               5   \n",
       "\n",
       "                                             history  \n",
       "0                                                 []  \n",
       "1                    [What color was Cotton?, white]  \n",
       "2  [What color was Cotton?, white, Where did she ...  \n",
       "3  [What color was Cotton?, white, Where did she ...  \n",
       "4  [What color was Cotton?, white, Where did she ...  "
      ]
     },
     "execution_count": 10,
     "metadata": {},
     "output_type": "execute_result"
    }
   ],
   "source": [
    "print(f'Test dataframe shape: {test_df.shape}')\n",
    "test_df.head()"
   ]
  },
  {
   "cell_type": "markdown",
   "id": "d33c8d47",
   "metadata": {
    "papermill": {
     "duration": 0.014966,
     "end_time": "2022-12-21T02:19:23.109807",
     "exception": false,
     "start_time": "2022-12-21T02:19:23.094841",
     "status": "completed"
    },
    "tags": []
   },
   "source": [
    "We can observe that the training dataframe contains $15$ different features, while the test dataframe has just $14$. In particular the train dataframe includes the additional features `question_bad_turn` and `answer_bad_turn`. With a quick inspection of the dataframe's head it can be observed that they include `NaN` values. Since the task requires to remove solely unanswerable question-answer pairs, not mentioning the handling of \"bad turn\", these two features are dropped.\n",
    "\n",
    "On the other hand the test dataframe contains the extra feature `additional_answers`, which can be removed as expressed in the specifications of the assignment."
   ]
  },
  {
   "cell_type": "code",
   "execution_count": 11,
   "id": "fa1d013d",
   "metadata": {
    "execution": {
     "iopub.execute_input": "2022-12-21T02:19:23.142583Z",
     "iopub.status.busy": "2022-12-21T02:19:23.141509Z",
     "iopub.status.idle": "2022-12-21T02:19:23.193716Z",
     "shell.execute_reply": "2022-12-21T02:19:23.192624Z"
    },
    "papermill": {
     "duration": 0.071284,
     "end_time": "2022-12-21T02:19:23.196347",
     "exception": false,
     "start_time": "2022-12-21T02:19:23.125063",
     "status": "completed"
    },
    "tags": []
   },
   "outputs": [],
   "source": [
    "# Drop non-matching features\n",
    "\n",
    "train_df.drop(['question_bad_turn', 'answer_bad_turn'], axis=1, inplace=True)\n",
    "test_df.drop('additional_answers', axis=1, inplace=True)"
   ]
  },
  {
   "cell_type": "markdown",
   "id": "709550e2",
   "metadata": {
    "papermill": {
     "duration": 0.01441,
     "end_time": "2022-12-21T02:19:23.226178",
     "exception": false,
     "start_time": "2022-12-21T02:19:23.211768",
     "status": "completed"
    },
    "tags": []
   },
   "source": [
    "In addition the features `name` and `filename` are removed since they are considered useless for the task."
   ]
  },
  {
   "cell_type": "code",
   "execution_count": 12,
   "id": "462580e4",
   "metadata": {
    "execution": {
     "iopub.execute_input": "2022-12-21T02:19:23.258393Z",
     "iopub.status.busy": "2022-12-21T02:19:23.257191Z",
     "iopub.status.idle": "2022-12-21T02:19:23.316986Z",
     "shell.execute_reply": "2022-12-21T02:19:23.315959Z"
    },
    "papermill": {
     "duration": 0.079302,
     "end_time": "2022-12-21T02:19:23.320047",
     "exception": false,
     "start_time": "2022-12-21T02:19:23.240745",
     "status": "completed"
    },
    "tags": []
   },
   "outputs": [],
   "source": [
    "# Drop useless columns (`name`, `filename`)\n",
    "\n",
    "train_df.drop(['name', 'filename'], axis=1, inplace=True)\n",
    "test_df.drop(['name', 'filename'], axis=1, inplace=True)"
   ]
  },
  {
   "cell_type": "markdown",
   "id": "e66d22ba",
   "metadata": {
    "papermill": {
     "duration": 0.015398,
     "end_time": "2022-12-21T02:19:23.351679",
     "exception": false,
     "start_time": "2022-12-21T02:19:23.336281",
     "status": "completed"
    },
    "tags": []
   },
   "source": [
    "Next, by inspecting the `question_turn_id` and `answer_turn_id` it can be noticed that they are equivalent, since they refer to the same question-answer pair, hence they can be merged in a single feature (`turn_id`)."
   ]
  },
  {
   "cell_type": "code",
   "execution_count": 13,
   "id": "881be2b0",
   "metadata": {
    "execution": {
     "iopub.execute_input": "2022-12-21T02:19:23.383726Z",
     "iopub.status.busy": "2022-12-21T02:19:23.383344Z",
     "iopub.status.idle": "2022-12-21T02:19:23.419859Z",
     "shell.execute_reply": "2022-12-21T02:19:23.418886Z"
    },
    "papermill": {
     "duration": 0.05547,
     "end_time": "2022-12-21T02:19:23.422460",
     "exception": false,
     "start_time": "2022-12-21T02:19:23.366990",
     "status": "completed"
    },
    "tags": []
   },
   "outputs": [],
   "source": [
    "# Assert that the turn ids of the questions are the same as the respective answers\n",
    "\n",
    "assert train_df['question_turn_id'].equals(train_df['answer_turn_id']), \\\n",
    "    'Question and answer turn ids are different in the train dataset'\n",
    "    \n",
    "assert test_df['question_turn_id'].equals(test_df['answer_turn_id']), \\\n",
    "    'Question and answer turn ids are different in the test dataset'"
   ]
  },
  {
   "cell_type": "code",
   "execution_count": 14,
   "id": "af1c8620",
   "metadata": {
    "execution": {
     "iopub.execute_input": "2022-12-21T02:19:23.455008Z",
     "iopub.status.busy": "2022-12-21T02:19:23.454024Z",
     "iopub.status.idle": "2022-12-21T02:19:23.525793Z",
     "shell.execute_reply": "2022-12-21T02:19:23.524798Z"
    },
    "papermill": {
     "duration": 0.090902,
     "end_time": "2022-12-21T02:19:23.528375",
     "exception": false,
     "start_time": "2022-12-21T02:19:23.437473",
     "status": "completed"
    },
    "tags": []
   },
   "outputs": [],
   "source": [
    "# Rename columns `question_turn_id` and `answer_turn_id` into a singular `turn_id` column since they are equal\n",
    "refactor_turn_id_columns = lambda df: \\\n",
    "    df.drop('question_turn_id', axis=1).rename(columns = {'answer_turn_id': 'turn_id'})\n",
    "    \n",
    "train_df = refactor_turn_id_columns(train_df)\n",
    "test_df = refactor_turn_id_columns(test_df)"
   ]
  },
  {
   "cell_type": "markdown",
   "id": "ab4eecc0",
   "metadata": {
    "papermill": {
     "duration": 0.014836,
     "end_time": "2022-12-21T02:19:23.558420",
     "exception": false,
     "start_time": "2022-12-21T02:19:23.543584",
     "status": "completed"
    },
    "tags": []
   },
   "source": [
    "Finally the columns `answer_input_text` and `question_input_text` are renamed into `answer` and `question` respectively for simplicity."
   ]
  },
  {
   "cell_type": "code",
   "execution_count": 15,
   "id": "40dfe4c3",
   "metadata": {
    "execution": {
     "iopub.execute_input": "2022-12-21T02:19:23.590364Z",
     "iopub.status.busy": "2022-12-21T02:19:23.589963Z",
     "iopub.status.idle": "2022-12-21T02:19:23.627327Z",
     "shell.execute_reply": "2022-12-21T02:19:23.626251Z"
    },
    "papermill": {
     "duration": 0.056601,
     "end_time": "2022-12-21T02:19:23.630091",
     "exception": false,
     "start_time": "2022-12-21T02:19:23.573490",
     "status": "completed"
    },
    "tags": []
   },
   "outputs": [],
   "source": [
    "# Rename columns `answer_input_text` and `question_input_text` into `answer` and `question` respectively\n",
    "column_renames = {'answer_input_text': 'answer', 'question_input_text': 'question'}\n",
    "\n",
    "train_df.rename(columns=column_renames, inplace=True)\n",
    "test_df.rename(columns=column_renames, inplace=True)"
   ]
  },
  {
   "cell_type": "markdown",
   "id": "b3a1dad2",
   "metadata": {
    "papermill": {
     "duration": 0.015703,
     "end_time": "2022-12-21T02:19:23.661952",
     "exception": false,
     "start_time": "2022-12-21T02:19:23.646249",
     "status": "completed"
    },
    "tags": []
   },
   "source": [
    "The shapes of the dataframes now match on the column number and no Null values are present."
   ]
  },
  {
   "cell_type": "code",
   "execution_count": 16,
   "id": "71aaa1a7",
   "metadata": {
    "execution": {
     "iopub.execute_input": "2022-12-21T02:19:23.694134Z",
     "iopub.status.busy": "2022-12-21T02:19:23.693131Z",
     "iopub.status.idle": "2022-12-21T02:19:23.730277Z",
     "shell.execute_reply": "2022-12-21T02:19:23.729014Z"
    },
    "papermill": {
     "duration": 0.055642,
     "end_time": "2022-12-21T02:19:23.732696",
     "exception": false,
     "start_time": "2022-12-21T02:19:23.677054",
     "status": "completed"
    },
    "tags": []
   },
   "outputs": [
    {
     "name": "stdout",
     "output_type": "stream",
     "text": [
      "Train dataframe shape after the unwanted columns drop: (108647, 10)\n",
      "Test dataframe shape after the unwanted column drop: (7983, 10)\n"
     ]
    }
   ],
   "source": [
    "print(f'Train dataframe shape after the unwanted columns drop: {train_df.shape}')\n",
    "print(f'Test dataframe shape after the unwanted column drop: {test_df.shape}')"
   ]
  },
  {
   "cell_type": "code",
   "execution_count": 17,
   "id": "6f163e39",
   "metadata": {
    "execution": {
     "iopub.execute_input": "2022-12-21T02:19:23.766255Z",
     "iopub.status.busy": "2022-12-21T02:19:23.765567Z",
     "iopub.status.idle": "2022-12-21T02:19:23.854234Z",
     "shell.execute_reply": "2022-12-21T02:19:23.852898Z"
    },
    "papermill": {
     "duration": 0.108077,
     "end_time": "2022-12-21T02:19:23.857157",
     "exception": false,
     "start_time": "2022-12-21T02:19:23.749080",
     "status": "completed"
    },
    "tags": []
   },
   "outputs": [
    {
     "name": "stdout",
     "output_type": "stream",
     "text": [
      "Null values in the train dataframe: 0.\n",
      "Null values in the test dataframe: 0.\n"
     ]
    }
   ],
   "source": [
    "print(f'Null values in the train dataframe: {train_df.isna().sum().sum()}.')\n",
    "print(f'Null values in the test dataframe: {test_df.isna().sum().sum()}.')"
   ]
  },
  {
   "cell_type": "code",
   "execution_count": 18,
   "id": "8b4dc8e3",
   "metadata": {
    "execution": {
     "iopub.execute_input": "2022-12-21T02:19:23.889666Z",
     "iopub.status.busy": "2022-12-21T02:19:23.888753Z",
     "iopub.status.idle": "2022-12-21T02:19:23.933012Z",
     "shell.execute_reply": "2022-12-21T02:19:23.931824Z"
    },
    "papermill": {
     "duration": 0.063154,
     "end_time": "2022-12-21T02:19:23.936038",
     "exception": false,
     "start_time": "2022-12-21T02:19:23.872884",
     "status": "completed"
    },
    "tags": []
   },
   "outputs": [
    {
     "data": {
      "text/html": [
       "<div>\n",
       "<style scoped>\n",
       "    .dataframe tbody tr th:only-of-type {\n",
       "        vertical-align: middle;\n",
       "    }\n",
       "\n",
       "    .dataframe tbody tr th {\n",
       "        vertical-align: top;\n",
       "    }\n",
       "\n",
       "    .dataframe thead th {\n",
       "        text-align: right;\n",
       "    }\n",
       "</style>\n",
       "<table border=\"1\" class=\"dataframe\">\n",
       "  <thead>\n",
       "    <tr style=\"text-align: right;\">\n",
       "      <th></th>\n",
       "      <th>source</th>\n",
       "      <th>id</th>\n",
       "      <th>story</th>\n",
       "      <th>question</th>\n",
       "      <th>answer_span_start</th>\n",
       "      <th>answer_span_end</th>\n",
       "      <th>answer_span_text</th>\n",
       "      <th>answer</th>\n",
       "      <th>turn_id</th>\n",
       "      <th>history</th>\n",
       "    </tr>\n",
       "  </thead>\n",
       "  <tbody>\n",
       "    <tr>\n",
       "      <th>0</th>\n",
       "      <td>wikipedia</td>\n",
       "      <td>3zotghdk5ibi9cex97fepx7jetpso7</td>\n",
       "      <td>The Vatican Apostolic Library (), more commonl...</td>\n",
       "      <td>When was the Vat formally opened?</td>\n",
       "      <td>151</td>\n",
       "      <td>179</td>\n",
       "      <td>Formally established in 1475</td>\n",
       "      <td>It was formally established in 1475</td>\n",
       "      <td>1</td>\n",
       "      <td>[]</td>\n",
       "    </tr>\n",
       "    <tr>\n",
       "      <th>1</th>\n",
       "      <td>wikipedia</td>\n",
       "      <td>3zotghdk5ibi9cex97fepx7jetpso7</td>\n",
       "      <td>The Vatican Apostolic Library (), more commonl...</td>\n",
       "      <td>what is the library for?</td>\n",
       "      <td>454</td>\n",
       "      <td>494</td>\n",
       "      <td>he Vatican Library is a research library</td>\n",
       "      <td>research</td>\n",
       "      <td>2</td>\n",
       "      <td>[When was the Vat formally opened?, It was for...</td>\n",
       "    </tr>\n",
       "    <tr>\n",
       "      <th>2</th>\n",
       "      <td>wikipedia</td>\n",
       "      <td>3zotghdk5ibi9cex97fepx7jetpso7</td>\n",
       "      <td>The Vatican Apostolic Library (), more commonl...</td>\n",
       "      <td>for what subjects?</td>\n",
       "      <td>457</td>\n",
       "      <td>511</td>\n",
       "      <td>Vatican Library is a research library for hist...</td>\n",
       "      <td>history, and law</td>\n",
       "      <td>3</td>\n",
       "      <td>[When was the Vat formally opened?, It was for...</td>\n",
       "    </tr>\n",
       "    <tr>\n",
       "      <th>3</th>\n",
       "      <td>wikipedia</td>\n",
       "      <td>3zotghdk5ibi9cex97fepx7jetpso7</td>\n",
       "      <td>The Vatican Apostolic Library (), more commonl...</td>\n",
       "      <td>and?</td>\n",
       "      <td>457</td>\n",
       "      <td>545</td>\n",
       "      <td>Vatican Library is a research library for hist...</td>\n",
       "      <td>philosophy, science and theology</td>\n",
       "      <td>4</td>\n",
       "      <td>[When was the Vat formally opened?, It was for...</td>\n",
       "    </tr>\n",
       "    <tr>\n",
       "      <th>4</th>\n",
       "      <td>wikipedia</td>\n",
       "      <td>3zotghdk5ibi9cex97fepx7jetpso7</td>\n",
       "      <td>The Vatican Apostolic Library (), more commonl...</td>\n",
       "      <td>what was started in 2014?</td>\n",
       "      <td>769</td>\n",
       "      <td>879</td>\n",
       "      <td>March 2014, the Vatican Library began an initi...</td>\n",
       "      <td>a  project</td>\n",
       "      <td>5</td>\n",
       "      <td>[When was the Vat formally opened?, It was for...</td>\n",
       "    </tr>\n",
       "  </tbody>\n",
       "</table>\n",
       "</div>"
      ],
      "text/plain": [
       "      source                              id  \\\n",
       "0  wikipedia  3zotghdk5ibi9cex97fepx7jetpso7   \n",
       "1  wikipedia  3zotghdk5ibi9cex97fepx7jetpso7   \n",
       "2  wikipedia  3zotghdk5ibi9cex97fepx7jetpso7   \n",
       "3  wikipedia  3zotghdk5ibi9cex97fepx7jetpso7   \n",
       "4  wikipedia  3zotghdk5ibi9cex97fepx7jetpso7   \n",
       "\n",
       "                                               story  \\\n",
       "0  The Vatican Apostolic Library (), more commonl...   \n",
       "1  The Vatican Apostolic Library (), more commonl...   \n",
       "2  The Vatican Apostolic Library (), more commonl...   \n",
       "3  The Vatican Apostolic Library (), more commonl...   \n",
       "4  The Vatican Apostolic Library (), more commonl...   \n",
       "\n",
       "                            question  answer_span_start  answer_span_end  \\\n",
       "0  When was the Vat formally opened?                151              179   \n",
       "1           what is the library for?                454              494   \n",
       "2                 for what subjects?                457              511   \n",
       "3                               and?                457              545   \n",
       "4          what was started in 2014?                769              879   \n",
       "\n",
       "                                    answer_span_text  \\\n",
       "0                       Formally established in 1475   \n",
       "1           he Vatican Library is a research library   \n",
       "2  Vatican Library is a research library for hist...   \n",
       "3  Vatican Library is a research library for hist...   \n",
       "4  March 2014, the Vatican Library began an initi...   \n",
       "\n",
       "                                answer  turn_id  \\\n",
       "0  It was formally established in 1475        1   \n",
       "1                             research        2   \n",
       "2                     history, and law        3   \n",
       "3     philosophy, science and theology        4   \n",
       "4                           a  project        5   \n",
       "\n",
       "                                             history  \n",
       "0                                                 []  \n",
       "1  [When was the Vat formally opened?, It was for...  \n",
       "2  [When was the Vat formally opened?, It was for...  \n",
       "3  [When was the Vat formally opened?, It was for...  \n",
       "4  [When was the Vat formally opened?, It was for...  "
      ]
     },
     "execution_count": 18,
     "metadata": {},
     "output_type": "execute_result"
    }
   ],
   "source": [
    "train_df.head()"
   ]
  },
  {
   "cell_type": "code",
   "execution_count": 19,
   "id": "3b326417",
   "metadata": {
    "execution": {
     "iopub.execute_input": "2022-12-21T02:19:23.969596Z",
     "iopub.status.busy": "2022-12-21T02:19:23.968853Z",
     "iopub.status.idle": "2022-12-21T02:19:24.013646Z",
     "shell.execute_reply": "2022-12-21T02:19:24.012349Z"
    },
    "papermill": {
     "duration": 0.06447,
     "end_time": "2022-12-21T02:19:24.016828",
     "exception": false,
     "start_time": "2022-12-21T02:19:23.952358",
     "status": "completed"
    },
    "tags": []
   },
   "outputs": [
    {
     "data": {
      "text/html": [
       "<div>\n",
       "<style scoped>\n",
       "    .dataframe tbody tr th:only-of-type {\n",
       "        vertical-align: middle;\n",
       "    }\n",
       "\n",
       "    .dataframe tbody tr th {\n",
       "        vertical-align: top;\n",
       "    }\n",
       "\n",
       "    .dataframe thead th {\n",
       "        text-align: right;\n",
       "    }\n",
       "</style>\n",
       "<table border=\"1\" class=\"dataframe\">\n",
       "  <thead>\n",
       "    <tr style=\"text-align: right;\">\n",
       "      <th></th>\n",
       "      <th>source</th>\n",
       "      <th>id</th>\n",
       "      <th>story</th>\n",
       "      <th>question</th>\n",
       "      <th>answer_span_start</th>\n",
       "      <th>answer_span_end</th>\n",
       "      <th>answer_span_text</th>\n",
       "      <th>answer</th>\n",
       "      <th>turn_id</th>\n",
       "      <th>history</th>\n",
       "    </tr>\n",
       "  </thead>\n",
       "  <tbody>\n",
       "    <tr>\n",
       "      <th>0</th>\n",
       "      <td>mctest</td>\n",
       "      <td>3dr23u6we5exclen4th8uq9rb42tel</td>\n",
       "      <td>Once upon a time, in a barn near a farm house,...</td>\n",
       "      <td>What color was Cotton?</td>\n",
       "      <td>59</td>\n",
       "      <td>93</td>\n",
       "      <td>a little white kitten named Cotton</td>\n",
       "      <td>white</td>\n",
       "      <td>1</td>\n",
       "      <td>[]</td>\n",
       "    </tr>\n",
       "    <tr>\n",
       "      <th>1</th>\n",
       "      <td>mctest</td>\n",
       "      <td>3dr23u6we5exclen4th8uq9rb42tel</td>\n",
       "      <td>Once upon a time, in a barn near a farm house,...</td>\n",
       "      <td>Where did she live?</td>\n",
       "      <td>18</td>\n",
       "      <td>80</td>\n",
       "      <td>in a barn near a farm house, there lived a lit...</td>\n",
       "      <td>in a barn</td>\n",
       "      <td>2</td>\n",
       "      <td>[What color was Cotton?, white]</td>\n",
       "    </tr>\n",
       "    <tr>\n",
       "      <th>2</th>\n",
       "      <td>mctest</td>\n",
       "      <td>3dr23u6we5exclen4th8uq9rb42tel</td>\n",
       "      <td>Once upon a time, in a barn near a farm house,...</td>\n",
       "      <td>Did she live alone?</td>\n",
       "      <td>196</td>\n",
       "      <td>215</td>\n",
       "      <td>Cotton wasn't alone</td>\n",
       "      <td>no</td>\n",
       "      <td>3</td>\n",
       "      <td>[What color was Cotton?, white, Where did she ...</td>\n",
       "    </tr>\n",
       "    <tr>\n",
       "      <th>3</th>\n",
       "      <td>mctest</td>\n",
       "      <td>3dr23u6we5exclen4th8uq9rb42tel</td>\n",
       "      <td>Once upon a time, in a barn near a farm house,...</td>\n",
       "      <td>Who did she live with?</td>\n",
       "      <td>281</td>\n",
       "      <td>315</td>\n",
       "      <td>with her mommy and 5 other sisters</td>\n",
       "      <td>with her mommy and 5 sisters</td>\n",
       "      <td>4</td>\n",
       "      <td>[What color was Cotton?, white, Where did she ...</td>\n",
       "    </tr>\n",
       "    <tr>\n",
       "      <th>4</th>\n",
       "      <td>mctest</td>\n",
       "      <td>3dr23u6we5exclen4th8uq9rb42tel</td>\n",
       "      <td>Once upon a time, in a barn near a farm house,...</td>\n",
       "      <td>What color were her sisters?</td>\n",
       "      <td>428</td>\n",
       "      <td>490</td>\n",
       "      <td>her sisters were all orange with beautiful whi...</td>\n",
       "      <td>orange and white</td>\n",
       "      <td>5</td>\n",
       "      <td>[What color was Cotton?, white, Where did she ...</td>\n",
       "    </tr>\n",
       "  </tbody>\n",
       "</table>\n",
       "</div>"
      ],
      "text/plain": [
       "   source                              id  \\\n",
       "0  mctest  3dr23u6we5exclen4th8uq9rb42tel   \n",
       "1  mctest  3dr23u6we5exclen4th8uq9rb42tel   \n",
       "2  mctest  3dr23u6we5exclen4th8uq9rb42tel   \n",
       "3  mctest  3dr23u6we5exclen4th8uq9rb42tel   \n",
       "4  mctest  3dr23u6we5exclen4th8uq9rb42tel   \n",
       "\n",
       "                                               story  \\\n",
       "0  Once upon a time, in a barn near a farm house,...   \n",
       "1  Once upon a time, in a barn near a farm house,...   \n",
       "2  Once upon a time, in a barn near a farm house,...   \n",
       "3  Once upon a time, in a barn near a farm house,...   \n",
       "4  Once upon a time, in a barn near a farm house,...   \n",
       "\n",
       "                       question  answer_span_start  answer_span_end  \\\n",
       "0        What color was Cotton?                 59               93   \n",
       "1           Where did she live?                 18               80   \n",
       "2           Did she live alone?                196              215   \n",
       "3        Who did she live with?                281              315   \n",
       "4  What color were her sisters?                428              490   \n",
       "\n",
       "                                    answer_span_text  \\\n",
       "0                 a little white kitten named Cotton   \n",
       "1  in a barn near a farm house, there lived a lit...   \n",
       "2                                Cotton wasn't alone   \n",
       "3                 with her mommy and 5 other sisters   \n",
       "4  her sisters were all orange with beautiful whi...   \n",
       "\n",
       "                         answer  turn_id  \\\n",
       "0                         white        1   \n",
       "1                     in a barn        2   \n",
       "2                            no        3   \n",
       "3  with her mommy and 5 sisters        4   \n",
       "4              orange and white        5   \n",
       "\n",
       "                                             history  \n",
       "0                                                 []  \n",
       "1                    [What color was Cotton?, white]  \n",
       "2  [What color was Cotton?, white, Where did she ...  \n",
       "3  [What color was Cotton?, white, Where did she ...  \n",
       "4  [What color was Cotton?, white, Where did she ...  "
      ]
     },
     "execution_count": 19,
     "metadata": {},
     "output_type": "execute_result"
    }
   ],
   "source": [
    "test_df.head()"
   ]
  },
  {
   "cell_type": "markdown",
   "id": "09cd6d3f",
   "metadata": {
    "papermill": {
     "duration": 0.016302,
     "end_time": "2022-12-21T02:19:24.050382",
     "exception": false,
     "start_time": "2022-12-21T02:19:24.034080",
     "status": "completed"
    },
    "tags": []
   },
   "source": [
    "## 1.3 Remove Unanswerable Question-Answer Pairs"
   ]
  },
  {
   "cell_type": "markdown",
   "id": "cdeab8c1",
   "metadata": {
    "papermill": {
     "duration": 0.016214,
     "end_time": "2022-12-21T02:19:24.083348",
     "exception": false,
     "start_time": "2022-12-21T02:19:24.067134",
     "status": "completed"
    },
    "tags": []
   },
   "source": [
    "As required by the task, the unanswerable question-answer pairs are removed from the dataset by dropping the rows of the dataframes where the feature `answer` is equal to \"unknown\"."
   ]
  },
  {
   "cell_type": "code",
   "execution_count": 20,
   "id": "5c11f93b",
   "metadata": {
    "execution": {
     "iopub.execute_input": "2022-12-21T02:19:24.118406Z",
     "iopub.status.busy": "2022-12-21T02:19:24.117038Z",
     "iopub.status.idle": "2022-12-21T02:19:24.189743Z",
     "shell.execute_reply": "2022-12-21T02:19:24.188783Z"
    },
    "papermill": {
     "duration": 0.092505,
     "end_time": "2022-12-21T02:19:24.192266",
     "exception": false,
     "start_time": "2022-12-21T02:19:24.099761",
     "status": "completed"
    },
    "tags": []
   },
   "outputs": [],
   "source": [
    "# Delete rows with unknown answer\n",
    "\n",
    "train_df.drop(train_df[train_df['answer'] == 'unknown'].index, inplace=True)\n",
    "train_df.reset_index(drop=True, inplace=True)\n",
    "\n",
    "test_df.drop(test_df[test_df['answer'] == 'unknown'].index, inplace=True)\n",
    "test_df.reset_index(drop=True, inplace=True)\n"
   ]
  },
  {
   "cell_type": "code",
   "execution_count": 21,
   "id": "6aa7751f",
   "metadata": {
    "execution": {
     "iopub.execute_input": "2022-12-21T02:19:24.227546Z",
     "iopub.status.busy": "2022-12-21T02:19:24.225970Z",
     "iopub.status.idle": "2022-12-21T02:19:24.262525Z",
     "shell.execute_reply": "2022-12-21T02:19:24.261414Z"
    },
    "papermill": {
     "duration": 0.056444,
     "end_time": "2022-12-21T02:19:24.265381",
     "exception": false,
     "start_time": "2022-12-21T02:19:24.208937",
     "status": "completed"
    },
    "tags": []
   },
   "outputs": [
    {
     "name": "stdout",
     "output_type": "stream",
     "text": [
      "Train dataframe shape after the unanswerable question-answer pairs are removed: (107276, 10)\n",
      "Test dataframe shape after the unanswerable question-answer pairs are removed: (7917, 10)\n"
     ]
    }
   ],
   "source": [
    "print(f'Train dataframe shape after the unanswerable question-answer pairs are removed: {train_df.shape}')\n",
    "print(f'Test dataframe shape after the unanswerable question-answer pairs are removed: {test_df.shape}')"
   ]
  },
  {
   "cell_type": "markdown",
   "id": "2d05920e",
   "metadata": {
    "papermill": {
     "duration": 0.016982,
     "end_time": "2022-12-21T02:19:24.313689",
     "exception": false,
     "start_time": "2022-12-21T02:19:24.296707",
     "status": "completed"
    },
    "tags": []
   },
   "source": [
    "In the next cell it is asserted that the history was properly created for each Question-Answer pair."
   ]
  },
  {
   "cell_type": "code",
   "execution_count": 22,
   "id": "c1c5e722",
   "metadata": {
    "execution": {
     "iopub.execute_input": "2022-12-21T02:19:24.350248Z",
     "iopub.status.busy": "2022-12-21T02:19:24.349870Z",
     "iopub.status.idle": "2022-12-21T02:19:24.487874Z",
     "shell.execute_reply": "2022-12-21T02:19:24.486145Z"
    },
    "papermill": {
     "duration": 0.158677,
     "end_time": "2022-12-21T02:19:24.490084",
     "exception": false,
     "start_time": "2022-12-21T02:19:24.331407",
     "status": "completed"
    },
    "tags": []
   },
   "outputs": [
    {
     "name": "stdout",
     "output_type": "stream",
     "text": [
      "The history of train dataframe was properly built for each Question-Answer pair.\n",
      "The history of test dataframe was properly built for each Question-Answer pair.\n"
     ]
    }
   ],
   "source": [
    "def check_history(df: pd.DataFrame, dataframe_name: str = None):\n",
    "    \"\"\"Check that the history is properly built for each Question-Answer pair in each row of the dataframe.\n",
    "\n",
    "    Parameters\n",
    "    ----------\n",
    "    df : DataFrame\n",
    "        The dataframe on which the history is checked.\n",
    "    dataframe_name : str, optional\n",
    "        The name of the dataframe. Defaults to None.\n",
    "    \"\"\"\n",
    "    prev_doc = None\n",
    "    prev_hist = []\n",
    "    prev_question = None\n",
    "    prev_answer = None\n",
    "    for d, h, q, a in zip(df['id'], df['history'], df['question'], df['answer']):\n",
    "        if d != prev_doc:\n",
    "            assert len(h) == 0, 'Error: Initial history of a new conversation is not empty!'\n",
    "            prev_doc = d\n",
    "            prev_hist = []\n",
    "            prev_question = q\n",
    "            prev_answer = a\n",
    "        else:\n",
    "            assert prev_hist + [prev_question, prev_answer] == h, 'Error: The history was not computed properly!'\n",
    "            prev_question = q\n",
    "            prev_answer = a\n",
    "            prev_hist = h\n",
    "\n",
    "    print(f'The history{f\" of {dataframe_name} dataframe\" if dataframe_name is not None else \"\"}', \n",
    "          'was properly built for each Question-Answer pair.')\n",
    "\n",
    "check_history(train_df, 'train')\n",
    "check_history(test_df, 'test')"
   ]
  },
  {
   "cell_type": "markdown",
   "id": "c20499b8",
   "metadata": {
    "papermill": {
     "duration": 0.016316,
     "end_time": "2022-12-21T02:19:24.522907",
     "exception": false,
     "start_time": "2022-12-21T02:19:24.506591",
     "status": "completed"
    },
    "tags": []
   },
   "source": [
    "## 1.4 Data Analysis"
   ]
  },
  {
   "cell_type": "markdown",
   "id": "c3a0e5e2",
   "metadata": {
    "papermill": {
     "duration": 0.016468,
     "end_time": "2022-12-21T02:19:24.555844",
     "exception": false,
     "start_time": "2022-12-21T02:19:24.539376",
     "status": "completed"
    },
    "tags": []
   },
   "source": [
    "In this section some interesting analyses on the training set are carried out."
   ]
  },
  {
   "cell_type": "code",
   "execution_count": 23,
   "id": "a9618369",
   "metadata": {
    "execution": {
     "iopub.execute_input": "2022-12-21T02:19:24.594720Z",
     "iopub.status.busy": "2022-12-21T02:19:24.592632Z",
     "iopub.status.idle": "2022-12-21T02:19:24.630094Z",
     "shell.execute_reply": "2022-12-21T02:19:24.629073Z"
    },
    "papermill": {
     "duration": 0.059091,
     "end_time": "2022-12-21T02:19:24.632580",
     "exception": false,
     "start_time": "2022-12-21T02:19:24.573489",
     "status": "completed"
    },
    "tags": []
   },
   "outputs": [],
   "source": [
    "# Group dataframe by `id`\n",
    "grouped_train_df = train_df.groupby(by=['id'])"
   ]
  },
  {
   "cell_type": "code",
   "execution_count": 24,
   "id": "3e54556f",
   "metadata": {
    "execution": {
     "iopub.execute_input": "2022-12-21T02:19:24.670517Z",
     "iopub.status.busy": "2022-12-21T02:19:24.669578Z",
     "iopub.status.idle": "2022-12-21T02:19:24.800377Z",
     "shell.execute_reply": "2022-12-21T02:19:24.798915Z"
    },
    "papermill": {
     "duration": 0.153008,
     "end_time": "2022-12-21T02:19:24.803394",
     "exception": false,
     "start_time": "2022-12-21T02:19:24.650386",
     "status": "completed"
    },
    "tags": []
   },
   "outputs": [
    {
     "name": "stdout",
     "output_type": "stream",
     "text": [
      "Number of train passages: 7193\n"
     ]
    }
   ],
   "source": [
    "print(f'Number of train passages: {len(grouped_train_df)}')"
   ]
  },
  {
   "cell_type": "code",
   "execution_count": 25,
   "id": "31c74d16",
   "metadata": {
    "execution": {
     "iopub.execute_input": "2022-12-21T02:19:24.838756Z",
     "iopub.status.busy": "2022-12-21T02:19:24.838375Z",
     "iopub.status.idle": "2022-12-21T02:19:25.176872Z",
     "shell.execute_reply": "2022-12-21T02:19:25.175977Z"
    },
    "papermill": {
     "duration": 0.357948,
     "end_time": "2022-12-21T02:19:25.179315",
     "exception": false,
     "start_time": "2022-12-21T02:19:24.821367",
     "status": "completed"
    },
    "tags": []
   },
   "outputs": [
    {
     "data": {
      "image/png": "[encoded data removed]",
      "text/plain": [
       "<Figure size 1080x504 with 1 Axes>"
      ]
     },
     "metadata": {
      "needs_background": "light"
     },
     "output_type": "display_data"
    }
   ],
   "source": [
    "from utils.dataset_analisys import *\n",
    "plot_converstion_length_distribution(grouped_train_df)"
   ]
  },
  {
   "cell_type": "code",
   "execution_count": 26,
   "id": "a7291c02",
   "metadata": {
    "execution": {
     "iopub.execute_input": "2022-12-21T02:19:25.217070Z",
     "iopub.status.busy": "2022-12-21T02:19:25.215294Z",
     "iopub.status.idle": "2022-12-21T02:19:26.314369Z",
     "shell.execute_reply": "2022-12-21T02:19:26.313280Z"
    },
    "papermill": {
     "duration": 1.120807,
     "end_time": "2022-12-21T02:19:26.316692",
     "exception": false,
     "start_time": "2022-12-21T02:19:25.195885",
     "status": "completed"
    },
    "tags": []
   },
   "outputs": [
    {
     "data": {
      "image/png": "[encoded data removed]",
      "text/plain": [
       "<Figure size 1080x504 with 2 Axes>"
      ]
     },
     "metadata": {
      "needs_background": "light"
     },
     "output_type": "display_data"
    }
   ],
   "source": [
    "plot_passage_length_analysis(grouped_train_df.story.unique())"
   ]
  },
  {
   "cell_type": "code",
   "execution_count": 27,
   "id": "9179de6f",
   "metadata": {
    "execution": {
     "iopub.execute_input": "2022-12-21T02:19:26.355174Z",
     "iopub.status.busy": "2022-12-21T02:19:26.354097Z",
     "iopub.status.idle": "2022-12-21T02:19:26.673261Z",
     "shell.execute_reply": "2022-12-21T02:19:26.672161Z"
    },
    "papermill": {
     "duration": 0.340635,
     "end_time": "2022-12-21T02:19:26.675615",
     "exception": false,
     "start_time": "2022-12-21T02:19:26.334980",
     "status": "completed"
    },
    "tags": []
   },
   "outputs": [
    {
     "data": {
      "image/png": "[encoded data removed]",
      "text/plain": [
       "<Figure size 1080x504 with 1 Axes>"
      ]
     },
     "metadata": {
      "needs_background": "light"
     },
     "output_type": "display_data"
    }
   ],
   "source": [
    "plot_answer_span_text_percentile(train_df)"
   ]
  },
  {
   "cell_type": "markdown",
   "id": "e9fd0238",
   "metadata": {
    "papermill": {
     "duration": 0.018204,
     "end_time": "2022-12-21T02:19:26.712086",
     "exception": false,
     "start_time": "2022-12-21T02:19:26.693882",
     "status": "completed"
    },
    "tags": []
   },
   "source": [
    "## [Task 2] Train, Validation and Test splits"
   ]
  },
  {
   "cell_type": "markdown",
   "id": "e02cd691",
   "metadata": {
    "papermill": {
     "duration": 0.018743,
     "end_time": "2022-12-21T02:19:26.749162",
     "exception": false,
     "start_time": "2022-12-21T02:19:26.730419",
     "status": "completed"
    },
    "tags": []
   },
   "source": [
    "In this section the train dataframe is split into an actual train and a validation dataframes.\n",
    "\n",
    "The split is performed as follows:\n",
    "1. The random seed is set to $42$ for reproducibility purposes.\n",
    "2. The train proportion of the actual training dataset to the original dataset is of $0.8$.\n",
    "3. The train dataframe is shuffled and divided into the two new dataframes making sure that no conversation is split among them."
   ]
  },
  {
   "cell_type": "code",
   "execution_count": 28,
   "id": "fd44e495",
   "metadata": {
    "execution": {
     "iopub.execute_input": "2022-12-21T02:19:26.788181Z",
     "iopub.status.busy": "2022-12-21T02:19:26.787776Z",
     "iopub.status.idle": "2022-12-21T02:19:26.824430Z",
     "shell.execute_reply": "2022-12-21T02:19:26.823413Z"
    },
    "papermill": {
     "duration": 0.059122,
     "end_time": "2022-12-21T02:19:26.826906",
     "exception": false,
     "start_time": "2022-12-21T02:19:26.767784",
     "status": "completed"
    },
    "tags": []
   },
   "outputs": [],
   "source": [
    "set_random_seed(42)"
   ]
  },
  {
   "cell_type": "code",
   "execution_count": 29,
   "id": "ddfdcf9e",
   "metadata": {
    "execution": {
     "iopub.execute_input": "2022-12-21T02:19:26.865576Z",
     "iopub.status.busy": "2022-12-21T02:19:26.865215Z",
     "iopub.status.idle": "2022-12-21T02:19:27.712162Z",
     "shell.execute_reply": "2022-12-21T02:19:27.711055Z"
    },
    "papermill": {
     "duration": 0.869265,
     "end_time": "2022-12-21T02:19:27.715014",
     "exception": false,
     "start_time": "2022-12-21T02:19:26.845749",
     "status": "completed"
    },
    "tags": []
   },
   "outputs": [],
   "source": [
    "from sklearn.model_selection import GroupShuffleSplit\n",
    "from typing import Tuple\n",
    "\n",
    "def train_validation_split(df: pd.DataFrame, train_size: int = .8, random_seed: int = 42) \\\n",
    "    -> Tuple[pd.DataFrame, pd.DataFrame]:\n",
    "    \"\"\" Get train and validation dataframes by shuffling and splitting an original dataframe according to a given proportion\n",
    "    and a specific random seed.\n",
    "    \n",
    "    Note: The order of the rows of the same conversation is preserved in the shuffle. Moreover, the conversations are never\n",
    "    split across the two resulting dataframes.\n",
    "\n",
    "    Parameters\n",
    "    ----------\n",
    "    df : DataFrame\n",
    "        The dataframe from which the train and validation dataframes are obtained.\n",
    "    train_size : int, optional\n",
    "        The proportion of the train split. Defaults to 0.8.\n",
    "    random_seed : int, optional\n",
    "        The random seed for the shuffle. Defaults to 42.\n",
    "\n",
    "    Returns:\n",
    "        Tuple[pd.DataFrame, pd.DataFrame]: _description_\n",
    "    \"\"\"\n",
    "    # Get indices of train and test rows in the dataframe\n",
    "    group_shuffle_split = GroupShuffleSplit(n_splits=2, train_size=train_size, random_state=random_seed)\n",
    "    train_ix, test_ix = next(group_shuffle_split.split(df, groups=df.id))\n",
    "\n",
    "    train_df = df.loc[train_ix]\n",
    "    train_df.reset_index(inplace=True, drop=True)\n",
    "    \n",
    "    val_df = df.loc[test_ix]\n",
    "    val_df.reset_index(inplace=True, drop=True)\n",
    "    \n",
    "    return train_df, val_df"
   ]
  },
  {
   "cell_type": "code",
   "execution_count": 30,
   "id": "341c0ba4",
   "metadata": {
    "execution": {
     "iopub.execute_input": "2022-12-21T02:19:27.757490Z",
     "iopub.status.busy": "2022-12-21T02:19:27.757119Z",
     "iopub.status.idle": "2022-12-21T02:19:27.898797Z",
     "shell.execute_reply": "2022-12-21T02:19:27.897619Z"
    },
    "papermill": {
     "duration": 0.166326,
     "end_time": "2022-12-21T02:19:27.901414",
     "exception": false,
     "start_time": "2022-12-21T02:19:27.735088",
     "status": "completed"
    },
    "tags": []
   },
   "outputs": [],
   "source": [
    "train_df, val_df = train_validation_split(train_df)"
   ]
  },
  {
   "cell_type": "markdown",
   "id": "4d95dc2f",
   "metadata": {
    "papermill": {
     "duration": 0.018357,
     "end_time": "2022-12-21T02:19:27.939119",
     "exception": false,
     "start_time": "2022-12-21T02:19:27.920762",
     "status": "completed"
    },
    "tags": []
   },
   "source": [
    "The tail of the obtain dataframe (`train_df`) and the head of the validation dataframe (`val_df`) are shown below to assert that the conversations are not splitted and that their question-answer pairs are still chronologically ordered."
   ]
  },
  {
   "cell_type": "code",
   "execution_count": 31,
   "id": "f32ef417",
   "metadata": {
    "execution": {
     "iopub.execute_input": "2022-12-21T02:19:27.977671Z",
     "iopub.status.busy": "2022-12-21T02:19:27.977275Z",
     "iopub.status.idle": "2022-12-21T02:19:28.034613Z",
     "shell.execute_reply": "2022-12-21T02:19:28.033456Z"
    },
    "papermill": {
     "duration": 0.079329,
     "end_time": "2022-12-21T02:19:28.036982",
     "exception": false,
     "start_time": "2022-12-21T02:19:27.957653",
     "status": "completed"
    },
    "tags": []
   },
   "outputs": [
    {
     "name": "stdout",
     "output_type": "stream",
     "text": [
      "Train dataframe shape after the split: (85824, 10)\n"
     ]
    },
    {
     "data": {
      "text/html": [
       "<div>\n",
       "<style scoped>\n",
       "    .dataframe tbody tr th:only-of-type {\n",
       "        vertical-align: middle;\n",
       "    }\n",
       "\n",
       "    .dataframe tbody tr th {\n",
       "        vertical-align: top;\n",
       "    }\n",
       "\n",
       "    .dataframe thead th {\n",
       "        text-align: right;\n",
       "    }\n",
       "</style>\n",
       "<table border=\"1\" class=\"dataframe\">\n",
       "  <thead>\n",
       "    <tr style=\"text-align: right;\">\n",
       "      <th></th>\n",
       "      <th>source</th>\n",
       "      <th>id</th>\n",
       "      <th>story</th>\n",
       "      <th>question</th>\n",
       "      <th>answer_span_start</th>\n",
       "      <th>answer_span_end</th>\n",
       "      <th>answer_span_text</th>\n",
       "      <th>answer</th>\n",
       "      <th>turn_id</th>\n",
       "      <th>history</th>\n",
       "    </tr>\n",
       "  </thead>\n",
       "  <tbody>\n",
       "    <tr>\n",
       "      <th>85819</th>\n",
       "      <td>cnn</td>\n",
       "      <td>31qnsg6a5rtt5m7pens7xklnbwf87b</td>\n",
       "      <td>(CNN) -- Cristiano Ronaldo provided the perfec...</td>\n",
       "      <td>Who was a sub?</td>\n",
       "      <td>1405</td>\n",
       "      <td>1427</td>\n",
       "      <td>substitute Xabi Alonso</td>\n",
       "      <td>Xabi Alonso</td>\n",
       "      <td>10</td>\n",
       "      <td>[Who was in charge of FIFA?, Sepp Blatter, Wha...</td>\n",
       "    </tr>\n",
       "    <tr>\n",
       "      <th>85820</th>\n",
       "      <td>cnn</td>\n",
       "      <td>31qnsg6a5rtt5m7pens7xklnbwf87b</td>\n",
       "      <td>(CNN) -- Cristiano Ronaldo provided the perfec...</td>\n",
       "      <td>Was it his first game this year?</td>\n",
       "      <td>1415</td>\n",
       "      <td>1467</td>\n",
       "      <td>Xabi Alonso made his first appearance of the ...</td>\n",
       "      <td>Yes</td>\n",
       "      <td>11</td>\n",
       "      <td>[Who was in charge of FIFA?, Sepp Blatter, Wha...</td>\n",
       "    </tr>\n",
       "    <tr>\n",
       "      <th>85821</th>\n",
       "      <td>cnn</td>\n",
       "      <td>31qnsg6a5rtt5m7pens7xklnbwf87b</td>\n",
       "      <td>(CNN) -- Cristiano Ronaldo provided the perfec...</td>\n",
       "      <td>What position did the team reach?</td>\n",
       "      <td>1520</td>\n",
       "      <td>1555</td>\n",
       "      <td>Real moved up to third in the table</td>\n",
       "      <td>third</td>\n",
       "      <td>12</td>\n",
       "      <td>[Who was in charge of FIFA?, Sepp Blatter, Wha...</td>\n",
       "    </tr>\n",
       "    <tr>\n",
       "      <th>85822</th>\n",
       "      <td>cnn</td>\n",
       "      <td>31qnsg6a5rtt5m7pens7xklnbwf87b</td>\n",
       "      <td>(CNN) -- Cristiano Ronaldo provided the perfec...</td>\n",
       "      <td>Who was ahead of them?</td>\n",
       "      <td>1557</td>\n",
       "      <td>1582</td>\n",
       "      <td>six points behind Barca.</td>\n",
       "      <td>Barca.</td>\n",
       "      <td>13</td>\n",
       "      <td>[Who was in charge of FIFA?, Sepp Blatter, Wha...</td>\n",
       "    </tr>\n",
       "    <tr>\n",
       "      <th>85823</th>\n",
       "      <td>cnn</td>\n",
       "      <td>31qnsg6a5rtt5m7pens7xklnbwf87b</td>\n",
       "      <td>(CNN) -- Cristiano Ronaldo provided the perfec...</td>\n",
       "      <td>By how much?</td>\n",
       "      <td>1557</td>\n",
       "      <td>1581</td>\n",
       "      <td>six points behind Barca.</td>\n",
       "      <td>six points</td>\n",
       "      <td>14</td>\n",
       "      <td>[Who was in charge of FIFA?, Sepp Blatter, Wha...</td>\n",
       "    </tr>\n",
       "  </tbody>\n",
       "</table>\n",
       "</div>"
      ],
      "text/plain": [
       "      source                              id  \\\n",
       "85819    cnn  31qnsg6a5rtt5m7pens7xklnbwf87b   \n",
       "85820    cnn  31qnsg6a5rtt5m7pens7xklnbwf87b   \n",
       "85821    cnn  31qnsg6a5rtt5m7pens7xklnbwf87b   \n",
       "85822    cnn  31qnsg6a5rtt5m7pens7xklnbwf87b   \n",
       "85823    cnn  31qnsg6a5rtt5m7pens7xklnbwf87b   \n",
       "\n",
       "                                                   story  \\\n",
       "85819  (CNN) -- Cristiano Ronaldo provided the perfec...   \n",
       "85820  (CNN) -- Cristiano Ronaldo provided the perfec...   \n",
       "85821  (CNN) -- Cristiano Ronaldo provided the perfec...   \n",
       "85822  (CNN) -- Cristiano Ronaldo provided the perfec...   \n",
       "85823  (CNN) -- Cristiano Ronaldo provided the perfec...   \n",
       "\n",
       "                                question  answer_span_start  answer_span_end  \\\n",
       "85819                     Who was a sub?               1405             1427   \n",
       "85820   Was it his first game this year?               1415             1467   \n",
       "85821  What position did the team reach?               1520             1555   \n",
       "85822             Who was ahead of them?               1557             1582   \n",
       "85823                       By how much?               1557             1581   \n",
       "\n",
       "                                        answer_span_text       answer  \\\n",
       "85819                             substitute Xabi Alonso  Xabi Alonso   \n",
       "85820   Xabi Alonso made his first appearance of the ...          Yes   \n",
       "85821                Real moved up to third in the table        third   \n",
       "85822                          six points behind Barca.        Barca.   \n",
       "85823                           six points behind Barca.   six points   \n",
       "\n",
       "       turn_id                                            history  \n",
       "85819       10  [Who was in charge of FIFA?, Sepp Blatter, Wha...  \n",
       "85820       11  [Who was in charge of FIFA?, Sepp Blatter, Wha...  \n",
       "85821       12  [Who was in charge of FIFA?, Sepp Blatter, Wha...  \n",
       "85822       13  [Who was in charge of FIFA?, Sepp Blatter, Wha...  \n",
       "85823       14  [Who was in charge of FIFA?, Sepp Blatter, Wha...  "
      ]
     },
     "execution_count": 31,
     "metadata": {},
     "output_type": "execute_result"
    }
   ],
   "source": [
    "print(f'Train dataframe shape after the split: {train_df.shape}')\n",
    "train_df.tail()"
   ]
  },
  {
   "cell_type": "code",
   "execution_count": 32,
   "id": "d0d4a619",
   "metadata": {
    "execution": {
     "iopub.execute_input": "2022-12-21T02:19:28.077330Z",
     "iopub.status.busy": "2022-12-21T02:19:28.076264Z",
     "iopub.status.idle": "2022-12-21T02:19:28.128255Z",
     "shell.execute_reply": "2022-12-21T02:19:28.126803Z"
    },
    "papermill": {
     "duration": 0.076107,
     "end_time": "2022-12-21T02:19:28.132169",
     "exception": false,
     "start_time": "2022-12-21T02:19:28.056062",
     "status": "completed"
    },
    "tags": []
   },
   "outputs": [
    {
     "name": "stdout",
     "output_type": "stream",
     "text": [
      "Validation dataframe shape after the split: (21452, 10)\n"
     ]
    },
    {
     "data": {
      "text/html": [
       "<div>\n",
       "<style scoped>\n",
       "    .dataframe tbody tr th:only-of-type {\n",
       "        vertical-align: middle;\n",
       "    }\n",
       "\n",
       "    .dataframe tbody tr th {\n",
       "        vertical-align: top;\n",
       "    }\n",
       "\n",
       "    .dataframe thead th {\n",
       "        text-align: right;\n",
       "    }\n",
       "</style>\n",
       "<table border=\"1\" class=\"dataframe\">\n",
       "  <thead>\n",
       "    <tr style=\"text-align: right;\">\n",
       "      <th></th>\n",
       "      <th>source</th>\n",
       "      <th>id</th>\n",
       "      <th>story</th>\n",
       "      <th>question</th>\n",
       "      <th>answer_span_start</th>\n",
       "      <th>answer_span_end</th>\n",
       "      <th>answer_span_text</th>\n",
       "      <th>answer</th>\n",
       "      <th>turn_id</th>\n",
       "      <th>history</th>\n",
       "    </tr>\n",
       "  </thead>\n",
       "  <tbody>\n",
       "    <tr>\n",
       "      <th>0</th>\n",
       "      <td>cnn</td>\n",
       "      <td>3wj1oxy92agboo5nlq4r7bndc3t8a8</td>\n",
       "      <td>New York (CNN) -- More than 80 Michael Jackson...</td>\n",
       "      <td>Where was the Auction held?</td>\n",
       "      <td>243</td>\n",
       "      <td>284</td>\n",
       "      <td>Hard Rock Cafe in New York's Times Square</td>\n",
       "      <td>Hard Rock Cafe</td>\n",
       "      <td>1</td>\n",
       "      <td>[]</td>\n",
       "    </tr>\n",
       "    <tr>\n",
       "      <th>1</th>\n",
       "      <td>cnn</td>\n",
       "      <td>3wj1oxy92agboo5nlq4r7bndc3t8a8</td>\n",
       "      <td>New York (CNN) -- More than 80 Michael Jackson...</td>\n",
       "      <td>How much did they make?</td>\n",
       "      <td>180</td>\n",
       "      <td>210</td>\n",
       "      <td>reaping a total $2 million. \\n</td>\n",
       "      <td>$2 million.</td>\n",
       "      <td>2</td>\n",
       "      <td>[Where was the Auction held?, Hard Rock Cafe]</td>\n",
       "    </tr>\n",
       "    <tr>\n",
       "      <th>2</th>\n",
       "      <td>cnn</td>\n",
       "      <td>3wj1oxy92agboo5nlq4r7bndc3t8a8</td>\n",
       "      <td>New York (CNN) -- More than 80 Michael Jackson...</td>\n",
       "      <td>How much did they expected?</td>\n",
       "      <td>292</td>\n",
       "      <td>342</td>\n",
       "      <td>pre-sale expectations of only $120,000 in sal...</td>\n",
       "      <td>$120,000</td>\n",
       "      <td>3</td>\n",
       "      <td>[Where was the Auction held?, Hard Rock Cafe, ...</td>\n",
       "    </tr>\n",
       "    <tr>\n",
       "      <th>3</th>\n",
       "      <td>cnn</td>\n",
       "      <td>3wj1oxy92agboo5nlq4r7bndc3t8a8</td>\n",
       "      <td>New York (CNN) -- More than 80 Michael Jackson...</td>\n",
       "      <td>WHo buy the Jackson Glove</td>\n",
       "      <td>1295</td>\n",
       "      <td>1365</td>\n",
       "      <td>Hoffman Ma, who bought the glove on behalf of ...</td>\n",
       "      <td>Hoffman Ma</td>\n",
       "      <td>4</td>\n",
       "      <td>[Where was the Auction held?, Hard Rock Cafe, ...</td>\n",
       "    </tr>\n",
       "    <tr>\n",
       "      <th>4</th>\n",
       "      <td>cnn</td>\n",
       "      <td>3wj1oxy92agboo5nlq4r7bndc3t8a8</td>\n",
       "      <td>New York (CNN) -- More than 80 Michael Jackson...</td>\n",
       "      <td>Where was the buyer of the glove from?</td>\n",
       "      <td>1331</td>\n",
       "      <td>1366</td>\n",
       "      <td>behalf of Ponte 16 Resort in Macau,</td>\n",
       "      <td>Macau</td>\n",
       "      <td>5</td>\n",
       "      <td>[Where was the Auction held?, Hard Rock Cafe, ...</td>\n",
       "    </tr>\n",
       "  </tbody>\n",
       "</table>\n",
       "</div>"
      ],
      "text/plain": [
       "  source                              id  \\\n",
       "0    cnn  3wj1oxy92agboo5nlq4r7bndc3t8a8   \n",
       "1    cnn  3wj1oxy92agboo5nlq4r7bndc3t8a8   \n",
       "2    cnn  3wj1oxy92agboo5nlq4r7bndc3t8a8   \n",
       "3    cnn  3wj1oxy92agboo5nlq4r7bndc3t8a8   \n",
       "4    cnn  3wj1oxy92agboo5nlq4r7bndc3t8a8   \n",
       "\n",
       "                                               story  \\\n",
       "0  New York (CNN) -- More than 80 Michael Jackson...   \n",
       "1  New York (CNN) -- More than 80 Michael Jackson...   \n",
       "2  New York (CNN) -- More than 80 Michael Jackson...   \n",
       "3  New York (CNN) -- More than 80 Michael Jackson...   \n",
       "4  New York (CNN) -- More than 80 Michael Jackson...   \n",
       "\n",
       "                                 question  answer_span_start  answer_span_end  \\\n",
       "0             Where was the Auction held?                243              284   \n",
       "1                 How much did they make?                180              210   \n",
       "2             How much did they expected?                292              342   \n",
       "3               WHo buy the Jackson Glove               1295             1365   \n",
       "4  Where was the buyer of the glove from?               1331             1366   \n",
       "\n",
       "                                    answer_span_text          answer  turn_id  \\\n",
       "0          Hard Rock Cafe in New York's Times Square  Hard Rock Cafe        1   \n",
       "1                     reaping a total $2 million. \\n     $2 million.        2   \n",
       "2   pre-sale expectations of only $120,000 in sal...        $120,000        3   \n",
       "3  Hoffman Ma, who bought the glove on behalf of ...      Hoffman Ma        4   \n",
       "4                behalf of Ponte 16 Resort in Macau,           Macau        5   \n",
       "\n",
       "                                             history  \n",
       "0                                                 []  \n",
       "1      [Where was the Auction held?, Hard Rock Cafe]  \n",
       "2  [Where was the Auction held?, Hard Rock Cafe, ...  \n",
       "3  [Where was the Auction held?, Hard Rock Cafe, ...  \n",
       "4  [Where was the Auction held?, Hard Rock Cafe, ...  "
      ]
     },
     "execution_count": 32,
     "metadata": {},
     "output_type": "execute_result"
    }
   ],
   "source": [
    "print(f'Validation dataframe shape after the split: {val_df.shape}')\n",
    "val_df.head()"
   ]
  },
  {
   "cell_type": "code",
   "execution_count": 33,
   "id": "45b2554d",
   "metadata": {
    "execution": {
     "iopub.execute_input": "2022-12-21T02:19:28.170946Z",
     "iopub.status.busy": "2022-12-21T02:19:28.169997Z",
     "iopub.status.idle": "2022-12-21T02:19:28.304509Z",
     "shell.execute_reply": "2022-12-21T02:19:28.302601Z"
    },
    "papermill": {
     "duration": 0.156001,
     "end_time": "2022-12-21T02:19:28.306646",
     "exception": false,
     "start_time": "2022-12-21T02:19:28.150645",
     "status": "completed"
    },
    "tags": []
   },
   "outputs": [
    {
     "name": "stdout",
     "output_type": "stream",
     "text": [
      "Train passages count: 5754\n",
      "Validation passages count: 1439\n",
      "\n",
      "Train QaA count: 85824 \t\t Train QaA ratio: 0.80\n",
      "Validation QaA count: 21452 \t Validation QaA ratio: 0.20\n"
     ]
    }
   ],
   "source": [
    "print(f'Train passages count: {len(train_df.groupby(by=[\"id\"]))}')\n",
    "print(f'Validation passages count: {len(val_df.groupby(by=[\"id\"]))}')\n",
    "\n",
    "print()\n",
    "\n",
    "len_tot=len(train_df)+len(val_df)\n",
    "print(f'Train QaA count: {len(train_df)} \\t\\t Train QaA ratio: {len(train_df)/len_tot:.2f}')\n",
    "print(f'Validation QaA count: {len(val_df)} \\t Validation QaA ratio: {len(val_df)/len_tot:.2f}')"
   ]
  },
  {
   "cell_type": "markdown",
   "id": "0d509178",
   "metadata": {
    "papermill": {
     "duration": 0.019008,
     "end_time": "2022-12-21T02:19:28.344924",
     "exception": false,
     "start_time": "2022-12-21T02:19:28.325916",
     "status": "completed"
    },
    "tags": []
   },
   "source": [
    "In addition, the train, validation and test dataloaders are provided for future training purposes."
   ]
  },
  {
   "cell_type": "code",
   "execution_count": 34,
   "id": "67064aba",
   "metadata": {
    "execution": {
     "iopub.execute_input": "2022-12-21T02:19:28.385739Z",
     "iopub.status.busy": "2022-12-21T02:19:28.385352Z",
     "iopub.status.idle": "2022-12-21T02:19:28.471653Z",
     "shell.execute_reply": "2022-12-21T02:19:28.470479Z"
    },
    "papermill": {
     "duration": 0.11076,
     "end_time": "2022-12-21T02:19:28.474619",
     "exception": false,
     "start_time": "2022-12-21T02:19:28.363859",
     "status": "completed"
    },
    "tags": []
   },
   "outputs": [],
   "source": [
    "from utils.dataloader_builder import get_dataloader\n",
    "\n",
    "train_dataloader = get_dataloader(train_df, batch_size=8)\n",
    "steps_per_update = 2\n",
    "val_dataloader = get_dataloader(val_df)\n",
    "test_dataloader = get_dataloader(test_df)"
   ]
  },
  {
   "cell_type": "markdown",
   "id": "babf2bc5",
   "metadata": {
    "papermill": {
     "duration": 0.019488,
     "end_time": "2022-12-21T02:19:28.514584",
     "exception": false,
     "start_time": "2022-12-21T02:19:28.495096",
     "status": "completed"
    },
    "slideshow": {
     "slide_type": "slide"
    },
    "tags": []
   },
   "source": [
    "## [Task 3] Model definition"
   ]
  },
  {
   "cell_type": "code",
   "execution_count": 35,
   "id": "06c37127",
   "metadata": {
    "execution": {
     "iopub.execute_input": "2022-12-21T02:19:28.555754Z",
     "iopub.status.busy": "2022-12-21T02:19:28.554711Z",
     "iopub.status.idle": "2022-12-21T02:19:28.597417Z",
     "shell.execute_reply": "2022-12-21T02:19:28.595541Z"
    },
    "papermill": {
     "duration": 0.066238,
     "end_time": "2022-12-21T02:19:28.600489",
     "exception": false,
     "start_time": "2022-12-21T02:19:28.534251",
     "status": "completed"
    },
    "tags": []
   },
   "outputs": [
    {
     "name": "stdout",
     "output_type": "stream",
     "text": [
      "/kaggle/working/NLP-assignment-2\n",
      "/kaggle/working/weigths/PQ/seed42\n"
     ]
    }
   ],
   "source": [
    "model_name = 'distilroberta-base'          # distil-roberta pretrained model\n",
    "#model_name = 'prajjwal1/bert-tiny'         # tiny-bert pretrained model\n",
    "\n",
    "use_history=False\n",
    "seed = 42\n",
    "\n",
    "folder='../weigths'\n",
    "if use_history:\n",
    "    folder_name = f'{folder}/PQH/seed{seed}'\n",
    "else:\n",
    "    folder_name = f'{folder}/PQ/seed{seed}'\n",
    "folder_name=os.path.abspath(os.path.join(os.getcwd(), folder_name))\n",
    "print(os.getcwd())\n",
    "print(folder_name)"
   ]
  },
  {
   "cell_type": "code",
   "execution_count": 36,
   "id": "8f9c7523",
   "metadata": {
    "execution": {
     "iopub.execute_input": "2022-12-21T02:19:28.643731Z",
     "iopub.status.busy": "2022-12-21T02:19:28.642666Z",
     "iopub.status.idle": "2022-12-21T02:19:48.084073Z",
     "shell.execute_reply": "2022-12-21T02:19:48.082862Z"
    },
    "papermill": {
     "duration": 19.465852,
     "end_time": "2022-12-21T02:19:48.086776",
     "exception": false,
     "start_time": "2022-12-21T02:19:28.620924",
     "status": "completed"
    },
    "tags": []
   },
   "outputs": [
    {
     "data": {
      "application/vnd.jupyter.widget-view+json": {
       "model_id": "59b56469ff4a4d35ad3253e2ad5a37ec",
       "version_major": 2,
       "version_minor": 0
      },
      "text/plain": [
       "Downloading:   0%|          | 0.00/480 [00:00<?, ?B/s]"
      ]
     },
     "metadata": {},
     "output_type": "display_data"
    },
    {
     "data": {
      "application/vnd.jupyter.widget-view+json": {
       "model_id": "0b554c4348a549ba99c3f119f5adadb3",
       "version_major": 2,
       "version_minor": 0
      },
      "text/plain": [
       "Downloading:   0%|          | 0.00/316M [00:00<?, ?B/s]"
      ]
     },
     "metadata": {},
     "output_type": "display_data"
    },
    {
     "name": "stderr",
     "output_type": "stream",
     "text": [
      "Some weights of the model checkpoint at distilroberta-base were not used when initializing RobertaModel: ['lm_head.dense.weight', 'lm_head.decoder.weight', 'lm_head.dense.bias', 'lm_head.layer_norm.weight', 'lm_head.bias', 'lm_head.layer_norm.bias']\n",
      "- This IS expected if you are initializing RobertaModel from the checkpoint of a model trained on another task or with another architecture (e.g. initializing a BertForSequenceClassification model from a BertForPreTraining model).\n",
      "- This IS NOT expected if you are initializing RobertaModel from the checkpoint of a model that you expect to be exactly identical (initializing a BertForSequenceClassification model from a BertForSequenceClassification model).\n",
      "Some weights of the model checkpoint at distilroberta-base were not used when initializing RobertaModel: ['lm_head.dense.weight', 'lm_head.decoder.weight', 'lm_head.dense.bias', 'lm_head.layer_norm.weight', 'lm_head.bias', 'lm_head.layer_norm.bias']\n",
      "- This IS expected if you are initializing RobertaModel from the checkpoint of a model trained on another task or with another architecture (e.g. initializing a BertForSequenceClassification model from a BertForPreTraining model).\n",
      "- This IS NOT expected if you are initializing RobertaModel from the checkpoint of a model that you expect to be exactly identical (initializing a BertForSequenceClassification model from a BertForSequenceClassification model).\n",
      "Some weights of RobertaForCausalLM were not initialized from the model checkpoint at distilroberta-base and are newly initialized: ['roberta.encoder.layer.4.crossattention.self.query.weight', 'roberta.encoder.layer.4.crossattention.output.LayerNorm.weight', 'roberta.encoder.layer.3.crossattention.self.value.weight', 'roberta.encoder.layer.1.crossattention.self.query.bias', 'roberta.encoder.layer.4.crossattention.output.dense.weight', 'roberta.encoder.layer.4.crossattention.self.query.bias', 'roberta.encoder.layer.3.crossattention.self.value.bias', 'roberta.encoder.layer.2.crossattention.output.LayerNorm.weight', 'roberta.encoder.layer.3.crossattention.self.key.bias', 'roberta.encoder.layer.5.crossattention.self.query.weight', 'roberta.encoder.layer.2.crossattention.output.LayerNorm.bias', 'roberta.encoder.layer.4.crossattention.self.value.bias', 'roberta.encoder.layer.5.crossattention.output.dense.bias', 'roberta.encoder.layer.2.crossattention.self.value.weight', 'roberta.encoder.layer.1.crossattention.self.value.weight', 'roberta.encoder.layer.4.crossattention.self.key.bias', 'roberta.encoder.layer.2.crossattention.self.key.bias', 'roberta.encoder.layer.5.crossattention.self.key.bias', 'roberta.encoder.layer.2.crossattention.self.query.weight', 'roberta.encoder.layer.2.crossattention.output.dense.weight', 'roberta.encoder.layer.4.crossattention.self.key.weight', 'roberta.encoder.layer.3.crossattention.self.query.bias', 'roberta.encoder.layer.3.crossattention.self.key.weight', 'roberta.encoder.layer.5.crossattention.output.dense.weight', 'roberta.encoder.layer.5.crossattention.self.query.bias', 'roberta.encoder.layer.3.crossattention.output.dense.weight', 'roberta.encoder.layer.2.crossattention.self.key.weight', 'roberta.encoder.layer.2.crossattention.output.dense.bias', 'roberta.encoder.layer.4.crossattention.output.dense.bias', 'roberta.encoder.layer.0.crossattention.self.value.bias', 'roberta.encoder.layer.1.crossattention.self.key.weight', 'roberta.encoder.layer.5.crossattention.self.key.weight', 'roberta.encoder.layer.1.crossattention.self.value.bias', 'roberta.encoder.layer.4.crossattention.self.value.weight', 'roberta.encoder.layer.1.crossattention.output.LayerNorm.bias', 'roberta.encoder.layer.0.crossattention.self.key.bias', 'roberta.encoder.layer.5.crossattention.self.value.bias', 'roberta.encoder.layer.0.crossattention.self.key.weight', 'roberta.encoder.layer.5.crossattention.output.LayerNorm.bias', 'roberta.encoder.layer.0.crossattention.output.dense.bias', 'roberta.encoder.layer.1.crossattention.self.key.bias', 'roberta.encoder.layer.1.crossattention.output.dense.bias', 'roberta.encoder.layer.1.crossattention.output.LayerNorm.weight', 'roberta.encoder.layer.3.crossattention.output.LayerNorm.weight', 'roberta.encoder.layer.2.crossattention.self.value.bias', 'roberta.encoder.layer.5.crossattention.output.LayerNorm.weight', 'roberta.encoder.layer.1.crossattention.self.query.weight', 'roberta.encoder.layer.3.crossattention.output.LayerNorm.bias', 'roberta.encoder.layer.0.crossattention.self.query.weight', 'roberta.encoder.layer.0.crossattention.self.value.weight', 'roberta.encoder.layer.0.crossattention.output.dense.weight', 'roberta.encoder.layer.1.crossattention.output.dense.weight', 'roberta.encoder.layer.3.crossattention.output.dense.bias', 'roberta.encoder.layer.4.crossattention.output.LayerNorm.bias', 'roberta.encoder.layer.0.crossattention.output.LayerNorm.weight', 'roberta.encoder.layer.0.crossattention.output.LayerNorm.bias', 'roberta.encoder.layer.3.crossattention.self.query.weight', 'roberta.encoder.layer.5.crossattention.self.value.weight', 'roberta.encoder.layer.2.crossattention.self.query.bias', 'roberta.encoder.layer.0.crossattention.self.query.bias']\n",
      "You should probably TRAIN this model on a down-stream task to be able to use it for predictions and inference.\n"
     ]
    },
    {
     "data": {
      "application/vnd.jupyter.widget-view+json": {
       "model_id": "ea44063ca31c482d93a5abc744ec217a",
       "version_major": 2,
       "version_minor": 0
      },
      "text/plain": [
       "Downloading:   0%|          | 0.00/878k [00:00<?, ?B/s]"
      ]
     },
     "metadata": {},
     "output_type": "display_data"
    },
    {
     "data": {
      "application/vnd.jupyter.widget-view+json": {
       "model_id": "155d979d8fe5472a9a078fbcdad0e76f",
       "version_major": 2,
       "version_minor": 0
      },
      "text/plain": [
       "Downloading:   0%|          | 0.00/446k [00:00<?, ?B/s]"
      ]
     },
     "metadata": {},
     "output_type": "display_data"
    },
    {
     "data": {
      "application/vnd.jupyter.widget-view+json": {
       "model_id": "f431d550a12c4dda89664defd80cf66a",
       "version_major": 2,
       "version_minor": 0
      },
      "text/plain": [
       "Downloading:   0%|          | 0.00/1.29M [00:00<?, ?B/s]"
      ]
     },
     "metadata": {},
     "output_type": "display_data"
    }
   ],
   "source": [
    "from models.model import Model \n",
    "\n",
    "set_random_seed(seed)\n",
    "model = Model(model_name=model_name, device='cuda')"
   ]
  },
  {
   "cell_type": "markdown",
   "id": "bbabdfd1",
   "metadata": {
    "papermill": {
     "duration": 0.021285,
     "end_time": "2022-12-21T02:19:48.129559",
     "exception": false,
     "start_time": "2022-12-21T02:19:48.108274",
     "status": "completed"
    },
    "tags": []
   },
   "source": [
    "## [Task 4] Question generation with text passage $P$ and question $Q$"
   ]
  },
  {
   "cell_type": "code",
   "execution_count": 37,
   "id": "727f2895",
   "metadata": {
    "execution": {
     "iopub.execute_input": "2022-12-21T02:19:48.174915Z",
     "iopub.status.busy": "2022-12-21T02:19:48.173654Z",
     "iopub.status.idle": "2022-12-21T02:19:55.756947Z",
     "shell.execute_reply": "2022-12-21T02:19:55.755176Z"
    },
    "papermill": {
     "duration": 7.608679,
     "end_time": "2022-12-21T02:19:55.759283",
     "exception": false,
     "start_time": "2022-12-21T02:19:48.150604",
     "status": "completed"
    },
    "tags": []
   },
   "outputs": [
    {
     "name": "stdout",
     "output_type": "stream",
     "text": [
      "Question sample: \"how do scholars divide the library?\"\n",
      "\n",
      "Predicted answer by the model: \".,\"\n",
      "\n",
      "True answer: \"into periods\"\n"
     ]
    }
   ],
   "source": [
    "i=5\n",
    "question_sample = [train_df.iloc[i]['question']]\n",
    "passage_sample = [train_df.iloc[i]['story']]\n",
    "answer_sample = train_df.iloc[i]['answer']\n",
    "\n",
    "print(f'Question sample: \"{question_sample[0]}\"')\n",
    "print()\n",
    "print(f'Predicted answer by the model: \"{model.generate(passage_sample, question_sample)[0]}\"')\n",
    "print()\n",
    "print(f'True answer: \"{answer_sample}\"')"
   ]
  },
  {
   "cell_type": "markdown",
   "id": "a78c744b",
   "metadata": {
    "papermill": {
     "duration": 0.019965,
     "end_time": "2022-12-21T02:19:55.800723",
     "exception": false,
     "start_time": "2022-12-21T02:19:55.780758",
     "status": "completed"
    },
    "tags": []
   },
   "source": [
    "## [Task 5] Question generation with text passage $P$, question $Q$ and dialogue history $H$"
   ]
  },
  {
   "cell_type": "code",
   "execution_count": 38,
   "id": "6eb267fe",
   "metadata": {
    "execution": {
     "iopub.execute_input": "2022-12-21T02:19:55.842394Z",
     "iopub.status.busy": "2022-12-21T02:19:55.841628Z",
     "iopub.status.idle": "2022-12-21T02:19:55.992581Z",
     "shell.execute_reply": "2022-12-21T02:19:55.990773Z"
    },
    "papermill": {
     "duration": 0.174257,
     "end_time": "2022-12-21T02:19:55.994728",
     "exception": false,
     "start_time": "2022-12-21T02:19:55.820471",
     "status": "completed"
    },
    "tags": []
   },
   "outputs": [
    {
     "name": "stdout",
     "output_type": "stream",
     "text": [
      "Question sample: \"how do scholars divide the library?\"\n",
      "\n",
      "Predicted answer by the model: \".,\"\n",
      "\n",
      "True answer: \"into periods\"\n"
     ]
    }
   ],
   "source": [
    "question_sample = [train_df.iloc[5]['question']]\n",
    "passage_sample = [train_df.iloc[5]['story']]\n",
    "answer_sample = train_df.iloc[5]['answer']\n",
    "history_sample = [' <sep> '.join(train_df.iloc[5]['history'])]\n",
    "\n",
    "print(f'Question sample: \"{question_sample[0]}\"')\n",
    "print()\n",
    "print(f'Predicted answer by the model: \"{model.generate(passage_sample, question_sample, history=history_sample)[0]}\"')\n",
    "print()\n",
    "print(f'True answer: \"{answer_sample}\"')"
   ]
  },
  {
   "cell_type": "markdown",
   "id": "87f2a33b",
   "metadata": {
    "papermill": {
     "duration": 0.02022,
     "end_time": "2022-12-21T02:19:56.034858",
     "exception": false,
     "start_time": "2022-12-21T02:19:56.014638",
     "status": "completed"
    },
    "tags": []
   },
   "source": [
    "## [Task 6] Train and evaluate $f_\\theta(P, Q)$ and $f_\\theta(P, Q, H)$"
   ]
  },
  {
   "cell_type": "code",
   "execution_count": 39,
   "id": "91348a5f",
   "metadata": {
    "execution": {
     "iopub.execute_input": "2022-12-21T02:19:56.076595Z",
     "iopub.status.busy": "2022-12-21T02:19:56.076226Z",
     "iopub.status.idle": "2022-12-21T02:19:56.143826Z",
     "shell.execute_reply": "2022-12-21T02:19:56.141996Z"
    },
    "papermill": {
     "duration": 0.091883,
     "end_time": "2022-12-21T02:19:56.146967",
     "exception": false,
     "start_time": "2022-12-21T02:19:56.055084",
     "status": "completed"
    },
    "tags": []
   },
   "outputs": [
    {
     "name": "stdout",
     "output_type": "stream",
     "text": [
      "Unable to load saved files, default initialization\n"
     ]
    }
   ],
   "source": [
    "try:\n",
    "    checkpoint = torch.load(f\"{folder_name}\\\\{model_name.replace('/','_')}.pth\")\n",
    "    loss_history = checkpoint['loss_history']\n",
    "    val_loss_history = checkpoint['val_loss_history']\n",
    "    opt_state_dict=checkpoint['opt_state_dict']\n",
    "    model.load_state_dict(checkpoint['model_state_dict'])\n",
    "    print('Loaded saved files')\n",
    "except:\n",
    "    loss_history=None\n",
    "    val_loss_history=None\n",
    "    opt_state_dict=None\n",
    "    print('Unable to load saved files, default initialization')"
   ]
  },
  {
   "cell_type": "code",
   "execution_count": 40,
   "id": "3dbdbceb",
   "metadata": {
    "execution": {
     "iopub.execute_input": "2022-12-21T02:19:56.189941Z",
     "iopub.status.busy": "2022-12-21T02:19:56.188936Z",
     "iopub.status.idle": "2022-12-21T07:12:29.756270Z",
     "shell.execute_reply": "2022-12-21T07:12:29.754273Z"
    },
    "papermill": {
     "duration": 17553.592852,
     "end_time": "2022-12-21T07:12:29.760305",
     "exception": false,
     "start_time": "2022-12-21T02:19:56.167453",
     "status": "completed"
    },
    "tags": []
   },
   "outputs": [
    {
     "data": {
      "text/plain": [
       "'epoch: 1/3, 10728/10728, 5838s 544ms/step, lr: 5e-05, forcing=0.75, loss: 0.516 1.53'"
      ]
     },
     "metadata": {},
     "output_type": "display_data"
    },
    {
     "data": {
      "text/plain": [
       "'epoch: 2/3, 10728/10728, 5852s 545ms/step, lr: 5e-05, forcing=0.25, loss: 0.38 0.598'"
      ]
     },
     "metadata": {},
     "output_type": "display_data"
    },
    {
     "data": {
      "text/plain": [
       "'epoch: 3/3, 10728/10728, 5850s 545ms/step, lr: 5e-05, forcing=2.38e-09, loss: 0.366 0.5'"
      ]
     },
     "metadata": {},
     "output_type": "display_data"
    }
   ],
   "source": [
    "from utils.training import train_1\n",
    "set_random_seed(seed)\n",
    "train_1( train_dataloader=train_dataloader, val_dataloader=val_dataloader, epochs=3,\n",
    "        model=model, use_history=False, folder_name=folder_name, \n",
    "        opt_state_dict = opt_state_dict, \n",
    "        loss_history = list(loss_history) if loss_history is not None else None,\n",
    "        val_loss_history = list(val_loss_history) if loss_history is not None else None,\n",
    "        steps_per_update=steps_per_update, steps_validate=0.5, steps_save=0.1, device='cuda')"
   ]
  },
  {
   "cell_type": "code",
   "execution_count": 41,
   "id": "ad4b7218",
   "metadata": {
    "execution": {
     "iopub.execute_input": "2022-12-21T07:12:29.807404Z",
     "iopub.status.busy": "2022-12-21T07:12:29.806970Z",
     "iopub.status.idle": "2022-12-21T07:12:34.818776Z",
     "shell.execute_reply": "2022-12-21T07:12:34.817648Z"
    },
    "papermill": {
     "duration": 5.039161,
     "end_time": "2022-12-21T07:12:34.822214",
     "exception": false,
     "start_time": "2022-12-21T07:12:29.783053",
     "status": "completed"
    },
    "tags": []
   },
   "outputs": [
    {
     "data": {
      "image/png": "[encoded data removed]",
      "text/plain": [
       "<Figure size 1080x864 with 4 Axes>"
      ]
     },
     "metadata": {
      "needs_background": "light"
     },
     "output_type": "display_data"
    }
   ],
   "source": [
    "checkpoint = torch.load(f\"{folder_name}\\\\{model_name.replace('/','_')}.pth\")\n",
    "lh = checkpoint['loss_history']\n",
    "vlh = checkpoint['val_loss_history']\n",
    "\n",
    "N=100\n",
    "\n",
    "plt.figure(figsize=(15,12))\n",
    "plt.subplot(2,2,1)\n",
    "plt.plot(lh[:,0])\n",
    "plt.plot(np.convolve(lh[:,0], np.ones(N)/N, mode='valid'))\n",
    "if len(vlh)>0:\n",
    "    plt.plot(vlh[:,0],vlh[:,1],'r*')\n",
    "\n",
    "plt.subplot(2,2,2)\n",
    "plt.plot(lh[:,1])\n",
    "plt.plot(np.convolve(lh[:,1], np.ones(N)/N, mode='valid'))\n",
    "if len(vlh)>0:\n",
    "    plt.plot(vlh[:,0],vlh[:,2],'r*')\n",
    "\n",
    "plt.subplot(2,2,3)\n",
    "plt.plot(lh[:,0])\n",
    "plt.plot(np.convolve(lh[:,0], np.ones(N)/N, mode='valid'))\n",
    "if len(vlh)>0:\n",
    "    plt.plot(vlh[:,0],vlh[:,1],'r*')\n",
    "plt.yscale('log')\n",
    "\n",
    "plt.subplot(2,2,4)\n",
    "plt.plot(lh[:,1])\n",
    "plt.plot(np.convolve(lh[:,1], np.ones(N)/N, mode='valid'))\n",
    "if len(vlh)>0:\n",
    "    plt.plot(vlh[:,0],vlh[:,2],'r*')\n",
    "plt.yscale('log')"
   ]
  },
  {
   "cell_type": "code",
   "execution_count": 42,
   "id": "40abc0ff",
   "metadata": {
    "execution": {
     "iopub.execute_input": "2022-12-21T07:12:34.874399Z",
     "iopub.status.busy": "2022-12-21T07:12:34.873984Z",
     "iopub.status.idle": "2022-12-21T07:26:32.378216Z",
     "shell.execute_reply": "2022-12-21T07:26:32.376062Z"
    },
    "papermill": {
     "duration": 837.532808,
     "end_time": "2022-12-21T07:26:32.380962",
     "exception": false,
     "start_time": "2022-12-21T07:12:34.848154",
     "status": "completed"
    },
    "tags": []
   },
   "outputs": [
    {
     "name": "stdout",
     "output_type": "stream",
     "text": [
      "1341/1341, 837s 624ms/step, mean F1: 0.4949251473994049\r"
     ]
    }
   ],
   "source": [
    "from utils.squad import validate\n",
    "f1_squad = validate(model, val_dataloader, use_history=False)"
   ]
  },
  {
   "cell_type": "markdown",
   "id": "17d35712",
   "metadata": {
    "papermill": {
     "duration": 0.111514,
     "end_time": "2022-12-21T07:26:32.595036",
     "exception": false,
     "start_time": "2022-12-21T07:26:32.483522",
     "status": "completed"
    },
    "tags": []
   },
   "source": [
    "## [Task 7] Error Analysis"
   ]
  },
  {
   "cell_type": "markdown",
   "id": "20126f3c",
   "metadata": {
    "papermill": {
     "duration": 0.100429,
     "end_time": "2022-12-21T07:26:32.794147",
     "exception": false,
     "start_time": "2022-12-21T07:26:32.693718",
     "status": "completed"
    },
    "tags": []
   },
   "source": [
    "Load weights"
   ]
  },
  {
   "cell_type": "code",
   "execution_count": 43,
   "id": "b92aee35",
   "metadata": {
    "execution": {
     "iopub.execute_input": "2022-12-21T07:26:33.001392Z",
     "iopub.status.busy": "2022-12-21T07:26:33.000884Z",
     "iopub.status.idle": "2022-12-21T07:26:33.072588Z",
     "shell.execute_reply": "2022-12-21T07:26:33.071354Z"
    },
    "papermill": {
     "duration": 0.181414,
     "end_time": "2022-12-21T07:26:33.075532",
     "exception": false,
     "start_time": "2022-12-21T07:26:32.894118",
     "status": "completed"
    },
    "tags": []
   },
   "outputs": [],
   "source": [
    "model_name = 'distilroberta-base'          # distil-roberta pretrained model\n",
    "#model_name = 'prajjwal1/bert-tiny'          # tiny-bert pretrained model\n",
    "\n",
    "use_history=False\n",
    "seed = 42"
   ]
  },
  {
   "cell_type": "code",
   "execution_count": 44,
   "id": "2f887df0",
   "metadata": {
    "execution": {
     "iopub.execute_input": "2022-12-21T07:26:33.278784Z",
     "iopub.status.busy": "2022-12-21T07:26:33.278381Z",
     "iopub.status.idle": "2022-12-21T07:26:42.614709Z",
     "shell.execute_reply": "2022-12-21T07:26:42.613271Z"
    },
    "papermill": {
     "duration": 9.440435,
     "end_time": "2022-12-21T07:26:42.616348",
     "exception": true,
     "start_time": "2022-12-21T07:26:33.175913",
     "status": "failed"
    },
    "tags": []
   },
   "outputs": [
    {
     "name": "stderr",
     "output_type": "stream",
     "text": [
      "Some weights of the model checkpoint at distilroberta-base were not used when initializing RobertaModel: ['lm_head.dense.weight', 'lm_head.decoder.weight', 'lm_head.dense.bias', 'lm_head.layer_norm.weight', 'lm_head.bias', 'lm_head.layer_norm.bias']\n",
      "- This IS expected if you are initializing RobertaModel from the checkpoint of a model trained on another task or with another architecture (e.g. initializing a BertForSequenceClassification model from a BertForPreTraining model).\n",
      "- This IS NOT expected if you are initializing RobertaModel from the checkpoint of a model that you expect to be exactly identical (initializing a BertForSequenceClassification model from a BertForSequenceClassification model).\n",
      "Some weights of the model checkpoint at distilroberta-base were not used when initializing RobertaModel: ['lm_head.dense.weight', 'lm_head.decoder.weight', 'lm_head.dense.bias', 'lm_head.layer_norm.weight', 'lm_head.bias', 'lm_head.layer_norm.bias']\n",
      "- This IS expected if you are initializing RobertaModel from the checkpoint of a model trained on another task or with another architecture (e.g. initializing a BertForSequenceClassification model from a BertForPreTraining model).\n",
      "- This IS NOT expected if you are initializing RobertaModel from the checkpoint of a model that you expect to be exactly identical (initializing a BertForSequenceClassification model from a BertForSequenceClassification model).\n",
      "Some weights of RobertaForCausalLM were not initialized from the model checkpoint at distilroberta-base and are newly initialized: ['roberta.encoder.layer.4.crossattention.self.query.weight', 'roberta.encoder.layer.4.crossattention.output.LayerNorm.weight', 'roberta.encoder.layer.3.crossattention.self.value.weight', 'roberta.encoder.layer.1.crossattention.self.query.bias', 'roberta.encoder.layer.4.crossattention.output.dense.weight', 'roberta.encoder.layer.4.crossattention.self.query.bias', 'roberta.encoder.layer.3.crossattention.self.value.bias', 'roberta.encoder.layer.2.crossattention.output.LayerNorm.weight', 'roberta.encoder.layer.3.crossattention.self.key.bias', 'roberta.encoder.layer.5.crossattention.self.query.weight', 'roberta.encoder.layer.2.crossattention.output.LayerNorm.bias', 'roberta.encoder.layer.4.crossattention.self.value.bias', 'roberta.encoder.layer.5.crossattention.output.dense.bias', 'roberta.encoder.layer.2.crossattention.self.value.weight', 'roberta.encoder.layer.1.crossattention.self.value.weight', 'roberta.encoder.layer.4.crossattention.self.key.bias', 'roberta.encoder.layer.2.crossattention.self.key.bias', 'roberta.encoder.layer.5.crossattention.self.key.bias', 'roberta.encoder.layer.2.crossattention.self.query.weight', 'roberta.encoder.layer.2.crossattention.output.dense.weight', 'roberta.encoder.layer.4.crossattention.self.key.weight', 'roberta.encoder.layer.3.crossattention.self.query.bias', 'roberta.encoder.layer.3.crossattention.self.key.weight', 'roberta.encoder.layer.5.crossattention.output.dense.weight', 'roberta.encoder.layer.5.crossattention.self.query.bias', 'roberta.encoder.layer.3.crossattention.output.dense.weight', 'roberta.encoder.layer.2.crossattention.self.key.weight', 'roberta.encoder.layer.2.crossattention.output.dense.bias', 'roberta.encoder.layer.4.crossattention.output.dense.bias', 'roberta.encoder.layer.0.crossattention.self.value.bias', 'roberta.encoder.layer.1.crossattention.self.key.weight', 'roberta.encoder.layer.5.crossattention.self.key.weight', 'roberta.encoder.layer.1.crossattention.self.value.bias', 'roberta.encoder.layer.4.crossattention.self.value.weight', 'roberta.encoder.layer.1.crossattention.output.LayerNorm.bias', 'roberta.encoder.layer.0.crossattention.self.key.bias', 'roberta.encoder.layer.5.crossattention.self.value.bias', 'roberta.encoder.layer.0.crossattention.self.key.weight', 'roberta.encoder.layer.5.crossattention.output.LayerNorm.bias', 'roberta.encoder.layer.0.crossattention.output.dense.bias', 'roberta.encoder.layer.1.crossattention.self.key.bias', 'roberta.encoder.layer.1.crossattention.output.dense.bias', 'roberta.encoder.layer.1.crossattention.output.LayerNorm.weight', 'roberta.encoder.layer.3.crossattention.output.LayerNorm.weight', 'roberta.encoder.layer.2.crossattention.self.value.bias', 'roberta.encoder.layer.5.crossattention.output.LayerNorm.weight', 'roberta.encoder.layer.1.crossattention.self.query.weight', 'roberta.encoder.layer.3.crossattention.output.LayerNorm.bias', 'roberta.encoder.layer.0.crossattention.self.query.weight', 'roberta.encoder.layer.0.crossattention.self.value.weight', 'roberta.encoder.layer.0.crossattention.output.dense.weight', 'roberta.encoder.layer.1.crossattention.output.dense.weight', 'roberta.encoder.layer.3.crossattention.output.dense.bias', 'roberta.encoder.layer.4.crossattention.output.LayerNorm.bias', 'roberta.encoder.layer.0.crossattention.output.LayerNorm.weight', 'roberta.encoder.layer.0.crossattention.output.LayerNorm.bias', 'roberta.encoder.layer.3.crossattention.self.query.weight', 'roberta.encoder.layer.5.crossattention.self.value.weight', 'roberta.encoder.layer.2.crossattention.self.query.bias', 'roberta.encoder.layer.0.crossattention.self.query.bias']\n",
      "You should probably TRAIN this model on a down-stream task to be able to use it for predictions and inference.\n"
     ]
    },
    {
     "ename": "FileNotFoundError",
     "evalue": "[Errno 2] No such file or directory: 'weigths\\\\PQ\\\\seed42/distilroberta-base.pt'",
     "output_type": "error",
     "traceback": [
      "\u001b[0;31m---------------------------------------------------------------------------\u001b[0m",
      "\u001b[0;31mFileNotFoundError\u001b[0m                         Traceback (most recent call last)",
      "\u001b[0;32m/tmp/ipykernel_23/2013940299.py\u001b[0m in \u001b[0;36m<module>\u001b[0;34m\u001b[0m\n\u001b[1;32m      7\u001b[0m \u001b[0mmodel\u001b[0m \u001b[0;34m=\u001b[0m \u001b[0mModel\u001b[0m\u001b[0;34m(\u001b[0m\u001b[0mmodel_name\u001b[0m\u001b[0;34m=\u001b[0m\u001b[0mmodel_name\u001b[0m\u001b[0;34m,\u001b[0m \u001b[0mdevice\u001b[0m\u001b[0;34m=\u001b[0m\u001b[0;34m'cuda'\u001b[0m\u001b[0;34m)\u001b[0m\u001b[0;34m\u001b[0m\u001b[0;34m\u001b[0m\u001b[0m\n\u001b[1;32m      8\u001b[0m \u001b[0;34m\u001b[0m\u001b[0m\n\u001b[0;32m----> 9\u001b[0;31m \u001b[0mmodel\u001b[0m\u001b[0;34m.\u001b[0m\u001b[0mload_state_dict\u001b[0m\u001b[0;34m(\u001b[0m\u001b[0mtorch\u001b[0m\u001b[0;34m.\u001b[0m\u001b[0mload\u001b[0m\u001b[0;34m(\u001b[0m\u001b[0;34mf\"{folder_name}/{model_name.replace('/','_')}.pt\"\u001b[0m\u001b[0;34m)\u001b[0m\u001b[0;34m)\u001b[0m\u001b[0;34m\u001b[0m\u001b[0;34m\u001b[0m\u001b[0m\n\u001b[0m",
      "\u001b[0;32m/opt/conda/lib/python3.7/site-packages/torch/serialization.py\u001b[0m in \u001b[0;36mload\u001b[0;34m(f, map_location, pickle_module, **pickle_load_args)\u001b[0m\n\u001b[1;32m    697\u001b[0m         \u001b[0mpickle_load_args\u001b[0m\u001b[0;34m[\u001b[0m\u001b[0;34m'encoding'\u001b[0m\u001b[0;34m]\u001b[0m \u001b[0;34m=\u001b[0m \u001b[0;34m'utf-8'\u001b[0m\u001b[0;34m\u001b[0m\u001b[0;34m\u001b[0m\u001b[0m\n\u001b[1;32m    698\u001b[0m \u001b[0;34m\u001b[0m\u001b[0m\n\u001b[0;32m--> 699\u001b[0;31m     \u001b[0;32mwith\u001b[0m \u001b[0m_open_file_like\u001b[0m\u001b[0;34m(\u001b[0m\u001b[0mf\u001b[0m\u001b[0;34m,\u001b[0m \u001b[0;34m'rb'\u001b[0m\u001b[0;34m)\u001b[0m \u001b[0;32mas\u001b[0m \u001b[0mopened_file\u001b[0m\u001b[0;34m:\u001b[0m\u001b[0;34m\u001b[0m\u001b[0;34m\u001b[0m\u001b[0m\n\u001b[0m\u001b[1;32m    700\u001b[0m         \u001b[0;32mif\u001b[0m \u001b[0m_is_zipfile\u001b[0m\u001b[0;34m(\u001b[0m\u001b[0mopened_file\u001b[0m\u001b[0;34m)\u001b[0m\u001b[0;34m:\u001b[0m\u001b[0;34m\u001b[0m\u001b[0;34m\u001b[0m\u001b[0m\n\u001b[1;32m    701\u001b[0m             \u001b[0;31m# The zipfile reader is going to advance the current file position.\u001b[0m\u001b[0;34m\u001b[0m\u001b[0;34m\u001b[0m\u001b[0;34m\u001b[0m\u001b[0m\n",
      "\u001b[0;32m/opt/conda/lib/python3.7/site-packages/torch/serialization.py\u001b[0m in \u001b[0;36m_open_file_like\u001b[0;34m(name_or_buffer, mode)\u001b[0m\n\u001b[1;32m    229\u001b[0m \u001b[0;32mdef\u001b[0m \u001b[0m_open_file_like\u001b[0m\u001b[0;34m(\u001b[0m\u001b[0mname_or_buffer\u001b[0m\u001b[0;34m,\u001b[0m \u001b[0mmode\u001b[0m\u001b[0;34m)\u001b[0m\u001b[0;34m:\u001b[0m\u001b[0;34m\u001b[0m\u001b[0;34m\u001b[0m\u001b[0m\n\u001b[1;32m    230\u001b[0m     \u001b[0;32mif\u001b[0m \u001b[0m_is_path\u001b[0m\u001b[0;34m(\u001b[0m\u001b[0mname_or_buffer\u001b[0m\u001b[0;34m)\u001b[0m\u001b[0;34m:\u001b[0m\u001b[0;34m\u001b[0m\u001b[0;34m\u001b[0m\u001b[0m\n\u001b[0;32m--> 231\u001b[0;31m         \u001b[0;32mreturn\u001b[0m \u001b[0m_open_file\u001b[0m\u001b[0;34m(\u001b[0m\u001b[0mname_or_buffer\u001b[0m\u001b[0;34m,\u001b[0m \u001b[0mmode\u001b[0m\u001b[0;34m)\u001b[0m\u001b[0;34m\u001b[0m\u001b[0;34m\u001b[0m\u001b[0m\n\u001b[0m\u001b[1;32m    232\u001b[0m     \u001b[0;32melse\u001b[0m\u001b[0;34m:\u001b[0m\u001b[0;34m\u001b[0m\u001b[0;34m\u001b[0m\u001b[0m\n\u001b[1;32m    233\u001b[0m         \u001b[0;32mif\u001b[0m \u001b[0;34m'w'\u001b[0m \u001b[0;32min\u001b[0m \u001b[0mmode\u001b[0m\u001b[0;34m:\u001b[0m\u001b[0;34m\u001b[0m\u001b[0;34m\u001b[0m\u001b[0m\n",
      "\u001b[0;32m/opt/conda/lib/python3.7/site-packages/torch/serialization.py\u001b[0m in \u001b[0;36m__init__\u001b[0;34m(self, name, mode)\u001b[0m\n\u001b[1;32m    210\u001b[0m \u001b[0;32mclass\u001b[0m \u001b[0m_open_file\u001b[0m\u001b[0;34m(\u001b[0m\u001b[0m_opener\u001b[0m\u001b[0;34m)\u001b[0m\u001b[0;34m:\u001b[0m\u001b[0;34m\u001b[0m\u001b[0;34m\u001b[0m\u001b[0m\n\u001b[1;32m    211\u001b[0m     \u001b[0;32mdef\u001b[0m \u001b[0m__init__\u001b[0m\u001b[0;34m(\u001b[0m\u001b[0mself\u001b[0m\u001b[0;34m,\u001b[0m \u001b[0mname\u001b[0m\u001b[0;34m,\u001b[0m \u001b[0mmode\u001b[0m\u001b[0;34m)\u001b[0m\u001b[0;34m:\u001b[0m\u001b[0;34m\u001b[0m\u001b[0;34m\u001b[0m\u001b[0m\n\u001b[0;32m--> 212\u001b[0;31m         \u001b[0msuper\u001b[0m\u001b[0;34m(\u001b[0m\u001b[0m_open_file\u001b[0m\u001b[0;34m,\u001b[0m \u001b[0mself\u001b[0m\u001b[0;34m)\u001b[0m\u001b[0;34m.\u001b[0m\u001b[0m__init__\u001b[0m\u001b[0;34m(\u001b[0m\u001b[0mopen\u001b[0m\u001b[0;34m(\u001b[0m\u001b[0mname\u001b[0m\u001b[0;34m,\u001b[0m \u001b[0mmode\u001b[0m\u001b[0;34m)\u001b[0m\u001b[0;34m)\u001b[0m\u001b[0;34m\u001b[0m\u001b[0;34m\u001b[0m\u001b[0m\n\u001b[0m\u001b[1;32m    213\u001b[0m \u001b[0;34m\u001b[0m\u001b[0m\n\u001b[1;32m    214\u001b[0m     \u001b[0;32mdef\u001b[0m \u001b[0m__exit__\u001b[0m\u001b[0;34m(\u001b[0m\u001b[0mself\u001b[0m\u001b[0;34m,\u001b[0m \u001b[0;34m*\u001b[0m\u001b[0margs\u001b[0m\u001b[0;34m)\u001b[0m\u001b[0;34m:\u001b[0m\u001b[0;34m\u001b[0m\u001b[0;34m\u001b[0m\u001b[0m\n",
      "\u001b[0;31mFileNotFoundError\u001b[0m: [Errno 2] No such file or directory: 'weigths\\\\PQ\\\\seed42/distilroberta-base.pt'"
     ]
    }
   ],
   "source": [
    "if use_history:\n",
    "    folder_name = 'weigths\\PQH\\seed'+str(seed)\n",
    "else:\n",
    "    folder_name = 'weigths\\PQ\\seed'+str(seed)\n",
    "\n",
    "set_random_seed(seed)\n",
    "model = Model(model_name=model_name, device='cuda')\n",
    "\n",
    "model.load_state_dict(torch.load(f\"{folder_name}/{model_name.replace('/','_')}.pt\"))"
   ]
  },
  {
   "cell_type": "code",
   "execution_count": null,
   "id": "5edcfe34",
   "metadata": {
    "papermill": {
     "duration": null,
     "end_time": null,
     "exception": null,
     "start_time": null,
     "status": "pending"
    },
    "tags": []
   },
   "outputs": [],
   "source": [
    "from utils.squad import _compute_squad_f1\n",
    "from tqdm import tqdm\n",
    "\n",
    "def get_worst_answers(model: Model, df_source, use_history: bool = False, k=5, min_answer_length=1):\n",
    "    # (f1, question, passage, history if, gold_answer, pred_answer)\n",
    "    worst_answers = []\n",
    "\n",
    "    torch.cuda.empty_cache()\n",
    "\n",
    "    source_dataloader = get_dataloader(df=df_source, batch_size=16)\n",
    "\n",
    "    for batch_idx, data in tqdm(enumerate(source_dataloader, 0)):\n",
    "        \n",
    "        with torch.no_grad():\n",
    "            # get the inputs; data is a list of [inputs, labels]\n",
    "            (passage, question, history), (answer, _, _) = data\n",
    "            \n",
    "            pred = model.generate(passage,question,history if use_history else None)\n",
    "            \n",
    "            if min_answer_length > 1:\n",
    "                mask = np.array([len(predicted.split(' ')) >= min_answer_length for predicted in pred])\n",
    "                passage = np.array(passage)[mask]\n",
    "                question = np.array(question)[mask]\n",
    "                history = np.array(history)[mask]\n",
    "                answer = np.array(answer)[mask]\n",
    "                pred = np.array(pred)[mask]\n",
    "\n",
    "            f1_scores = np.array([_compute_squad_f1(gold,predicet) for gold, predicet in zip(answer,pred)])\n",
    "            samples_indices = np.argsort(f1_scores)[:k]\n",
    "\n",
    "            worst_answers += [(f1_scores[sample_idx], question[sample_idx], passage[sample_idx], history[sample_idx], \n",
    "                               answer[sample_idx], pred[sample_idx]) \n",
    "                              for sample_idx in samples_indices]\n",
    "            worst_answers = sorted(worst_answers)[:k]\n",
    "    \n",
    "    return worst_answers"
   ]
  },
  {
   "cell_type": "code",
   "execution_count": null,
   "id": "f553f937",
   "metadata": {
    "papermill": {
     "duration": null,
     "end_time": null,
     "exception": null,
     "start_time": null,
     "status": "pending"
    },
    "tags": []
   },
   "outputs": [],
   "source": [
    "it = iter(test_df.groupby(by=['source']))\n",
    "next(it)\n",
    "#next(it)\n",
    "df_source = next(it)[1]"
   ]
  },
  {
   "cell_type": "code",
   "execution_count": null,
   "id": "50ac6d09",
   "metadata": {
    "papermill": {
     "duration": null,
     "end_time": null,
     "exception": null,
     "start_time": null,
     "status": "pending"
    },
    "tags": []
   },
   "outputs": [],
   "source": [
    "df_source.info()"
   ]
  },
  {
   "cell_type": "code",
   "execution_count": null,
   "id": "7ad0663b",
   "metadata": {
    "papermill": {
     "duration": null,
     "end_time": null,
     "exception": null,
     "start_time": null,
     "status": "pending"
    },
    "tags": []
   },
   "outputs": [],
   "source": [
    "source_dataloader = get_dataloader(df=df_source, batch_size=16)"
   ]
  },
  {
   "cell_type": "code",
   "execution_count": null,
   "id": "a00d441e",
   "metadata": {
    "papermill": {
     "duration": null,
     "end_time": null,
     "exception": null,
     "start_time": null,
     "status": "pending"
    },
    "tags": []
   },
   "outputs": [],
   "source": [
    "len(source_dataloader)"
   ]
  },
  {
   "cell_type": "code",
   "execution_count": null,
   "id": "0ccefa97",
   "metadata": {
    "papermill": {
     "duration": null,
     "end_time": null,
     "exception": null,
     "start_time": null,
     "status": "pending"
    },
    "tags": []
   },
   "outputs": [],
   "source": [
    "a = get_worst_answers(model, df_source)"
   ]
  },
  {
   "cell_type": "code",
   "execution_count": null,
   "id": "6fc9af74",
   "metadata": {
    "papermill": {
     "duration": null,
     "end_time": null,
     "exception": null,
     "start_time": null,
     "status": "pending"
    },
    "tags": []
   },
   "outputs": [],
   "source": [
    "a"
   ]
  },
  {
   "cell_type": "code",
   "execution_count": null,
   "id": "f8d94ddb",
   "metadata": {
    "papermill": {
     "duration": null,
     "end_time": null,
     "exception": null,
     "start_time": null,
     "status": "pending"
    },
    "tags": []
   },
   "outputs": [],
   "source": [
    "it = iter(train_df.groupby(by=['source']))\n",
    "next(it)\n",
    "df_source = next(it)[1]"
   ]
  },
  {
   "cell_type": "code",
   "execution_count": null,
   "id": "2663035d",
   "metadata": {
    "papermill": {
     "duration": null,
     "end_time": null,
     "exception": null,
     "start_time": null,
     "status": "pending"
    },
    "tags": []
   },
   "outputs": [],
   "source": [
    "#a = get_worst_answers(M2, df_source)"
   ]
  },
  {
   "cell_type": "code",
   "execution_count": null,
   "id": "f9ece58c",
   "metadata": {
    "papermill": {
     "duration": null,
     "end_time": null,
     "exception": null,
     "start_time": null,
     "status": "pending"
    },
    "tags": []
   },
   "outputs": [],
   "source": [
    "#a"
   ]
  },
  {
   "cell_type": "code",
   "execution_count": null,
   "id": "549c48f5",
   "metadata": {
    "papermill": {
     "duration": null,
     "end_time": null,
     "exception": null,
     "start_time": null,
     "status": "pending"
    },
    "tags": []
   },
   "outputs": [],
   "source": []
  },
  {
   "cell_type": "code",
   "execution_count": null,
   "id": "b950e914",
   "metadata": {
    "papermill": {
     "duration": null,
     "end_time": null,
     "exception": null,
     "start_time": null,
     "status": "pending"
    },
    "tags": []
   },
   "outputs": [],
   "source": []
  },
  {
   "cell_type": "code",
   "execution_count": null,
   "id": "5a518f27",
   "metadata": {
    "papermill": {
     "duration": null,
     "end_time": null,
     "exception": null,
     "start_time": null,
     "status": "pending"
    },
    "tags": []
   },
   "outputs": [],
   "source": [
    "def show_token_importances(model, question, passage, span_start, span_end, history=None):\n",
    "\n",
    "    token_importances = model.compute_token_importances(passage, question, span_start, span_end, history)\n",
    "\n",
    "    y = np.zeros(shape=(token_importances.shape[1],))\n",
    "\n",
    "    y[span_start : span_end] = 1\n",
    "\n",
    "\n",
    "\n",
    "    plt.plot(token_importances.cpu().detach()[0])\n",
    "    plt.plot(y)\n",
    "\n",
    "    plt.show()"
   ]
  },
  {
   "cell_type": "code",
   "execution_count": null,
   "id": "32c61eb2",
   "metadata": {
    "papermill": {
     "duration": null,
     "end_time": null,
     "exception": null,
     "start_time": null,
     "status": "pending"
    },
    "tags": []
   },
   "outputs": [],
   "source": [
    "r = test_df.iloc[0]\n",
    "show_token_importances(model, r['question'], r['story'], r['answer_span_start'],  r['answer_span_end'])"
   ]
  }
 ],
 "metadata": {
  "kernelspec": {
   "display_name": "Python 3",
   "language": "python",
   "name": "python3"
  },
  "language_info": {
   "codemirror_mode": {
    "name": "ipython",
    "version": 3
   },
   "file_extension": ".py",
   "mimetype": "text/x-python",
   "name": "python",
   "nbconvert_exporter": "python",
   "pygments_lexer": "ipython3",
   "version": "3.7.12"
  },
  "papermill": {
   "default_parameters": {},
   "duration": 18488.878919,
   "end_time": "2022-12-21T07:26:45.938030",
   "environment_variables": {},
   "exception": true,
   "input_path": "__notebook__.ipynb",
   "output_path": "__notebook__.ipynb",
   "parameters": {},
   "start_time": "2022-12-21T02:18:37.059111",
   "version": "2.3.4"
  },
  "widgets": {
   "application/vnd.jupyter.widget-state+json": {
    "state": {
     "0b554c4348a549ba99c3f119f5adadb3": {
      "model_module": "@jupyter-widgets/controls",
      "model_module_version": "1.5.0",
      "model_name": "HBoxModel",
      "state": {
       "_dom_classes": [],
       "_model_module": "@jupyter-widgets/controls",
       "_model_module_version": "1.5.0",
       "_model_name": "HBoxModel",
       "_view_count": null,
       "_view_module": "@jupyter-widgets/controls",
       "_view_module_version": "1.5.0",
       "_view_name": "HBoxView",
       "box_style": "",
       "children": [
        "IPY_MODEL_c5422b7e1b2747b096b1d661e443fff2",
        "IPY_MODEL_bfdffbac5e91464d929bdcd67034fb4d",
        "IPY_MODEL_fa139c7a53054c4fb5bf892fb688973d"
       ],
       "layout": "IPY_MODEL_4020af0bcad747e7ac42a98898a04382"
      }
     },
     "155d979d8fe5472a9a078fbcdad0e76f": {
      "model_module": "@jupyter-widgets/controls",
      "model_module_version": "1.5.0",
      "model_name": "HBoxModel",
      "state": {
       "_dom_classes": [],
       "_model_module": "@jupyter-widgets/controls",
       "_model_module_version": "1.5.0",
       "_model_name": "HBoxModel",
       "_view_count": null,
       "_view_module": "@jupyter-widgets/controls",
       "_view_module_version": "1.5.0",
       "_view_name": "HBoxView",
       "box_style": "",
       "children": [
        "IPY_MODEL_fb9f385b8b85477cbc5c7f35af9fa86a",
        "IPY_MODEL_ef19c559050c4209b0ca98a103c2c1ab",
        "IPY_MODEL_4ff738d212994a8babf3f74cb96bbbc5"
       ],
       "layout": "IPY_MODEL_67dc2253840f4afab2fbb6a1d30d8b6c"
      }
     },
     "186fb008af234564adcde41c48b3f220": {
      "model_module": "@jupyter-widgets/controls",
      "model_module_version": "1.5.0",
      "model_name": "DescriptionStyleModel",
      "state": {
       "_model_module": "@jupyter-widgets/controls",
       "_model_module_version": "1.5.0",
       "_model_name": "DescriptionStyleModel",
       "_view_count": null,
       "_view_module": "@jupyter-widgets/base",
       "_view_module_version": "1.2.0",
       "_view_name": "StyleView",
       "description_width": ""
      }
     },
     "1ec753033e584d99b511e8534c3f8abb": {
      "model_module": "@jupyter-widgets/controls",
      "model_module_version": "1.5.0",
      "model_name": "HTMLModel",
      "state": {
       "_dom_classes": [],
       "_model_module": "@jupyter-widgets/controls",
       "_model_module_version": "1.5.0",
       "_model_name": "HTMLModel",
       "_view_count": null,
       "_view_module": "@jupyter-widgets/controls",
       "_view_module_version": "1.5.0",
       "_view_name": "HTMLView",
       "description": "",
       "description_tooltip": null,
       "layout": "IPY_MODEL_6832fc98f3de49048f5cc3df939d1e24",
       "placeholder": "​",
       "style": "IPY_MODEL_859a9e365e714999b5770516608654ff",
       "value": "Downloading: 100%"
      }
     },
     "21c9ea7397184b2dbc6296b4938f609d": {
      "model_module": "@jupyter-widgets/controls",
      "model_module_version": "1.5.0",
      "model_name": "HTMLModel",
      "state": {
       "_dom_classes": [],
       "_model_module": "@jupyter-widgets/controls",
       "_model_module_version": "1.5.0",
       "_model_name": "HTMLModel",
       "_view_count": null,
       "_view_module": "@jupyter-widgets/controls",
       "_view_module_version": "1.5.0",
       "_view_name": "HTMLView",
       "description": "",
       "description_tooltip": null,
       "layout": "IPY_MODEL_7094d653e69948c9b3044a6be197c0c7",
       "placeholder": "​",
       "style": "IPY_MODEL_6e4cc6f07a614296bf5666ec74edecc5",
       "value": "Downloading: 100%"
      }
     },
     "28afe96c748e40c28eb35a6d893fe71a": {
      "model_module": "@jupyter-widgets/controls",
      "model_module_version": "1.5.0",
      "model_name": "HTMLModel",
      "state": {
       "_dom_classes": [],
       "_model_module": "@jupyter-widgets/controls",
       "_model_module_version": "1.5.0",
       "_model_name": "HTMLModel",
       "_view_count": null,
       "_view_module": "@jupyter-widgets/controls",
       "_view_module_version": "1.5.0",
       "_view_name": "HTMLView",
       "description": "",
       "description_tooltip": null,
       "layout": "IPY_MODEL_b79e8c8d16cf4da79ce6b5973aa90c08",
       "placeholder": "​",
       "style": "IPY_MODEL_186fb008af234564adcde41c48b3f220",
       "value": " 480/480 [00:00&lt;00:00, 7.01kB/s]"
      }
     },
     "29ae6a60098e4e2f931664f37437aba0": {
      "model_module": "@jupyter-widgets/controls",
      "model_module_version": "1.5.0",
      "model_name": "DescriptionStyleModel",
      "state": {
       "_model_module": "@jupyter-widgets/controls",
       "_model_module_version": "1.5.0",
       "_model_name": "DescriptionStyleModel",
       "_view_count": null,
       "_view_module": "@jupyter-widgets/base",
       "_view_module_version": "1.2.0",
       "_view_name": "StyleView",
       "description_width": ""
      }
     },
     "2b729b54771b446a8b23653c22c342d5": {
      "model_module": "@jupyter-widgets/base",
      "model_module_version": "1.2.0",
      "model_name": "LayoutModel",
      "state": {
       "_model_module": "@jupyter-widgets/base",
       "_model_module_version": "1.2.0",
       "_model_name": "LayoutModel",
       "_view_count": null,
       "_view_module": "@jupyter-widgets/base",
       "_view_module_version": "1.2.0",
       "_view_name": "LayoutView",
       "align_content": null,
       "align_items": null,
       "align_self": null,
       "border": null,
       "bottom": null,
       "display": null,
       "flex": null,
       "flex_flow": null,
       "grid_area": null,
       "grid_auto_columns": null,
       "grid_auto_flow": null,
       "grid_auto_rows": null,
       "grid_column": null,
       "grid_gap": null,
       "grid_row": null,
       "grid_template_areas": null,
       "grid_template_columns": null,
       "grid_template_rows": null,
       "height": null,
       "justify_content": null,
       "justify_items": null,
       "left": null,
       "margin": null,
       "max_height": null,
       "max_width": null,
       "min_height": null,
       "min_width": null,
       "object_fit": null,
       "object_position": null,
       "order": null,
       "overflow": null,
       "overflow_x": null,
       "overflow_y": null,
       "padding": null,
       "right": null,
       "top": null,
       "visibility": null,
       "width": null
      }
     },
     "2d3cad8e29434c5cb242a4f891fac609": {
      "model_module": "@jupyter-widgets/controls",
      "model_module_version": "1.5.0",
      "model_name": "ProgressStyleModel",
      "state": {
       "_model_module": "@jupyter-widgets/controls",
       "_model_module_version": "1.5.0",
       "_model_name": "ProgressStyleModel",
       "_view_count": null,
       "_view_module": "@jupyter-widgets/base",
       "_view_module_version": "1.2.0",
       "_view_name": "StyleView",
       "bar_color": null,
       "description_width": ""
      }
     },
     "2f80fa57e3b340d6aa0368f9e43493a9": {
      "model_module": "@jupyter-widgets/controls",
      "model_module_version": "1.5.0",
      "model_name": "HTMLModel",
      "state": {
       "_dom_classes": [],
       "_model_module": "@jupyter-widgets/controls",
       "_model_module_version": "1.5.0",
       "_model_name": "HTMLModel",
       "_view_count": null,
       "_view_module": "@jupyter-widgets/controls",
       "_view_module_version": "1.5.0",
       "_view_name": "HTMLView",
       "description": "",
       "description_tooltip": null,
       "layout": "IPY_MODEL_2b729b54771b446a8b23653c22c342d5",
       "placeholder": "​",
       "style": "IPY_MODEL_3d7672ba7afe43058ddfeccea43c156c",
       "value": " 878k/878k [00:00&lt;00:00, 2.15MB/s]"
      }
     },
     "338897a020384965bcd458a893d59a1a": {
      "model_module": "@jupyter-widgets/base",
      "model_module_version": "1.2.0",
      "model_name": "LayoutModel",
      "state": {
       "_model_module": "@jupyter-widgets/base",
       "_model_module_version": "1.2.0",
       "_model_name": "LayoutModel",
       "_view_count": null,
       "_view_module": "@jupyter-widgets/base",
       "_view_module_version": "1.2.0",
       "_view_name": "LayoutView",
       "align_content": null,
       "align_items": null,
       "align_self": null,
       "border": null,
       "bottom": null,
       "display": null,
       "flex": null,
       "flex_flow": null,
       "grid_area": null,
       "grid_auto_columns": null,
       "grid_auto_flow": null,
       "grid_auto_rows": null,
       "grid_column": null,
       "grid_gap": null,
       "grid_row": null,
       "grid_template_areas": null,
       "grid_template_columns": null,
       "grid_template_rows": null,
       "height": null,
       "justify_content": null,
       "justify_items": null,
       "left": null,
       "margin": null,
       "max_height": null,
       "max_width": null,
       "min_height": null,
       "min_width": null,
       "object_fit": null,
       "object_position": null,
       "order": null,
       "overflow": null,
       "overflow_x": null,
       "overflow_y": null,
       "padding": null,
       "right": null,
       "top": null,
       "visibility": null,
       "width": null
      }
     },
     "34048132681443b697a54a33c6714c22": {
      "model_module": "@jupyter-widgets/controls",
      "model_module_version": "1.5.0",
      "model_name": "ProgressStyleModel",
      "state": {
       "_model_module": "@jupyter-widgets/controls",
       "_model_module_version": "1.5.0",
       "_model_name": "ProgressStyleModel",
       "_view_count": null,
       "_view_module": "@jupyter-widgets/base",
       "_view_module_version": "1.2.0",
       "_view_name": "StyleView",
       "bar_color": null,
       "description_width": ""
      }
     },
     "3b5c37d7f72e4c40ad4691a7b6b868d7": {
      "model_module": "@jupyter-widgets/base",
      "model_module_version": "1.2.0",
      "model_name": "LayoutModel",
      "state": {
       "_model_module": "@jupyter-widgets/base",
       "_model_module_version": "1.2.0",
       "_model_name": "LayoutModel",
       "_view_count": null,
       "_view_module": "@jupyter-widgets/base",
       "_view_module_version": "1.2.0",
       "_view_name": "LayoutView",
       "align_content": null,
       "align_items": null,
       "align_self": null,
       "border": null,
       "bottom": null,
       "display": null,
       "flex": null,
       "flex_flow": null,
       "grid_area": null,
       "grid_auto_columns": null,
       "grid_auto_flow": null,
       "grid_auto_rows": null,
       "grid_column": null,
       "grid_gap": null,
       "grid_row": null,
       "grid_template_areas": null,
       "grid_template_columns": null,
       "grid_template_rows": null,
       "height": null,
       "justify_content": null,
       "justify_items": null,
       "left": null,
       "margin": null,
       "max_height": null,
       "max_width": null,
       "min_height": null,
       "min_width": null,
       "object_fit": null,
       "object_position": null,
       "order": null,
       "overflow": null,
       "overflow_x": null,
       "overflow_y": null,
       "padding": null,
       "right": null,
       "top": null,
       "visibility": null,
       "width": null
      }
     },
     "3d7672ba7afe43058ddfeccea43c156c": {
      "model_module": "@jupyter-widgets/controls",
      "model_module_version": "1.5.0",
      "model_name": "DescriptionStyleModel",
      "state": {
       "_model_module": "@jupyter-widgets/controls",
       "_model_module_version": "1.5.0",
       "_model_name": "DescriptionStyleModel",
       "_view_count": null,
       "_view_module": "@jupyter-widgets/base",
       "_view_module_version": "1.2.0",
       "_view_name": "StyleView",
       "description_width": ""
      }
     },
     "3ebf73705e03458692b6113a5675d4b0": {
      "model_module": "@jupyter-widgets/controls",
      "model_module_version": "1.5.0",
      "model_name": "ProgressStyleModel",
      "state": {
       "_model_module": "@jupyter-widgets/controls",
       "_model_module_version": "1.5.0",
       "_model_name": "ProgressStyleModel",
       "_view_count": null,
       "_view_module": "@jupyter-widgets/base",
       "_view_module_version": "1.2.0",
       "_view_name": "StyleView",
       "bar_color": null,
       "description_width": ""
      }
     },
     "4020af0bcad747e7ac42a98898a04382": {
      "model_module": "@jupyter-widgets/base",
      "model_module_version": "1.2.0",
      "model_name": "LayoutModel",
      "state": {
       "_model_module": "@jupyter-widgets/base",
       "_model_module_version": "1.2.0",
       "_model_name": "LayoutModel",
       "_view_count": null,
       "_view_module": "@jupyter-widgets/base",
       "_view_module_version": "1.2.0",
       "_view_name": "LayoutView",
       "align_content": null,
       "align_items": null,
       "align_self": null,
       "border": null,
       "bottom": null,
       "display": null,
       "flex": null,
       "flex_flow": null,
       "grid_area": null,
       "grid_auto_columns": null,
       "grid_auto_flow": null,
       "grid_auto_rows": null,
       "grid_column": null,
       "grid_gap": null,
       "grid_row": null,
       "grid_template_areas": null,
       "grid_template_columns": null,
       "grid_template_rows": null,
       "height": null,
       "justify_content": null,
       "justify_items": null,
       "left": null,
       "margin": null,
       "max_height": null,
       "max_width": null,
       "min_height": null,
       "min_width": null,
       "object_fit": null,
       "object_position": null,
       "order": null,
       "overflow": null,
       "overflow_x": null,
       "overflow_y": null,
       "padding": null,
       "right": null,
       "top": null,
       "visibility": null,
       "width": null
      }
     },
     "41a2d3d1668d42529e0622305aabba87": {
      "model_module": "@jupyter-widgets/base",
      "model_module_version": "1.2.0",
      "model_name": "LayoutModel",
      "state": {
       "_model_module": "@jupyter-widgets/base",
       "_model_module_version": "1.2.0",
       "_model_name": "LayoutModel",
       "_view_count": null,
       "_view_module": "@jupyter-widgets/base",
       "_view_module_version": "1.2.0",
       "_view_name": "LayoutView",
       "align_content": null,
       "align_items": null,
       "align_self": null,
       "border": null,
       "bottom": null,
       "display": null,
       "flex": null,
       "flex_flow": null,
       "grid_area": null,
       "grid_auto_columns": null,
       "grid_auto_flow": null,
       "grid_auto_rows": null,
       "grid_column": null,
       "grid_gap": null,
       "grid_row": null,
       "grid_template_areas": null,
       "grid_template_columns": null,
       "grid_template_rows": null,
       "height": null,
       "justify_content": null,
       "justify_items": null,
       "left": null,
       "margin": null,
       "max_height": null,
       "max_width": null,
       "min_height": null,
       "min_width": null,
       "object_fit": null,
       "object_position": null,
       "order": null,
       "overflow": null,
       "overflow_x": null,
       "overflow_y": null,
       "padding": null,
       "right": null,
       "top": null,
       "visibility": null,
       "width": null
      }
     },
     "41ba17034d4b41a0a78f57092f89090b": {
      "model_module": "@jupyter-widgets/controls",
      "model_module_version": "1.5.0",
      "model_name": "DescriptionStyleModel",
      "state": {
       "_model_module": "@jupyter-widgets/controls",
       "_model_module_version": "1.5.0",
       "_model_name": "DescriptionStyleModel",
       "_view_count": null,
       "_view_module": "@jupyter-widgets/base",
       "_view_module_version": "1.2.0",
       "_view_name": "StyleView",
       "description_width": ""
      }
     },
     "463e4659600849268123eb9e2acbb08b": {
      "model_module": "@jupyter-widgets/base",
      "model_module_version": "1.2.0",
      "model_name": "LayoutModel",
      "state": {
       "_model_module": "@jupyter-widgets/base",
       "_model_module_version": "1.2.0",
       "_model_name": "LayoutModel",
       "_view_count": null,
       "_view_module": "@jupyter-widgets/base",
       "_view_module_version": "1.2.0",
       "_view_name": "LayoutView",
       "align_content": null,
       "align_items": null,
       "align_self": null,
       "border": null,
       "bottom": null,
       "display": null,
       "flex": null,
       "flex_flow": null,
       "grid_area": null,
       "grid_auto_columns": null,
       "grid_auto_flow": null,
       "grid_auto_rows": null,
       "grid_column": null,
       "grid_gap": null,
       "grid_row": null,
       "grid_template_areas": null,
       "grid_template_columns": null,
       "grid_template_rows": null,
       "height": null,
       "justify_content": null,
       "justify_items": null,
       "left": null,
       "margin": null,
       "max_height": null,
       "max_width": null,
       "min_height": null,
       "min_width": null,
       "object_fit": null,
       "object_position": null,
       "order": null,
       "overflow": null,
       "overflow_x": null,
       "overflow_y": null,
       "padding": null,
       "right": null,
       "top": null,
       "visibility": null,
       "width": null
      }
     },
     "46fea55f1d364a62a7dd9796ec58ed7d": {
      "model_module": "@jupyter-widgets/base",
      "model_module_version": "1.2.0",
      "model_name": "LayoutModel",
      "state": {
       "_model_module": "@jupyter-widgets/base",
       "_model_module_version": "1.2.0",
       "_model_name": "LayoutModel",
       "_view_count": null,
       "_view_module": "@jupyter-widgets/base",
       "_view_module_version": "1.2.0",
       "_view_name": "LayoutView",
       "align_content": null,
       "align_items": null,
       "align_self": null,
       "border": null,
       "bottom": null,
       "display": null,
       "flex": null,
       "flex_flow": null,
       "grid_area": null,
       "grid_auto_columns": null,
       "grid_auto_flow": null,
       "grid_auto_rows": null,
       "grid_column": null,
       "grid_gap": null,
       "grid_row": null,
       "grid_template_areas": null,
       "grid_template_columns": null,
       "grid_template_rows": null,
       "height": null,
       "justify_content": null,
       "justify_items": null,
       "left": null,
       "margin": null,
       "max_height": null,
       "max_width": null,
       "min_height": null,
       "min_width": null,
       "object_fit": null,
       "object_position": null,
       "order": null,
       "overflow": null,
       "overflow_x": null,
       "overflow_y": null,
       "padding": null,
       "right": null,
       "top": null,
       "visibility": null,
       "width": null
      }
     },
     "4d18ad79e8654eb3989f74975a1766fe": {
      "model_module": "@jupyter-widgets/base",
      "model_module_version": "1.2.0",
      "model_name": "LayoutModel",
      "state": {
       "_model_module": "@jupyter-widgets/base",
       "_model_module_version": "1.2.0",
       "_model_name": "LayoutModel",
       "_view_count": null,
       "_view_module": "@jupyter-widgets/base",
       "_view_module_version": "1.2.0",
       "_view_name": "LayoutView",
       "align_content": null,
       "align_items": null,
       "align_self": null,
       "border": null,
       "bottom": null,
       "display": null,
       "flex": null,
       "flex_flow": null,
       "grid_area": null,
       "grid_auto_columns": null,
       "grid_auto_flow": null,
       "grid_auto_rows": null,
       "grid_column": null,
       "grid_gap": null,
       "grid_row": null,
       "grid_template_areas": null,
       "grid_template_columns": null,
       "grid_template_rows": null,
       "height": null,
       "justify_content": null,
       "justify_items": null,
       "left": null,
       "margin": null,
       "max_height": null,
       "max_width": null,
       "min_height": null,
       "min_width": null,
       "object_fit": null,
       "object_position": null,
       "order": null,
       "overflow": null,
       "overflow_x": null,
       "overflow_y": null,
       "padding": null,
       "right": null,
       "top": null,
       "visibility": null,
       "width": null
      }
     },
     "4ff738d212994a8babf3f74cb96bbbc5": {
      "model_module": "@jupyter-widgets/controls",
      "model_module_version": "1.5.0",
      "model_name": "HTMLModel",
      "state": {
       "_dom_classes": [],
       "_model_module": "@jupyter-widgets/controls",
       "_model_module_version": "1.5.0",
       "_model_name": "HTMLModel",
       "_view_count": null,
       "_view_module": "@jupyter-widgets/controls",
       "_view_module_version": "1.5.0",
       "_view_name": "HTMLView",
       "description": "",
       "description_tooltip": null,
       "layout": "IPY_MODEL_41a2d3d1668d42529e0622305aabba87",
       "placeholder": "​",
       "style": "IPY_MODEL_dbfebabe927c42258da6f947ec810986",
       "value": " 446k/446k [00:00&lt;00:00, 2.65MB/s]"
      }
     },
     "5815bb3decf2407aa2bb236c99006af2": {
      "model_module": "@jupyter-widgets/base",
      "model_module_version": "1.2.0",
      "model_name": "LayoutModel",
      "state": {
       "_model_module": "@jupyter-widgets/base",
       "_model_module_version": "1.2.0",
       "_model_name": "LayoutModel",
       "_view_count": null,
       "_view_module": "@jupyter-widgets/base",
       "_view_module_version": "1.2.0",
       "_view_name": "LayoutView",
       "align_content": null,
       "align_items": null,
       "align_self": null,
       "border": null,
       "bottom": null,
       "display": null,
       "flex": null,
       "flex_flow": null,
       "grid_area": null,
       "grid_auto_columns": null,
       "grid_auto_flow": null,
       "grid_auto_rows": null,
       "grid_column": null,
       "grid_gap": null,
       "grid_row": null,
       "grid_template_areas": null,
       "grid_template_columns": null,
       "grid_template_rows": null,
       "height": null,
       "justify_content": null,
       "justify_items": null,
       "left": null,
       "margin": null,
       "max_height": null,
       "max_width": null,
       "min_height": null,
       "min_width": null,
       "object_fit": null,
       "object_position": null,
       "order": null,
       "overflow": null,
       "overflow_x": null,
       "overflow_y": null,
       "padding": null,
       "right": null,
       "top": null,
       "visibility": null,
       "width": null
      }
     },
     "59b56469ff4a4d35ad3253e2ad5a37ec": {
      "model_module": "@jupyter-widgets/controls",
      "model_module_version": "1.5.0",
      "model_name": "HBoxModel",
      "state": {
       "_dom_classes": [],
       "_model_module": "@jupyter-widgets/controls",
       "_model_module_version": "1.5.0",
       "_model_name": "HBoxModel",
       "_view_count": null,
       "_view_module": "@jupyter-widgets/controls",
       "_view_module_version": "1.5.0",
       "_view_name": "HBoxView",
       "box_style": "",
       "children": [
        "IPY_MODEL_21c9ea7397184b2dbc6296b4938f609d",
        "IPY_MODEL_7eff47ba26fe42bbae2f692c83a50c97",
        "IPY_MODEL_28afe96c748e40c28eb35a6d893fe71a"
       ],
       "layout": "IPY_MODEL_9a08bb34c1fb4980a2bf59f40ee15f0c"
      }
     },
     "67dc2253840f4afab2fbb6a1d30d8b6c": {
      "model_module": "@jupyter-widgets/base",
      "model_module_version": "1.2.0",
      "model_name": "LayoutModel",
      "state": {
       "_model_module": "@jupyter-widgets/base",
       "_model_module_version": "1.2.0",
       "_model_name": "LayoutModel",
       "_view_count": null,
       "_view_module": "@jupyter-widgets/base",
       "_view_module_version": "1.2.0",
       "_view_name": "LayoutView",
       "align_content": null,
       "align_items": null,
       "align_self": null,
       "border": null,
       "bottom": null,
       "display": null,
       "flex": null,
       "flex_flow": null,
       "grid_area": null,
       "grid_auto_columns": null,
       "grid_auto_flow": null,
       "grid_auto_rows": null,
       "grid_column": null,
       "grid_gap": null,
       "grid_row": null,
       "grid_template_areas": null,
       "grid_template_columns": null,
       "grid_template_rows": null,
       "height": null,
       "justify_content": null,
       "justify_items": null,
       "left": null,
       "margin": null,
       "max_height": null,
       "max_width": null,
       "min_height": null,
       "min_width": null,
       "object_fit": null,
       "object_position": null,
       "order": null,
       "overflow": null,
       "overflow_x": null,
       "overflow_y": null,
       "padding": null,
       "right": null,
       "top": null,
       "visibility": null,
       "width": null
      }
     },
     "6832fc98f3de49048f5cc3df939d1e24": {
      "model_module": "@jupyter-widgets/base",
      "model_module_version": "1.2.0",
      "model_name": "LayoutModel",
      "state": {
       "_model_module": "@jupyter-widgets/base",
       "_model_module_version": "1.2.0",
       "_model_name": "LayoutModel",
       "_view_count": null,
       "_view_module": "@jupyter-widgets/base",
       "_view_module_version": "1.2.0",
       "_view_name": "LayoutView",
       "align_content": null,
       "align_items": null,
       "align_self": null,
       "border": null,
       "bottom": null,
       "display": null,
       "flex": null,
       "flex_flow": null,
       "grid_area": null,
       "grid_auto_columns": null,
       "grid_auto_flow": null,
       "grid_auto_rows": null,
       "grid_column": null,
       "grid_gap": null,
       "grid_row": null,
       "grid_template_areas": null,
       "grid_template_columns": null,
       "grid_template_rows": null,
       "height": null,
       "justify_content": null,
       "justify_items": null,
       "left": null,
       "margin": null,
       "max_height": null,
       "max_width": null,
       "min_height": null,
       "min_width": null,
       "object_fit": null,
       "object_position": null,
       "order": null,
       "overflow": null,
       "overflow_x": null,
       "overflow_y": null,
       "padding": null,
       "right": null,
       "top": null,
       "visibility": null,
       "width": null
      }
     },
     "6e4cc6f07a614296bf5666ec74edecc5": {
      "model_module": "@jupyter-widgets/controls",
      "model_module_version": "1.5.0",
      "model_name": "DescriptionStyleModel",
      "state": {
       "_model_module": "@jupyter-widgets/controls",
       "_model_module_version": "1.5.0",
       "_model_name": "DescriptionStyleModel",
       "_view_count": null,
       "_view_module": "@jupyter-widgets/base",
       "_view_module_version": "1.2.0",
       "_view_name": "StyleView",
       "description_width": ""
      }
     },
     "7094d653e69948c9b3044a6be197c0c7": {
      "model_module": "@jupyter-widgets/base",
      "model_module_version": "1.2.0",
      "model_name": "LayoutModel",
      "state": {
       "_model_module": "@jupyter-widgets/base",
       "_model_module_version": "1.2.0",
       "_model_name": "LayoutModel",
       "_view_count": null,
       "_view_module": "@jupyter-widgets/base",
       "_view_module_version": "1.2.0",
       "_view_name": "LayoutView",
       "align_content": null,
       "align_items": null,
       "align_self": null,
       "border": null,
       "bottom": null,
       "display": null,
       "flex": null,
       "flex_flow": null,
       "grid_area": null,
       "grid_auto_columns": null,
       "grid_auto_flow": null,
       "grid_auto_rows": null,
       "grid_column": null,
       "grid_gap": null,
       "grid_row": null,
       "grid_template_areas": null,
       "grid_template_columns": null,
       "grid_template_rows": null,
       "height": null,
       "justify_content": null,
       "justify_items": null,
       "left": null,
       "margin": null,
       "max_height": null,
       "max_width": null,
       "min_height": null,
       "min_width": null,
       "object_fit": null,
       "object_position": null,
       "order": null,
       "overflow": null,
       "overflow_x": null,
       "overflow_y": null,
       "padding": null,
       "right": null,
       "top": null,
       "visibility": null,
       "width": null
      }
     },
     "78085b09b1c940f0af4fd5175fb9c8a4": {
      "model_module": "@jupyter-widgets/controls",
      "model_module_version": "1.5.0",
      "model_name": "DescriptionStyleModel",
      "state": {
       "_model_module": "@jupyter-widgets/controls",
       "_model_module_version": "1.5.0",
       "_model_name": "DescriptionStyleModel",
       "_view_count": null,
       "_view_module": "@jupyter-widgets/base",
       "_view_module_version": "1.2.0",
       "_view_name": "StyleView",
       "description_width": ""
      }
     },
     "7eff47ba26fe42bbae2f692c83a50c97": {
      "model_module": "@jupyter-widgets/controls",
      "model_module_version": "1.5.0",
      "model_name": "FloatProgressModel",
      "state": {
       "_dom_classes": [],
       "_model_module": "@jupyter-widgets/controls",
       "_model_module_version": "1.5.0",
       "_model_name": "FloatProgressModel",
       "_view_count": null,
       "_view_module": "@jupyter-widgets/controls",
       "_view_module_version": "1.5.0",
       "_view_name": "ProgressView",
       "bar_style": "success",
       "description": "",
       "description_tooltip": null,
       "layout": "IPY_MODEL_463e4659600849268123eb9e2acbb08b",
       "max": 480.0,
       "min": 0.0,
       "orientation": "horizontal",
       "style": "IPY_MODEL_2d3cad8e29434c5cb242a4f891fac609",
       "value": 480.0
      }
     },
     "846a0a46ecbd467c933bf30df9e8de5d": {
      "model_module": "@jupyter-widgets/base",
      "model_module_version": "1.2.0",
      "model_name": "LayoutModel",
      "state": {
       "_model_module": "@jupyter-widgets/base",
       "_model_module_version": "1.2.0",
       "_model_name": "LayoutModel",
       "_view_count": null,
       "_view_module": "@jupyter-widgets/base",
       "_view_module_version": "1.2.0",
       "_view_name": "LayoutView",
       "align_content": null,
       "align_items": null,
       "align_self": null,
       "border": null,
       "bottom": null,
       "display": null,
       "flex": null,
       "flex_flow": null,
       "grid_area": null,
       "grid_auto_columns": null,
       "grid_auto_flow": null,
       "grid_auto_rows": null,
       "grid_column": null,
       "grid_gap": null,
       "grid_row": null,
       "grid_template_areas": null,
       "grid_template_columns": null,
       "grid_template_rows": null,
       "height": null,
       "justify_content": null,
       "justify_items": null,
       "left": null,
       "margin": null,
       "max_height": null,
       "max_width": null,
       "min_height": null,
       "min_width": null,
       "object_fit": null,
       "object_position": null,
       "order": null,
       "overflow": null,
       "overflow_x": null,
       "overflow_y": null,
       "padding": null,
       "right": null,
       "top": null,
       "visibility": null,
       "width": null
      }
     },
     "859a9e365e714999b5770516608654ff": {
      "model_module": "@jupyter-widgets/controls",
      "model_module_version": "1.5.0",
      "model_name": "DescriptionStyleModel",
      "state": {
       "_model_module": "@jupyter-widgets/controls",
       "_model_module_version": "1.5.0",
       "_model_name": "DescriptionStyleModel",
       "_view_count": null,
       "_view_module": "@jupyter-widgets/base",
       "_view_module_version": "1.2.0",
       "_view_name": "StyleView",
       "description_width": ""
      }
     },
     "85ed6f152e4749cfb4304878b9bfeb2b": {
      "model_module": "@jupyter-widgets/controls",
      "model_module_version": "1.5.0",
      "model_name": "DescriptionStyleModel",
      "state": {
       "_model_module": "@jupyter-widgets/controls",
       "_model_module_version": "1.5.0",
       "_model_name": "DescriptionStyleModel",
       "_view_count": null,
       "_view_module": "@jupyter-widgets/base",
       "_view_module_version": "1.2.0",
       "_view_name": "StyleView",
       "description_width": ""
      }
     },
     "8b6bce7a044b49dc9796097aac12b5a4": {
      "model_module": "@jupyter-widgets/controls",
      "model_module_version": "1.5.0",
      "model_name": "FloatProgressModel",
      "state": {
       "_dom_classes": [],
       "_model_module": "@jupyter-widgets/controls",
       "_model_module_version": "1.5.0",
       "_model_name": "FloatProgressModel",
       "_view_count": null,
       "_view_module": "@jupyter-widgets/controls",
       "_view_module_version": "1.5.0",
       "_view_name": "ProgressView",
       "bar_style": "success",
       "description": "",
       "description_tooltip": null,
       "layout": "IPY_MODEL_4d18ad79e8654eb3989f74975a1766fe",
       "max": 1355863.0,
       "min": 0.0,
       "orientation": "horizontal",
       "style": "IPY_MODEL_34048132681443b697a54a33c6714c22",
       "value": 1355863.0
      }
     },
     "8b8d2175c4764735a3b653094b771278": {
      "model_module": "@jupyter-widgets/controls",
      "model_module_version": "1.5.0",
      "model_name": "HTMLModel",
      "state": {
       "_dom_classes": [],
       "_model_module": "@jupyter-widgets/controls",
       "_model_module_version": "1.5.0",
       "_model_name": "HTMLModel",
       "_view_count": null,
       "_view_module": "@jupyter-widgets/controls",
       "_view_module_version": "1.5.0",
       "_view_name": "HTMLView",
       "description": "",
       "description_tooltip": null,
       "layout": "IPY_MODEL_46fea55f1d364a62a7dd9796ec58ed7d",
       "placeholder": "​",
       "style": "IPY_MODEL_41ba17034d4b41a0a78f57092f89090b",
       "value": " 1.29M/1.29M [00:00&lt;00:00, 2.45MB/s]"
      }
     },
     "9a08bb34c1fb4980a2bf59f40ee15f0c": {
      "model_module": "@jupyter-widgets/base",
      "model_module_version": "1.2.0",
      "model_name": "LayoutModel",
      "state": {
       "_model_module": "@jupyter-widgets/base",
       "_model_module_version": "1.2.0",
       "_model_name": "LayoutModel",
       "_view_count": null,
       "_view_module": "@jupyter-widgets/base",
       "_view_module_version": "1.2.0",
       "_view_name": "LayoutView",
       "align_content": null,
       "align_items": null,
       "align_self": null,
       "border": null,
       "bottom": null,
       "display": null,
       "flex": null,
       "flex_flow": null,
       "grid_area": null,
       "grid_auto_columns": null,
       "grid_auto_flow": null,
       "grid_auto_rows": null,
       "grid_column": null,
       "grid_gap": null,
       "grid_row": null,
       "grid_template_areas": null,
       "grid_template_columns": null,
       "grid_template_rows": null,
       "height": null,
       "justify_content": null,
       "justify_items": null,
       "left": null,
       "margin": null,
       "max_height": null,
       "max_width": null,
       "min_height": null,
       "min_width": null,
       "object_fit": null,
       "object_position": null,
       "order": null,
       "overflow": null,
       "overflow_x": null,
       "overflow_y": null,
       "padding": null,
       "right": null,
       "top": null,
       "visibility": null,
       "width": null
      }
     },
     "b46864ea0a13437abbcab7cac4fa837c": {
      "model_module": "@jupyter-widgets/base",
      "model_module_version": "1.2.0",
      "model_name": "LayoutModel",
      "state": {
       "_model_module": "@jupyter-widgets/base",
       "_model_module_version": "1.2.0",
       "_model_name": "LayoutModel",
       "_view_count": null,
       "_view_module": "@jupyter-widgets/base",
       "_view_module_version": "1.2.0",
       "_view_name": "LayoutView",
       "align_content": null,
       "align_items": null,
       "align_self": null,
       "border": null,
       "bottom": null,
       "display": null,
       "flex": null,
       "flex_flow": null,
       "grid_area": null,
       "grid_auto_columns": null,
       "grid_auto_flow": null,
       "grid_auto_rows": null,
       "grid_column": null,
       "grid_gap": null,
       "grid_row": null,
       "grid_template_areas": null,
       "grid_template_columns": null,
       "grid_template_rows": null,
       "height": null,
       "justify_content": null,
       "justify_items": null,
       "left": null,
       "margin": null,
       "max_height": null,
       "max_width": null,
       "min_height": null,
       "min_width": null,
       "object_fit": null,
       "object_position": null,
       "order": null,
       "overflow": null,
       "overflow_x": null,
       "overflow_y": null,
       "padding": null,
       "right": null,
       "top": null,
       "visibility": null,
       "width": null
      }
     },
     "b79e8c8d16cf4da79ce6b5973aa90c08": {
      "model_module": "@jupyter-widgets/base",
      "model_module_version": "1.2.0",
      "model_name": "LayoutModel",
      "state": {
       "_model_module": "@jupyter-widgets/base",
       "_model_module_version": "1.2.0",
       "_model_name": "LayoutModel",
       "_view_count": null,
       "_view_module": "@jupyter-widgets/base",
       "_view_module_version": "1.2.0",
       "_view_name": "LayoutView",
       "align_content": null,
       "align_items": null,
       "align_self": null,
       "border": null,
       "bottom": null,
       "display": null,
       "flex": null,
       "flex_flow": null,
       "grid_area": null,
       "grid_auto_columns": null,
       "grid_auto_flow": null,
       "grid_auto_rows": null,
       "grid_column": null,
       "grid_gap": null,
       "grid_row": null,
       "grid_template_areas": null,
       "grid_template_columns": null,
       "grid_template_rows": null,
       "height": null,
       "justify_content": null,
       "justify_items": null,
       "left": null,
       "margin": null,
       "max_height": null,
       "max_width": null,
       "min_height": null,
       "min_width": null,
       "object_fit": null,
       "object_position": null,
       "order": null,
       "overflow": null,
       "overflow_x": null,
       "overflow_y": null,
       "padding": null,
       "right": null,
       "top": null,
       "visibility": null,
       "width": null
      }
     },
     "bd2054fd83734a8ca3a8be5dba8aab2d": {
      "model_module": "@jupyter-widgets/base",
      "model_module_version": "1.2.0",
      "model_name": "LayoutModel",
      "state": {
       "_model_module": "@jupyter-widgets/base",
       "_model_module_version": "1.2.0",
       "_model_name": "LayoutModel",
       "_view_count": null,
       "_view_module": "@jupyter-widgets/base",
       "_view_module_version": "1.2.0",
       "_view_name": "LayoutView",
       "align_content": null,
       "align_items": null,
       "align_self": null,
       "border": null,
       "bottom": null,
       "display": null,
       "flex": null,
       "flex_flow": null,
       "grid_area": null,
       "grid_auto_columns": null,
       "grid_auto_flow": null,
       "grid_auto_rows": null,
       "grid_column": null,
       "grid_gap": null,
       "grid_row": null,
       "grid_template_areas": null,
       "grid_template_columns": null,
       "grid_template_rows": null,
       "height": null,
       "justify_content": null,
       "justify_items": null,
       "left": null,
       "margin": null,
       "max_height": null,
       "max_width": null,
       "min_height": null,
       "min_width": null,
       "object_fit": null,
       "object_position": null,
       "order": null,
       "overflow": null,
       "overflow_x": null,
       "overflow_y": null,
       "padding": null,
       "right": null,
       "top": null,
       "visibility": null,
       "width": null
      }
     },
     "bfdffbac5e91464d929bdcd67034fb4d": {
      "model_module": "@jupyter-widgets/controls",
      "model_module_version": "1.5.0",
      "model_name": "FloatProgressModel",
      "state": {
       "_dom_classes": [],
       "_model_module": "@jupyter-widgets/controls",
       "_model_module_version": "1.5.0",
       "_model_name": "FloatProgressModel",
       "_view_count": null,
       "_view_module": "@jupyter-widgets/controls",
       "_view_module_version": "1.5.0",
       "_view_name": "ProgressView",
       "bar_style": "success",
       "description": "",
       "description_tooltip": null,
       "layout": "IPY_MODEL_5815bb3decf2407aa2bb236c99006af2",
       "max": 331070498.0,
       "min": 0.0,
       "orientation": "horizontal",
       "style": "IPY_MODEL_d9863e92f1174c1dbaa378acb6025418",
       "value": 331070498.0
      }
     },
     "c5422b7e1b2747b096b1d661e443fff2": {
      "model_module": "@jupyter-widgets/controls",
      "model_module_version": "1.5.0",
      "model_name": "HTMLModel",
      "state": {
       "_dom_classes": [],
       "_model_module": "@jupyter-widgets/controls",
       "_model_module_version": "1.5.0",
       "_model_name": "HTMLModel",
       "_view_count": null,
       "_view_module": "@jupyter-widgets/controls",
       "_view_module_version": "1.5.0",
       "_view_name": "HTMLView",
       "description": "",
       "description_tooltip": null,
       "layout": "IPY_MODEL_bd2054fd83734a8ca3a8be5dba8aab2d",
       "placeholder": "​",
       "style": "IPY_MODEL_f0ef9b1d6e3a4933bb0460c6252ab5f6",
       "value": "Downloading: 100%"
      }
     },
     "c7479afd6a4240459cfe9f3a33032297": {
      "model_module": "@jupyter-widgets/base",
      "model_module_version": "1.2.0",
      "model_name": "LayoutModel",
      "state": {
       "_model_module": "@jupyter-widgets/base",
       "_model_module_version": "1.2.0",
       "_model_name": "LayoutModel",
       "_view_count": null,
       "_view_module": "@jupyter-widgets/base",
       "_view_module_version": "1.2.0",
       "_view_name": "LayoutView",
       "align_content": null,
       "align_items": null,
       "align_self": null,
       "border": null,
       "bottom": null,
       "display": null,
       "flex": null,
       "flex_flow": null,
       "grid_area": null,
       "grid_auto_columns": null,
       "grid_auto_flow": null,
       "grid_auto_rows": null,
       "grid_column": null,
       "grid_gap": null,
       "grid_row": null,
       "grid_template_areas": null,
       "grid_template_columns": null,
       "grid_template_rows": null,
       "height": null,
       "justify_content": null,
       "justify_items": null,
       "left": null,
       "margin": null,
       "max_height": null,
       "max_width": null,
       "min_height": null,
       "min_width": null,
       "object_fit": null,
       "object_position": null,
       "order": null,
       "overflow": null,
       "overflow_x": null,
       "overflow_y": null,
       "padding": null,
       "right": null,
       "top": null,
       "visibility": null,
       "width": null
      }
     },
     "c918c259bcf3487d8a4e4421219f2128": {
      "model_module": "@jupyter-widgets/controls",
      "model_module_version": "1.5.0",
      "model_name": "ProgressStyleModel",
      "state": {
       "_model_module": "@jupyter-widgets/controls",
       "_model_module_version": "1.5.0",
       "_model_name": "ProgressStyleModel",
       "_view_count": null,
       "_view_module": "@jupyter-widgets/base",
       "_view_module_version": "1.2.0",
       "_view_name": "StyleView",
       "bar_color": null,
       "description_width": ""
      }
     },
     "d11e8721d8284a53b1327cd553f08249": {
      "model_module": "@jupyter-widgets/base",
      "model_module_version": "1.2.0",
      "model_name": "LayoutModel",
      "state": {
       "_model_module": "@jupyter-widgets/base",
       "_model_module_version": "1.2.0",
       "_model_name": "LayoutModel",
       "_view_count": null,
       "_view_module": "@jupyter-widgets/base",
       "_view_module_version": "1.2.0",
       "_view_name": "LayoutView",
       "align_content": null,
       "align_items": null,
       "align_self": null,
       "border": null,
       "bottom": null,
       "display": null,
       "flex": null,
       "flex_flow": null,
       "grid_area": null,
       "grid_auto_columns": null,
       "grid_auto_flow": null,
       "grid_auto_rows": null,
       "grid_column": null,
       "grid_gap": null,
       "grid_row": null,
       "grid_template_areas": null,
       "grid_template_columns": null,
       "grid_template_rows": null,
       "height": null,
       "justify_content": null,
       "justify_items": null,
       "left": null,
       "margin": null,
       "max_height": null,
       "max_width": null,
       "min_height": null,
       "min_width": null,
       "object_fit": null,
       "object_position": null,
       "order": null,
       "overflow": null,
       "overflow_x": null,
       "overflow_y": null,
       "padding": null,
       "right": null,
       "top": null,
       "visibility": null,
       "width": null
      }
     },
     "d9863e92f1174c1dbaa378acb6025418": {
      "model_module": "@jupyter-widgets/controls",
      "model_module_version": "1.5.0",
      "model_name": "ProgressStyleModel",
      "state": {
       "_model_module": "@jupyter-widgets/controls",
       "_model_module_version": "1.5.0",
       "_model_name": "ProgressStyleModel",
       "_view_count": null,
       "_view_module": "@jupyter-widgets/base",
       "_view_module_version": "1.2.0",
       "_view_name": "StyleView",
       "bar_color": null,
       "description_width": ""
      }
     },
     "dbfebabe927c42258da6f947ec810986": {
      "model_module": "@jupyter-widgets/controls",
      "model_module_version": "1.5.0",
      "model_name": "DescriptionStyleModel",
      "state": {
       "_model_module": "@jupyter-widgets/controls",
       "_model_module_version": "1.5.0",
       "_model_name": "DescriptionStyleModel",
       "_view_count": null,
       "_view_module": "@jupyter-widgets/base",
       "_view_module_version": "1.2.0",
       "_view_name": "StyleView",
       "description_width": ""
      }
     },
     "de405ae784bd45c094ca400b52cd5c33": {
      "model_module": "@jupyter-widgets/controls",
      "model_module_version": "1.5.0",
      "model_name": "FloatProgressModel",
      "state": {
       "_dom_classes": [],
       "_model_module": "@jupyter-widgets/controls",
       "_model_module_version": "1.5.0",
       "_model_name": "FloatProgressModel",
       "_view_count": null,
       "_view_module": "@jupyter-widgets/controls",
       "_view_module_version": "1.5.0",
       "_view_name": "ProgressView",
       "bar_style": "success",
       "description": "",
       "description_tooltip": null,
       "layout": "IPY_MODEL_c7479afd6a4240459cfe9f3a33032297",
       "max": 898823.0,
       "min": 0.0,
       "orientation": "horizontal",
       "style": "IPY_MODEL_3ebf73705e03458692b6113a5675d4b0",
       "value": 898823.0
      }
     },
     "ea44063ca31c482d93a5abc744ec217a": {
      "model_module": "@jupyter-widgets/controls",
      "model_module_version": "1.5.0",
      "model_name": "HBoxModel",
      "state": {
       "_dom_classes": [],
       "_model_module": "@jupyter-widgets/controls",
       "_model_module_version": "1.5.0",
       "_model_name": "HBoxModel",
       "_view_count": null,
       "_view_module": "@jupyter-widgets/controls",
       "_view_module_version": "1.5.0",
       "_view_name": "HBoxView",
       "box_style": "",
       "children": [
        "IPY_MODEL_fe7c5972615c4c499a29d39942db6a35",
        "IPY_MODEL_de405ae784bd45c094ca400b52cd5c33",
        "IPY_MODEL_2f80fa57e3b340d6aa0368f9e43493a9"
       ],
       "layout": "IPY_MODEL_d11e8721d8284a53b1327cd553f08249"
      }
     },
     "ef19c559050c4209b0ca98a103c2c1ab": {
      "model_module": "@jupyter-widgets/controls",
      "model_module_version": "1.5.0",
      "model_name": "FloatProgressModel",
      "state": {
       "_dom_classes": [],
       "_model_module": "@jupyter-widgets/controls",
       "_model_module_version": "1.5.0",
       "_model_name": "FloatProgressModel",
       "_view_count": null,
       "_view_module": "@jupyter-widgets/controls",
       "_view_module_version": "1.5.0",
       "_view_name": "ProgressView",
       "bar_style": "success",
       "description": "",
       "description_tooltip": null,
       "layout": "IPY_MODEL_846a0a46ecbd467c933bf30df9e8de5d",
       "max": 456318.0,
       "min": 0.0,
       "orientation": "horizontal",
       "style": "IPY_MODEL_c918c259bcf3487d8a4e4421219f2128",
       "value": 456318.0
      }
     },
     "f0ef9b1d6e3a4933bb0460c6252ab5f6": {
      "model_module": "@jupyter-widgets/controls",
      "model_module_version": "1.5.0",
      "model_name": "DescriptionStyleModel",
      "state": {
       "_model_module": "@jupyter-widgets/controls",
       "_model_module_version": "1.5.0",
       "_model_name": "DescriptionStyleModel",
       "_view_count": null,
       "_view_module": "@jupyter-widgets/base",
       "_view_module_version": "1.2.0",
       "_view_name": "StyleView",
       "description_width": ""
      }
     },
     "f18089f879b44e8a91b2f227cc37d0bc": {
      "model_module": "@jupyter-widgets/base",
      "model_module_version": "1.2.0",
      "model_name": "LayoutModel",
      "state": {
       "_model_module": "@jupyter-widgets/base",
       "_model_module_version": "1.2.0",
       "_model_name": "LayoutModel",
       "_view_count": null,
       "_view_module": "@jupyter-widgets/base",
       "_view_module_version": "1.2.0",
       "_view_name": "LayoutView",
       "align_content": null,
       "align_items": null,
       "align_self": null,
       "border": null,
       "bottom": null,
       "display": null,
       "flex": null,
       "flex_flow": null,
       "grid_area": null,
       "grid_auto_columns": null,
       "grid_auto_flow": null,
       "grid_auto_rows": null,
       "grid_column": null,
       "grid_gap": null,
       "grid_row": null,
       "grid_template_areas": null,
       "grid_template_columns": null,
       "grid_template_rows": null,
       "height": null,
       "justify_content": null,
       "justify_items": null,
       "left": null,
       "margin": null,
       "max_height": null,
       "max_width": null,
       "min_height": null,
       "min_width": null,
       "object_fit": null,
       "object_position": null,
       "order": null,
       "overflow": null,
       "overflow_x": null,
       "overflow_y": null,
       "padding": null,
       "right": null,
       "top": null,
       "visibility": null,
       "width": null
      }
     },
     "f431d550a12c4dda89664defd80cf66a": {
      "model_module": "@jupyter-widgets/controls",
      "model_module_version": "1.5.0",
      "model_name": "HBoxModel",
      "state": {
       "_dom_classes": [],
       "_model_module": "@jupyter-widgets/controls",
       "_model_module_version": "1.5.0",
       "_model_name": "HBoxModel",
       "_view_count": null,
       "_view_module": "@jupyter-widgets/controls",
       "_view_module_version": "1.5.0",
       "_view_name": "HBoxView",
       "box_style": "",
       "children": [
        "IPY_MODEL_1ec753033e584d99b511e8534c3f8abb",
        "IPY_MODEL_8b6bce7a044b49dc9796097aac12b5a4",
        "IPY_MODEL_8b8d2175c4764735a3b653094b771278"
       ],
       "layout": "IPY_MODEL_b46864ea0a13437abbcab7cac4fa837c"
      }
     },
     "fa139c7a53054c4fb5bf892fb688973d": {
      "model_module": "@jupyter-widgets/controls",
      "model_module_version": "1.5.0",
      "model_name": "HTMLModel",
      "state": {
       "_dom_classes": [],
       "_model_module": "@jupyter-widgets/controls",
       "_model_module_version": "1.5.0",
       "_model_name": "HTMLModel",
       "_view_count": null,
       "_view_module": "@jupyter-widgets/controls",
       "_view_module_version": "1.5.0",
       "_view_name": "HTMLView",
       "description": "",
       "description_tooltip": null,
       "layout": "IPY_MODEL_3b5c37d7f72e4c40ad4691a7b6b868d7",
       "placeholder": "​",
       "style": "IPY_MODEL_85ed6f152e4749cfb4304878b9bfeb2b",
       "value": " 316M/316M [00:06&lt;00:00, 51.6MB/s]"
      }
     },
     "fb9f385b8b85477cbc5c7f35af9fa86a": {
      "model_module": "@jupyter-widgets/controls",
      "model_module_version": "1.5.0",
      "model_name": "HTMLModel",
      "state": {
       "_dom_classes": [],
       "_model_module": "@jupyter-widgets/controls",
       "_model_module_version": "1.5.0",
       "_model_name": "HTMLModel",
       "_view_count": null,
       "_view_module": "@jupyter-widgets/controls",
       "_view_module_version": "1.5.0",
       "_view_name": "HTMLView",
       "description": "",
       "description_tooltip": null,
       "layout": "IPY_MODEL_338897a020384965bcd458a893d59a1a",
       "placeholder": "​",
       "style": "IPY_MODEL_78085b09b1c940f0af4fd5175fb9c8a4",
       "value": "Downloading: 100%"
      }
     },
     "fe7c5972615c4c499a29d39942db6a35": {
      "model_module": "@jupyter-widgets/controls",
      "model_module_version": "1.5.0",
      "model_name": "HTMLModel",
      "state": {
       "_dom_classes": [],
       "_model_module": "@jupyter-widgets/controls",
       "_model_module_version": "1.5.0",
       "_model_name": "HTMLModel",
       "_view_count": null,
       "_view_module": "@jupyter-widgets/controls",
       "_view_module_version": "1.5.0",
       "_view_name": "HTMLView",
       "description": "",
       "description_tooltip": null,
       "layout": "IPY_MODEL_f18089f879b44e8a91b2f227cc37d0bc",
       "placeholder": "​",
       "style": "IPY_MODEL_29ae6a60098e4e2f931664f37437aba0",
       "value": "Downloading: 100%"
      }
     }
    },
    "version_major": 2,
    "version_minor": 0
   }
  }
 },
 "nbformat": 4,
 "nbformat_minor": 5
}
