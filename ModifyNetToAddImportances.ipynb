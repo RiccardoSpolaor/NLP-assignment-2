{
  "nbformat": 4,
  "nbformat_minor": 0,
  "metadata": {
    "colab": {
      "provenance": []
    },
    "kernelspec": {
      "name": "python3",
      "display_name": "Python 3"
    },
    "language_info": {
      "name": "python"
    },
    "accelerator": "GPU",
    "gpuClass": "standard"
  },
  "cells": [
    {
      "cell_type": "code",
      "execution_count": 1,
      "metadata": {
        "id": "YOHHi18DoWnX"
      },
      "outputs": [],
      "source": [
        "import numpy as np\n",
        "import matplotlib.pyplot as plt\n",
        "\n",
        "import torch\n",
        "import torch.nn as nn\n",
        "\n",
        "from typing import List, Optional, Tuple, Union\n",
        "\n",
        "import math\n",
        "import random\n",
        "\n",
        "import time\n",
        "import json"
      ]
    },
    {
      "cell_type": "code",
      "source": [
        "!pip install transformers"
      ],
      "metadata": {
        "colab": {
          "base_uri": "https://localhost:8080/"
        },
        "id": "pCwFlxL9om9c",
        "outputId": "f768527f-603b-48e6-f5b5-8ea887b00f4f"
      },
      "execution_count": 2,
      "outputs": [
        {
          "output_type": "stream",
          "name": "stdout",
          "text": [
            "Looking in indexes: https://pypi.org/simple, https://us-python.pkg.dev/colab-wheels/public/simple/\n",
            "Requirement already satisfied: transformers in /usr/local/lib/python3.8/dist-packages (4.25.1)\n",
            "Requirement already satisfied: tqdm>=4.27 in /usr/local/lib/python3.8/dist-packages (from transformers) (4.64.1)\n",
            "Requirement already satisfied: regex!=2019.12.17 in /usr/local/lib/python3.8/dist-packages (from transformers) (2022.6.2)\n",
            "Requirement already satisfied: requests in /usr/local/lib/python3.8/dist-packages (from transformers) (2.23.0)\n",
            "Requirement already satisfied: pyyaml>=5.1 in /usr/local/lib/python3.8/dist-packages (from transformers) (6.0)\n",
            "Requirement already satisfied: huggingface-hub<1.0,>=0.10.0 in /usr/local/lib/python3.8/dist-packages (from transformers) (0.11.1)\n",
            "Requirement already satisfied: numpy>=1.17 in /usr/local/lib/python3.8/dist-packages (from transformers) (1.21.6)\n",
            "Requirement already satisfied: filelock in /usr/local/lib/python3.8/dist-packages (from transformers) (3.8.0)\n",
            "Requirement already satisfied: tokenizers!=0.11.3,<0.14,>=0.11.1 in /usr/local/lib/python3.8/dist-packages (from transformers) (0.13.2)\n",
            "Requirement already satisfied: packaging>=20.0 in /usr/local/lib/python3.8/dist-packages (from transformers) (21.3)\n",
            "Requirement already satisfied: typing-extensions>=3.7.4.3 in /usr/local/lib/python3.8/dist-packages (from huggingface-hub<1.0,>=0.10.0->transformers) (4.1.1)\n",
            "Requirement already satisfied: pyparsing!=3.0.5,>=2.0.2 in /usr/local/lib/python3.8/dist-packages (from packaging>=20.0->transformers) (3.0.9)\n",
            "Requirement already satisfied: urllib3!=1.25.0,!=1.25.1,<1.26,>=1.21.1 in /usr/local/lib/python3.8/dist-packages (from requests->transformers) (1.24.3)\n",
            "Requirement already satisfied: chardet<4,>=3.0.2 in /usr/local/lib/python3.8/dist-packages (from requests->transformers) (3.0.4)\n",
            "Requirement already satisfied: idna<3,>=2.5 in /usr/local/lib/python3.8/dist-packages (from requests->transformers) (2.10)\n",
            "Requirement already satisfied: certifi>=2017.4.17 in /usr/local/lib/python3.8/dist-packages (from requests->transformers) (2022.9.24)\n"
          ]
        }
      ]
    },
    {
      "cell_type": "code",
      "source": [
        "from transformers import AutoModelForCausalLM, AutoTokenizer"
      ],
      "metadata": {
        "id": "2Bs3FU2R3uul"
      },
      "execution_count": 3,
      "outputs": []
    },
    {
      "cell_type": "code",
      "source": [
        "import gc\n",
        "import os\n",
        "import tempfile\n",
        "import warnings\n",
        "from typing import Optional, Tuple, Union\n",
        "\n",
        "import torch\n",
        "from torch import nn\n",
        "from torch.nn import CrossEntropyLoss\n",
        "\n",
        "\n",
        "from transformers.configuration_utils import PretrainedConfig\n",
        "from transformers.modeling_outputs import BaseModelOutput, Seq2SeqLMOutput\n",
        "from transformers.modeling_utils import PreTrainedModel\n",
        "from transformers.utils import add_start_docstrings, add_start_docstrings_to_model_forward, logging, replace_return_docstrings\n",
        "from transformers.models.auto.configuration_auto import AutoConfig\n",
        "from transformers.models.auto.modeling_auto import AutoModel, AutoModelForCausalLM\n",
        "from transformers.models.encoder_decoder.configuration_encoder_decoder import EncoderDecoderConfig\n",
        "\n",
        "from transformers.models.encoder_decoder.modeling_encoder_decoder import DEPRECATION_WARNING, shift_tokens_right\n",
        "\n",
        "\n",
        "def forward_encoder_decoder(\n",
        "    self,\n",
        "    input_ids: Optional[torch.LongTensor] = None,\n",
        "    token_importances: Optional[torch.LongTensor] = None,\n",
        "    attention_mask: Optional[torch.FloatTensor] = None,\n",
        "    decoder_input_ids: Optional[torch.LongTensor] = None,\n",
        "    decoder_attention_mask: Optional[torch.BoolTensor] = None,\n",
        "    encoder_outputs: Optional[Tuple[torch.FloatTensor]] = None,\n",
        "    past_key_values: Tuple[Tuple[torch.FloatTensor]] = None,\n",
        "    inputs_embeds: Optional[torch.FloatTensor] = None,\n",
        "    decoder_inputs_embeds: Optional[torch.FloatTensor] = None,\n",
        "    labels: Optional[torch.LongTensor] = None,\n",
        "    use_cache: Optional[bool] = None,\n",
        "    output_attentions: Optional[bool] = None,\n",
        "    output_hidden_states: Optional[bool] = None,\n",
        "    return_dict: Optional[bool] = None,\n",
        "    **kwargs,\n",
        ") -> Union[Tuple, Seq2SeqLMOutput]:\n",
        "    r\"\"\"\n",
        "    Returns:\n",
        "    Examples:\n",
        "    ```python\n",
        "    >>> from transformers import EncoderDecoderModel, BertTokenizer\n",
        "    >>> import torch\n",
        "    >>> tokenizer = BertTokenizer.from_pretrained(\"bert-base-uncased\")\n",
        "    >>> model = EncoderDecoderModel.from_encoder_decoder_pretrained(\n",
        "    ...     \"bert-base-uncased\", \"bert-base-uncased\"\n",
        "    ... )  # initialize Bert2Bert from pre-trained checkpoints\n",
        "    >>> # training\n",
        "    >>> model.config.decoder_start_token_id = tokenizer.cls_token_id\n",
        "    >>> model.config.pad_token_id = tokenizer.pad_token_id\n",
        "    >>> model.config.vocab_size = model.config.decoder.vocab_size\n",
        "    >>> input_ids = tokenizer(\"This is a really long text\", return_tensors=\"pt\").input_ids\n",
        "    >>> labels = tokenizer(\"This is the corresponding summary\", return_tensors=\"pt\").input_ids\n",
        "    >>> outputs = model(input_ids=input_ids, labels=labels)\n",
        "    >>> loss, logits = outputs.loss, outputs.logits\n",
        "    >>> # save and load from pretrained\n",
        "    >>> model.save_pretrained(\"bert2bert\")\n",
        "    >>> model = EncoderDecoderModel.from_pretrained(\"bert2bert\")\n",
        "    >>> # generation\n",
        "    >>> generated = model.generate(input_ids)\n",
        "    ```\"\"\"\n",
        "\n",
        "    return_dict = return_dict if return_dict is not None else self.config.use_return_dict\n",
        "\n",
        "    kwargs_encoder = {argument: value for argument, value in kwargs.items() if not argument.startswith(\"decoder_\")}\n",
        "\n",
        "    kwargs_decoder = {\n",
        "        argument[len(\"decoder_\") :]: value for argument, value in kwargs.items() if argument.startswith(\"decoder_\")\n",
        "    }\n",
        "\n",
        "    if encoder_outputs is None:\n",
        "        encoder_outputs = self.encoder(\n",
        "            input_ids=input_ids,\n",
        "            token_importances=token_importances,\n",
        "            attention_mask=attention_mask,\n",
        "            inputs_embeds=inputs_embeds,\n",
        "            output_attentions=output_attentions,\n",
        "            output_hidden_states=output_hidden_states,\n",
        "            return_dict=return_dict,\n",
        "            **kwargs_encoder,\n",
        "        )\n",
        "    elif isinstance(encoder_outputs, tuple):\n",
        "        encoder_outputs = BaseModelOutput(*encoder_outputs)\n",
        "\n",
        "    encoder_hidden_states = encoder_outputs[0]\n",
        "\n",
        "    # optionally project encoder_hidden_states\n",
        "    if (\n",
        "        self.encoder.config.hidden_size != self.decoder.config.hidden_size\n",
        "        and self.decoder.config.cross_attention_hidden_size is None\n",
        "    ):\n",
        "        encoder_hidden_states = self.enc_to_dec_proj(encoder_hidden_states)\n",
        "\n",
        "    if (labels is not None) and (decoder_input_ids is None and decoder_inputs_embeds is None):\n",
        "        decoder_input_ids = shift_tokens_right(\n",
        "            labels, self.config.pad_token_id, self.config.decoder_start_token_id\n",
        "        )\n",
        "\n",
        "    # Decode\n",
        "    decoder_outputs = self.decoder(\n",
        "        input_ids=decoder_input_ids,\n",
        "        attention_mask=decoder_attention_mask,\n",
        "        encoder_hidden_states=encoder_hidden_states,\n",
        "        encoder_attention_mask=attention_mask,\n",
        "        inputs_embeds=decoder_inputs_embeds,\n",
        "        output_attentions=output_attentions,\n",
        "        output_hidden_states=output_hidden_states,\n",
        "        use_cache=use_cache,\n",
        "        past_key_values=past_key_values,\n",
        "        return_dict=return_dict,\n",
        "        **kwargs_decoder,\n",
        "    )\n",
        "\n",
        "    # Compute loss independent from decoder (as some shift the logits inside them)\n",
        "    loss = None\n",
        "    if labels is not None:\n",
        "        warnings.warn(DEPRECATION_WARNING, FutureWarning)\n",
        "        logits = decoder_outputs.logits if return_dict else decoder_outputs[0]\n",
        "        loss_fct = CrossEntropyLoss()\n",
        "        loss = loss_fct(logits.reshape(-1, self.decoder.config.vocab_size), labels.view(-1))\n",
        "\n",
        "    if not return_dict:\n",
        "        if loss is not None:\n",
        "            return (loss,) + decoder_outputs + encoder_outputs\n",
        "        else:\n",
        "            return decoder_outputs + encoder_outputs\n",
        "\n",
        "    return Seq2SeqLMOutput(\n",
        "        loss=loss,\n",
        "        logits=decoder_outputs.logits,\n",
        "        past_key_values=decoder_outputs.past_key_values,\n",
        "        decoder_hidden_states=decoder_outputs.hidden_states,\n",
        "        decoder_attentions=decoder_outputs.attentions,\n",
        "        cross_attentions=decoder_outputs.cross_attentions,\n",
        "        encoder_last_hidden_state=encoder_outputs.last_hidden_state,\n",
        "        encoder_hidden_states=encoder_outputs.hidden_states,\n",
        "        encoder_attentions=encoder_outputs.attentions,\n",
        "    )"
      ],
      "metadata": {
        "id": "6ZkIQzP8oZs1"
      },
      "execution_count": 4,
      "outputs": []
    },
    {
      "cell_type": "code",
      "source": [
        "import math\n",
        "from typing import List, Optional, Tuple, Union\n",
        "\n",
        "import torch\n",
        "import torch.utils.checkpoint\n",
        "from torch import nn\n",
        "from torch.nn import BCEWithLogitsLoss, CrossEntropyLoss, MSELoss\n",
        "\n",
        "from transformers.activations import ACT2FN, gelu\n",
        "from transformers.modeling_outputs import (\n",
        "    BaseModelOutputWithPastAndCrossAttentions,\n",
        "    BaseModelOutputWithPoolingAndCrossAttentions,\n",
        "    CausalLMOutputWithCrossAttentions,\n",
        "    MaskedLMOutput,\n",
        "    MultipleChoiceModelOutput,\n",
        "    QuestionAnsweringModelOutput,\n",
        "    SequenceClassifierOutput,\n",
        "    TokenClassifierOutput,\n",
        ")\n",
        "from transformers.modeling_utils import PreTrainedModel\n",
        "from transformers.pytorch_utils import apply_chunking_to_forward, find_pruneable_heads_and_indices, prune_linear_layer\n",
        "from transformers.utils import (\n",
        "    add_code_sample_docstrings,\n",
        "    add_start_docstrings,\n",
        "    add_start_docstrings_to_model_forward,\n",
        "    logging,\n",
        "    replace_return_docstrings,\n",
        ")\n",
        "from transformers.models.roberta.configuration_roberta import RobertaConfig\n",
        "\n",
        "def forward_encoder(\n",
        "    self,\n",
        "    input_ids: Optional[torch.Tensor] = None,\n",
        "    token_importances: Optional[torch.LongTensor] = None,\n",
        "    attention_mask: Optional[torch.Tensor] = None,\n",
        "    token_type_ids: Optional[torch.Tensor] = None,\n",
        "    position_ids: Optional[torch.Tensor] = None,\n",
        "    head_mask: Optional[torch.Tensor] = None,\n",
        "    inputs_embeds: Optional[torch.Tensor] = None,\n",
        "    encoder_hidden_states: Optional[torch.Tensor] = None,\n",
        "    encoder_attention_mask: Optional[torch.Tensor] = None,\n",
        "    past_key_values: Optional[List[torch.FloatTensor]] = None,\n",
        "    use_cache: Optional[bool] = None,\n",
        "    output_attentions: Optional[bool] = None,\n",
        "    output_hidden_states: Optional[bool] = None,\n",
        "    return_dict: Optional[bool] = None,\n",
        ") -> Union[Tuple[torch.Tensor], BaseModelOutputWithPoolingAndCrossAttentions]:\n",
        "    r\"\"\"\n",
        "    encoder_hidden_states  (`torch.FloatTensor` of shape `(batch_size, sequence_length, hidden_size)`, *optional*):\n",
        "        Sequence of hidden-states at the output of the last layer of the encoder. Used in the cross-attention if\n",
        "        the model is configured as a decoder.\n",
        "    encoder_attention_mask (`torch.FloatTensor` of shape `(batch_size, sequence_length)`, *optional*):\n",
        "        Mask to avoid performing attention on the padding token indices of the encoder input. This mask is used in\n",
        "        the cross-attention if the model is configured as a decoder. Mask values selected in `[0, 1]`:\n",
        "        - 1 for tokens that are **not masked**,\n",
        "        - 0 for tokens that are **masked**.\n",
        "    past_key_values (`tuple(tuple(torch.FloatTensor))` of length `config.n_layers` with each tuple having 4 tensors of shape `(batch_size, num_heads, sequence_length - 1, embed_size_per_head)`):\n",
        "        Contains precomputed key and value hidden states of the attention blocks. Can be used to speed up decoding.\n",
        "        If `past_key_values` are used, the user can optionally input only the last `decoder_input_ids` (those that\n",
        "        don't have their past key value states given to this model) of shape `(batch_size, 1)` instead of all\n",
        "        `decoder_input_ids` of shape `(batch_size, sequence_length)`.\n",
        "    use_cache (`bool`, *optional*):\n",
        "        If set to `True`, `past_key_values` key value states are returned and can be used to speed up decoding (see\n",
        "        `past_key_values`).\n",
        "    \"\"\"\n",
        "    output_attentions = output_attentions if output_attentions is not None else self.config.output_attentions\n",
        "    output_hidden_states = (\n",
        "        output_hidden_states if output_hidden_states is not None else self.config.output_hidden_states\n",
        "    )\n",
        "    return_dict = return_dict if return_dict is not None else self.config.use_return_dict\n",
        "\n",
        "    if self.config.is_decoder:\n",
        "        use_cache = use_cache if use_cache is not None else self.config.use_cache\n",
        "    else:\n",
        "        use_cache = False\n",
        "\n",
        "    if input_ids is not None and inputs_embeds is not None:\n",
        "        raise ValueError(\"You cannot specify both input_ids and inputs_embeds at the same time\")\n",
        "    elif input_ids is not None:\n",
        "        input_shape = input_ids.size()\n",
        "    elif inputs_embeds is not None:\n",
        "        input_shape = inputs_embeds.size()[:-1]\n",
        "    else:\n",
        "        raise ValueError(\"You have to specify either input_ids or inputs_embeds\")\n",
        "\n",
        "    batch_size, seq_length = input_shape\n",
        "    device = input_ids.device if input_ids is not None else inputs_embeds.device\n",
        "\n",
        "    # past_key_values_length\n",
        "    past_key_values_length = past_key_values[0][0].shape[2] if past_key_values is not None else 0\n",
        "\n",
        "    if attention_mask is None:\n",
        "        attention_mask = torch.ones(((batch_size, seq_length + past_key_values_length)), device=device)\n",
        "\n",
        "    if token_type_ids is None:\n",
        "        if hasattr(self.embeddings, \"token_type_ids\"):\n",
        "            buffered_token_type_ids = self.embeddings.token_type_ids[:, :seq_length]\n",
        "            buffered_token_type_ids_expanded = buffered_token_type_ids.expand(batch_size, seq_length)\n",
        "            token_type_ids = buffered_token_type_ids_expanded\n",
        "        else:\n",
        "            token_type_ids = torch.zeros(input_shape, dtype=torch.long, device=device)\n",
        "\n",
        "    # We can provide a self-attention mask of dimensions [batch_size, from_seq_length, to_seq_length]\n",
        "    # ourselves in which case we just need to make it broadcastable to all heads.\n",
        "    extended_attention_mask: torch.Tensor = self.get_extended_attention_mask(attention_mask, input_shape)\n",
        "\n",
        "    # If a 2D or 3D attention mask is provided for the cross-attention\n",
        "    # we need to make broadcastable to [batch_size, num_heads, seq_length, seq_length]\n",
        "    if self.config.is_decoder and encoder_hidden_states is not None:\n",
        "        encoder_batch_size, encoder_sequence_length, _ = encoder_hidden_states.size()\n",
        "        encoder_hidden_shape = (encoder_batch_size, encoder_sequence_length)\n",
        "        if encoder_attention_mask is None:\n",
        "            encoder_attention_mask = torch.ones(encoder_hidden_shape, device=device)\n",
        "        encoder_extended_attention_mask = self.invert_attention_mask(encoder_attention_mask)\n",
        "    else:\n",
        "        encoder_extended_attention_mask = None\n",
        "\n",
        "    # Prepare head mask if needed\n",
        "    # 1.0 in head_mask indicate we keep the head\n",
        "    # attention_probs has shape bsz x n_heads x N x N\n",
        "    # input head_mask has shape [num_heads] or [num_hidden_layers x num_heads]\n",
        "    # and head_mask is converted to shape [num_hidden_layers x batch x num_heads x seq_length x seq_length]\n",
        "    head_mask = self.get_head_mask(head_mask, self.config.num_hidden_layers)\n",
        "\n",
        "    embedding_output = self.embeddings(\n",
        "        input_ids=input_ids,\n",
        "        position_ids=position_ids,\n",
        "        token_type_ids=token_type_ids,\n",
        "        inputs_embeds=inputs_embeds,\n",
        "        past_key_values_length=past_key_values_length,\n",
        "    )\n",
        "\n",
        "    embedding_output = self.linear( torch.concat([embedding_output,token_importances],2) )\n",
        "    \n",
        "    encoder_outputs = self.encoder(\n",
        "        embedding_output,\n",
        "        attention_mask=extended_attention_mask,\n",
        "        head_mask=head_mask,\n",
        "        encoder_hidden_states=encoder_hidden_states,\n",
        "        encoder_attention_mask=encoder_extended_attention_mask,\n",
        "        past_key_values=past_key_values,\n",
        "        use_cache=use_cache,\n",
        "        output_attentions=output_attentions,\n",
        "        output_hidden_states=output_hidden_states,\n",
        "        return_dict=return_dict,\n",
        "    )\n",
        "    sequence_output = encoder_outputs[0]\n",
        "    pooled_output = self.pooler(sequence_output) if self.pooler is not None else None\n",
        "\n",
        "    if not return_dict:\n",
        "        return (sequence_output, pooled_output) + encoder_outputs[1:]\n",
        "\n",
        "    return BaseModelOutputWithPoolingAndCrossAttentions(\n",
        "        last_hidden_state=sequence_output,\n",
        "        pooler_output=pooled_output,\n",
        "        past_key_values=encoder_outputs.past_key_values,\n",
        "        hidden_states=encoder_outputs.hidden_states,\n",
        "        attentions=encoder_outputs.attentions,\n",
        "        cross_attentions=encoder_outputs.cross_attentions,\n",
        "    )"
      ],
      "metadata": {
        "id": "5cNBE1A7UdAa"
      },
      "execution_count": 5,
      "outputs": []
    },
    {
      "cell_type": "code",
      "source": [
        "from transformers import EncoderDecoderModel, AutoTokenizer\n",
        "\n",
        "model_name = 'distilroberta-base'\n",
        "model=EncoderDecoderModel.from_encoder_decoder_pretrained(model_name, model_name)\n",
        "\n",
        "tokenizer=AutoTokenizer.from_pretrained(model_name)"
      ],
      "metadata": {
        "colab": {
          "base_uri": "https://localhost:8080/"
        },
        "id": "zJE7o-T4orA5",
        "outputId": "c8310203-516a-4f29-98ce-9ba75816b2f3"
      },
      "execution_count": 6,
      "outputs": [
        {
          "output_type": "stream",
          "name": "stderr",
          "text": [
            "Some weights of the model checkpoint at distilroberta-base were not used when initializing RobertaModel: ['lm_head.dense.bias', 'lm_head.layer_norm.weight', 'lm_head.bias', 'lm_head.decoder.weight', 'lm_head.dense.weight', 'lm_head.layer_norm.bias']\n",
            "- This IS expected if you are initializing RobertaModel from the checkpoint of a model trained on another task or with another architecture (e.g. initializing a BertForSequenceClassification model from a BertForPreTraining model).\n",
            "- This IS NOT expected if you are initializing RobertaModel from the checkpoint of a model that you expect to be exactly identical (initializing a BertForSequenceClassification model from a BertForSequenceClassification model).\n",
            "Some weights of RobertaForCausalLM were not initialized from the model checkpoint at distilroberta-base and are newly initialized: ['roberta.encoder.layer.3.crossattention.self.key.bias', 'roberta.encoder.layer.0.crossattention.self.key.bias', 'roberta.encoder.layer.4.crossattention.self.key.bias', 'roberta.encoder.layer.1.crossattention.output.dense.bias', 'roberta.encoder.layer.2.crossattention.self.query.bias', 'roberta.encoder.layer.2.crossattention.output.dense.bias', 'roberta.encoder.layer.0.crossattention.output.LayerNorm.bias', 'roberta.encoder.layer.2.crossattention.output.LayerNorm.bias', 'roberta.encoder.layer.2.crossattention.self.key.weight', 'roberta.encoder.layer.4.crossattention.self.key.weight', 'roberta.encoder.layer.4.crossattention.output.LayerNorm.bias', 'roberta.encoder.layer.3.crossattention.output.dense.weight', 'roberta.encoder.layer.5.crossattention.self.key.weight', 'roberta.encoder.layer.3.crossattention.output.dense.bias', 'roberta.encoder.layer.1.crossattention.self.key.bias', 'roberta.encoder.layer.2.crossattention.self.query.weight', 'roberta.encoder.layer.5.crossattention.self.value.bias', 'roberta.encoder.layer.3.crossattention.output.LayerNorm.bias', 'roberta.encoder.layer.0.crossattention.self.query.bias', 'roberta.encoder.layer.1.crossattention.output.LayerNorm.weight', 'roberta.encoder.layer.2.crossattention.self.value.weight', 'roberta.encoder.layer.5.crossattention.self.query.bias', 'roberta.encoder.layer.2.crossattention.self.value.bias', 'roberta.encoder.layer.5.crossattention.output.LayerNorm.weight', 'roberta.encoder.layer.4.crossattention.self.query.weight', 'roberta.encoder.layer.5.crossattention.self.query.weight', 'roberta.encoder.layer.4.crossattention.output.dense.weight', 'roberta.encoder.layer.1.crossattention.self.value.weight', 'roberta.encoder.layer.3.crossattention.output.LayerNorm.weight', 'roberta.encoder.layer.3.crossattention.self.value.weight', 'roberta.encoder.layer.0.crossattention.self.key.weight', 'roberta.encoder.layer.4.crossattention.self.query.bias', 'roberta.encoder.layer.0.crossattention.output.dense.bias', 'roberta.encoder.layer.1.crossattention.self.query.bias', 'roberta.encoder.layer.4.crossattention.self.value.bias', 'roberta.encoder.layer.3.crossattention.self.value.bias', 'roberta.encoder.layer.3.crossattention.self.query.weight', 'roberta.encoder.layer.0.crossattention.self.value.weight', 'roberta.encoder.layer.4.crossattention.output.dense.bias', 'roberta.encoder.layer.4.crossattention.self.value.weight', 'roberta.encoder.layer.3.crossattention.self.key.weight', 'roberta.encoder.layer.1.crossattention.self.query.weight', 'roberta.encoder.layer.2.crossattention.output.LayerNorm.weight', 'roberta.encoder.layer.0.crossattention.output.dense.weight', 'roberta.encoder.layer.0.crossattention.self.value.bias', 'roberta.encoder.layer.5.crossattention.self.value.weight', 'roberta.encoder.layer.1.crossattention.output.dense.weight', 'roberta.encoder.layer.1.crossattention.self.value.bias', 'roberta.encoder.layer.0.crossattention.output.LayerNorm.weight', 'roberta.encoder.layer.4.crossattention.output.LayerNorm.weight', 'roberta.encoder.layer.5.crossattention.output.dense.weight', 'roberta.encoder.layer.2.crossattention.output.dense.weight', 'roberta.encoder.layer.1.crossattention.self.key.weight', 'roberta.encoder.layer.3.crossattention.self.query.bias', 'roberta.encoder.layer.5.crossattention.self.key.bias', 'roberta.encoder.layer.5.crossattention.output.dense.bias', 'roberta.encoder.layer.5.crossattention.output.LayerNorm.bias', 'roberta.encoder.layer.1.crossattention.output.LayerNorm.bias', 'roberta.encoder.layer.0.crossattention.self.query.weight', 'roberta.encoder.layer.2.crossattention.self.key.bias']\n",
            "You should probably TRAIN this model on a down-stream task to be able to use it for predictions and inference.\n"
          ]
        }
      ]
    },
    {
      "cell_type": "code",
      "source": [
        "model.encoder.config.hidden_size"
      ],
      "metadata": {
        "colab": {
          "base_uri": "https://localhost:8080/"
        },
        "id": "uvltUqepYW3J",
        "outputId": "3bda981a-f5cc-43ac-f2e4-ed04b5e55944"
      },
      "execution_count": 7,
      "outputs": [
        {
          "output_type": "execute_result",
          "data": {
            "text/plain": [
              "768"
            ]
          },
          "metadata": {},
          "execution_count": 7
        }
      ]
    },
    {
      "cell_type": "code",
      "source": [
        "import types\n",
        "funcType = type(model.forward)\n",
        "model.forward = types.MethodType(forward_encoder_decoder, model)\n",
        "\n",
        "import types\n",
        "funcType = type(model.encoder.forward)\n",
        "model.encoder.forward = types.MethodType(forward_encoder, model.encoder)\n",
        "\n"
      ],
      "metadata": {
        "id": "eW1lTVb2o4LU"
      },
      "execution_count": 8,
      "outputs": []
    },
    {
      "cell_type": "code",
      "source": [
        "L=nn.Linear(model.encoder.config.hidden_size +1, model.encoder.config.hidden_size)\n",
        "\n",
        "L.weight=torch.nn.parameter.Parameter(torch.eye(L.weight.shape[1], dtype=L.weight.dtype)[:L.weight.shape[0]])\n",
        "L.bias=torch.nn.parameter.Parameter(torch.zeros(L.bias.shape, dtype=L.bias.dtype))\n",
        "\n",
        "model.encoder.linear = L"
      ],
      "metadata": {
        "id": "1R4fqpaBaEUA"
      },
      "execution_count": 9,
      "outputs": []
    },
    {
      "cell_type": "markdown",
      "source": [
        "# Test modified model"
      ],
      "metadata": {
        "id": "Zfn1_f5dq6Nw"
      }
    },
    {
      "cell_type": "code",
      "source": [
        "import os\n",
        "import urllib.request\n",
        "from tqdm import tqdm\n",
        "\n",
        "class DownloadProgressBar(tqdm):\n",
        "    def update_to(self, b=1, bsize=1, tsize=None):\n",
        "        if tsize is not None:\n",
        "            self.total = tsize\n",
        "        self.update(b * bsize - self.n)\n",
        "        \n",
        "def download_url(url, output_path):\n",
        "    with DownloadProgressBar(unit='B', unit_scale=True,\n",
        "                             miniters=1, desc=url.split('/')[-1]) as t:\n",
        "        urllib.request.urlretrieve(url, filename=output_path, reporthook=t.update_to)\n",
        "\n",
        "def download_data(data_path, url_path, suffix):    \n",
        "    if not os.path.exists(data_path):\n",
        "        os.makedirs(data_path)\n",
        "        \n",
        "    data_path = os.path.join(data_path, f'{suffix}.json')\n",
        "\n",
        "    if not os.path.exists(data_path):\n",
        "        print(f\"Downloading CoQA {suffix} data split... (it may take a while)\")\n",
        "        download_url(url=url_path, output_path=data_path)\n",
        "        print(\"Download completed!\")"
      ],
      "metadata": {
        "id": "cH20_lBEpyFQ"
      },
      "execution_count": 10,
      "outputs": []
    },
    {
      "cell_type": "code",
      "source": [
        "# Train data\n",
        "train_url = \"https://nlp.stanford.edu/data/coqa/coqa-train-v1.0.json\"\n",
        "download_data(data_path='coqa', url_path=train_url, suffix='train')\n",
        "\n",
        "# Test data\n",
        "test_url = \"https://nlp.stanford.edu/data/coqa/coqa-dev-v1.0.json\"\n",
        "download_data(data_path='coqa', url_path=test_url, suffix='test')  # <-- Why test? See next slides for an answer!"
      ],
      "metadata": {
        "id": "WuLMLnrMqKx0"
      },
      "execution_count": 11,
      "outputs": []
    },
    {
      "cell_type": "code",
      "source": [
        "with open(os.path.join('coqa', 'train.json'), 'r') as j:\n",
        "    train = json.loads(j.read())\n",
        "\n",
        "with open(os.path.join('coqa', 'test.json'), 'r') as j:\n",
        "    test = json.loads(j.read())"
      ],
      "metadata": {
        "id": "eeBU_gKIqL5c"
      },
      "execution_count": 12,
      "outputs": []
    },
    {
      "cell_type": "code",
      "source": [
        "train = train['data']\n",
        "test = test['data']"
      ],
      "metadata": {
        "id": "61cPdU93qMtB"
      },
      "execution_count": 13,
      "outputs": []
    },
    {
      "cell_type": "code",
      "source": [
        "lengths=[len(doc['questions']) for doc in train]"
      ],
      "metadata": {
        "id": "1_xc2GDgqNYu"
      },
      "execution_count": 14,
      "outputs": []
    },
    {
      "cell_type": "code",
      "source": [
        "le=np.cumsum(np.array(lengths,dtype=np.float32))\n",
        "train_end=np.where((le/le[-1])>0.8)[0][0]\n",
        "\n",
        "validation = train[train_end : ] \n",
        "train = train[ : train_end]"
      ],
      "metadata": {
        "id": "P9pRwS3JqOF7"
      },
      "execution_count": 15,
      "outputs": []
    },
    {
      "cell_type": "code",
      "source": [
        "print(len(train))\n",
        "print(len(validation))"
      ],
      "metadata": {
        "colab": {
          "base_uri": "https://localhost:8080/"
        },
        "id": "Ue3pl-4LqPEp",
        "outputId": "06a6e16b-39a7-4288-959e-6331089ca004"
      },
      "execution_count": 16,
      "outputs": [
        {
          "output_type": "stream",
          "name": "stdout",
          "text": [
            "5771\n",
            "1428\n"
          ]
        }
      ]
    },
    {
      "cell_type": "code",
      "source": [
        "len_train=np.sum([len(doc['questions']) for doc in train])\n",
        "len_val=np.sum([len(doc['questions']) for doc in validation])\n",
        "\n",
        "len_tot=len_train+len_val\n",
        "print(len_train,len_train/len_tot)\n",
        "print(len_val,len_val/len_tot)"
      ],
      "metadata": {
        "colab": {
          "base_uri": "https://localhost:8080/"
        },
        "id": "G8uQ8ou7qfPx",
        "outputId": "b558a398-ab6d-4511-b942-44dcdf76854e"
      },
      "execution_count": 17,
      "outputs": [
        {
          "output_type": "stream",
          "name": "stdout",
          "text": [
            "86909 0.7999208445700295\n",
            "21738 0.20007915542997046\n"
          ]
        }
      ]
    },
    {
      "cell_type": "code",
      "source": [
        "class CustomImageDataset(torch.utils.data.Dataset):\n",
        "    def __init__(self, data, return_history=False):\n",
        "\n",
        "        self.story=[d['story'] for d in data]\n",
        "        self.questions=[d['questions'] for d in data]\n",
        "        self.answers=[d['answers'] for d in data]\n",
        "        lengths = [len(doc['questions']) for doc in data]\n",
        "        self.lengths = np.cumsum(np.array(lengths,dtype=np.int32))\n",
        "        self.R_H=return_history\n",
        "        \n",
        "\n",
        "    def __len__(self):\n",
        "        return self.lengths[-1]\n",
        "\n",
        "    def __getitem__(self, idx):\n",
        "        f_idx=int(np.where(self.lengths > idx)[0][0])\n",
        "        if f_idx>0:\n",
        "            q_idx=idx-self.lengths[f_idx-1]\n",
        "        else:\n",
        "            q_idx=idx\n",
        "\n",
        "        passage=self.story[f_idx]\n",
        "        questions=self.questions[f_idx]\n",
        "        answers=self.answers[f_idx]\n",
        "        question=questions[q_idx]['input_text']\n",
        "        answer=answers[q_idx]['input_text']\n",
        "        span_start=int(answers[q_idx]['span_start'])\n",
        "        span_end=int(answers[q_idx]['span_end'])\n",
        "        span_text=answers[q_idx]['span_text']\n",
        "\n",
        "        if self.R_H:\n",
        "            history = np.concatenate([ [questions[i]['input_text'], answers[i]['input_text']] for i in range(q_idx)],0)\n",
        "            return (passage,question,history), (span_start,span_end)\n",
        "\n",
        "        return (passage,question), answer"
      ],
      "metadata": {
        "id": "yfayHgIcqgdW"
      },
      "execution_count": 18,
      "outputs": []
    },
    {
      "cell_type": "code",
      "source": [
        "from torch.utils.data import DataLoader\n",
        "\n",
        "batch_size=16\n",
        "\n",
        "train_dataloader = DataLoader(CustomImageDataset(train), batch_size=batch_size, shuffle=True)\n",
        "val_dataloader = DataLoader(CustomImageDataset(validation), batch_size=batch_size, shuffle=True)\n",
        "test_dataloader = DataLoader(CustomImageDataset(test), batch_size=batch_size, shuffle=True)"
      ],
      "metadata": {
        "id": "ZkEFhTGqqiLR"
      },
      "execution_count": 19,
      "outputs": []
    },
    {
      "cell_type": "code",
      "source": [
        "def train(model, tokenizer, n_epochs=3, learning_rate=1e-4):\n",
        "    model.to('cuda')\n",
        "\n",
        "    L=[]\n",
        "\n",
        "    model.config.decoder_start_token_id = tokenizer.cls_token_id\n",
        "    model.config.pad_token_id = tokenizer.pad_token_id\n",
        "\n",
        "    optimizer = torch.optim.Adam(model.parameters(), lr=learning_rate)\n",
        "\n",
        "    \n",
        "    for epoch in range(n_epochs):  # loop over the dataset multiple times\n",
        "\n",
        "        running_loss = 0.0\n",
        "        optimizer.zero_grad()\n",
        "        start_time = time.time()\n",
        "        for i, data in enumerate(train_dataloader, 0):\n",
        "            # get the inputs; data is a list of [inputs, labels]\n",
        "            (passage, question), answer = data\n",
        "\n",
        "            # text_input = [question[i] + ' [SEP] ' + passage[i] for i in range(len(passage))]\n",
        "\n",
        "            # zero the parameter gradients\n",
        "            \n",
        "\n",
        "            inputs = tokenizer(\n",
        "                question,\n",
        "                passage,\n",
        "                padding=True,\n",
        "                max_length=512,\n",
        "                truncation=True,\n",
        "                return_tensors=\"pt\",\n",
        "            ).input_ids\n",
        "\n",
        "            labels = tokenizer(\n",
        "                answer,\n",
        "                max_length=512,\n",
        "                truncation=True,\n",
        "                padding=True,\n",
        "                return_tensors=\"pt\",\n",
        "            ).input_ids\n",
        "\n",
        "            #X=torch.tensor(input_ids,device='cuda')\n",
        "            #y=torch.tensor(labels,device='cuda')\n",
        "            \n",
        "            #print(X.shape,y.shape)\n",
        "            \n",
        "            #if X.shape[1]>500:\n",
        "            #    continue\n",
        "\n",
        "            # the forward function automatically creates the correct decoder_input_ids\n",
        "            outputs = model(input_ids=inputs.to('cuda'), labels=labels.to('cuda'),token_importances=torch.ones(inputs.shape[:2]+(1,)).to('cuda'))\n",
        "            loss = outputs.loss\n",
        "            loss.backward()\n",
        "\n",
        "            if i%2**1==2**1-1:\n",
        "                optimizer.step()\n",
        "                optimizer.zero_grad()\n",
        "\n",
        "                if i%2**10==i%2**10-1:\n",
        "                    torch.cuda.empty_cache()\n",
        "\n",
        "\n",
        "            # print statistics\n",
        "            running_loss += loss.item()\n",
        "\n",
        "            L.append(loss.detach().cpu().numpy())\n",
        "            \n",
        "            epoch_time = time.time() - start_time\n",
        "            batch_time = epoch_time/(i+1)\n",
        "            \n",
        "            print(f\"epoch: {epoch + 1}/{n_epochs}, {i + 1}/{len(train_dataloader)}, {epoch_time:.0f}s {batch_time*1e3:.0f}ms/step, lr: {optimizer.param_groups[0]['lr']:.3g}, loss: {running_loss/(i+1):.3g}\")\n",
        "\n",
        "        print(f\"epoch: {epoch + 1}/{n_epochs}, {i + 1}/{len(train_dataloader)}, {epoch_time:.0f}s {batch_time*1e3:.0f}ms/step, lr: {optimizer.param_groups[0]['lr']:.3g}, loss: {running_loss/(i+1):.3g}\")\n",
        "\n",
        "    print('Finished Training')"
      ],
      "metadata": {
        "id": "R5SQqCBx_uAC"
      },
      "execution_count": 20,
      "outputs": []
    },
    {
      "cell_type": "code",
      "source": [
        "train(model,tokenizer)"
      ],
      "metadata": {
        "colab": {
          "base_uri": "https://localhost:8080/",
          "height": 817
        },
        "id": "KUDih-I2PUz8",
        "outputId": "83aeb7fc-5d68-4c38-c2a9-250321a668bc"
      },
      "execution_count": 21,
      "outputs": [
        {
          "output_type": "stream",
          "name": "stderr",
          "text": [
            "<ipython-input-4-4bc0e1d26dbb>:120: FutureWarning: Version v4.12.0 introduces a better way to train encoder-decoder models by computing the loss inside the encoder-decoder framework rather than in the decoder itself. You may observe training discrepancies if fine-tuning a model trained with versions anterior to 4.12.0. The decoder_input_ids are now created based on the labels, no need to pass them yourself anymore.\n",
            "  warnings.warn(DEPRECATION_WARNING, FutureWarning)\n"
          ]
        },
        {
          "output_type": "stream",
          "name": "stdout",
          "text": [
            "epoch: 1/3, 1/5432, 3s 2659ms/step, lr: 0.0001, loss: 12.9\n",
            "epoch: 1/3, 2/5432, 4s 1829ms/step, lr: 0.0001, loss: 12.5\n",
            "epoch: 1/3, 3/5432, 5s 1544ms/step, lr: 0.0001, loss: 12.9\n",
            "epoch: 1/3, 4/5432, 6s 1405ms/step, lr: 0.0001, loss: 12.9\n",
            "epoch: 1/3, 5/5432, 7s 1305ms/step, lr: 0.0001, loss: 12.4\n",
            "epoch: 1/3, 6/5432, 7s 1235ms/step, lr: 0.0001, loss: 12.2\n",
            "epoch: 1/3, 7/5432, 8s 1204ms/step, lr: 0.0001, loss: 11.9\n",
            "epoch: 1/3, 8/5432, 9s 1161ms/step, lr: 0.0001, loss: 11.5\n",
            "epoch: 1/3, 9/5432, 10s 1139ms/step, lr: 0.0001, loss: 11\n",
            "epoch: 1/3, 10/5432, 11s 1123ms/step, lr: 0.0001, loss: 10.7\n",
            "epoch: 1/3, 11/5432, 12s 1102ms/step, lr: 0.0001, loss: 10.3\n",
            "epoch: 1/3, 12/5432, 13s 1096ms/step, lr: 0.0001, loss: 10\n",
            "epoch: 1/3, 13/5432, 14s 1073ms/step, lr: 0.0001, loss: 9.74\n",
            "epoch: 1/3, 14/5432, 15s 1068ms/step, lr: 0.0001, loss: 9.46\n",
            "epoch: 1/3, 15/5432, 16s 1052ms/step, lr: 0.0001, loss: 9.34\n",
            "epoch: 1/3, 16/5432, 17s 1049ms/step, lr: 0.0001, loss: 9.2\n",
            "epoch: 1/3, 17/5432, 18s 1044ms/step, lr: 0.0001, loss: 8.98\n",
            "epoch: 1/3, 18/5432, 19s 1041ms/step, lr: 0.0001, loss: 8.74\n",
            "epoch: 1/3, 19/5432, 20s 1036ms/step, lr: 0.0001, loss: 8.59\n",
            "epoch: 1/3, 20/5432, 21s 1035ms/step, lr: 0.0001, loss: 8.42\n",
            "epoch: 1/3, 21/5432, 22s 1030ms/step, lr: 0.0001, loss: 8.3\n",
            "epoch: 1/3, 22/5432, 23s 1029ms/step, lr: 0.0001, loss: 8.2\n",
            "epoch: 1/3, 23/5432, 24s 1022ms/step, lr: 0.0001, loss: 8\n",
            "epoch: 1/3, 24/5432, 24s 1020ms/step, lr: 0.0001, loss: 7.9\n",
            "epoch: 1/3, 25/5432, 25s 1010ms/step, lr: 0.0001, loss: 7.81\n"
          ]
        },
        {
          "output_type": "error",
          "ename": "KeyboardInterrupt",
          "evalue": "ignored",
          "traceback": [
            "\u001b[0;31m---------------------------------------------------------------------------\u001b[0m",
            "\u001b[0;31mKeyboardInterrupt\u001b[0m                         Traceback (most recent call last)",
            "\u001b[0;32m<ipython-input-21-31b677f452f3>\u001b[0m in \u001b[0;36m<module>\u001b[0;34m\u001b[0m\n\u001b[0;32m----> 1\u001b[0;31m \u001b[0mtrain\u001b[0m\u001b[0;34m(\u001b[0m\u001b[0mmodel\u001b[0m\u001b[0;34m,\u001b[0m\u001b[0mtokenizer\u001b[0m\u001b[0;34m)\u001b[0m\u001b[0;34m\u001b[0m\u001b[0;34m\u001b[0m\u001b[0m\n\u001b[0m",
            "\u001b[0;32m<ipython-input-20-5d71b686a468>\u001b[0m in \u001b[0;36mtrain\u001b[0;34m(model, tokenizer, n_epochs, learning_rate)\u001b[0m\n\u001b[1;32m     52\u001b[0m             \u001b[0moutputs\u001b[0m \u001b[0;34m=\u001b[0m \u001b[0mmodel\u001b[0m\u001b[0;34m(\u001b[0m\u001b[0minput_ids\u001b[0m\u001b[0;34m=\u001b[0m\u001b[0minputs\u001b[0m\u001b[0;34m.\u001b[0m\u001b[0mto\u001b[0m\u001b[0;34m(\u001b[0m\u001b[0;34m'cuda'\u001b[0m\u001b[0;34m)\u001b[0m\u001b[0;34m,\u001b[0m \u001b[0mlabels\u001b[0m\u001b[0;34m=\u001b[0m\u001b[0mlabels\u001b[0m\u001b[0;34m.\u001b[0m\u001b[0mto\u001b[0m\u001b[0;34m(\u001b[0m\u001b[0;34m'cuda'\u001b[0m\u001b[0;34m)\u001b[0m\u001b[0;34m,\u001b[0m\u001b[0mtoken_importances\u001b[0m\u001b[0;34m=\u001b[0m\u001b[0mtorch\u001b[0m\u001b[0;34m.\u001b[0m\u001b[0mones\u001b[0m\u001b[0;34m(\u001b[0m\u001b[0minputs\u001b[0m\u001b[0;34m.\u001b[0m\u001b[0mshape\u001b[0m\u001b[0;34m[\u001b[0m\u001b[0;34m:\u001b[0m\u001b[0;36m2\u001b[0m\u001b[0;34m]\u001b[0m\u001b[0;34m+\u001b[0m\u001b[0;34m(\u001b[0m\u001b[0;36m1\u001b[0m\u001b[0;34m,\u001b[0m\u001b[0;34m)\u001b[0m\u001b[0;34m)\u001b[0m\u001b[0;34m.\u001b[0m\u001b[0mto\u001b[0m\u001b[0;34m(\u001b[0m\u001b[0;34m'cuda'\u001b[0m\u001b[0;34m)\u001b[0m\u001b[0;34m)\u001b[0m\u001b[0;34m\u001b[0m\u001b[0;34m\u001b[0m\u001b[0m\n\u001b[1;32m     53\u001b[0m             \u001b[0mloss\u001b[0m \u001b[0;34m=\u001b[0m \u001b[0moutputs\u001b[0m\u001b[0;34m.\u001b[0m\u001b[0mloss\u001b[0m\u001b[0;34m\u001b[0m\u001b[0;34m\u001b[0m\u001b[0m\n\u001b[0;32m---> 54\u001b[0;31m             \u001b[0mloss\u001b[0m\u001b[0;34m.\u001b[0m\u001b[0mbackward\u001b[0m\u001b[0;34m(\u001b[0m\u001b[0;34m)\u001b[0m\u001b[0;34m\u001b[0m\u001b[0;34m\u001b[0m\u001b[0m\n\u001b[0m\u001b[1;32m     55\u001b[0m \u001b[0;34m\u001b[0m\u001b[0m\n\u001b[1;32m     56\u001b[0m             \u001b[0;32mif\u001b[0m \u001b[0mi\u001b[0m\u001b[0;34m%\u001b[0m\u001b[0;36m2\u001b[0m\u001b[0;34m**\u001b[0m\u001b[0;36m1\u001b[0m\u001b[0;34m==\u001b[0m\u001b[0;36m2\u001b[0m\u001b[0;34m**\u001b[0m\u001b[0;36m1\u001b[0m\u001b[0;34m-\u001b[0m\u001b[0;36m1\u001b[0m\u001b[0;34m:\u001b[0m\u001b[0;34m\u001b[0m\u001b[0;34m\u001b[0m\u001b[0m\n",
            "\u001b[0;32m/usr/local/lib/python3.8/dist-packages/torch/_tensor.py\u001b[0m in \u001b[0;36mbackward\u001b[0;34m(self, gradient, retain_graph, create_graph, inputs)\u001b[0m\n\u001b[1;32m    394\u001b[0m                 \u001b[0mcreate_graph\u001b[0m\u001b[0;34m=\u001b[0m\u001b[0mcreate_graph\u001b[0m\u001b[0;34m,\u001b[0m\u001b[0;34m\u001b[0m\u001b[0;34m\u001b[0m\u001b[0m\n\u001b[1;32m    395\u001b[0m                 inputs=inputs)\n\u001b[0;32m--> 396\u001b[0;31m         \u001b[0mtorch\u001b[0m\u001b[0;34m.\u001b[0m\u001b[0mautograd\u001b[0m\u001b[0;34m.\u001b[0m\u001b[0mbackward\u001b[0m\u001b[0;34m(\u001b[0m\u001b[0mself\u001b[0m\u001b[0;34m,\u001b[0m \u001b[0mgradient\u001b[0m\u001b[0;34m,\u001b[0m \u001b[0mretain_graph\u001b[0m\u001b[0;34m,\u001b[0m \u001b[0mcreate_graph\u001b[0m\u001b[0;34m,\u001b[0m \u001b[0minputs\u001b[0m\u001b[0;34m=\u001b[0m\u001b[0minputs\u001b[0m\u001b[0;34m)\u001b[0m\u001b[0;34m\u001b[0m\u001b[0;34m\u001b[0m\u001b[0m\n\u001b[0m\u001b[1;32m    397\u001b[0m \u001b[0;34m\u001b[0m\u001b[0m\n\u001b[1;32m    398\u001b[0m     \u001b[0;32mdef\u001b[0m \u001b[0mregister_hook\u001b[0m\u001b[0;34m(\u001b[0m\u001b[0mself\u001b[0m\u001b[0;34m,\u001b[0m \u001b[0mhook\u001b[0m\u001b[0;34m)\u001b[0m\u001b[0;34m:\u001b[0m\u001b[0;34m\u001b[0m\u001b[0;34m\u001b[0m\u001b[0m\n",
            "\u001b[0;32m/usr/local/lib/python3.8/dist-packages/torch/autograd/__init__.py\u001b[0m in \u001b[0;36mbackward\u001b[0;34m(tensors, grad_tensors, retain_graph, create_graph, grad_variables, inputs)\u001b[0m\n\u001b[1;32m    171\u001b[0m     \u001b[0;31m# some Python versions print out the first line of a multi-line function\u001b[0m\u001b[0;34m\u001b[0m\u001b[0;34m\u001b[0m\u001b[0;34m\u001b[0m\u001b[0m\n\u001b[1;32m    172\u001b[0m     \u001b[0;31m# calls in the traceback and some print out the last line\u001b[0m\u001b[0;34m\u001b[0m\u001b[0;34m\u001b[0m\u001b[0;34m\u001b[0m\u001b[0m\n\u001b[0;32m--> 173\u001b[0;31m     Variable._execution_engine.run_backward(  # Calls into the C++ engine to run the backward pass\n\u001b[0m\u001b[1;32m    174\u001b[0m         \u001b[0mtensors\u001b[0m\u001b[0;34m,\u001b[0m \u001b[0mgrad_tensors_\u001b[0m\u001b[0;34m,\u001b[0m \u001b[0mretain_graph\u001b[0m\u001b[0;34m,\u001b[0m \u001b[0mcreate_graph\u001b[0m\u001b[0;34m,\u001b[0m \u001b[0minputs\u001b[0m\u001b[0;34m,\u001b[0m\u001b[0;34m\u001b[0m\u001b[0;34m\u001b[0m\u001b[0m\n\u001b[1;32m    175\u001b[0m         allow_unreachable=True, accumulate_grad=True)  # Calls into the C++ engine to run the backward pass\n",
            "\u001b[0;31mKeyboardInterrupt\u001b[0m: "
          ]
        }
      ]
    },
    {
      "cell_type": "code",
      "source": [
        "model.encoder.linear.weight[:,-1]"
      ],
      "metadata": {
        "colab": {
          "base_uri": "https://localhost:8080/"
        },
        "id": "QbGyidAXcAry",
        "outputId": "a554f84f-d3a3-4848-d25c-a51d5a4be9c2"
      },
      "execution_count": 23,
      "outputs": [
        {
          "output_type": "execute_result",
          "data": {
            "text/plain": [
              "tensor([ 4.5172e-04, -1.4164e-04,  4.5031e-05,  3.6363e-04,  5.5747e-04,\n",
              "        -7.5718e-07,  7.3285e-05,  1.7333e-04, -2.1527e-05, -1.6153e-04,\n",
              "         1.0575e-04,  2.7516e-04, -2.7098e-04, -1.9887e-04,  5.6152e-05,\n",
              "         3.6800e-04, -2.4561e-04,  5.7147e-04,  3.1572e-04, -3.1121e-04,\n",
              "         8.5146e-05,  3.1175e-04, -5.2163e-04, -3.7501e-04, -6.2943e-06,\n",
              "        -5.7430e-04,  5.4382e-04,  4.3328e-04, -4.0453e-04, -6.9903e-04,\n",
              "         6.5399e-04,  1.7184e-04,  5.4434e-04,  1.7659e-04,  3.6106e-04,\n",
              "        -6.7700e-04, -4.0689e-04,  1.1316e-04, -9.5303e-05,  2.4923e-04,\n",
              "         1.8745e-04,  1.1084e-04,  3.0432e-04,  3.2041e-04,  5.4546e-04,\n",
              "         1.6255e-04, -2.0517e-04,  7.5383e-04, -4.9268e-04, -1.3895e-04,\n",
              "        -3.6883e-04, -1.5878e-04, -4.1411e-04, -6.5409e-04,  2.1377e-04,\n",
              "         5.3971e-04, -4.2485e-04,  2.9226e-04, -4.3067e-04, -1.6943e-05,\n",
              "        -1.3083e-04,  5.6024e-04, -1.8348e-04,  7.6923e-04, -5.5457e-05,\n",
              "         1.6870e-04, -4.3105e-04, -1.3601e-05,  2.2118e-04, -1.4589e-04,\n",
              "        -3.7891e-04, -1.4428e-04,  6.0274e-04, -5.7371e-04, -4.6075e-04,\n",
              "        -2.6048e-04, -6.5409e-04, -1.6089e-04, -5.3010e-04,  4.6962e-04,\n",
              "         2.4595e-04,  5.3604e-04, -3.7618e-04, -6.7865e-04, -1.1490e-04,\n",
              "        -7.0871e-07,  5.4762e-04,  7.7098e-05,  4.9887e-04, -1.5481e-04,\n",
              "        -3.8165e-05, -5.1565e-04,  5.0282e-04, -8.8874e-04,  3.0590e-04,\n",
              "         2.0222e-04,  5.7040e-04,  5.3209e-04,  3.2839e-04, -5.5753e-04,\n",
              "        -3.6205e-04, -6.4040e-04,  3.1138e-04,  2.8252e-04,  4.6283e-04,\n",
              "         4.0445e-04,  5.3981e-04, -4.0256e-04, -8.7188e-05,  7.4821e-04,\n",
              "         4.4461e-04, -3.4163e-04, -2.2397e-04, -3.5876e-05, -5.8867e-04,\n",
              "         3.8723e-04, -5.9606e-04, -7.4029e-04, -3.0156e-04, -2.9588e-04,\n",
              "        -1.1886e-04, -3.8850e-06, -3.0021e-04,  5.1900e-04, -1.8332e-04,\n",
              "        -1.2604e-04, -5.3412e-04, -4.5736e-05, -1.6010e-04,  4.2334e-04,\n",
              "        -1.1178e-04, -2.4910e-04, -6.1905e-04,  6.1908e-04, -4.5123e-04,\n",
              "         7.9488e-05, -5.1605e-04, -1.1583e-04,  2.1671e-04, -4.6631e-04,\n",
              "        -1.9351e-04,  3.9790e-04,  1.3587e-04,  2.3631e-04,  3.4443e-04,\n",
              "         3.5640e-04,  3.4711e-04,  3.7709e-04, -7.7685e-04,  5.9435e-04,\n",
              "        -5.2245e-04,  1.3382e-04,  4.8331e-04,  6.4524e-04, -3.6070e-06,\n",
              "        -3.0103e-04, -2.7425e-04, -3.9022e-04,  5.4155e-04, -9.8141e-04,\n",
              "        -2.9447e-04,  3.8422e-04, -6.0485e-04,  5.4724e-04, -4.6177e-04,\n",
              "         3.6922e-04,  2.1134e-04, -3.9327e-04,  2.1929e-04,  1.4441e-04,\n",
              "        -6.2109e-04,  1.4146e-04,  9.8391e-06, -4.1600e-04,  5.2218e-04,\n",
              "        -1.5326e-04, -1.1181e-05,  6.1690e-04,  3.1846e-04,  6.5969e-04,\n",
              "         3.2527e-04,  7.1674e-05,  1.9943e-04, -2.9076e-04, -4.0671e-04,\n",
              "        -5.1258e-05,  5.7482e-04,  2.8394e-04, -3.4922e-04,  2.0916e-04,\n",
              "         6.8457e-04, -4.1813e-04, -1.5908e-04,  4.2907e-04, -5.4341e-04,\n",
              "        -4.5755e-04, -3.5283e-04, -3.8311e-04,  2.7711e-04, -5.8472e-04,\n",
              "         1.5313e-04, -4.2301e-04,  5.0911e-04,  6.2818e-04, -5.7880e-04,\n",
              "         1.7347e-04, -4.7680e-04,  4.4817e-04,  2.2465e-04, -1.4802e-04,\n",
              "        -5.5912e-04, -2.6993e-04,  4.6646e-04,  1.8646e-04, -6.8073e-04,\n",
              "         3.3379e-04,  4.7809e-05, -6.6321e-04, -3.4828e-04,  3.1924e-04,\n",
              "         3.3070e-04, -7.2181e-04, -2.7344e-04,  4.1832e-04, -1.9650e-04,\n",
              "         7.1417e-04, -8.8180e-05,  6.9428e-04, -7.7230e-04, -7.6539e-05,\n",
              "        -3.2479e-04,  6.0767e-05,  3.9586e-04, -2.0453e-04, -2.4509e-04,\n",
              "         3.2156e-04, -3.9035e-04,  1.9708e-04,  5.3621e-04,  2.1872e-04,\n",
              "        -2.5706e-04,  4.4352e-04, -1.6248e-04, -4.6660e-05,  6.6763e-04,\n",
              "        -1.8221e-04, -5.5683e-04,  6.0262e-04, -4.3150e-04,  5.8666e-04,\n",
              "        -7.3672e-04, -2.8051e-04, -1.7820e-04, -7.4973e-04,  2.8721e-04,\n",
              "         2.9816e-04, -3.4004e-04, -4.2617e-04, -2.0929e-04, -3.5657e-04,\n",
              "         6.2075e-04,  5.4384e-04,  1.5671e-04, -1.7952e-04,  8.8588e-05,\n",
              "         3.8999e-04, -7.7406e-06,  7.8120e-04,  7.0808e-05, -7.0986e-04,\n",
              "        -3.4669e-04, -3.5785e-04,  2.8443e-04,  3.1420e-04, -4.8377e-04,\n",
              "        -6.6342e-04,  7.4115e-04, -5.2313e-04, -2.4503e-04, -6.8779e-04,\n",
              "         5.0370e-05,  3.3982e-04,  5.7032e-04, -4.9565e-04,  4.9970e-04,\n",
              "        -5.7231e-05,  4.3029e-04,  6.8741e-04, -1.1452e-04,  2.4429e-04,\n",
              "         2.8178e-05, -9.0510e-05, -7.6017e-04, -3.5364e-04, -2.9305e-04,\n",
              "        -6.4775e-04,  2.0639e-04,  4.9451e-04, -5.0266e-04,  6.2255e-05,\n",
              "        -4.3108e-04, -1.0711e-04,  4.4015e-04, -3.3985e-04,  5.1625e-04,\n",
              "         2.1692e-04,  4.6006e-04,  6.8963e-04, -5.5816e-05,  6.0621e-04,\n",
              "        -7.1235e-05,  1.7046e-04,  3.2536e-04, -1.1409e-04, -1.6790e-04,\n",
              "         5.0152e-04, -1.9915e-05,  2.8703e-04,  8.9672e-05,  2.3036e-04,\n",
              "         2.9682e-04, -3.0860e-05,  3.8228e-04,  7.0293e-04, -1.3267e-04,\n",
              "         3.5955e-04,  4.9986e-05,  2.3434e-04, -4.2936e-05,  4.3232e-04,\n",
              "         3.8266e-04,  5.4290e-04,  3.4641e-04, -6.3561e-04, -3.5502e-04,\n",
              "         6.3234e-04,  3.5072e-04, -1.6184e-04, -4.7985e-04, -4.4846e-04,\n",
              "         1.7593e-04, -2.4116e-04,  4.4938e-04, -1.0693e-04,  4.2331e-04,\n",
              "         6.0001e-04,  5.9434e-04, -5.9602e-04,  6.1760e-04,  2.5773e-04,\n",
              "         3.9700e-04,  2.8686e-05, -4.9233e-04,  1.1754e-04,  6.4134e-04,\n",
              "         4.1850e-04, -8.0437e-04, -3.4837e-04,  1.3367e-04, -7.4745e-05,\n",
              "         1.9336e-04,  1.5363e-04,  2.6771e-04, -6.1415e-04, -5.2897e-06,\n",
              "        -6.4560e-05, -1.4461e-04, -6.0113e-04, -4.1134e-04, -8.6462e-05,\n",
              "        -5.8506e-05,  5.9256e-05, -1.8867e-05,  1.3374e-04, -2.6649e-04,\n",
              "         2.9502e-05,  1.6663e-04, -4.6021e-04, -4.6276e-04,  3.8616e-04,\n",
              "        -2.3352e-04,  1.8924e-04, -2.5865e-04, -4.8398e-04, -4.1780e-04,\n",
              "         2.2821e-04, -3.3468e-04,  1.5123e-04,  5.1717e-04,  4.2376e-04,\n",
              "         9.9519e-05, -5.8299e-04,  2.9113e-05, -2.3013e-04, -3.2585e-04,\n",
              "        -1.3922e-04, -7.2070e-04, -3.9222e-04, -6.4807e-04, -2.7240e-04,\n",
              "         5.6747e-04, -1.6563e-04, -5.3156e-04,  1.6178e-04, -1.4143e-04,\n",
              "         2.0917e-04, -4.5316e-04,  1.8647e-04, -1.4872e-04,  3.4015e-04,\n",
              "         5.4046e-04, -1.3856e-04, -1.9717e-04, -4.0848e-04, -2.5099e-04,\n",
              "         2.2413e-04, -4.3387e-04,  4.7885e-04,  5.3646e-04, -2.1219e-04,\n",
              "        -3.2421e-04,  5.8919e-04,  4.6676e-04, -6.1818e-04, -5.0586e-04,\n",
              "        -4.3126e-05,  3.0573e-04, -3.7490e-05,  5.4534e-05,  3.9457e-04,\n",
              "        -3.2665e-04,  5.2077e-04, -5.3062e-04, -4.6170e-04, -3.1987e-04,\n",
              "        -2.1241e-04,  2.1186e-04, -7.9043e-04, -1.7544e-04, -2.0565e-04,\n",
              "        -4.1249e-04,  1.4742e-04,  8.6615e-05,  2.3982e-04,  1.1393e-05,\n",
              "        -7.8427e-05, -6.9133e-05,  2.2200e-04, -2.7526e-04, -8.9789e-05,\n",
              "        -7.7540e-05,  5.6456e-04,  3.7546e-04, -5.3962e-04,  9.6599e-05,\n",
              "        -3.2356e-04, -6.9744e-04, -3.5572e-04, -1.7831e-04,  3.1703e-04,\n",
              "         2.6669e-04, -3.8791e-04,  4.8985e-04, -2.2922e-04,  3.0644e-04,\n",
              "         2.2182e-04, -2.8245e-04,  3.4741e-04, -6.4685e-04, -1.2097e-04,\n",
              "        -2.3474e-04, -1.4793e-04, -7.1529e-04, -9.5455e-05, -4.2053e-04,\n",
              "        -2.9841e-04, -1.5735e-04, -2.2989e-04,  3.4302e-04,  5.6104e-04,\n",
              "        -2.8085e-04,  3.6019e-04,  5.1482e-04, -5.1024e-04, -2.0896e-04,\n",
              "         7.0966e-04,  4.1458e-04, -3.7457e-04,  6.2066e-04, -4.3408e-04,\n",
              "        -5.5908e-04,  3.5406e-04,  3.8269e-05,  5.1729e-04,  3.4880e-04,\n",
              "         5.1144e-04, -4.9480e-04,  8.7154e-05,  4.5287e-04,  3.2398e-04,\n",
              "         2.3312e-05, -6.1031e-04,  3.0211e-04,  1.6914e-04, -8.3892e-05,\n",
              "         3.7959e-04,  3.5995e-04,  3.4349e-04,  7.1443e-05,  9.2205e-05,\n",
              "        -1.9604e-05, -4.2167e-04,  8.8292e-05,  3.1237e-04, -3.9333e-04,\n",
              "         6.6457e-04, -6.9115e-04, -1.8645e-04,  1.3950e-04,  3.7937e-04,\n",
              "        -4.9752e-04, -7.8814e-04, -1.6706e-05,  3.6152e-04,  2.7369e-04,\n",
              "        -1.7175e-05,  1.1863e-04,  3.5526e-04,  3.1842e-04,  7.3761e-04,\n",
              "        -5.0130e-04, -2.1942e-05,  4.0006e-05,  2.3664e-04, -4.1431e-04,\n",
              "        -6.7661e-05,  3.5637e-04, -3.0152e-04, -4.8302e-04, -5.2480e-04,\n",
              "        -1.5927e-04,  8.7446e-05, -2.7531e-04,  1.3488e-04, -4.3109e-05,\n",
              "        -3.0591e-04,  5.2149e-04,  6.2371e-05,  1.7572e-04, -5.0566e-04,\n",
              "        -2.8980e-04,  1.1177e-04, -4.9081e-04,  5.9268e-04, -5.4521e-04,\n",
              "        -4.7015e-04, -3.2498e-04, -9.7396e-05, -4.5152e-04,  1.6188e-04,\n",
              "        -4.6707e-05, -7.0170e-04,  3.9587e-04,  2.4954e-04, -2.5809e-04,\n",
              "        -6.0758e-04, -8.5801e-05, -3.2423e-04,  3.3323e-04, -1.5145e-04,\n",
              "        -3.7647e-04,  4.8672e-04,  2.7954e-04,  2.8369e-05, -2.1639e-04,\n",
              "         7.2390e-04,  3.6644e-04,  7.8066e-04, -6.0528e-05, -4.2885e-04,\n",
              "        -3.8208e-05, -6.0538e-04,  7.8342e-05,  4.4674e-04,  3.6044e-04,\n",
              "         2.2588e-04, -1.4914e-04, -2.1737e-04,  7.3276e-05, -8.4232e-04,\n",
              "        -4.7795e-05,  4.8562e-04,  2.2216e-04,  6.3100e-04,  4.0770e-04,\n",
              "        -6.6821e-04,  2.3947e-04,  6.1300e-04,  2.6967e-04, -1.2839e-04,\n",
              "        -5.7338e-04,  5.0166e-04,  5.0848e-04, -5.8676e-05, -9.1725e-05,\n",
              "         2.0456e-04,  7.6373e-04, -2.8888e-04,  2.0301e-04,  4.2458e-04,\n",
              "        -3.5507e-04,  5.7484e-04,  2.8619e-04,  2.6968e-04,  4.6046e-05,\n",
              "        -3.4223e-04, -2.9733e-04,  9.3371e-05,  1.3663e-05,  2.0514e-04,\n",
              "         4.5230e-04,  6.2502e-05, -9.9436e-04, -3.3451e-04,  1.8865e-04,\n",
              "         6.7523e-05,  1.0193e-04,  5.8667e-04,  1.8845e-04, -6.5535e-04,\n",
              "         3.6861e-04, -4.2942e-04,  4.6658e-04, -4.5532e-04,  1.3732e-04,\n",
              "         2.7709e-04, -7.1944e-04,  6.1083e-04, -4.1184e-04,  4.7657e-04,\n",
              "        -1.0432e-04, -5.1204e-04,  3.1529e-04, -8.3836e-04, -2.4027e-04,\n",
              "        -3.1333e-04,  8.2696e-06,  9.4334e-05, -3.1934e-04, -1.4068e-04,\n",
              "         3.2408e-04,  3.4500e-04, -2.2619e-04, -5.6848e-04,  1.2075e-04,\n",
              "         6.6234e-05,  1.7750e-04,  4.6093e-05, -7.9919e-05,  6.2163e-04,\n",
              "        -2.2837e-04, -8.2752e-04,  7.2911e-04, -8.1775e-05, -4.9208e-04,\n",
              "        -2.4242e-04,  8.4746e-05, -4.4216e-04,  3.9503e-04, -1.3180e-04,\n",
              "        -4.2657e-05,  2.7619e-04,  1.9377e-04, -1.5424e-04,  1.0549e-04,\n",
              "        -2.5632e-04,  2.3534e-04, -7.2410e-04, -9.7663e-05, -2.7271e-04,\n",
              "         7.4127e-04,  2.3194e-04,  5.2800e-04,  5.7957e-05,  7.6992e-05,\n",
              "        -1.0196e-04,  3.2606e-04, -6.1364e-04, -6.2224e-04, -4.4486e-04,\n",
              "        -1.4671e-04,  1.7682e-04,  2.5173e-04, -6.1123e-04, -3.9257e-04,\n",
              "         2.0525e-04, -6.7179e-04, -5.4777e-04, -3.9723e-04, -1.4319e-04,\n",
              "         5.6051e-04,  5.4798e-04,  1.8917e-04, -5.8672e-04,  4.7634e-04,\n",
              "         2.3999e-04,  3.1351e-04, -2.6426e-04, -1.7393e-04,  2.4622e-04,\n",
              "         5.9013e-04, -2.7664e-04, -4.7533e-05, -1.5202e-04,  7.4736e-04,\n",
              "         6.5900e-04, -5.7815e-04,  6.1406e-04,  6.2294e-05,  3.3131e-04,\n",
              "        -5.4768e-04, -3.4367e-04, -2.9295e-04, -1.7910e-04,  1.1764e-04,\n",
              "        -6.0619e-05,  3.6302e-04, -7.6812e-04, -2.1971e-04, -6.8025e-05,\n",
              "        -1.6686e-05,  5.6970e-05,  3.8978e-05, -4.4968e-05, -4.1907e-04,\n",
              "        -5.1776e-04,  2.1463e-04, -6.2672e-06, -1.7895e-04,  4.0788e-04,\n",
              "         2.0013e-04, -6.5411e-04, -1.3430e-04,  6.7714e-05, -2.5120e-04,\n",
              "        -2.3939e-04,  2.8744e-04,  5.7434e-05, -2.7070e-04, -3.1654e-04,\n",
              "        -1.7202e-04,  6.4742e-04,  1.6721e-04, -1.7801e-04,  1.5407e-04,\n",
              "        -2.7004e-04,  1.0622e-04, -5.0725e-04,  5.5982e-04, -4.4047e-04,\n",
              "         3.7638e-04, -5.8506e-04,  6.5877e-04, -6.4768e-05,  3.5466e-04,\n",
              "         7.0562e-05,  3.5224e-04,  1.7831e-04], device='cuda:0',\n",
              "       grad_fn=<SelectBackward0>)"
            ]
          },
          "metadata": {},
          "execution_count": 23
        }
      ]
    }
  ]
}